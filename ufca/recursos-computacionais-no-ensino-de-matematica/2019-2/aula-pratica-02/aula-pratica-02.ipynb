{
 "cells": [
  {
   "cell_type": "markdown",
   "metadata": {},
   "source": [
    "# Hipertextos com o Jupyter"
   ]
  },
  {
   "cell_type": "markdown",
   "metadata": {},
   "source": [
    "<br>"
   ]
  },
  {
   "cell_type": "markdown",
   "metadata": {},
   "source": [
    "Um *hipertexto* é um texto\n",
    "que não possui estrutura sequencial e nem hierárquica, o qual permite a integração de informações em diversos meios através de hiperligações (*hiperlinks*). Estas características nos possibilitam expandir o conteúdo abordado em sala de aula para além da escola. Neste sentido, os blocos de nota [Jupyter](http://jupyter.org) são uma excelente alternativa para a produção de aulas usando hipertextos. Descrevemos aqui algumas das funcionalidades mais utilizadas desses blocos de nota."
   ]
  },
  {
   "cell_type": "markdown",
   "metadata": {
    "slideshow": {
     "slide_type": "slide"
    }
   },
   "source": [
    "## Tipos de células"
   ]
  },
  {
   "cell_type": "markdown",
   "metadata": {},
   "source": [
    "Os blocos de nota são constituídos por *células*.\n",
    "Estas células podem ser de três tipos distintos: células de código, células de Markdown e células brutas."
   ]
  },
  {
   "cell_type": "markdown",
   "metadata": {},
   "source": [
    "### Células de código"
   ]
  },
  {
   "cell_type": "markdown",
   "metadata": {},
   "source": [
    "As células de código interpretam, por padrão, a linguagem Python.\n",
    "É possível também executar códigos em R, Julia, JavaScript, HTML, etc."
   ]
  },
  {
   "cell_type": "code",
   "execution_count": 2,
   "metadata": {},
   "outputs": [
    {
     "name": "stdout",
     "output_type": "stream",
     "text": [
      "Olá, mundo!\n"
     ]
    }
   ],
   "source": [
    "print('Olá, mundo!')"
   ]
  },
  {
   "cell_type": "markdown",
   "metadata": {},
   "source": [
    "### Células de Markdown"
   ]
  },
  {
   "cell_type": "markdown",
   "metadata": {},
   "source": [
    "As células de Markdown são utilizadas para acrescentar texto formatado aos blocos de nota, por intermédio da Markdown, mesma linguagem de marcação utilizada no Wikipedia."
   ]
  },
  {
   "cell_type": "markdown",
   "metadata": {},
   "source": [
    "O texto:"
   ]
  },
  {
   "cell_type": "raw",
   "metadata": {},
   "source": [
    "Olá, **mundo**!"
   ]
  },
  {
   "cell_type": "markdown",
   "metadata": {},
   "source": [
    "produz:"
   ]
  },
  {
   "cell_type": "markdown",
   "metadata": {},
   "source": [
    "Olá, **mundo**!"
   ]
  },
  {
   "cell_type": "markdown",
   "metadata": {},
   "source": [
    "### Células brutas"
   ]
  },
  {
   "cell_type": "markdown",
   "metadata": {},
   "source": [
    "As células brutas não executam código algum. O resultado delas é igual ao texto que elas contêm. Por exemplo,"
   ]
  },
  {
   "cell_type": "raw",
   "metadata": {},
   "source": [
    "Olá, mundo!"
   ]
  },
  {
   "cell_type": "markdown",
   "metadata": {},
   "source": [
    "## Formatação básica de textos"
   ]
  },
  {
   "cell_type": "markdown",
   "metadata": {},
   "source": [
    "Os blocos de nota Jupyter não são softwares do tipo WYSIWYG (*What You See Is What You Get*). Primeiro digitamos um texto codificado, utilizando uma [linguagem de marcação][], o qual é então processado quando pressionarmos `Ctrl` + `Enter`, por exemplo.\n",
    "\n",
    "[linguagem de marcação]: http://en.wikipedia.org/wiki/Markup_language \"Verbete Wikipedia sobre Linguagem de Marcação\""
   ]
  },
  {
   "cell_type": "markdown",
   "metadata": {},
   "source": [
    "Quando um código em Markdown é processado, ele é transformado em um código HTML, o qual o navegador consegue exibir. Por isso, códigos em Markdown permitem a integração com código [HTML][w3 html tutorial].\n",
    "\n",
    "[w3 html tutorial]: http://www.w3schools.com/html/ \"w3schools.com HTML Tutorial\""
   ]
  },
  {
   "cell_type": "markdown",
   "metadata": {},
   "source": [
    "### Linhas e parágrafos"
   ]
  },
  {
   "cell_type": "markdown",
   "metadata": {},
   "source": [
    "Um *parágrafo* consiste de uma ou mais sentenças de texto  consecutivas. A separação entre parágrafos é feita por meio de uma ou mais linhas em branco. Espaços em branco consecutivos são considerados um único espaço."
   ]
  },
  {
   "cell_type": "markdown",
   "metadata": {},
   "source": [
    "As linhas são quebradas automaticamente, para ajustar o texto à janela do navegador. Caso seja necessário forçar uma quebra de linha, basta colocar dois espaços em branco no final. Por exemplo, o texto:"
   ]
  },
  {
   "cell_type": "raw",
   "metadata": {},
   "source": [
    "Lorem ipsum dolor sit amet, consectetur adipiscing elit.\n",
    "Praesent sed orci ligula.\n",
    "Vestibulum et dictum purus.\n",
    "Donec ac pharetra sapien, vitae cursus erat.\n",
    "Ut consequat vel elit eget consectetur."
   ]
  },
  {
   "cell_type": "markdown",
   "metadata": {},
   "source": [
    "representa um único parágrafo. Já este aqui:"
   ]
  },
  {
   "cell_type": "raw",
   "metadata": {},
   "source": [
    "Lorem ipsum dolor sit amet, consectetur adipiscing elit.  \n",
    "Praesent sed orci ligula.  \n",
    "Vestibulum et dictum purus.  \n",
    "Donec ac pharetra sapien, vitae cursus erat.  \n",
    "Ut consequat vel elit eget consectetur.  "
   ]
  },
  {
   "cell_type": "markdown",
   "metadata": {},
   "source": [
    "possui dois espaços no final de cada linha, resultando em:"
   ]
  },
  {
   "cell_type": "markdown",
   "metadata": {},
   "source": [
    "Lorem ipsum dolor sit amet, consectetur adipiscing elit.  \n",
    "Praesent sed orci ligula.  \n",
    "Vestibulum et dictum purus.  \n",
    "Donec ac pharetra sapien, vitae cursus erat.  \n",
    "Ut consequat vel elit eget consectetur.  "
   ]
  },
  {
   "cell_type": "markdown",
   "metadata": {},
   "source": [
    "### Negrito e itálico"
   ]
  },
  {
   "cell_type": "markdown",
   "metadata": {},
   "source": [
    "Podemos destacar o texto usando **negrito** ou *itálico* como a seguir."
   ]
  },
  {
   "cell_type": "raw",
   "metadata": {},
   "source": [
    "*Itálico* ou _Itálico_"
   ]
  },
  {
   "cell_type": "markdown",
   "metadata": {},
   "source": [
    "*Itálico* ou _Itálico_"
   ]
  },
  {
   "cell_type": "raw",
   "metadata": {},
   "source": [
    "**Negrito** ou __Negrito__"
   ]
  },
  {
   "cell_type": "markdown",
   "metadata": {},
   "source": [
    "**Negrito** ou __Negrito__"
   ]
  },
  {
   "cell_type": "markdown",
   "metadata": {},
   "source": [
    "## Caracteres especiais"
   ]
  },
  {
   "cell_type": "markdown",
   "metadata": {},
   "source": [
    "A linguagem Markdown possui alguns caracteres especiais, associados a comandos:\n",
    "* \\   backslash\n",
    "* `   backtick\n",
    "* \\*   asterisk\n",
    "* _   underscore\n",
    "* {}  curly braces\n",
    "* []  square brackets\n",
    "* ()  parentheses\n",
    "* \\#   hashtag\n",
    "* \\+   plus sign|\n",
    "* \\-   minus sign (hyphen)\n",
    "* .   dot\n",
    "* !   exclamation mark\n",
    "* &   e-comeercal"
   ]
  },
  {
   "cell_type": "markdown",
   "metadata": {},
   "source": [
    "Se você precisar exibí-los, sem que eles sejam executados, basta colocar ao lado do caracter a barra invertida `\\`. Por exemplo,"
   ]
  },
  {
   "cell_type": "raw",
   "metadata": {},
   "source": [
    "\\*\\*Isto não fica em negrito\\*\\*  \n",
    "**Mas isto sim**"
   ]
  },
  {
   "cell_type": "markdown",
   "metadata": {},
   "source": [
    "\\*\\*Isto não fica em negrito\\*\\*  \n",
    "**Mas isto sim**"
   ]
  },
  {
   "cell_type": "markdown",
   "metadata": {},
   "source": [
    "## Seções, subseções, e cia"
   ]
  },
  {
   "cell_type": "markdown",
   "metadata": {},
   "source": [
    "Criamos seções com o uso do caracter `#`."
   ]
  },
  {
   "cell_type": "raw",
   "metadata": {},
   "source": [
    "# Título"
   ]
  },
  {
   "cell_type": "markdown",
   "metadata": {},
   "source": [
    "# Título"
   ]
  },
  {
   "cell_type": "markdown",
   "metadata": {},
   "source": [
    "O Júpyter possibilita criarmos até 6 níveis de seções, concatenando caracteres `#`."
   ]
  },
  {
   "cell_type": "raw",
   "metadata": {},
   "source": [
    "## Subtítulo 1"
   ]
  },
  {
   "cell_type": "markdown",
   "metadata": {},
   "source": [
    "## Subtítulo 1"
   ]
  },
  {
   "cell_type": "raw",
   "metadata": {},
   "source": [
    "### Subtítulo 2"
   ]
  },
  {
   "cell_type": "markdown",
   "metadata": {},
   "source": [
    "### Subtítulo 2"
   ]
  },
  {
   "cell_type": "raw",
   "metadata": {},
   "source": [
    "#### Subtítulo 3"
   ]
  },
  {
   "cell_type": "markdown",
   "metadata": {},
   "source": [
    "#### Subtítulo 3"
   ]
  },
  {
   "cell_type": "raw",
   "metadata": {},
   "source": [
    "##### Subtítulo 4"
   ]
  },
  {
   "cell_type": "markdown",
   "metadata": {},
   "source": [
    "##### Subtítulo 4"
   ]
  },
  {
   "cell_type": "raw",
   "metadata": {},
   "source": [
    "###### Subtítulo 5"
   ]
  },
  {
   "cell_type": "markdown",
   "metadata": {},
   "source": [
    "###### Subtítulo 5"
   ]
  },
  {
   "cell_type": "markdown",
   "metadata": {},
   "source": [
    "## Blocos de citação"
   ]
  },
  {
   "cell_type": "markdown",
   "metadata": {},
   "source": [
    "A sintaxe para criação de blocos de citação direta na Markdown é semelhante àquela usada em emails. Ela também permite o agrupamento de citações em cascata."
   ]
  },
  {
   "cell_type": "raw",
   "metadata": {},
   "source": [
    "> Lorem ipsum dolor sit amet, consectetur adipiscing elit.\n",
    ">> Praesent sed orci ligula.\n",
    ">>> Vestibulum et dictum purus."
   ]
  },
  {
   "cell_type": "markdown",
   "metadata": {},
   "source": [
    "> Lorem ipsum dolor sit amet, consectetur adipiscing elit.\n",
    ">> Praesent sed orci ligula.\n",
    ">>> Vestibulum et dictum purus."
   ]
  },
  {
   "cell_type": "markdown",
   "metadata": {},
   "source": [
    "## Listas"
   ]
  },
  {
   "cell_type": "markdown",
   "metadata": {},
   "source": [
    "Há basicamente dois tipos de listas na Markdown, as *ordenadas* e as *não ordenadas*."
   ]
  },
  {
   "cell_type": "markdown",
   "metadata": {},
   "source": [
    "### Listas não ordenadas"
   ]
  },
  {
   "cell_type": "markdown",
   "metadata": {},
   "source": [
    "Se iniciarmos a lista ou sublistas com **`+`**,  **` - `** ou **`*`**, a lista inteira será considerada não ordenada."
   ]
  },
  {
   "cell_type": "raw",
   "metadata": {},
   "source": [
    "* Fruit:\n",
    "    * Pears\n",
    "    0. Peaches\n",
    "    3. Plums\n",
    "    4. Apples \n",
    "        - Granny Smith \n",
    "        7. Gala\n",
    "    * Oranges\n",
    "    - Berries \n",
    "        - Strawberries \n",
    "        + Blueberries\n",
    "        * Raspberries\n",
    "    - Bananas"
   ]
  },
  {
   "cell_type": "markdown",
   "metadata": {},
   "source": [
    "* Fruit:\n",
    "    * Pears\n",
    "    0. Peaches\n",
    "    3. Plums\n",
    "    4. Apples \n",
    "        - Granny Smith \n",
    "        7. Gala\n",
    "    * Oranges\n",
    "    - Berries \n",
    "        - Strawberries \n",
    "        + Blueberries\n",
    "        * Raspberries\n",
    "    - Bananas"
   ]
  },
  {
   "cell_type": "markdown",
   "metadata": {},
   "source": [
    "### Listas ordenadas"
   ]
  },
  {
   "cell_type": "markdown",
   "metadata": {},
   "source": [
    "Já se o primeiro marcador da lista for um número, todos os demais serão, até que surja um item com **`+`**, **` - `** ou **`*`**. Os números seguintes são calculados automaticamente."
   ]
  },
  {
   "cell_type": "raw",
   "metadata": {},
   "source": [
    "1. Fruit:\n",
    "    6. Pears\n",
    "    0. Peaches\n",
    "    3. Plums\n",
    "    4. Apples \n",
    "        2. Granny Smith \n",
    "        7. Gala\n",
    "    * Oranges\n",
    "    - Berries \n",
    "        8. Strawberries \n",
    "        + Blueberries\n",
    "        * Raspberries\n",
    "    - Bananas"
   ]
  },
  {
   "cell_type": "markdown",
   "metadata": {},
   "source": [
    "1. Fruit:\n",
    "    6. Pears\n",
    "    0. Peaches\n",
    "    3. Plums\n",
    "    4. Apples \n",
    "        2. Granny Smith \n",
    "        7. Gala\n",
    "    * Oranges\n",
    "    - Berries \n",
    "        8. Strawberries \n",
    "        + Blueberries\n",
    "        * Raspberries\n",
    "    - Bananas"
   ]
  },
  {
   "cell_type": "markdown",
   "metadata": {},
   "source": [
    "## Tabelas"
   ]
  },
  {
   "cell_type": "markdown",
   "metadata": {},
   "source": [
    "As tabelas em Markdown são delimitadas por barras verticais `|` e hífens `-`. Por exemplo, o resultado de:"
   ]
  },
  {
   "cell_type": "raw",
   "metadata": {},
   "source": [
    "|Coluna|Coluna|Coluna|Coluna|\n",
    "|------|------|------|------|\n",
    "|valor |valor |valor | valor|\n",
    "|valor |valor |valor | valor|\n",
    "|valor |valor |valor | valor|"
   ]
  },
  {
   "cell_type": "markdown",
   "metadata": {},
   "source": [
    "é a tabela:"
   ]
  },
  {
   "cell_type": "markdown",
   "metadata": {},
   "source": [
    "|Coluna|Coluna|Coluna|Coluna|\n",
    "|------|------|------|------|\n",
    "|valor |valor |valor | valor|\n",
    "|valor |valor |valor | valor|\n",
    "|valor |valor |valor | valor|"
   ]
  },
  {
   "cell_type": "markdown",
   "metadata": {},
   "source": [
    "Podemos obter o mesmo resultado, mesmo sem alinhar as colunas, usando apenas um hífen para separar o cabeçalho e nenhum espaço em torno do `valor`, ou seja,"
   ]
  },
  {
   "cell_type": "raw",
   "metadata": {},
   "source": [
    "|Coluna|Coluna|Coluna|Coluna|\n",
    "|-|-|-|-|\n",
    "|valor|valor|valor|valor|\n",
    "|valor|valor|valor|valor|\n",
    "|valor|valor|valor|valor|"
   ]
  },
  {
   "cell_type": "markdown",
   "metadata": {},
   "source": [
    "|Coluna|Coluna|Coluna|Coluna|\n",
    "|-|-|-|-|\n",
    "|valor|valor|valor|valor|\n",
    "|valor|valor|valor|valor|\n",
    "|valor|valor|valor|valor|"
   ]
  },
  {
   "cell_type": "markdown",
   "metadata": {},
   "source": [
    "### Alinhamento horizontal"
   ]
  },
  {
   "cell_type": "markdown",
   "metadata": {},
   "source": [
    "Ilustramos a seguir o controle de alinhamento horizontal nas células de uma tabela em Markdown."
   ]
  },
  {
   "cell_type": "raw",
   "metadata": {},
   "source": [
    "|Centro|Esquerda|Direita|\n",
    "|:-:|:-|-:|\n",
    "|valor|valor|valor|\n",
    "|valor|valor|valor|\n",
    "|valor|valor|valor|"
   ]
  },
  {
   "cell_type": "markdown",
   "metadata": {},
   "source": [
    "|Centro|Esquerda|Direita|\n",
    "|:-:|:-|-:|\n",
    "|valor|valor|valor|\n",
    "|valor|valor|valor|\n",
    "|valor|valor|valor|"
   ]
  },
  {
   "cell_type": "markdown",
   "metadata": {},
   "source": [
    "**Observação:** cada tabela deve estar em um parágrafo próprio."
   ]
  },
  {
   "cell_type": "markdown",
   "metadata": {},
   "source": [
    "## Hiperligações"
   ]
  },
  {
   "cell_type": "markdown",
   "metadata": {},
   "source": [
    "Agora, finalmente veremos como criar *hiperligações*. São justamente as hiperligações que nos possibilitam construir hipertextos."
   ]
  },
  {
   "cell_type": "markdown",
   "metadata": {},
   "source": [
    "### Ligações diretas"
   ]
  },
  {
   "cell_type": "markdown",
   "metadata": {},
   "source": [
    "As ligações diretas são estabelecidas colando o endereço do conteúdo diretamente em uma célula de Markdown."
   ]
  },
  {
   "cell_type": "raw",
   "metadata": {},
   "source": [
    "http://www.profmat-sbm.org.br/"
   ]
  },
  {
   "cell_type": "markdown",
   "metadata": {},
   "source": [
    "http://www.profmat-sbm.org.br/"
   ]
  },
  {
   "cell_type": "markdown",
   "metadata": {},
   "source": [
    "É possível ainda formatar a aparência da ligação incluindo:"
   ]
  },
  {
   "cell_type": "raw",
   "metadata": {},
   "source": [
    "[PROFMAT](http://www.profmat-sbm.org.br/ \"Site do PROFMAT\")"
   ]
  },
  {
   "cell_type": "markdown",
   "metadata": {},
   "source": [
    "[PROFMAT](http://www.profmat-sbm.org.br/ \"Site do PROFMAT\")"
   ]
  },
  {
   "cell_type": "markdown",
   "metadata": {},
   "source": [
    "ou sem incluir um texto explicativo:"
   ]
  },
  {
   "cell_type": "raw",
   "metadata": {},
   "source": [
    "[PROFMAT](http://www.profmat-sbm.org.br/)"
   ]
  },
  {
   "cell_type": "markdown",
   "metadata": {},
   "source": [
    "[PROFMAT](http://www.profmat-sbm.org.br/)"
   ]
  },
  {
   "cell_type": "markdown",
   "metadata": {},
   "source": [
    "### Ligações customizadas"
   ]
  },
  {
   "cell_type": "markdown",
   "metadata": {},
   "source": [
    "Quando necessitamos utilizar mais de uma vez uma mesma ligação, é interessante criarmos um identificador para ela. Isto pode ser feito explicitamente:"
   ]
  },
  {
   "cell_type": "raw",
   "metadata": {},
   "source": [
    "Acesse o site do PROFMAT [aqui][site do PROFMAT].\n",
    "\n",
    "[site do PROFMAT]: http://www.profmat-sbm.org.br/ \"Site do PROFMAT\""
   ]
  },
  {
   "cell_type": "markdown",
   "metadata": {},
   "source": [
    "Acesse o site do PROFMAT [aqui][site do profmat].\n",
    "\n",
    "[site do profmat]: http://www.profmat-sbm.org.br/ \"Site do PROFMAT\""
   ]
  },
  {
   "cell_type": "markdown",
   "metadata": {},
   "source": [
    "ou implicitamente:"
   ]
  },
  {
   "cell_type": "raw",
   "metadata": {},
   "source": [
    "Acesse o [site do PROFMAT][].\n",
    "\n",
    "[site do PROFMAT]: http://www.profmat-sbm.org.br/ \"Site do PROFMAT\""
   ]
  },
  {
   "cell_type": "markdown",
   "metadata": {},
   "source": [
    "Acesse o [site do PROFMAT][].\n",
    "\n",
    "[site do PROFMAT]: http://www.profmat-sbm.org.br/ \"Site do PROFMAT\""
   ]
  },
  {
   "cell_type": "markdown",
   "metadata": {},
   "source": [
    "### Referência cruzada"
   ]
  },
  {
   "cell_type": "markdown",
   "metadata": {},
   "source": [
    "O uso de referências cruzadas (internas) permite acessarmos  informações que se encontram em diferentes partes de um mesmo documento. Isto permite que haja diferentes leituras de um mesmo texto."
   ]
  },
  {
   "cell_type": "markdown",
   "metadata": {},
   "source": [
    "Cada seção possui um identificador associado que consiste no título da seção, com os espaços substituídos por hífens. Por exemplo,"
   ]
  },
  {
   "cell_type": "raw",
   "metadata": {},
   "source": [
    "Podemos retornar à seção [Blocos de citação](#Blocos-de-citação \"Ir para Blocos de citação\") para ilustrar esta funcionalidade."
   ]
  },
  {
   "cell_type": "markdown",
   "metadata": {},
   "source": [
    "resulta em:"
   ]
  },
  {
   "cell_type": "markdown",
   "metadata": {},
   "source": [
    "Podemos retornar à seção [Blocos de citação](#Blocos-de-citação \"Ir para Blocos de citação\") para ilustrar esta funcionalidade."
   ]
  },
  {
   "cell_type": "markdown",
   "metadata": {},
   "source": [
    "Aqui, também podemos criar uma referência de nome mais simples para ser reutilizada ao longo do texto."
   ]
  },
  {
   "cell_type": "raw",
   "metadata": {},
   "source": [
    "Podemos retornar à seção [Blocos de citação][] para ilustrar esta funcionalidade.\n",
    "\n",
    "[Blocos de citação]: #Blocos-de-citação"
   ]
  },
  {
   "cell_type": "markdown",
   "metadata": {},
   "source": [
    "Podemos retornar à seção [Blocos de citação][] para ilustrar esta funcionalidade.\n",
    "\n",
    "[Blocos de citação]: #Blocos-de-citação"
   ]
  },
  {
   "cell_type": "markdown",
   "metadata": {},
   "source": [
    "## Vídeos e imagens"
   ]
  },
  {
   "cell_type": "markdown",
   "metadata": {},
   "source": [
    "Os blocos de nota Jupyter permitem ainda incluir vídeos e imagens da internet ou localizados no próprio computador aonde o bloco está."
   ]
  },
  {
   "cell_type": "markdown",
   "metadata": {},
   "source": [
    "### Imagens"
   ]
  },
  {
   "cell_type": "markdown",
   "metadata": {},
   "source": [
    "Podemos incluir imagens da internet usando o caractere **`!`**:"
   ]
  },
  {
   "cell_type": "raw",
   "metadata": {},
   "source": [
    "![não importa o que estiver escrito aqui](https://upload.wikimedia.org/wikipedia/commons/thumb/5/53/Entrada%2C_Instituto_Nacional_de_Matem%C3%A1tica_Pura_e_Aplicada_%28Rio_de_Janeiro%29.jpg/640px-Entrada%2C_Instituto_Nacional_de_Matem%C3%A1tica_Pura_e_Aplicada_%28Rio_de_Janeiro%29.jpg \"IMPA\")"
   ]
  },
  {
   "cell_type": "markdown",
   "metadata": {},
   "source": [
    "![não importa o que estiver escrito aqui](https://upload.wikimedia.org/wikipedia/commons/thumb/5/53/Entrada%2C_Instituto_Nacional_de_Matem%C3%A1tica_Pura_e_Aplicada_%28Rio_de_Janeiro%29.jpg/640px-Entrada%2C_Instituto_Nacional_de_Matem%C3%A1tica_Pura_e_Aplicada_%28Rio_de_Janeiro%29.jpg \"IMPA\")"
   ]
  },
  {
   "cell_type": "markdown",
   "metadata": {},
   "source": [
    "ou criando um identificador:"
   ]
  },
  {
   "cell_type": "raw",
   "metadata": {},
   "source": [
    "![][impa]\n",
    "\n",
    "[impa]: https://upload.wikimedia.org/wikipedia/commons/thumb/5/53/Entrada%2C_Instituto_Nacional_de_Matem%C3%A1tica_Pura_e_Aplicada_%28Rio_de_Janeiro%29.jpg/640px-Entrada%2C_Instituto_Nacional_de_Matem%C3%A1tica_Pura_e_Aplicada_%28Rio_de_Janeiro%29.jpg \"IMPA\""
   ]
  },
  {
   "cell_type": "markdown",
   "metadata": {},
   "source": [
    "![][impa]\n",
    "\n",
    "[impa]: https://upload.wikimedia.org/wikipedia/commons/thumb/5/53/Entrada%2C_Instituto_Nacional_de_Matem%C3%A1tica_Pura_e_Aplicada_%28Rio_de_Janeiro%29.jpg/640px-Entrada%2C_Instituto_Nacional_de_Matem%C3%A1tica_Pura_e_Aplicada_%28Rio_de_Janeiro%29.jpg \"IMPA\""
   ]
  },
  {
   "cell_type": "markdown",
   "metadata": {},
   "source": [
    "Se a imagem estiver em seu computador, podemos utilizar caminhos relativos."
   ]
  },
  {
   "cell_type": "raw",
   "metadata": {},
   "source": [
    "![não importa o que estiver escrito aqui](imagens/entrada-impa.jpg \"IMPA\")"
   ]
  },
  {
   "cell_type": "markdown",
   "metadata": {},
   "source": [
    "![não importa o que estiver escrito aqui](imagens/entrada-impa.jpg \"IMPA\")"
   ]
  },
  {
   "cell_type": "markdown",
   "metadata": {},
   "source": [
    "### Vídeos"
   ]
  },
  {
   "cell_type": "markdown",
   "metadata": {},
   "source": [
    "A inclusão de vídeos armazenados no computador é semelhante ao que fizemos com as imagens, anteriormente.\n",
    "Já no caso de vídeos do YouTube, utilizamos a seguinte célula de código:"
   ]
  },
  {
   "cell_type": "raw",
   "metadata": {},
   "source": [
    "from IPython.display import YouTubeVideo\n",
    "YouTubeVideo(id='ID-DO-VIDEO',width=600,height=300)"
   ]
  },
  {
   "cell_type": "markdown",
   "metadata": {},
   "source": [
    "substituindo o `ID-DO-VIDEO` pelo seu respectivo identificador. Por exemplo, se o endereço do vídeo que desejamos compartilhar for https://www.youtube.com/watch?v=8iPWJqQnB8k, então fazemos:"
   ]
  },
  {
   "cell_type": "code",
   "execution_count": 6,
   "metadata": {},
   "outputs": [
    {
     "data": {
      "image/jpeg": "[encoded data removed]",
      "text/html": [
       "\n",
       "        <iframe\n",
       "            width=\"600\"\n",
       "            height=\"300\"\n",
       "            src=\"https://www.youtube.com/embed/8iPWJqQnB8k\"\n",
       "            frameborder=\"0\"\n",
       "            allowfullscreen\n",
       "        ></iframe>\n",
       "        "
      ],
      "text/plain": [
       "<IPython.lib.display.YouTubeVideo at 0x7fb1f0821ba8>"
      ]
     },
     "execution_count": 6,
     "metadata": {},
     "output_type": "execute_result"
    }
   ],
   "source": [
    "from IPython.display import YouTubeVideo\n",
    "YouTubeVideo(id='8iPWJqQnB8k',width=600,height=300)"
   ]
  },
  {
   "cell_type": "markdown",
   "metadata": {},
   "source": [
    "## Atividade Prática 2"
   ]
  },
  {
   "cell_type": "markdown",
   "metadata": {},
   "source": [
    "Considere o problema abaixo. Suponha que você queira propor a seus alunos um roteiro de\n",
    "estudos para a solução do problema, que forneça diversas possibilidades para exploração. O roteiro\n",
    "deve ser baseado em pesquisa eletrônica e utilização de hipertexto."
   ]
  },
  {
   "cell_type": "markdown",
   "metadata": {},
   "source": [
    "> Se dois paralelepípedos têm uma base comum e suas bases superiores pertencem a um mesmo plano, paralelo ao plano da base comum, então esses dois paralelepípedos possuem o mesmo volume."
   ]
  },
  {
   "cell_type": "markdown",
   "metadata": {},
   "source": [
    "(a) Crie um bloco de notas Jupyter e utilize-o para escrever o problema proposto e o roteiro que os alunos devem executar.  \n",
    "\n",
    "(b) Acrescente ao roteiro hiperligações para:  \n",
    "  $\\quad$i. informações históricas pesquisadas na internet;  \n",
    "  $\\quad$ii. formas de representações ou simulações para o problema, tais como aplets, construções com geometria dinâmica, softwares de representação 3D, vídeos;  \n",
    "  $\\quad$iii. textos que reproduzam a solução do problema, que possam ser consultados pelos alunos.\n",
    "\n",
    "(c) Peça que cada estudante apresente uma solução para o problema e que utilize as diversas formas de representação fornecidas pelo Jupyter."
   ]
  },
  {
   "cell_type": "markdown",
   "metadata": {},
   "source": [
    "## Saiba mais"
   ]
  },
  {
   "cell_type": "markdown",
   "metadata": {},
   "source": [
    "- A [Atividade Prática 2](#Atividade-Prática-2 \"Ir para Atividade Prática 2\") é baseada na Atividade 7.4 do livro de Victor et al., *Recursos Computacionais para o Ensino de Matemática*, SBM, 2013."
   ]
  },
  {
   "cell_type": "markdown",
   "metadata": {},
   "source": [
    "&copy; 2019 Vicente Helano<br>\n",
    "UFCA | Universidade Federal do Cariri<br>\n",
    "Mestrado Profissional em Ensino de Matemática"
   ]
  }
 ],
 "metadata": {
  "kernelspec": {
   "display_name": "Python 3",
   "language": "python",
   "name": "python3"
  },
  "language_info": {
   "codemirror_mode": {
    "name": "ipython",
    "version": 3
   },
   "file_extension": ".py",
   "mimetype": "text/x-python",
   "name": "python",
   "nbconvert_exporter": "python",
   "pygments_lexer": "ipython3",
   "version": "3.7.3"
  },
  "toc-autonumbering": false,
  "toc-showcode": false,
  "toc-showmarkdowntxt": false,
  "toc-showtags": false
 },
 "nbformat": 4,
 "nbformat_minor": 4
}
