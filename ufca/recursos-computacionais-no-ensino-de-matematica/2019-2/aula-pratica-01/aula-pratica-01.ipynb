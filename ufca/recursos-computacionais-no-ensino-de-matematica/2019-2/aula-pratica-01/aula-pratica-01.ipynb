{
 "cells": [
  {
   "cell_type": "markdown",
   "metadata": {},
   "source": [
    "# Aprendendo Jupyter com o JupyterLab"
   ]
  },
  {
   "cell_type": "markdown",
   "metadata": {},
   "source": [
    "<br>"
   ]
  },
  {
   "cell_type": "markdown",
   "metadata": {},
   "source": [
    "Nesta aula, iremos aprender como construir um bloco de notas em Jupyter usando o JupyterLab, a mais nova interface web do Projeto Jupyter.\n",
    "O JupyterLab é uma aplicação web rica que possibilita manipular documentos e atividades (e.g., blocos de nota Jupyter e terminais de execução) de um modo flexível, integrado e expansível.\n",
    "Ele suporta diversos tipos de arquivo (imagens, CSV, JSON, Markdown, PDF, LaTeX, etc.), para os quais pode exibir o resultado interpretado usando o núcleo específico de cada tipo."
   ]
  },
  {
   "cell_type": "markdown",
   "metadata": {},
   "source": [
    "A arquitetura de *núcleos* dos blocos de nota possibilita a execução de códigos em diversas linguagens de programação diferentes. Para cada bloco de notas aberto, o servidor Jupyter cria uma aplicação web com um núcleo que executará os códigos daquele bloco.\n",
    "Cada núcleo é capaz executar códigos em uma única linguagem de programação. Os núcleos disponíveis são:\n",
    "\n",
    "- Python(https://github.com/ipython/ipython)\n",
    "- Julia (https://github.com/JuliaLang/IJulia.jl)\n",
    "- R (https://github.com/IRkernel/IRkernel)\n",
    "- Ruby (https://github.com/minrk/iruby)\n",
    "- Haskell (https://github.com/gibiansky/IHaskell)\n",
    "- Scala (https://github.com/Bridgewater/scala-notebook)\n",
    "- node.js (https://gist.github.com/Carreau/4279371)\n",
    "- Go (https://github.com/takluyver/igo)"
   ]
  },
  {
   "cell_type": "markdown",
   "metadata": {},
   "source": [
    "O núcleo padrão do JupyterLab é o Python. Neste caso, os blocos de nota são salvos em arquivos com extensão `.ipynb`."
   ]
  },
  {
   "cell_type": "markdown",
   "metadata": {},
   "source": [
    "## Interface do JupyterLab"
   ]
  },
  {
   "cell_type": "markdown",
   "metadata": {},
   "source": [
    "Podemos navegar e aplicar operações em documentos abertos no JupyterLab usando o mouse, através de sua interface com o usuário, ou por intermédio de atalhos de teclado customizáveis. A interface do JupyterLab consiste de uma área principal de trabalho contendo abas com documentos e atividades abertos, uma barra lateral e um menu principal.\n",
    "\n"
   ]
  },
  {
   "cell_type": "markdown",
   "metadata": {},
   "source": [
    "### Menu principal"
   ]
  },
  {
   "cell_type": "markdown",
   "metadata": {},
   "source": [
    "O menu principal padrão localizado no topo do JupyterLab é formado pelos seguintes sub-menus:\n",
    "\n",
    "- `File`: agrupa ações relacionadas a arquivos e pastas\n",
    "- `Edit`: agrupa principalmente ações relacionadas à edição de documentos\n",
    "- `View`: usado para controlar a aparência do JupyterLab\n",
    "- `Run`: usado para executar códigos em células e terminais\n",
    "- `Kernel`: para o gerenciamento de núcleos\n",
    "- `Tabs`: lista de documentos e atividades abertos na área principal\n",
    "- `Settings`: usado para alterar o comportamento do JupyterLab (configurações)\n",
    "- `Help`: ajuda do JupyterLab"
   ]
  },
  {
   "cell_type": "markdown",
   "metadata": {},
   "source": [
    "### Barra lateral"
   ]
  },
  {
   "cell_type": "markdown",
   "metadata": {},
   "source": [
    "A barra lateral contém:\n",
    "\n",
    "- o navegador de arquivos;\n",
    "- a lista de núcleos e terminais em execução;\n",
    "- a paleta de comandos;\n",
    "- o inspetor de células; e\n",
    "- a lista de abas."
   ]
  },
  {
   "cell_type": "markdown",
   "metadata": {},
   "source": [
    "## Arquivos suportados"
   ]
  },
  {
   "cell_type": "markdown",
   "metadata": {},
   "source": [
    "Com o JupyterLab, é possível visualizar e editar dados armazenados em alguns tipos conhecidos de arquivos. O tipo de um arquivo é determinado automaticamente a partir de seu nome e extensão. Podemos ainda associar a um mesmo tipo mais de um editor e visualizador. Escolhemos qual deles utilizar no momento da abertura do arquivo usando o sub-menu \"Open With\"."
   ]
  },
  {
   "cell_type": "markdown",
   "metadata": {},
   "source": [
    "A seguir, apresentamos alguns dos tipos mais comuns suportados pelo JupyterLab por padrão. Você deve fazer testes com os arquivos contidos na pasta `exemplos`."
   ]
  },
  {
   "cell_type": "markdown",
   "metadata": {},
   "source": [
    "#### Arquivos de marcação (.md)\n",
    "Arquivos de marcação (markdown) são muito utilizados na construção de wiki's. Eles podem ser editados e visualizados instantâneamente e permitem mesclar trechos em HTML ao longo do texto."
   ]
  },
  {
   "cell_type": "markdown",
   "metadata": {},
   "source": [
    "#### Imagens (.bmp, .gif, .jpeg, .jpg, .png, .svg)\n",
    "\n",
    "O JupyterLab suporta imagens como saída de células e como arquivos nos formatos acima. No visualizador de imagens, podemos aplicar zoom in/out com `+`/`-`, bascular na horizontal (`H`) ou na vertical (`V`), inverter as cores (`I`). Digitando `0` \"resetamos\" a imagem. Podemos também editar a imagem como um texto."
   ]
  },
  {
   "cell_type": "markdown",
   "metadata": {},
   "source": [
    "#### Valores separados por vírgula (.csv)\n",
    "\n",
    "Arquivos com valores separados por vírgula são ideais para o armazenamento de dados tabulados. O JupyterLab possui um visualizador rico integrado para este tipo de arquivo. A edição de arquivos CSV é realizada no editor de texto."
   ]
  },
  {
   "cell_type": "markdown",
   "metadata": {},
   "source": [
    "#### HTML (.html)\n",
    "\n",
    "O JupyterLab permite renderizar HTML como saída em uma célula e editar arquivos HTML em seu editor de texto."
   ]
  },
  {
   "cell_type": "markdown",
   "metadata": {},
   "source": [
    "#### LaTeX (.tex)\n",
    "JupyterLab suporta equações em $\\LaTeX$ em células e a edição de arquivos deste tipo em seu editor de texto. Exemplificamos o uso de fórmulas em $\\LaTeX$ abaixo com a desigualdade de Cauchy-Schwartz:"
   ]
  },
  {
   "cell_type": "markdown",
   "metadata": {},
   "source": [
    "$$\n",
    "\\left| \\sum_{i=1}^n u_i \\bar{v}_i \\right|^2 \\leq \\sum_{j=1}^n |u_j|^2 \\sum_{k=1}^n |v_k|^2\n",
    "$$"
   ]
  },
  {
   "cell_type": "markdown",
   "metadata": {},
   "source": [
    "## Blocos de nota Jupyter"
   ]
  },
  {
   "cell_type": "markdown",
   "metadata": {},
   "source": [
    "Os blocos de nota Jupyter são ambientes interativos que permitem a elaboração de documentos ricos contendo:\n",
    "\n",
    "- Códigos em uma linguagem de programação\n",
    "- Janelas interativas\n",
    "- Gráficos\n",
    "- Texto\n",
    "- Equações\n",
    "- Imagens\n",
    "- Vídeos"
   ]
  },
  {
   "cell_type": "markdown",
   "metadata": {},
   "source": [
    "Eles consistem de uma sequência linear de *células*. Há três tipos básicos de célula:\n",
    "- **Células de código:** código escrito na linguagem do núcleo utilizado;\n",
    "- **Células de marcação:** texto usando linguagem de marcação, enriquecido com fórmulas em $\\LaTeX$ e comandos em HTML;\n",
    "- **Células brutas:** texto não formatado, incluíndo sem modificação."
   ]
  },
  {
   "cell_type": "markdown",
   "metadata": {},
   "source": [
    "### Comportamento modal"
   ]
  },
  {
   "cell_type": "markdown",
   "metadata": {},
   "source": [
    "A interface do JupyterLab é *modal*, assim como no `vim`, por exemplo. Isto quer dizer que o teclado possui comportamento distinto dependendo do modo que estiver ativado no bloco de notas. Há dois modos padrão: **modo de edição** e **modo de comando**."
   ]
  },
  {
   "cell_type": "markdown",
   "metadata": {},
   "source": [
    "Se tivermos clicado na margem à esquerda de uma célula, ativamos o modo de edição ao pressionarmos o `Enter` ou clicando com o botão esquerdo do mouse no interior da célula de interesse. Retornamos ao modo de comando apertando o `Esc`."
   ]
  },
  {
   "cell_type": "markdown",
   "metadata": {},
   "source": [
    "#### Modo de edição"
   ]
  },
  {
   "cell_type": "markdown",
   "metadata": {},
   "source": [
    "No modo de edição, o cursor pisca no interior da área de edição. Neste modo, podemos escrever no interior da célula livremente."
   ]
  },
  {
   "cell_type": "markdown",
   "metadata": {},
   "source": [
    "#### Modo de comando"
   ]
  },
  {
   "cell_type": "markdown",
   "metadata": {},
   "source": [
    "Ativamos o modo de comando ao pressionarmos `Esc` ou clicarmos com o mouse fora da região de edição das células. Neste modo, podemos selecionar várias células do bloco e removê-las, por exemplo."
   ]
  },
  {
   "cell_type": "markdown",
   "metadata": {},
   "source": [
    "### Atalhos do teclado"
   ]
  },
  {
   "cell_type": "markdown",
   "metadata": {},
   "source": [
    "O JupyterLab possibilita a navegação e a edição de blocos de nota usando atalhos de teclado.\n",
    "Alguns atalhos bastante usados no modo de comando são:\n",
    "\n",
    "- Ativa o modo de edição: `Enter`\n",
    "- Executa uma célula: `Shift`+`Enter` ou `Ctrl`+`Enter`\n",
    "- Navega entre as células: `up`/`k`, `down`/`j`\n",
    "- Salvar o bloco de notas: `s`\n",
    "- Altera o tipo de célula: `y` (para código), `m` (para marcação)\n",
    "- Criação de célula: `a` (acima da atual), `b` (abaixo da atual)\n",
    "- Edição de célula: `x` (recorta), `c` (copia), `v` (cola), `z` (desfaz), `d` (duas vezes, remove célula)\n",
    "- Operações com núcleos: `i` (duas vezes, interrompe núcleo), `0` (duas vezes, reinicia núcleo)"
   ]
  },
  {
   "cell_type": "markdown",
   "metadata": {},
   "source": [
    "### Abrindo e criando blocos de nota"
   ]
  },
  {
   "cell_type": "markdown",
   "metadata": {},
   "source": [
    "Para editar um bloco de notas existente, basta localizá-lo no navegador de arquivos e clicar duas vezes sobre seu nome ou arrastá-lo com o mouse para a área principal de trabalho.\n",
    "\n"
   ]
  },
  {
   "cell_type": "markdown",
   "metadata": {},
   "source": [
    "Já para criar um novo arquivo dentro da pasta corrente no navegador de arquivos, clique no botão `+` no topo do navegador e, em seguida, escolha o tipo de arquivo que deseja criar.\n",
    "Podemos também usar o menu `File` com a mesma finalidade.\n",
    "\n",
    "\n"
   ]
  },
  {
   "cell_type": "markdown",
   "metadata": {},
   "source": [
    "Um arquivo novo é criado com um nome padrão. Você pode renomeá-lo, clicando com o botão direito e em seguida em `Rename`."
   ]
  },
  {
   "cell_type": "markdown",
   "metadata": {},
   "source": [
    "### Exercício."
   ]
  },
  {
   "cell_type": "markdown",
   "metadata": {},
   "source": [
    "Crie um novo bloco de notas e utilize-o para transcrever o artigo __[Conceituação, manipulação e aplicações](http://www.rpm.org.br/cdrpm/41/1.htm)__, na Revista do Professor de Matemática, V. 41, do professor Elon Lages Lima. Tente seguir o mais próximo possível a formatação do texto original."
   ]
  },
  {
   "cell_type": "markdown",
   "metadata": {},
   "source": [
    "## Saiba mais"
   ]
  },
  {
   "cell_type": "markdown",
   "metadata": {},
   "source": [
    "- Hoje, tivemos uma breve introdução sobre o Jupyter e o JupyterLab. Aprenderemos muito mais sobre eles ao longo da disciplina. Para saber mais sobre o JupyterLab, clique __[aqui](https://jupyterlab.readthedocs.io/en/latest/index.html)__.\n",
    "\n",
    "- Um material interessante, embora com foco em programação, é a apostila do professor\n",
    "Salviano A. Leão, __[Python e o Jupyter/IPython Notebook](http://2017.fgsl.net/up/2/o/00023_12_Seminario-_Introducao_ao_Jupyter.pdf)__, 2017.\n",
    "\n",
    "- O __[Handbook for Teaching and Learning with Jupyter](https://github.com/jupyter4edu/jupyter-edu-book)__ contém um catálogo de padrões pedagógicos para o uso de blocos de nota Jupyter em sala de aula e estudos de caso em várias universidades. É uma ótima fonte para ideias de projeto.\n",
    "\n",
    "- Uma série de vídeos curtos ilustrando as funcionalidades do JupyterLab está disponível __[aqui](https://www.youtube.com/watch?v=PlJGecfetek&list=PLUrHeD2K9CmlEvyGGgZXDf_u31MvLB_Lg)__."
   ]
  },
  {
   "cell_type": "markdown",
   "metadata": {},
   "source": [
    "&copy; 2019 Vicente Helano<br>\n",
    "UFCA | Universidade Federal do Cariri<br>\n",
    "Mestrado Profissional em Ensino de Matemática"
   ]
  }
 ],
 "metadata": {
  "kernelspec": {
   "display_name": "Python 3",
   "language": "python",
   "name": "python3"
  },
  "language_info": {
   "codemirror_mode": {
    "name": "ipython",
    "version": 3
   },
   "file_extension": ".py",
   "mimetype": "text/x-python",
   "name": "python",
   "nbconvert_exporter": "python",
   "pygments_lexer": "ipython3",
   "version": "3.5.3"
  }
 },
 "nbformat": 4,
 "nbformat_minor": 4
}
