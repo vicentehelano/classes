{
 "cells": [
  {
   "cell_type": "markdown",
   "metadata": {},
   "source": [
    "# A cidade dos clubes ímpares"
   ]
  },
  {
   "cell_type": "markdown",
   "metadata": {},
   "source": [
    "Reza a lenda que, em terras bem distantes, havia uma cidadezinha cujos habitantes tinham a mania de criar clubes de recreação. A mania era tanta que a maioria deles nem lembrava em quantos clubes participavam."
   ]
  },
  {
   "cell_type": "markdown",
   "metadata": {},
   "source": [
    "Após perceber que isto estava afetando o cotidiano de seus moradores, \n",
    "o vereador Cícero, com forte inclinação para a Matemática, submeteu à Câmara Municipal um  Projeto de Lei que visa limitar o número de clubes na cidade. O projeto estabelece o seguinte:\n",
    "\n",
    "- Cada clube deverá ter um número ímpar de sócios;\n",
    "- Todo par de clubes deverá ter um número par de sócios em comum."
   ]
  },
  {
   "cell_type": "markdown",
   "metadata": {},
   "source": [
    "Questionado se o projeto surtirá efeito na prática, Cícero disse acreditar que sim. \"Acho que sim, até porque como ainda não há nenhuma regra que coiba o surgimento de clubes, qualquer regra por mais simples que seja já é alguma coisa\", comentou."
   ]
  },
  {
   "cell_type": "markdown",
   "metadata": {},
   "source": [
    "Agora, a consultoria técnica da câmara irá analisar o projeto de lei e emitir um parecer para respaldar a decisão final. Como membro desta equipe, você deverá ajudar a emitir este parecer."
   ]
  },
  {
   "cell_type": "markdown",
   "metadata": {},
   "source": [
    "## Análise preliminar"
   ]
  },
  {
   "cell_type": "markdown",
   "metadata": {},
   "source": [
    "1. There are $n$ citizens living in Oddtown. so $m \\le 2^n$ \n",
    "1. Note that the second condition allows two clubs to be disjoint (after all, zero is an even number). So $m \\le 2^{n-1}$ . \n",
    "2. Note also that the two conditions together imply that two different clubs cannot have the same set of members.  then $m \\ge 2^{\\floor{\\frac{n}{2}}}$\n"
   ]
  },
  {
   "cell_type": "markdown",
   "metadata": {},
   "source": [
    "## Solução do Brillant"
   ]
  },
  {
   "cell_type": "markdown",
   "metadata": {},
   "source": [
    "On first reading the question, one might observe that (in some sense) there are $2^n$ \n",
    "  possible clubs, one for each possible group of citizens. However, this does not fully take into account the additional restrictions. In order to do that, it is helpful to restate the rules in a more mathematical manner.\n",
    "\n",
    "There are $n$ elements in a basis. Their main occupation was forming various vectors, which at some point started threatening the very survival of the vector space. In order to limit the number of vectors, the vector space council decreed the following rules:\n",
    "\n",
    "- Each vector must have an odd magnitude squared (dot product with itself).\n",
    "- Every two (distinct) vectors must have an even dot product.\n",
    "\n",
    "Now that the problem has been restated mathematically, what does it actually mean? What is the underlying field, and what does it mean to be a basis? Since the rules have been restated in a way such that only the parity of a vector's elements is relevant, the problem is reduced to one of modular arithmetic, and the underlying field is $\\mathbb{Z} / \\mathbb{Z}2 \\cong \\mathbb{F}_2$, the field of two elements.\n",
    "\n",
    "Now, suppose there are $m$ vectors (clubs) in Oddtown, and consider the $m \\times n$ matrix $A$ made by placing the $m$ vectors on top of each other. Then, $A_{i,j} = 1$ if the $i^\\text{th}$ club contains the $j^\\text{th}$ citizen. Then, the rules imposed by the council appear when considering $AA^T$: it is an $m \\times m$ matrix with 1's along the diagonal and nowhere else. Thus, from linear algebra, $A A^T = \\text{Id}_m$ has rank no larger than the minimum of the ranks of its factors, so $m \\le \\text{rank}(A) = n$.\n",
    "\n",
    "The maximum number of clubs Oddtown could possibly have is $n$."
   ]
  },
  {
   "cell_type": "markdown",
   "metadata": {},
   "source": [
    "## Mais comentários"
   ]
  },
  {
   "cell_type": "markdown",
   "metadata": {},
   "source": [
    "I’ll explain and discuss the classic problems of oddtown and even town. In oddtown, there are n\n",
    "people. These people form clubs where each club has an odd number of members, and for any pair of\n",
    "clubs, the number of people they have in common is n. How many clubs can there be? In eventown,\n",
    "there are n people. These people form distinct clubs where each club has an even number of members,\n",
    "and any pair of clubs share an even number of members. How many clubs can there be? The answers\n",
    "to these two questions are surprisingly different, but both involve linear algebra over the finite field\n",
    "with two elements."
   ]
  },
  {
   "cell_type": "markdown",
   "metadata": {},
   "source": [
    "9. Write down an example showing that equality is possible in the Oddtown Theorem. Can one have\n",
    "equality for a set system with not all the sets of the same size?\n",
    "\n",
    "10. Neighbouring Oddtown is Eventown, where the mayor also dislikes clubs. Having seen the success of\n",
    "Oddtown’s rules on curbing club formation, the mayor decides to impose rules intended to similarly\n",
    "limit the number of clubs. Not wanting to copy the mayor of Oddtown completely, however,\n",
    "Eventown’s mayor modifies Oddtown’s rules slightly, requiring that each club has an even number\n",
    "of members instead of an odd number (while still imposing that each pair of clubs must have an\n",
    "even-sized common membership), and of course no two clubs are allowed to have precisely the same\n",
    "members. Why will this not work as inten"
   ]
  },
  {
   "cell_type": "markdown",
   "metadata": {},
   "source": [
    "## Congruência de números e matrizes"
   ]
  },
  {
   "cell_type": "markdown",
   "metadata": {},
   "source": [
    "A demonstração que apresentaremos aqui é baseada na relação de **congruência** entre números inteiros."
   ]
  },
  {
   "cell_type": "markdown",
   "metadata": {},
   "source": [
    "Definition 19.1.1. Let m be a positive integer. Two integers a and b are\n",
    "congruent modulo m if and only if their difference a − b is divisible by m.\n",
    "Notation: We often write this as m|(a − b) and often use the fact that this\n",
    "means that there exists q ∈ Z such that\n",
    "a − b = mq.\n",
    "\n",
    "One writes\n",
    "\n",
    "a ≡ b mod m\n",
    "\n",
    "for a and b being congruent modulo m"
   ]
  },
  {
   "cell_type": "markdown",
   "metadata": {},
   "source": [
    "**Lema 1.** Se $m$ é um número inteiro ímpar, então $m^2 \\equiv 1 \\mod 8$."
   ]
  },
  {
   "cell_type": "markdown",
   "metadata": {},
   "source": [
    "*Demonstração.*\n"
   ]
  },
  {
   "cell_type": "markdown",
   "metadata": {},
   "source": [
    "**Lema 2.** Se $a$, $b$ e $c$ são congruentes a 1 módulo 8, então $a + b - c$ é congruente a 1 módulo 8."
   ]
  },
  {
   "cell_type": "markdown",
   "metadata": {},
   "source": [
    "*Demonstração.*\n"
   ]
  },
  {
   "cell_type": "markdown",
   "metadata": {},
   "source": [
    "### Extensão para matrizes"
   ]
  },
  {
   "cell_type": "markdown",
   "metadata": {},
   "source": [
    "Podemos extender o conceito de congruência para o ????anel???? das matrizes inteiras.\n",
    "Com efeito, sejam $A = [a_{ij}]$ e $B = [b_{ij}]$ duas matrizes com mesmas dimensões.\n",
    "Dizemos que A é congruente a B módulo k, e denotamos por $A \\equiv B \\mod k$, quando $a_{ij} \\equiv b_{ij} \\mod k$, para todo $i,j$."
   ]
  },
  {
   "cell_type": "markdown",
   "metadata": {},
   "source": [
    "## Parecer final"
   ]
  },
  {
   "cell_type": "markdown",
   "metadata": {},
   "source": [
    "Ainsi, dans une ville de trente habitants, il y aura au plus trente clubs. Bien loin des\n",
    "1073741824 possibilités initiales."
   ]
  },
  {
   "cell_type": "markdown",
   "metadata": {},
   "source": [
    "## Extensões"
   ]
  },
  {
   "cell_type": "markdown",
   "metadata": {},
   "source": [
    "32. (Maximal implies maximum in Eventown) Show that every maximal Eventown club\n",
    "system is maximum. In other words, if there are fewer than $2^\\floor{n/2}$\n",
    "clubs in Eventown, one\n",
    "can add a club. (Note the contrast with Oddtown.)\n",
    "\n",
    "33. (Oddtown varieties) In Oddtown, there are n citizens and m clubs satisfying the rules\n",
    "that each club has an odd number of members and each pair of clubs shares an even number\n",
    "of members. Find c > 0 so that there are more than $2^{cn^2}$\n",
    "collections of n clubs in Oddtown.\n",
    "\n",
    "34. ♥ (Oddtown Theorem) Prove that there are no more than n clubs in Oddtown. (Hint:\n",
    "prove that the incidence vectors of the clubs are linearly independent over F2.)"
   ]
  },
  {
   "cell_type": "markdown",
   "metadata": {},
   "source": [
    "## Saiba mais"
   ]
  },
  {
   "cell_type": "markdown",
   "metadata": {},
   "source": [
    "Le théorème ci-dessus est un résultat étonnant. Si $n$ désigne le nombre d’habitants, le\n",
    "nombre total de clubs est $2^n$ (par exemple $2^n = 1073741824$, si $n = 30$). Il semblerait\n",
    "que les restrictions « paires » ou « impaires » devraient diviser l’ensemble des clubs par\n",
    "deux soit $2^n/2$ clubs avec encore une croissance exponentielle. La borne supérieure $n$\n",
    "parait alors surprenante, n’est-ce pas ?\n"
   ]
  },
  {
   "cell_type": "markdown",
   "metadata": {},
   "source": [
    "O problema de distâncias ímpares vai muito além do que abordamos em sala. Navegando na internet, é possível encontrar diversas referências a este problema. Por exemplo,"
   ]
  },
  {
   "cell_type": "markdown",
   "metadata": {},
   "source": [
    "- Vídeos do professor Abramo Hefez sobre congruência de números"
   ]
  },
  {
   "cell_type": "code",
   "execution_count": 9,
   "metadata": {},
   "outputs": [
    {
     "data": {
      "image/jpeg": "[encoded data removed]",
      "text/html": [
       "\n",
       "        <iframe\n",
       "            width=\"600\"\n",
       "            height=\"300\"\n",
       "            src=\"https://www.youtube.com/embed/MZ2gUM9Ra3k\"\n",
       "            frameborder=\"0\"\n",
       "            allowfullscreen\n",
       "        ></iframe>\n",
       "        "
      ],
      "text/plain": [
       "<IPython.lib.display.YouTubeVideo at 0x1b26649fc18>"
      ]
     },
     "execution_count": 9,
     "metadata": {},
     "output_type": "execute_result"
    }
   ],
   "source": [
    "from IPython.display import YouTubeVideo\n",
    "YouTubeVideo(id='MZ2gUM9Ra3k',width=600,height=300)"
   ]
  },
  {
   "cell_type": "code",
   "execution_count": 10,
   "metadata": {},
   "outputs": [
    {
     "data": {
      "image/jpeg": "[encoded data removed]",
      "text/html": [
       "\n",
       "        <iframe\n",
       "            width=\"600\"\n",
       "            height=\"300\"\n",
       "            src=\"https://www.youtube.com/embed/E59vXtXsnBY\"\n",
       "            frameborder=\"0\"\n",
       "            allowfullscreen\n",
       "        ></iframe>\n",
       "        "
      ],
      "text/plain": [
       "<IPython.lib.display.YouTubeVideo at 0x1b26649ff98>"
      ]
     },
     "execution_count": 10,
     "metadata": {},
     "output_type": "execute_result"
    }
   ],
   "source": [
    "from IPython.display import YouTubeVideo\n",
    "YouTubeVideo(id='E59vXtXsnBY',width=600,height=300)"
   ]
  },
  {
   "cell_type": "markdown",
   "metadata": {},
   "source": [
    "- Mathematics Stack Exchange: __[Linear Algebra (Odd Distance)](https://math.stackexchange.com/questions/108182/linear-algebra-odd-distance)__\n",
    "\n"
   ]
  },
  {
   "cell_type": "markdown",
   "metadata": {},
   "source": [
    "- Artigos:\n",
    "  - https://www.cs.ubc.ca/~jmanuch/journal/papers/DCG2009.pdf\n",
    "  - http://www.ma.huji.ac.il/~kalai/Odd-distance.pdf"
   ]
  },
  {
   "cell_type": "markdown",
   "metadata": {},
   "source": [
    "- L. Piepmeyer, __[The Maximum Number of Odd Integral Distances Between Points in the Plane](https://link.springer.com/article/10.1007/BF02711135)__"
   ]
  },
  {
   "cell_type": "markdown",
   "metadata": {},
   "source": [
    "- Moshe Rosenfeld, __[In Praise of the Gram Matrix](https://link.springer.com/chapter/10.1007/978-3-642-60406-5_29)__, The Mathematics of Paul Erdős II, Editors: Graham, Ronald L, Nešetřil, Jaroslav, Butler, Steve (Eds.), 2013\n"
   ]
  }
 ],
 "metadata": {
  "kernelspec": {
   "display_name": "Python 3",
   "language": "python",
   "name": "python3"
  },
  "language_info": {
   "codemirror_mode": {
    "name": "ipython",
    "version": 3
   },
   "file_extension": ".py",
   "mimetype": "text/x-python",
   "name": "python",
   "nbconvert_exporter": "python",
   "pygments_lexer": "ipython3",
   "version": "3.7.4"
  }
 },
 "nbformat": 4,
 "nbformat_minor": 4
}
