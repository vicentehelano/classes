{
 "cells": [
  {
   "cell_type": "markdown",
   "metadata": {},
   "source": [
    "# Sistemas de computação algébrica"
   ]
  },
  {
   "cell_type": "markdown",
   "metadata": {},
   "source": [
    "_Parte I: instruções básicas_"
   ]
  },
  {
   "cell_type": "markdown",
   "metadata": {},
   "source": [
    "Na aula de hoje, iremos estudar um pouco a SymPy, o principal módulo para cálculos numéricos da Python. Ela será nossa companheira ao longo de todo o curso. Por isso, é importante que nos debrucemos cuidadosamente sobre ela."
   ]
  },
  {
   "cell_type": "markdown",
   "metadata": {
    "slideshow": {
     "slide_type": "slide"
    }
   },
   "source": [
    "## O que é um CAS?"
   ]
  },
  {
   "cell_type": "markdown",
   "metadata": {},
   "source": [
    "Um _sistema de computação algébrica_ (CAS, do inglês, _Computer Algebra System_) é um software criado para manipular expressões matemáticas de modo simbólico. Geralmente, eles integras recursos numéricos, simbólicos e gráficos."
   ]
  },
  {
   "cell_type": "markdown",
   "metadata": {},
   "source": [
    "A utilização de um CAS em sala de aula possibilita aos alunos o aprendizado de uma simbolização matemática alternativa rigorosa. Diferentemente do que acontece com calculadoras e planilhas, os cálculos simbólicos não sofrem com erros de arredondamento, ainda que apresentem limitações de outra natureza, como veremos mais à frente."
   ]
  },
  {
   "cell_type": "markdown",
   "metadata": {},
   "source": [
    "## Breve história"
   ]
  },
  {
   "cell_type": "markdown",
   "metadata": {},
   "source": [
    "Há [inúmeros CASs](https://en.wikipedia.org/wiki/List_of_computer_algebra_systems) disponíveis na internet, muitos deles especialistas e outros generalistas.\n",
    "Nesta disciplina, abordaremos esta última classe de software."
   ]
  },
  {
   "cell_type": "markdown",
   "metadata": {},
   "source": [
    "Um CAS generalista consiste, geralmente, de um conjunto básico de comandos, passível de extensões via pacotes especializados."
   ]
  },
  {
   "cell_type": "markdown",
   "metadata": {},
   "source": [
    "Os sistemas mais antigos ainda em atividade são o [Reduce](https://reduce-algebra.sourceforge.io/) e o [Maxima](http://maxima.sourceforge.net/) (uma versão livre do [Macsyma](https://en.wikipedia.org/wiki/Macsyma)), ambos criados na década de 1960."
   ]
  },
  {
   "cell_type": "markdown",
   "metadata": {},
   "source": [
    "As alternativas proprietárias mais conhecidas (segundo o ponto de vista do autor deste bloco de notas) são o [Mathematica](https://www.wolfram.com/mathematica/), o [Maple](https://www.maplesoft.com/) e o [Mathcad](https://www.ptc.com/en/products/mathcad/), surgidos um pouco mais tarde, na década de 1980.\n",
    "\n"
   ]
  },
  {
   "cell_type": "markdown",
   "metadata": {},
   "source": [
    "Mais recentemente, em meados dos anos 2000, foram lançados o [SageMath](http://www.sagemath.org/) e a [SymPy](https://www.sympy.org/pt/)."
   ]
  },
  {
   "cell_type": "markdown",
   "metadata": {},
   "source": [
    "## Uso em sala de aula"
   ]
  },
  {
   "cell_type": "markdown",
   "metadata": {},
   "source": [
    "Embora não haja concenso sobre os benefícios da utilização de CAS em sala de aula ([Heid et al., 2002](http://www.jstor.org/stable/20871165)), \n",
    "é fato que eles possibilitam a aplicação prática da matemática a problemas mais realistas, proporcionando um aumento da participação e motivação dos estudantes durante o processo ensino-aprendizado."
   ]
  },
  {
   "cell_type": "markdown",
   "metadata": {},
   "source": [
    "## Porque a SymPy?"
   ]
  },
  {
   "cell_type": "markdown",
   "metadata": {},
   "source": [
    "Talvez o CAS considerado mais moderno e completo dentre todas as alternativas livres seja o SageMath.\n",
    "Ele é escrito em Python e permite a integração com diversos outros CAS, pagos e gratuitos, o que o torna uma excelente escolha para resolver problemas complexos, que requerem a utilização de diversas ferramentas."
   ]
  },
  {
   "cell_type": "markdown",
   "metadata": {},
   "source": [
    "O que torna o SageMath bom para problemas complexos, o faz demasiadamente complexo para tarefas pequenas.\n",
    "É justamente nestes casos que a SymPy ganha destaque, como uma excelente opção para introduzir os conceitos de sistemas de computação simbólica.\n",
    "Ela ocupa pouco espaço e precisa apenas de uma interpretador Python instalado.\n",
    "Além disso, quando utilizado em blocos de nota Jupyter, ele produz a melhor formatação disponível atualmente para expressões matemáticas, com fórmulas em $\\LaTeX$."
   ]
  },
  {
   "cell_type": "markdown",
   "metadata": {},
   "source": [
    "## Preciso ser programador para usá-la?"
   ]
  },
  {
   "cell_type": "markdown",
   "metadata": {},
   "source": [
    "A utilização plena de um CAS requer o aprendizado de uma _linguagem de programação_.\n",
    "No entanto, o grau de dificuldade pode ser dosado de acordo com o nível escolar dos alunos.\n",
    "É possível usar um CAS até mesmo como se fosse uma simples calculadora gráfica."
   ]
  },
  {
   "cell_type": "markdown",
   "metadata": {},
   "source": [
    "## Módulos, bibliotecas e a SymPy"
   ]
  },
  {
   "cell_type": "markdown",
   "metadata": {},
   "source": [
    "Um **módulo** é um arquivo contendo definições e comandos em Python, o qual pode ser importado por outros módulos.\n",
    "O nome de um módulo é o mesmo nome do arquivo `.py` contendo seu código.\n",
    "Ele é compilado no momento de sua importação, gerando arquivos `.pyc`, que são carregados pelo interpretador.\n",
    "Uma coleção de módulos dá origem ao que chamamos de **pacote** ou **biblioteca**."
   ]
  },
  {
   "cell_type": "markdown",
   "metadata": {},
   "source": [
    "O projeto __[SciPy](https://www.scipy.org/)__ visa desenvolver uma plataforma para a implementação de softwares científicos e de engenharia.\n",
    "A biblioteca __[SymPy](https://www.sympy.org/)__, parte deste projeto, tem sido desenvolvida para tornar-se um sistema computacional algébrico completo, mantendo sua interface o mais simples possível."
   ]
  },
  {
   "cell_type": "markdown",
   "metadata": {},
   "source": [
    "## Importando a SymPy"
   ]
  },
  {
   "cell_type": "markdown",
   "metadata": {},
   "source": [
    "Para que possamos utilizar a SymPy precisamos, primeiro, nos assegurar de que ela está instalada. Podemos verificar isso ao tentarmos importá-la:"
   ]
  },
  {
   "cell_type": "code",
   "execution_count": null,
   "metadata": {},
   "outputs": [],
   "source": [
    "import sympy as sp"
   ]
  },
  {
   "cell_type": "markdown",
   "metadata": {},
   "source": [
    "Se a execução da célula acima não retornar qualquer erro, podemos  acessar um objeto `func` definido na SymPy escrevendo `sp.func`.\n",
    "Caso contrário, é sinal de que ela precisa ser instalada. A instalação de pacotes Python depende do sistema operacional. Resumimos aqui dois casos de instalação:"
   ]
  },
  {
   "cell_type": "markdown",
   "metadata": {},
   "source": [
    "- Windows\n",
    "    1. Digite `Janela` + `R` e pressione `Enter`;\n",
    "    1. Digite `cmd` e pressione `Enter`;\n",
    "    1. No terminal (\"tela preta\"), digite `pip install sympy` e pressione `Enter`"
   ]
  },
  {
   "cell_type": "markdown",
   "metadata": {},
   "source": [
    "- Linux (distro com `apt`)\n",
    "    1. Abra o terminal;\n",
    "    1. `pip3 install sympy` e pressione `Enter`"
   ]
  },
  {
   "cell_type": "markdown",
   "metadata": {},
   "source": [
    "Agora, retorne ao início desta seção e refaça o teste de importação."
   ]
  },
  {
   "cell_type": "markdown",
   "metadata": {},
   "source": [
    "Ocorrendo tudo bem, podemos pedir à `sympy` que examine os recursos disponíveis em sua máquina para configurar a exibição das fórmulas da melhor forma possível."
   ]
  },
  {
   "cell_type": "code",
   "execution_count": null,
   "metadata": {},
   "outputs": [],
   "source": [
    "sp.init_printing()"
   ]
  },
  {
   "cell_type": "markdown",
   "metadata": {},
   "source": [
    "## Símbolos"
   ]
  },
  {
   "cell_type": "markdown",
   "metadata": {},
   "source": [
    "O conceito fundamental da SymPy é a do __símbolo__.\n",
    "A SymPy permite-nos representar símbolos matemáticos como objetos em Python.\n",
    "Um objeto por ser visto como uma região da memória que contém dados (o conteúdo) e informações adicionais sobre estes dados.\n",
    "Estas informações podem incluir, por exemplo, o tipo do conteúdo armazenado e o endereço na memória aonde o objeto está localizado.\n",
    "Os objetos podem ser desde números inteiros até funções."
   ]
  },
  {
   "cell_type": "markdown",
   "metadata": {},
   "source": [
    "Acessamos os objetos usando *rótulos* ou *identificadores*. Os rótulos são compostos por um ou mais caracteres concatenados, sempre iniciando com uma letra ou sublinhado. Os demais caracteres podem ser números, letras ou mais sublinhados. Os rótulos em Python são sensíveis ao caso (maiúscula ou minúscula)."
   ]
  },
  {
   "cell_type": "markdown",
   "metadata": {},
   "source": [
    "O nome de um símbolo é geralmente escrito usando comandos do $\\LaTeX$ e ele não precisa ser igual ao rótulo usado para designar o objeto subjacente.\n",
    "Por conveniência,\n",
    "iremos definir uma __variável__ como sendo um par (rótulo, objeto).\n",
    "Para nos referirmos a uma variável, utilizamos apenas seu rótulo, também conhecido como seu __nome__."
   ]
  },
  {
   "cell_type": "markdown",
   "metadata": {},
   "source": [
    "Há três modos distintos de criarmos um símbolo isoladamente.\n",
    "A primeira é usando a função `sympy.Symbol`. \n",
    "Por exemplo, se precisarmos criar um símbolo $x$, escrevemos:"
   ]
  },
  {
   "cell_type": "code",
   "execution_count": null,
   "metadata": {},
   "outputs": [],
   "source": [
    "a = sp.Symbol(\"x\")\n",
    "a"
   ]
  },
  {
   "cell_type": "markdown",
   "metadata": {},
   "source": [
    "No código acima, criamos uma variável de nome `a` que é usada para representar o símbolo $x$. Embora tenhamos usado nomes diferentes, na prática, é comum usarmos o mesmo nome para o símbolo e sua variável, quando o símbolo não contém códigos em $\\LaTeX$ que impeçam isso."
   ]
  },
  {
   "cell_type": "code",
   "execution_count": null,
   "metadata": {},
   "outputs": [],
   "source": [
    "x = sp.Symbol(\"x\")\n",
    "x"
   ]
  },
  {
   "cell_type": "markdown",
   "metadata": {},
   "source": [
    "### Assumindo hipóteses"
   ]
  },
  {
   "cell_type": "markdown",
   "metadata": {},
   "source": [
    "Não raramente, conhecemos algumas propriedades sobre os nossos símbolos, pois talvez eles só possam assumir valores inteiros ou reais, positivos ou negativos, etc. A SymPy prevê algumas _hipóteses_ que podem ser aplicadas a um símbolo."
   ]
  },
  {
   "cell_type": "markdown",
   "metadata": {},
   "source": [
    "Se $x$ for um número real, fazemos:"
   ]
  },
  {
   "cell_type": "code",
   "execution_count": null,
   "metadata": {},
   "outputs": [],
   "source": [
    "x = sp.Symbol(\"x\", real=True)"
   ]
  },
  {
   "cell_type": "markdown",
   "metadata": {},
   "source": [
    "Com isso, estamos restringindo os valores de $x$ ao conjunto $\\mathbb{R}$. Podemos verificar isso por intermédio do atributo `is_real`, presente na classe  `sympy.Symbol`:"
   ]
  },
  {
   "cell_type": "code",
   "execution_count": null,
   "metadata": {},
   "outputs": [],
   "source": [
    "x.is_real"
   ]
  },
  {
   "cell_type": "markdown",
   "metadata": {},
   "source": [
    "O resultado `True` indica que o atributo correspondente foi \"ligado\". Caso contrário, seria exibido `False`."
   ]
  },
  {
   "cell_type": "markdown",
   "metadata": {},
   "source": [
    "Por padrão, podemos aplicar as seguintes hipóteses aos símbolos criados com a `sympy.Symbol`:"
   ]
  },
  {
   "cell_type": "markdown",
   "metadata": {},
   "source": [
    "|Hipóteses|Atributos|Descrição|\n",
    "|---|---|---|\n",
    "|real, imaginary| is_real, is_imaginary| O símbolo representa um número real ou imaginário|\n",
    "|positive, negative| is_positive, is_negative| O símbolo é positivo ou negativo|\n",
    "|integer|is_integer|O símbolo representa um número inteiro|\n",
    "|odd, even|is_odd, is_even|O símbolo representa um inteiro par ou ímpar|\n",
    "|prime|is_prime|O símbolo é um número primo|\n",
    "|finite, infinite|is_finite, is_infinite|O símbolo representa uma quantidade finita ou infinita|"
   ]
  },
  {
   "cell_type": "markdown",
   "metadata": {},
   "source": [
    "A adoção de hipóteses vai além de um simples detalhamento dos símbolos.\n",
    "Seu uso permite que a SymPy otimize, por exemplo, a simplificação de expressões envolvendo estes símbolos.\n",
    "Vejamos o que acontece quando tomamos a raiz de um número arbitrário elevado ao quadrado"
   ]
  },
  {
   "cell_type": "code",
   "execution_count": null,
   "metadata": {},
   "outputs": [],
   "source": [
    "x = sp.Symbol(\"x\")"
   ]
  },
  {
   "cell_type": "code",
   "execution_count": null,
   "metadata": {},
   "outputs": [],
   "source": [
    "sp.sqrt(x**2)"
   ]
  },
  {
   "cell_type": "markdown",
   "metadata": {},
   "source": [
    "Observe que a exponenciação é representada por `**` e a raiz quadrada pela função `sympy.sqrt`."
   ]
  },
  {
   "cell_type": "markdown",
   "metadata": {},
   "source": [
    "Agora, se por hipótese $x$ for positivo, obtemos:"
   ]
  },
  {
   "cell_type": "code",
   "execution_count": null,
   "metadata": {},
   "outputs": [],
   "source": [
    "x = sp.Symbol(\"x\", positive=True)"
   ]
  },
  {
   "cell_type": "code",
   "execution_count": null,
   "metadata": {},
   "outputs": [],
   "source": [
    "sp.sqrt(x ** 2)"
   ]
  },
  {
   "cell_type": "markdown",
   "metadata": {},
   "source": [
    "Pelo mesmo motivo, o resultado de:"
   ]
  },
  {
   "cell_type": "code",
   "execution_count": null,
   "metadata": {},
   "outputs": [],
   "source": [
    "n = sp.Symbol(\"n\")\n",
    "sp.cos(n*sp.pi)"
   ]
  },
  {
   "cell_type": "markdown",
   "metadata": {},
   "source": [
    "se torna diferente ao assumirmos que $n$ é um número inteiro:"
   ]
  },
  {
   "cell_type": "code",
   "execution_count": null,
   "metadata": {},
   "outputs": [],
   "source": [
    "n = sp.Symbol(\"n\", integer=True)\n",
    "sp.cos(n*sp.pi)"
   ]
  },
  {
   "cell_type": "markdown",
   "metadata": {},
   "source": [
    "ou mesmo um inteiro ímpar:"
   ]
  },
  {
   "cell_type": "code",
   "execution_count": null,
   "metadata": {},
   "outputs": [],
   "source": [
    "n = sp.Symbol(\"n\", odd=True)\n",
    "sp.cos(n*sp.pi)"
   ]
  },
  {
   "cell_type": "markdown",
   "metadata": {},
   "source": [
    "### Outros métodos para criar símbolos"
   ]
  },
  {
   "cell_type": "markdown",
   "metadata": {},
   "source": [
    "Quando não há hipóteses a assumir, podemos criar símbolos usando a função `sympy.var`."
   ]
  },
  {
   "cell_type": "code",
   "execution_count": null,
   "metadata": {},
   "outputs": [],
   "source": [
    "sp.var('x')\n",
    "x"
   ]
  },
  {
   "cell_type": "markdown",
   "metadata": {},
   "source": [
    "Observe que não foi necessário escrever o nome da variável e o nome do símbolo separadamente.\n",
    "A função `sympy.var` faz isso automaticamente.\n",
    "No fundo, no fundo, a `sympy.var` faz apenas uma chamada à função `sympy.symbols` repassando seus argumentos a esta última ([veja a explicação aqui](https://docs.sympy.org/latest/modules/core.html#var))."
   ]
  },
  {
   "cell_type": "markdown",
   "metadata": {},
   "source": [
    "Usamos os `:` para criarmos listas de variáveis em uma única linha. Por exemplo,"
   ]
  },
  {
   "cell_type": "code",
   "execution_count": null,
   "metadata": {},
   "outputs": [],
   "source": [
    "sp.var('x:z')\n",
    "x,y,z"
   ]
  },
  {
   "cell_type": "code",
   "execution_count": null,
   "metadata": {},
   "outputs": [],
   "source": [
    "sp.var('x:3')\n",
    "x0,x1,x2"
   ]
  },
  {
   "cell_type": "markdown",
   "metadata": {},
   "source": [
    "Agora, se desejamos aplicar algumas hipóteses sobre eles, devemos usar a função `sympy.symbols`:"
   ]
  },
  {
   "cell_type": "code",
   "execution_count": null,
   "metadata": {},
   "outputs": [],
   "source": [
    "x, y, z = sp.symbols(\"x:z\", positive=True)\n",
    "x + y - z"
   ]
  },
  {
   "cell_type": "markdown",
   "metadata": {},
   "source": [
    "A função `sympy.symbols` recebe a lista dos nomes dos símbolos entre aspas, separados por vírgula ou pelo `:`, e em seguida uma lista de hipóteses a serem aplicadas a todos os símbolos."
   ]
  },
  {
   "cell_type": "markdown",
   "metadata": {},
   "source": [
    "#### **Exercício.**\n",
    "Represente a expressão a seguir usando a SymPy:\n",
    "\n",
    "$$\n",
    "a_1(1) + a_2 ( x + 1) +  a_3 ( x^2 + x + 1) +  a_4 (x^3 + x^2 + x + 1)\n",
    "$$"
   ]
  },
  {
   "cell_type": "code",
   "execution_count": null,
   "metadata": {},
   "outputs": [],
   "source": [
    "# Digite sua solução aqui"
   ]
  },
  {
   "cell_type": "markdown",
   "metadata": {},
   "source": [
    "## Números"
   ]
  },
  {
   "cell_type": "markdown",
   "metadata": {},
   "source": [
    "Na prática, além de símbolos matemáticos abstratos, precisamos representar números e constantes. Na SymPy, os números compartilham alguns dos atributos comuns aos símbolos. De fato, vimos na seção anterior que podemos criar um símbolo com a propriedade de ser um inteiro."
   ]
  },
  {
   "cell_type": "code",
   "execution_count": null,
   "metadata": {},
   "outputs": [],
   "source": [
    "i = sp.Symbol(\"i\", integer=True)\n",
    "type(i)"
   ]
  },
  {
   "cell_type": "markdown",
   "metadata": {},
   "source": [
    "A função `type` acima tem como resultado o tipo do objeto associado ao nome `i`."
   ]
  },
  {
   "cell_type": "markdown",
   "metadata": {},
   "source": [
    "De modo análogo, podemos criar símbolos reais atribuindo `float=True` e símbolos complexos serão combinações entre símbolos reais e imaginários (`imaginary=True`)."
   ]
  },
  {
   "cell_type": "markdown",
   "metadata": {},
   "source": [
    "No entanto, quando quisermos criar símbolos para representar números, recomenda-se utilizar os tipos específicos `sympy.Integer`, `sympy.Float` e `sympy.Rational`. Por exemplo,"
   ]
  },
  {
   "cell_type": "code",
   "execution_count": null,
   "metadata": {},
   "outputs": [],
   "source": [
    "i = sp.Integer(19)\n",
    "i, type(i)"
   ]
  },
  {
   "cell_type": "markdown",
   "metadata": {},
   "source": [
    "cria um inteiro $i$ e o atribui já de início o valor $19$."
   ]
  },
  {
   "cell_type": "markdown",
   "metadata": {},
   "source": [
    "Verificamos alguns atributos, por curiosidade:"
   ]
  },
  {
   "cell_type": "code",
   "execution_count": null,
   "metadata": {},
   "outputs": [],
   "source": [
    "i.is_Integer, i.is_integer, i.is_real, i.is_imaginary, i.is_odd"
   ]
  },
  {
   "cell_type": "markdown",
   "metadata": {},
   "source": [
    "Observe a diferença entre os atributos `is_Integer`, iniciando com **I** maiúsculo, e `is_integer`, com **i** minúsculo. O primeiro informa se o objeto é do tipo `sympy.Integer`, enquanto que o segundo nos diz se o que temos é um `sympy.Symbol` com a hipótese de ser um número inteiro habilitada."
   ]
  },
  {
   "cell_type": "markdown",
   "metadata": {},
   "source": [
    "O tipo `sympy.Integer` possui precisão arbitrária. Com isso, podemos manipular números imensos, como abaixo:"
   ]
  },
  {
   "cell_type": "code",
   "execution_count": null,
   "metadata": {},
   "outputs": [],
   "source": [
    "i = sp.Integer(111) ** 111\n",
    "i"
   ]
  },
  {
   "cell_type": "markdown",
   "metadata": {},
   "source": [
    "Os números reais são criados usando a classe `sympy.Float`."
   ]
  },
  {
   "cell_type": "code",
   "execution_count": null,
   "metadata": {},
   "outputs": [],
   "source": [
    "x = sp.Float(2.3)\n",
    "x"
   ]
  },
  {
   "cell_type": "markdown",
   "metadata": {},
   "source": [
    "Se quisermos representar a parte imaginária de um número complexo, aplicamos o símbolo `sympy.I` a um número real, como a seguir."
   ]
  },
  {
   "cell_type": "code",
   "execution_count": null,
   "metadata": {},
   "outputs": [],
   "source": [
    "x = sp.Float(0.3)*sp.I\n",
    "x"
   ]
  },
  {
   "cell_type": "markdown",
   "metadata": {},
   "source": [
    "### Mesclando números Python e SymPy"
   ]
  },
  {
   "cell_type": "markdown",
   "metadata": {},
   "source": [
    "A SymPy permite incluir números da Python (`int`, `float`, `complex` e `bool`) em suas expressões. Quando fazemos isso, eles são automaticamente convertidos em símbolos numéricos do tipo mais adequado. Se estiverem envolvidos em uma sub-expressão, ela será calculada antes da expansão usando os símbolos. Por exemplo,"
   ]
  },
  {
   "cell_type": "code",
   "execution_count": null,
   "metadata": {},
   "outputs": [],
   "source": [
    "x = sp.Symbol('x')\n",
    "x + 1/3"
   ]
  },
  {
   "cell_type": "markdown",
   "metadata": {},
   "source": [
    "Como pode ser visto acima, com o Python 3, o resultado de \"1/3\" será o quociente real $0{.}333333333333333$."
   ]
  },
  {
   "cell_type": "markdown",
   "metadata": {},
   "source": [
    "Agora, se você deseja representar \"1/3\" como uma fração, isto é, como um número racional, fazemos o seguinte:"
   ]
  },
  {
   "cell_type": "code",
   "execution_count": null,
   "metadata": {},
   "outputs": [],
   "source": [
    "x + sp.Rational(1, 3)"
   ]
  },
  {
   "cell_type": "markdown",
   "metadata": {},
   "source": [
    "Outra maneira de criarmos representações de números na SymPy, ou expressões envolvendo símbolos, é usar as funções `sp.S` e `sympy.sympify`. Por exemplo, podemos obter o mesmo resultado acima com:\n",
    "\n",
    "* a função `sp.S`,\n",
    "que converte expressões curtas, escritas como cadeias de caracteres, nas fórmulas SymPy\n",
    "correspondentes."
   ]
  },
  {
   "cell_type": "code",
   "execution_count": null,
   "metadata": {},
   "outputs": [],
   "source": [
    "x + sp.S(\"1/3\")"
   ]
  },
  {
   "cell_type": "markdown",
   "metadata": {},
   "source": [
    "* a função `sp.sympify`."
   ]
  },
  {
   "cell_type": "code",
   "execution_count": null,
   "metadata": {},
   "outputs": [],
   "source": [
    "x + sp.sympify(\"1/3\")"
   ]
  },
  {
   "cell_type": "markdown",
   "metadata": {},
   "source": [
    "Embora haja diferenças internas entre estas duas funções, isto se torna irrelevante neste momento, considerando os objetivos deste bloco de notas.\n",
    "É interessante perceber que ambas são capazes de converter uma gama variadíssima de expressões, deduzindo _automaticamente_ os tipos de número a serem usados."
   ]
  },
  {
   "cell_type": "markdown",
   "metadata": {},
   "source": [
    "### Constantes e símbolos especiais"
   ]
  },
  {
   "cell_type": "markdown",
   "metadata": {},
   "source": [
    "Para concluir a estória com os tipos numéricos, listamos abaixo algumas constantes simbólicas bastante úteis:"
   ]
  },
  {
   "cell_type": "code",
   "execution_count": null,
   "metadata": {},
   "outputs": [],
   "source": [
    "sp.E, sp.pi, sp.oo, sp.nan"
   ]
  },
  {
   "cell_type": "markdown",
   "metadata": {},
   "source": [
    "#### __Exercício.__\n",
    "Escreva a fórmula a seguir usando símbolos da SymPy.\n",
    "\n",
    "$$\\left(\\frac{x^2}{3} - \\frac{1}{4}\\right)\\left(x^{\\frac{2}{3}} + \\frac{1}{4}x + 4\\right)$$\n"
   ]
  },
  {
   "cell_type": "code",
   "execution_count": null,
   "metadata": {},
   "outputs": [],
   "source": [
    "# Digite sua solução aqui"
   ]
  },
  {
   "cell_type": "markdown",
   "metadata": {},
   "source": [
    "## Avaliação de expressões"
   ]
  },
  {
   "cell_type": "markdown",
   "metadata": {},
   "source": [
    "Qualquer combinação de símbolos, resulta em uma expressão simbólica.\n",
    "É possível determinar o resultado de uma expressão para valores específicos de seus símbolos de dois modos.\n",
    "Para ilustrar isto, considere a expressão:"
   ]
  },
  {
   "cell_type": "code",
   "execution_count": 1,
   "metadata": {},
   "outputs": [
    {
     "ename": "NameError",
     "evalue": "name 'sp' is not defined",
     "output_type": "error",
     "traceback": [
      "\u001b[0;31m---------------------------------------------------------------------------\u001b[0m",
      "\u001b[0;31mNameError\u001b[0m                                 Traceback (most recent call last)",
      "\u001b[0;32m<ipython-input-1-8163ab78d097>\u001b[0m in \u001b[0;36m<module>\u001b[0;34m\u001b[0m\n\u001b[0;32m----> 1\u001b[0;31m \u001b[0mx\u001b[0m\u001b[0;34m,\u001b[0m\u001b[0my\u001b[0m \u001b[0;34m=\u001b[0m \u001b[0msp\u001b[0m\u001b[0;34m.\u001b[0m\u001b[0msymbols\u001b[0m\u001b[0;34m(\u001b[0m\u001b[0;34m\"x,y\"\u001b[0m\u001b[0;34m)\u001b[0m\u001b[0;34m\u001b[0m\u001b[0;34m\u001b[0m\u001b[0m\n\u001b[0m\u001b[1;32m      2\u001b[0m \u001b[0mexpr\u001b[0m \u001b[0;34m=\u001b[0m \u001b[0;34m(\u001b[0m\u001b[0mx\u001b[0m\u001b[0;34m+\u001b[0m\u001b[0my\u001b[0m\u001b[0;34m)\u001b[0m\u001b[0;34m*\u001b[0m\u001b[0msp\u001b[0m\u001b[0;34m.\u001b[0m\u001b[0mexp\u001b[0m\u001b[0;34m(\u001b[0m\u001b[0mx\u001b[0m\u001b[0;34m)\u001b[0m\u001b[0;34m*\u001b[0m\u001b[0msp\u001b[0m\u001b[0;34m.\u001b[0m\u001b[0mcos\u001b[0m\u001b[0;34m(\u001b[0m\u001b[0my\u001b[0m\u001b[0;34m)\u001b[0m\u001b[0;34m\u001b[0m\u001b[0;34m\u001b[0m\u001b[0m\n\u001b[1;32m      3\u001b[0m \u001b[0mexpr\u001b[0m\u001b[0;34m\u001b[0m\u001b[0;34m\u001b[0m\u001b[0m\n",
      "\u001b[0;31mNameError\u001b[0m: name 'sp' is not defined"
     ]
    }
   ],
   "source": [
    "x,y = sp.symbols(\"x,y\")\n",
    "expr = (x+y)*sp.exp(x)*sp.cos(y)\n",
    "expr"
   ]
  },
  {
   "cell_type": "markdown",
   "metadata": {},
   "source": [
    "São equivalentes:"
   ]
  },
  {
   "cell_type": "code",
   "execution_count": null,
   "metadata": {},
   "outputs": [],
   "source": [
    "expr.subs({x: 0, y: sp.pi})"
   ]
  },
  {
   "cell_type": "markdown",
   "metadata": {},
   "source": [
    "e"
   ]
  },
  {
   "cell_type": "code",
   "execution_count": null,
   "metadata": {},
   "outputs": [],
   "source": [
    "expr.subs(([x, 0], [y, sp.pi]))"
   ]
  },
  {
   "cell_type": "markdown",
   "metadata": {},
   "source": [
    "Ao final, se quisermos avaliar numericamente a expressão obtida, aplicamos a função `evalf`:"
   ]
  },
  {
   "cell_type": "code",
   "execution_count": null,
   "metadata": {},
   "outputs": [],
   "source": [
    "expr.subs(([x, 0], [y, sp.pi])).evalf()"
   ]
  },
  {
   "cell_type": "markdown",
   "metadata": {},
   "source": [
    "#### __Exercício.__\n",
    "Escreva a expressão a seguir usando a SymPy:\n",
    "\n",
    "$$\n",
    "\\frac{2}{5}e^{x^2 - y}\\cosh(x + y) + \\frac{3}{7}\\log(xy + 1) = 0\n",
    "$$\n",
    "\n",
    "e determine seu resultado em $x = \\sqrt{2}$ e $y = \\pi$ usando a função `subs`."
   ]
  },
  {
   "cell_type": "code",
   "execution_count": null,
   "metadata": {},
   "outputs": [],
   "source": [
    "# Digite sua solução aqui"
   ]
  },
  {
   "cell_type": "markdown",
   "metadata": {},
   "source": [
    "## Simplificação"
   ]
  },
  {
   "cell_type": "markdown",
   "metadata": {},
   "source": [
    "Sempre que manipulamos expressões matemáticas, uma das primeiras coisas a se fazer é simplificá-las.\n",
    "Expressões complicadas podem ser simplificadas usando a função `sympy.simplify`."
   ]
  },
  {
   "cell_type": "code",
   "execution_count": null,
   "metadata": {},
   "outputs": [],
   "source": [
    "x = sp.symbols('x')\n",
    "expr = (x**2 + 2*x + 1) / ((x+1)*((sp.sin(x)/sp.cos(x))**2 + 1))\n",
    "sp.simplify(expr)"
   ]
  },
  {
   "cell_type": "markdown",
   "metadata": {},
   "source": [
    "A função `sp.simplify()` tenta simplificar a expressão de qualquer modo possível. Por isso, ela é bastante cara computacionalmente. Podemos reduzir esse custo realizando a simplificação manualmente, como a seguir."
   ]
  },
  {
   "cell_type": "code",
   "execution_count": null,
   "metadata": {},
   "outputs": [],
   "source": [
    "expr2 = sp.trigsimp(expr)\n",
    "expr2"
   ]
  },
  {
   "cell_type": "markdown",
   "metadata": {},
   "source": [
    "A função `sympy.trigsimp` realiza a simplificação de trechos contendo funções trigonométricas. Outras funções que podem ser usadas para simplificar expressões matemáticas são:"
   ]
  },
  {
   "cell_type": "markdown",
   "metadata": {},
   "source": [
    "|Função|Descrição|\n",
    "|--|--|\n",
    "|sp.powsimp|Simplifica uma expressão usando a lei das potências.|\n",
    "|sympy.compsimp|Simplifica expressões da combinatória.|\n",
    "|sp.radsimp|Racionaliza o denominador de uma expressão.|\n",
    "|sympy.ratsimp|Simplifica uma expressão usando um denominador comum.|"
   ]
  },
  {
   "cell_type": "markdown",
   "metadata": {},
   "source": [
    "Uma outra função útil para a simplificação de expressões é a `sympy.cancel`:"
   ]
  },
  {
   "cell_type": "code",
   "execution_count": null,
   "metadata": {},
   "outputs": [],
   "source": [
    "expr = y / (y * x + y)\n",
    "expr,sp.cancel(expr)"
   ]
  },
  {
   "cell_type": "markdown",
   "metadata": {},
   "source": [
    "#### __Exercício.__\n",
    "Utilize a SymPy para simplificar as expressões:\n",
    "\n",
    "  (a) $\\left(\\dfrac{15\\,\\mathit{m}^3\\,\\mathit{n}^{-2}\\,\\mathit{p}^{-1}}{25\\,\\mathit{m}^{-2}\\,\\mathit{n}^{-4}}\\right)^{-3}$"
   ]
  },
  {
   "cell_type": "code",
   "execution_count": null,
   "metadata": {},
   "outputs": [],
   "source": [
    "# Digite sua solução aqui"
   ]
  },
  {
   "cell_type": "markdown",
   "metadata": {},
   "source": [
    "  (b) $\\displaystyle\\frac{x^5 + 6x^3 + 11x + 7}{x^2 + 4}$"
   ]
  },
  {
   "cell_type": "code",
   "execution_count": null,
   "metadata": {},
   "outputs": [],
   "source": [
    "# Digite sua solução aqui"
   ]
  },
  {
   "cell_type": "markdown",
   "metadata": {},
   "source": [
    "### Expansão"
   ]
  },
  {
   "cell_type": "markdown",
   "metadata": {},
   "source": [
    "Uma técnica que muitas vezes facilita o trabalho de simplificação é a expansão da expressão em diferentes formas, de modo a visualizarmos possíveis caminhos de simplificação a seguir.\n",
    "Na SymPy, a expansão é realizada com a função `sympy.expand`."
   ]
  },
  {
   "cell_type": "markdown",
   "metadata": {},
   "source": [
    "Por padrão, ela tenta expandir todas as parcelas. Por exemplo, "
   ]
  },
  {
   "cell_type": "code",
   "execution_count": null,
   "metadata": {},
   "outputs": [],
   "source": [
    "expr = (x - 1)*(x + 2) / (((sp.sin(x)+sp.cos(x))**2 + 1))\n",
    "sp.expand(expr)"
   ]
  },
  {
   "cell_type": "markdown",
   "metadata": {},
   "source": [
    "No entanto, se você desejar expandir apenas alguns trechos da sua expressão, podemos limitar a expansão usando as opões: `trig`, `mul`, `log`, `complex`, `power_base`, `power_exp`. Vejamos:"
   ]
  },
  {
   "cell_type": "code",
   "execution_count": null,
   "metadata": {},
   "outputs": [],
   "source": [
    "sp.expand(expr, mul=False, trig=True)"
   ]
  },
  {
   "cell_type": "markdown",
   "metadata": {},
   "source": [
    "#### __Exercício.__\n",
    "Expanda a expressão a seguir usando a função `sympy.expand`.\n",
    "\n",
    "$$a^2 z \\left(z - a\\right)\\left(\\frac{1}{z}+\\frac{1}{a}\\right)\\text{.}$$"
   ]
  },
  {
   "cell_type": "code",
   "execution_count": null,
   "metadata": {},
   "outputs": [],
   "source": [
    "# Digite sua solução aqui"
   ]
  },
  {
   "cell_type": "markdown",
   "metadata": {},
   "source": [
    "### Fatoração"
   ]
  },
  {
   "cell_type": "markdown",
   "metadata": {},
   "source": [
    "Outra técnica bastante útil é a fatoração, que nos ajuda a cancelar termos comuns. Por exemplo, a expressão"
   ]
  },
  {
   "cell_type": "code",
   "execution_count": null,
   "metadata": {},
   "outputs": [],
   "source": [
    "expr = (x**2 + 2*x + 1) / ((x+1)*((sp.sin(x)/sp.cos(x))**2 + 1))\n",
    "expr1 = sp.factor(expr)\n",
    "expr1"
   ]
  },
  {
   "cell_type": "markdown",
   "metadata": {},
   "source": [
    "pode ser facilmente simplificada agora, resultando em:"
   ]
  },
  {
   "cell_type": "code",
   "execution_count": null,
   "metadata": {},
   "outputs": [],
   "source": [
    "sp.trigsimp(expr1)"
   ]
  },
  {
   "cell_type": "markdown",
   "metadata": {},
   "source": [
    "Já em algumas situações, desejamos fazer o caminho inverso, combinar parcelas para colocar o que for possível em evidência. Considere a expressão:"
   ]
  },
  {
   "cell_type": "code",
   "execution_count": null,
   "metadata": {},
   "outputs": [],
   "source": [
    "expr2 = sp.expand(expr1)\n",
    "expr2"
   ]
  },
  {
   "cell_type": "markdown",
   "metadata": {},
   "source": [
    "Podemos colocar $\\cos^2(x)$ em evidência:"
   ]
  },
  {
   "cell_type": "code",
   "execution_count": null,
   "metadata": {},
   "outputs": [],
   "source": [
    "expr3 = expr2.collect(sp.cos(x)**2)\n",
    "expr3"
   ]
  },
  {
   "cell_type": "markdown",
   "metadata": {},
   "source": [
    "Quando lidamos com funções racionais, é comum usarmos frações parciais. A função `sympy.apart` realiza a decomposição em frações parciais, enquanto que a `sympy.together` faz justamente o contrário."
   ]
  },
  {
   "cell_type": "code",
   "execution_count": null,
   "metadata": {},
   "outputs": [],
   "source": [
    "expr = y/(x+2)/(x+1)\n",
    "expr"
   ]
  },
  {
   "cell_type": "code",
   "execution_count": null,
   "metadata": {},
   "outputs": [],
   "source": [
    "expr1 = sp.apart(expr,x)\n",
    "expr1"
   ]
  },
  {
   "cell_type": "code",
   "execution_count": null,
   "metadata": {},
   "outputs": [],
   "source": [
    "expr2 = sp.together(expr1)\n",
    "expr2"
   ]
  },
  {
   "cell_type": "code",
   "execution_count": null,
   "metadata": {},
   "outputs": [],
   "source": [
    "expr == expr2"
   ]
  },
  {
   "cell_type": "markdown",
   "metadata": {},
   "source": [
    "É importante ressaltar que o teste acima apenas verifica a igualdade estrutural entre as expressões, o que não é a mesma coisa da igualdade algébrica. Por exemplo, o resultado do teste abaixo está algebricamente errado:"
   ]
  },
  {
   "cell_type": "code",
   "execution_count": null,
   "metadata": {},
   "outputs": [],
   "source": [
    "x*(x+1) == x**2 + x"
   ]
  },
  {
   "cell_type": "markdown",
   "metadata": {},
   "source": [
    "#### __Exercício.__\n",
    "Escreva a expressão abaixo como uma única fração.\n",
    "\n",
    "$$\\displaystyle\\frac{2}{x\\left(x+1\\right)} + \\frac{3}{x^2}\\text{.}$$"
   ]
  },
  {
   "cell_type": "code",
   "execution_count": null,
   "metadata": {},
   "outputs": [],
   "source": [
    "# Digite sua solução aqui"
   ]
  },
  {
   "cell_type": "markdown",
   "metadata": {},
   "source": [
    "#### __Exercício.__\n",
    "Realize a simplificação da expressão a seguir em dois passos, utilizand as funções `sympy.together` e `sympy.trigsimp`.\n",
    "\n",
    "$$\\displaystyle\\left(\\tan^2 \\theta\\right)\\left(\\frac{1}{1 - \\cos \\theta} + \\frac{1}{1 + \\cos \\theta}\\right)\\text{.}$$"
   ]
  },
  {
   "cell_type": "code",
   "execution_count": null,
   "metadata": {},
   "outputs": [],
   "source": [
    "# Digite sua solução aqui"
   ]
  },
  {
   "cell_type": "markdown",
   "metadata": {},
   "source": [
    "#### __Exercício.__\n",
    "Utilize a SymPy para determinar qual das alternativas a seguir é equivalente à expressão:\n",
    "\n",
    "$$\\displaystyle\\frac{(2x^3+9x^2+10x)(1-x^{-2})}{x^3-1}\\text{.}$$"
   ]
  },
  {
   "cell_type": "markdown",
   "metadata": {},
   "source": [
    "  (a) $\\displaystyle-\\frac{x(2x+5)(x+2)}{x^5-1}$  \n",
    "\n",
    "  (b) $\\displaystyle-\\frac{x(2x+5)(x+2)(1+x^{-1})}{(x^2+x+1)}$  \n",
    "\n",
    "  (c) $\\displaystyle\\frac{x(2x-5)(x-2)}{(x-1)}$  \n",
    "\n",
    "  (d) $\\displaystyle\\frac{(2x+5)(x+2)(x+1)}{x(x^2+x+1)}$  "
   ]
  },
  {
   "cell_type": "code",
   "execution_count": null,
   "metadata": {},
   "outputs": [],
   "source": [
    "# Digite sua solução aqui"
   ]
  },
  {
   "cell_type": "markdown",
   "metadata": {},
   "source": [
    "## Atividade Prática 5"
   ]
  },
  {
   "cell_type": "markdown",
   "metadata": {},
   "source": [
    "Prepare uma bloco de notas Jupyter para uma aula sobre simplificação de expressões racionais com o auxílio da SymPy, no contexto de sua turma."
   ]
  },
  {
   "cell_type": "markdown",
   "metadata": {},
   "source": [
    "## Saiba mais"
   ]
  },
  {
   "cell_type": "markdown",
   "metadata": {},
   "source": [
    "Este bloco de notas é baseado nos livros:\n",
    "\n",
    "  - STEWART, John M. Python for scientists. Cambridge University Press, 2017.\n",
    "  https://doi.org/10.1017/CBO9781107447875\n",
    "  \n",
    "  - JOHANSSON, Robert; JOHANSSON, Robert; JOHN, Suresh. Numerical Python. Apress, 2019.\n",
    "   https://doi.org/10.1007/978-1-4842-4246-9"
   ]
  },
  {
   "cell_type": "markdown",
   "metadata": {
    "slideshow": {
     "slide_type": "slide"
    }
   },
   "source": [
    "&copy; 2019 Vicente Helano<br>\n",
    "UFCA | Universidade Federal do Cariri<br>\n",
    "Mestrado Profissional em Ensino de Matemática"
   ]
  }
 ],
 "metadata": {
  "kernelspec": {
   "display_name": "Python 3",
   "language": "python",
   "name": "python3"
  },
  "language_info": {
   "codemirror_mode": {
    "name": "ipython",
    "version": 3
   },
   "file_extension": ".py",
   "mimetype": "text/x-python",
   "name": "python",
   "nbconvert_exporter": "python",
   "pygments_lexer": "ipython3",
   "version": "3.7.3"
  },
  "toc-autonumbering": false,
  "toc-showcode": false,
  "toc-showmarkdowntxt": false,
  "toc-showtags": false
 },
 "nbformat": 4,
 "nbformat_minor": 4
}
