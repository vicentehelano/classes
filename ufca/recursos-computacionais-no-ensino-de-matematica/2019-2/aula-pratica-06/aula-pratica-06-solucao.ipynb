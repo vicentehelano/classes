{
 "cells": [
  {
   "cell_type": "markdown",
   "metadata": {},
   "source": [
    "# Sistemas de computação algébrica"
   ]
  },
  {
   "cell_type": "markdown",
   "metadata": {},
   "source": [
    "_Parte II: funções de uma variável real_"
   ]
  },
  {
   "cell_type": "markdown",
   "metadata": {},
   "source": [
    "Iniciamos a aula, configurando o ambiente para usarmos a SymPy."
   ]
  },
  {
   "cell_type": "code",
   "execution_count": 55,
   "metadata": {},
   "outputs": [],
   "source": [
    "import sympy as sp\n",
    "sp.init_printing()"
   ]
  },
  {
   "cell_type": "markdown",
   "metadata": {},
   "source": [
    "## Funções"
   ]
  },
  {
   "cell_type": "markdown",
   "metadata": {},
   "source": [
    "Há três modos de criarmos funções matemáticas na SymPy. O primeiro modo é criar símbolos com a `sympy.symbols`:"
   ]
  },
  {
   "cell_type": "code",
   "execution_count": 49,
   "metadata": {},
   "outputs": [],
   "source": [
    "f = sp.symbols(\"f\", cls=sp.Function)"
   ]
  },
  {
   "cell_type": "markdown",
   "metadata": {},
   "source": [
    "e o segundo modo é usar o tipo `sympy.Function`:"
   ]
  },
  {
   "cell_type": "code",
   "execution_count": 50,
   "metadata": {},
   "outputs": [],
   "source": [
    "g = sp.Function(\"f\")"
   ]
  },
  {
   "cell_type": "markdown",
   "metadata": {},
   "source": [
    "A SymPy distingue as funções em _definidas_ ou _indefinidas_, e _avaliadas_ ou _não avaliadas_.\n",
    "Quando criamos funções como acima, o resultado são funções indefinidas, não avaliadas. Vejamos:"
   ]
  },
  {
   "cell_type": "code",
   "execution_count": 51,
   "metadata": {},
   "outputs": [
    {
     "data": {
      "text/plain": [
       "(sympy.core.function.UndefinedFunction, sympy.core.function.UndefinedFunction)"
      ]
     },
     "execution_count": 51,
     "metadata": {},
     "output_type": "execute_result"
    }
   ],
   "source": [
    "type(f),type(g)"
   ]
  },
  {
   "cell_type": "markdown",
   "metadata": {},
   "source": [
    "Funções indefinidas podem ser aplicadas a um número arbitrário de argumentos.\n",
    "É responsabilidade do usuário verificar a consistência da quantidade e dos tipos de seus argumentos.\n",
    "Por exemplo,"
   ]
  },
  {
   "cell_type": "code",
   "execution_count": 82,
   "metadata": {},
   "outputs": [
    {
     "data": {
      "image/png": "[encoded data removed]",
      "text/latex": [
       "$\\displaystyle x^{3} - 2 x + 1$"
      ],
      "text/plain": [
       " 3          \n",
       "x  - 2⋅x + 1"
      ]
     },
     "execution_count": 82,
     "metadata": {},
     "output_type": "execute_result"
    }
   ],
   "source": [
    "x,y,z = sp.symbols('x, y, z')\n",
    "f(x)"
   ]
  },
  {
   "cell_type": "markdown",
   "metadata": {},
   "source": [
    "Já as funções _definidas_ possuem um corpo definido e podem ser avaliadas numericamente.\n",
    "A maneira mais simples de criar uma função definida é usar combinações de funções matemáticas disponíveis na SymPy ([elementares](https://docs.sympy.org/latest/modules/functions/elementary.html), [combinatórias](https://docs.sympy.org/latest/modules/functions/combinatorial.html) e [especiais](https://docs.sympy.org/latest/modules/functions/special.html))."
   ]
  },
  {
   "cell_type": "markdown",
   "metadata": {},
   "source": [
    "Fazemos isso com as _funções lambda_, as quais podem ainda ser avaliadas numericamente.\n",
    "Podemos criar, por exemplo, a função $f(x) = e^x \\cos x$ usando:"
   ]
  },
  {
   "cell_type": "code",
   "execution_count": 52,
   "metadata": {},
   "outputs": [
    {
     "data": {
      "image/png": "[encoded data removed]",
      "text/latex": [
       "$\\displaystyle e^{x} \\cos{\\left(x \\right)}$"
      ],
      "text/plain": [
       " x       \n",
       "ℯ ⋅cos(x)"
      ]
     },
     "execution_count": 52,
     "metadata": {},
     "output_type": "execute_result"
    }
   ],
   "source": [
    "f = sp.Lambda(x, sp.exp(x) * sp.cos(x))\n",
    "f(x)"
   ]
  },
  {
   "cell_type": "markdown",
   "metadata": {},
   "source": [
    "O resultado do comando acima é uma função cuja entrada e saída é simbólica."
   ]
  },
  {
   "cell_type": "markdown",
   "metadata": {},
   "source": [
    "#### __Exemplo.__\n",
    "Escreva uma _função lambda_ em SymPy para representar:\n",
    "\n",
    "$$\n",
    "f(x) = \\frac{2}{5}e^{x^2}\\cosh(x) + \\frac{3}{7}\\log(x + 1)\n",
    "$$"
   ]
  },
  {
   "cell_type": "code",
   "execution_count": 179,
   "metadata": {},
   "outputs": [
    {
     "data": {
      "image/png": "[encoded data removed]",
      "text/latex": [
       "$\\displaystyle \\frac{2 e^{x^{2}} \\cosh{\\left(x \\right)}}{5} + \\frac{3 \\log{\\left(x + 1 \\right)}}{7}$"
      ],
      "text/plain": [
       "   ⎛ 2⎞                       \n",
       "   ⎝x ⎠                       \n",
       "2⋅ℯ    ⋅cosh(x)   3⋅log(x + 1)\n",
       "─────────────── + ────────────\n",
       "       5               7      "
      ]
     },
     "execution_count": 179,
     "metadata": {},
     "output_type": "execute_result"
    }
   ],
   "source": [
    "expr = sp.Rational(2,5)*sp.exp(x**2)*sp.cosh(x) + sp.Rational(3,7)*sp.log(x + 1)\n",
    "f = sp.Lambda(x, expr)\n",
    "f(x)"
   ]
  },
  {
   "cell_type": "markdown",
   "metadata": {},
   "source": [
    "## Avaliação de funções"
   ]
  },
  {
   "cell_type": "markdown",
   "metadata": {},
   "source": [
    "Na SymPy, há dois modos de se avaliar uma função: _simbólico_ ou _numérico_."
   ]
  },
  {
   "cell_type": "markdown",
   "metadata": {},
   "source": [
    "A avaliação simbólica é feita através da substituição (`.subs`) na expressão que define a função. Por exemplo,"
   ]
  },
  {
   "cell_type": "code",
   "execution_count": 180,
   "metadata": {},
   "outputs": [
    {
     "data": {
      "image/png": "[encoded data removed]",
      "text/latex": [
       "$\\displaystyle \\frac{3 \\log{\\left(1 + \\pi \\right)}}{7} + \\frac{2 e^{\\pi^{2}} \\cosh{\\left(\\pi \\right)}}{5}$"
      ],
      "text/plain": [
       "                  ⎛ 2⎞        \n",
       "                  ⎝π ⎠        \n",
       "3⋅log(1 + π)   2⋅ℯ    ⋅cosh(π)\n",
       "──────────── + ───────────────\n",
       "     7                5       "
      ]
     },
     "execution_count": 180,
     "metadata": {},
     "output_type": "execute_result"
    }
   ],
   "source": [
    "f(x).subs({x: sp.pi})"
   ]
  },
  {
   "cell_type": "markdown",
   "metadata": {},
   "source": [
    "Com isso, a avaliação numérica pode ser realizada via `.subs().evalf()`:"
   ]
  },
  {
   "cell_type": "code",
   "execution_count": 181,
   "metadata": {},
   "outputs": [
    {
     "data": {
      "image/png": "[encoded data removed]",
      "text/latex": [
       "$\\displaystyle 89646.6971918633$"
      ],
      "text/plain": [
       "89646.6971918633"
      ]
     },
     "execution_count": 181,
     "metadata": {},
     "output_type": "execute_result"
    }
   ],
   "source": [
    "f(x).subs({x: sp.pi}).evalf()"
   ]
  },
  {
   "cell_type": "markdown",
   "metadata": {},
   "source": [
    "Entretanto, as `subs` são a forma mais lenta de se fazer isso. Usamos este método apenas quando não estamos preocupados com o desempenho computacional. Ele pode ser útil durante uma fase de prototipagem de software ou quando não precisamos avaliar a substituição com frequência."
   ]
  },
  {
   "cell_type": "markdown",
   "metadata": {},
   "source": [
    "Uma forma mais eficiente de avaliação numérica é criando uma _função lambda_ numérica com a `lambdify`.\n",
    "A `lambdify` transforma expressões SymPy em funções Python, possibilitando o aproveitamento de diversas bibliotecas numéricas. Usamos a `lambdify` como a seguir:"
   ]
  },
  {
   "cell_type": "code",
   "execution_count": 182,
   "metadata": {},
   "outputs": [
    {
     "data": {
      "image/png": "[encoded data removed]",
      "text/latex": [
       "$\\displaystyle 89646.69719186325$"
      ],
      "text/plain": [
       "89646.69719186325"
      ]
     },
     "execution_count": 182,
     "metadata": {},
     "output_type": "execute_result"
    }
   ],
   "source": [
    "nf = sp.lambdify([x], expr)\n",
    "pi = float(sp.pi) # sympy.Float -> Python float\n",
    "nf(pi)"
   ]
  },
  {
   "cell_type": "markdown",
   "metadata": {},
   "source": [
    "Por padrão, a `lambdify` utiliza a biblioteca matemática padrão da Python, a `math`. O tempo de avaliação de uma `lambdify` é cerca de duas ordens de magnitude mais rápida do que o método `.subs().evalf()`."
   ]
  },
  {
   "cell_type": "markdown",
   "metadata": {},
   "source": [
    "## Gráfico de funções"
   ]
  },
  {
   "cell_type": "markdown",
   "metadata": {},
   "source": [
    "A SymPy possui facilidades gráficas baseadas no pacote [Matplotlib](https://matplotlib.org/), mas de interface bem mais acessível. Ela permite a construção de gráficos 2D e 3D, sem precisarmos nos preocupar com detalhes de configuração secundários.\n",
    "As funções disponíveis são:\n",
    "\n",
    "* `plot`: gráficos $x$ versus $y$.\n",
    "* `plot_parametric`: gráficos de funções paramétricas 2D.\n",
    "* `plot_implicit`: gráficos de funções implícitas 2D.\n",
    "* `plot3d`: gráficos de funções de duas variáveis em 3D.\n",
    "* `plot3d_parametric_line`: gráficos de retas paramétricas tridimensionais.\n",
    "* `plot3d_parametric_surface`: gráficos de superfícies paramétricas 3D."
   ]
  },
  {
   "cell_type": "markdown",
   "metadata": {},
   "source": [
    "Nesta aula, abordaremos as três primeiras funções, usadas para esboçar gráficos bidimensionais. Caso esteja curioso sobre as demais, você pode consultar a documentação do módulo de traçado de gráficos da SymPy [aqui](https://docs.sympy.org/latest/modules/plotting.html)."
   ]
  },
  {
   "cell_type": "markdown",
   "metadata": {},
   "source": [
    "### Funções explícitas"
   ]
  },
  {
   "cell_type": "markdown",
   "metadata": {},
   "source": [
    "Considere uma função polinomial $f\\!: \\mathbb{R} \\rightarrow \\mathbb{R}$ definida por:\n",
    "\n",
    "$$f(x) = x^3 - 2x + 1\\text{.}$$"
   ]
  },
  {
   "cell_type": "markdown",
   "metadata": {},
   "source": [
    "Na SymPy, teremos:"
   ]
  },
  {
   "cell_type": "code",
   "execution_count": 83,
   "metadata": {},
   "outputs": [
    {
     "data": {
      "image/png": "[encoded data removed]",
      "text/latex": [
       "$\\displaystyle x^{3} - 2 x + 1$"
      ],
      "text/plain": [
       " 3          \n",
       "x  - 2⋅x + 1"
      ]
     },
     "execution_count": 83,
     "metadata": {},
     "output_type": "execute_result"
    }
   ],
   "source": [
    "f = sp.Lambda(x, x**3 - 2*x + 1)\n",
    "f(x)"
   ]
  },
  {
   "cell_type": "markdown",
   "metadata": {},
   "source": [
    "Se desejarmos traçar o gráfico de $f$ restrita aos intervalos $-5 \\le x \\le 5$ e $-10 \\le y \\le 10$, usamos a função `plot` assim:"
   ]
  },
  {
   "cell_type": "code",
   "execution_count": 90,
   "metadata": {},
   "outputs": [
    {
     "data": {
      "image/png": "[encoded data removed]",
      "text/plain": [
       "<Figure size 432x288 with 1 Axes>"
      ]
     },
     "metadata": {
      "needs_background": "light"
     },
     "output_type": "display_data"
    },
    {
     "data": {
      "text/plain": [
       "<sympy.plotting.plot.Plot at 0x7f2919216e48>"
      ]
     },
     "execution_count": 90,
     "metadata": {},
     "output_type": "execute_result"
    }
   ],
   "source": [
    "sp.plot(f(x), xlim=(-5, 5), ylim=(-10,10))"
   ]
  },
  {
   "cell_type": "markdown",
   "metadata": {},
   "source": [
    "ou assim:"
   ]
  },
  {
   "cell_type": "code",
   "execution_count": 130,
   "metadata": {},
   "outputs": [
    {
     "data": {
      "image/png": "[encoded data removed]",
      "text/plain": [
       "<Figure size 432x288 with 1 Axes>"
      ]
     },
     "metadata": {
      "needs_background": "light"
     },
     "output_type": "display_data"
    },
    {
     "data": {
      "text/plain": [
       "<sympy.plotting.plot.Plot at 0x7f2915fb5160>"
      ]
     },
     "execution_count": 130,
     "metadata": {},
     "output_type": "execute_result"
    }
   ],
   "source": [
    "sp.plot(f(x), (x, -5, 5), ylim=(-10,10))"
   ]
  },
  {
   "cell_type": "markdown",
   "metadata": {},
   "source": [
    "Observe no trecho acima que limitamos o intervalo no eixo $x$ usando `(x, -5, 5)`, enquanto que no eixo $y$ com `ylim=(-10,10)`. Isto acontece porque a função $f$ não depende de $y$."
   ]
  },
  {
   "cell_type": "markdown",
   "metadata": {},
   "source": [
    "Podemos configurar a aparência dos gráficos construídos com a `plot` aplicando propriedades em toda a figura (globais) ou em curvas específicas. Algumas opções _globais_ bastante usadas são:\n",
    "\n",
    "* title : título do gráfico\n",
    "* xlabel : rótulo do eixo $x$\n",
    "* ylabel : rótulo do eixo $y$\n",
    "* legend : exibe/oculta a legenda (`True` ou `False`)\n",
    "* xscale : escala do eixo $x$ (\"linear\" ou \"log\")\n",
    "* yscale : escala do eixo $y$ (\"linear\" ou \"log\")\n",
    "* axis : exibe/oculta eixos (`True` ou `False`)\n",
    "* xlim : par de números reais $(x_{\\min}, x_{\\max})$\n",
    "* ylim : par de números reais $(y_{\\min}, y_{\\max})$\n",
    "* axis_center : par de números reais $(x, y)$, \"center\" ou \"auto\""
   ]
  },
  {
   "cell_type": "markdown",
   "metadata": {},
   "source": [
    "Por exemplo,"
   ]
  },
  {
   "cell_type": "code",
   "execution_count": 142,
   "metadata": {},
   "outputs": [
    {
     "data": {
      "image/png": "[encoded data removed]",
      "text/plain": [
       "<Figure size 432x288 with 1 Axes>"
      ]
     },
     "metadata": {
      "needs_background": "light"
     },
     "output_type": "display_data"
    },
    {
     "data": {
      "text/plain": [
       "<sympy.plotting.plot.Plot at 0x7f2913ad6c88>"
      ]
     },
     "execution_count": 142,
     "metadata": {},
     "output_type": "execute_result"
    }
   ],
   "source": [
    "sp.plot(f(x), (x, -5, 5), ylim=(-10,10), legend=True, title=\"Gráfico de uma função polinomial\\n\\n\")"
   ]
  },
  {
   "cell_type": "markdown",
   "metadata": {},
   "source": [
    "#### **Exemplo.**\n",
    "Considere os gráficos:"
   ]
  },
  {
   "cell_type": "code",
   "execution_count": 309,
   "metadata": {},
   "outputs": [
    {
     "data": {
      "image/png": "[encoded data removed]",
      "text/plain": [
       "<Figure size 432x288 with 1 Axes>"
      ]
     },
     "metadata": {
      "needs_background": "light"
     },
     "output_type": "display_data"
    }
   ],
   "source": [
    "fig1 = sp.plot(sp.cos(x), (x, -2, 2), line_color='r')"
   ]
  },
  {
   "cell_type": "code",
   "execution_count": 308,
   "metadata": {},
   "outputs": [
    {
     "data": {
      "image/png": "[encoded data removed]",
      "text/plain": [
       "<Figure size 432x288 with 1 Axes>"
      ]
     },
     "metadata": {
      "needs_background": "light"
     },
     "output_type": "display_data"
    }
   ],
   "source": [
    "fig2 = sp.plot(x**2, (x, -2, 2), line_color='g')"
   ]
  },
  {
   "cell_type": "code",
   "execution_count": 307,
   "metadata": {},
   "outputs": [
    {
     "data": {
      "image/png": "[encoded data removed]",
      "text/plain": [
       "<Figure size 432x288 with 1 Axes>"
      ]
     },
     "metadata": {
      "needs_background": "light"
     },
     "output_type": "display_data"
    }
   ],
   "source": [
    "fig3 = sp.plot(2*x - 1, (x, -2, 2), line_color='b')"
   ]
  },
  {
   "cell_type": "markdown",
   "metadata": {},
   "source": [
    "Se quisermos adicionar as curvas de `fig1` à `fig2`, fazemos:"
   ]
  },
  {
   "cell_type": "code",
   "execution_count": 312,
   "metadata": {},
   "outputs": [
    {
     "data": {
      "image/png": "[encoded data removed]",
      "text/plain": [
       "<Figure size 432x288 with 1 Axes>"
      ]
     },
     "metadata": {
      "needs_background": "light"
     },
     "output_type": "display_data"
    }
   ],
   "source": [
    "fig2.append(fig1[0])\n",
    "fig2.show()"
   ]
  },
  {
   "cell_type": "markdown",
   "metadata": {},
   "source": [
    "Para adicionar **todas** as curvas de `fig2` à `fig3`, basta usarmos a `fig3.extend`."
   ]
  },
  {
   "cell_type": "code",
   "execution_count": 313,
   "metadata": {},
   "outputs": [
    {
     "data": {
      "image/png": "[encoded data removed]",
      "text/plain": [
       "<Figure size 432x288 with 1 Axes>"
      ]
     },
     "metadata": {
      "needs_background": "light"
     },
     "output_type": "display_data"
    }
   ],
   "source": [
    "fig3.extend(fig2)\n",
    "fig3.show()"
   ]
  },
  {
   "cell_type": "markdown",
   "metadata": {},
   "source": [
    "#### **Exercício.**\n",
    "(a) Construa o gráfico da função $f(x) = \\displaystyle\\frac{\\operatorname{sen}(x)}{x}$, para $0 < x \\le 10\\pi$. Para tanto,"
   ]
  },
  {
   "cell_type": "code",
   "execution_count": 174,
   "metadata": {},
   "outputs": [
    {
     "data": {
      "image/png": "[encoded data removed]",
      "text/latex": [
       "$\\displaystyle \\frac{\\sin{\\left(x \\right)}}{x}$"
      ],
      "text/plain": [
       "sin(x)\n",
       "──────\n",
       "  x   "
      ]
     },
     "execution_count": 174,
     "metadata": {},
     "output_type": "execute_result"
    }
   ],
   "source": [
    "# defina a função lambda aqui\n",
    "x = sp.Symbol('x')\n",
    "f = sp.Lambda(x, sp.sin(x)/x)\n",
    "f(x)"
   ]
  },
  {
   "cell_type": "code",
   "execution_count": 175,
   "metadata": {},
   "outputs": [
    {
     "data": {
      "image/png": "[encoded data removed]",
      "text/plain": [
       "<Figure size 432x288 with 1 Axes>"
      ]
     },
     "metadata": {
      "needs_background": "light"
     },
     "output_type": "display_data"
    },
    {
     "data": {
      "text/plain": [
       "<sympy.plotting.plot.Plot at 0x7f29134ac160>"
      ]
     },
     "execution_count": 175,
     "metadata": {},
     "output_type": "execute_result"
    }
   ],
   "source": [
    "# e plote o gráfico de f aqui\n",
    "sp.plot(f(x), (x, 0.001, 10*sp.pi), axis_center=(0,0))"
   ]
  },
  {
   "cell_type": "markdown",
   "metadata": {},
   "source": [
    "(b) Você experimentou algum resultado inesperado? Qual e porque?"
   ]
  },
  {
   "cell_type": "markdown",
   "metadata": {},
   "source": [
    "_Digite sua resposta aqui_"
   ]
  },
  {
   "cell_type": "markdown",
   "metadata": {},
   "source": [
    "### Funções implícitas"
   ]
  },
  {
   "cell_type": "markdown",
   "metadata": {},
   "source": [
    "A SymPy possui uma função específica para traçar gráficos de funções definidas implicitamente. Ela está definida dentro do módulo `sympy.plotting`. Por isso, por conveniência, importamos este módulo a parte:"
   ]
  },
  {
   "cell_type": "code",
   "execution_count": 189,
   "metadata": {},
   "outputs": [],
   "source": [
    "import sympy.plotting as plt"
   ]
  },
  {
   "cell_type": "markdown",
   "metadata": {},
   "source": [
    "Considere a elipse $x^2 + xy + y^2 = 1$, definida na SymPy conforme abaixo:"
   ]
  },
  {
   "cell_type": "code",
   "execution_count": 195,
   "metadata": {},
   "outputs": [
    {
     "data": {
      "image/png": "[encoded data removed]",
      "text/latex": [
       "$\\displaystyle x^{2} + x y + y^{2} = 1$"
      ],
      "text/plain": [
       " 2          2    \n",
       "x  + x⋅y + y  = 1"
      ]
     },
     "execution_count": 195,
     "metadata": {},
     "output_type": "execute_result"
    }
   ],
   "source": [
    "x,y = sp.symbols('x,y')\n",
    "elipse = sp.Eq(x**2 + x*y + y**2, 1)\n",
    "elipse"
   ]
  },
  {
   "cell_type": "markdown",
   "metadata": {},
   "source": [
    "O gráfico da elipse pode ser construído com a função `sympy.plotting.plot_implict`:"
   ]
  },
  {
   "cell_type": "code",
   "execution_count": 201,
   "metadata": {},
   "outputs": [
    {
     "data": {
      "image/png": "[encoded data removed]",
      "text/plain": [
       "<Figure size 432x288 with 1 Axes>"
      ]
     },
     "metadata": {
      "needs_background": "light"
     },
     "output_type": "display_data"
    },
    {
     "data": {
      "text/plain": [
       "<sympy.plotting.plot.Plot at 0x7f2912fe3d68>"
      ]
     },
     "execution_count": 201,
     "metadata": {},
     "output_type": "execute_result"
    }
   ],
   "source": [
    "plt.plot_implicit(elipse, (x,-1.5,1.5), (y,-1.5,1.5))"
   ]
  },
  {
   "cell_type": "markdown",
   "metadata": {},
   "source": [
    "#### **Exercício.**\n",
    "Considere uma função definida por $|\\!\\cos(z^2)| = 1$, com $z \\in \\mathbb{C}$."
   ]
  },
  {
   "cell_type": "markdown",
   "metadata": {},
   "source": [
    "(a) Primeiro, defina símbolos reais $x$ e $y$."
   ]
  },
  {
   "cell_type": "code",
   "execution_count": null,
   "metadata": {},
   "outputs": [],
   "source": []
  },
  {
   "cell_type": "markdown",
   "metadata": {},
   "source": [
    "(b) Em seguida, defina $z = x + yi$ e $w(z) = \\cos(z^2)$"
   ]
  },
  {
   "cell_type": "code",
   "execution_count": null,
   "metadata": {},
   "outputs": [],
   "source": []
  },
  {
   "cell_type": "markdown",
   "metadata": {},
   "source": [
    "(c) Expanda $w(z)$ na forma $w = X + Yi$, para $X$ e $Y$ apropriados. Dica: informe à `expand` que a expressão envolve números complexos."
   ]
  },
  {
   "cell_type": "code",
   "execution_count": null,
   "metadata": {},
   "outputs": [],
   "source": []
  },
  {
   "cell_type": "markdown",
   "metadata": {},
   "source": [
    "(d) Agora, defina $w_{\\operatorname{abs}} = |w|$, expandindo do mesmo modo que em (c)."
   ]
  },
  {
   "cell_type": "code",
   "execution_count": null,
   "metadata": {},
   "outputs": [],
   "source": []
  },
  {
   "cell_type": "markdown",
   "metadata": {},
   "source": [
    "(e) Plote o gráfico de $w_{\\operatorname{abs}}^2 - 1$ usando a função `plot_implicit`."
   ]
  },
  {
   "cell_type": "code",
   "execution_count": null,
   "metadata": {},
   "outputs": [],
   "source": []
  },
  {
   "cell_type": "markdown",
   "metadata": {},
   "source": [
    "### Funções paramétricas"
   ]
  },
  {
   "cell_type": "markdown",
   "metadata": {},
   "source": [
    "Agora, vejamos como a SymPy permite o esboço do gráfico de curvas definidas parametricamente. Ela possui uma função especial denominada `plot_parametric`, do módulo `plotting`."
   ]
  },
  {
   "cell_type": "markdown",
   "metadata": {},
   "source": [
    "#### **Exemplo.**\n",
    "Considere, por exemplo, a função [coração](http://mathworld.wolfram.com/HeartCurve.html) definida por:"
   ]
  },
  {
   "cell_type": "code",
   "execution_count": 233,
   "metadata": {},
   "outputs": [
    {
     "data": {
      "image/png": "[encoded data removed]",
      "text/latex": [
       "$\\displaystyle \\left( 16 \\sin^{3}{\\left(t \\right)}, \\  13 \\cos{\\left(t \\right)} - 5 \\cos{\\left(2 t \\right)} - 2 \\cos{\\left(3 t \\right)} - \\cos{\\left(4 t \\right)}\\right)$"
      ],
      "text/plain": [
       "⎛      3                                                   ⎞\n",
       "⎝16⋅sin (t), 13⋅cos(t) - 5⋅cos(2⋅t) - 2⋅cos(3⋅t) - cos(4⋅t)⎠"
      ]
     },
     "execution_count": 233,
     "metadata": {},
     "output_type": "execute_result"
    }
   ],
   "source": [
    "sp.var('t')\n",
    "xc = 16*(sp.sin(t)**3)\n",
    "yc = 13*sp.cos(t) - 5*sp.cos(2*t) - 2*sp.cos(3*t) - sp.cos(4*t)\n",
    "xc,yc"
   ]
  },
  {
   "cell_type": "markdown",
   "metadata": {},
   "source": [
    "Seu gráfico é:"
   ]
  },
  {
   "cell_type": "code",
   "execution_count": 219,
   "metadata": {},
   "outputs": [
    {
     "data": {
      "image/png": "[encoded data removed]",
      "text/plain": [
       "<Figure size 432x288 with 1 Axes>"
      ]
     },
     "metadata": {
      "needs_background": "light"
     },
     "output_type": "display_data"
    }
   ],
   "source": [
    "fig = plt.plot_parametric(xc, yc, (t, 0, 2*sp.pi))"
   ]
  },
  {
   "cell_type": "markdown",
   "metadata": {},
   "source": [
    "Atualmente, a `plot` suporta apenas coordenadas cartesianas. Contudo, podemos usar a `parametric_plot` para traçar gráficos usando coordenadas polares, esféricas e cilíndricas.\n",
    "\n"
   ]
  },
  {
   "cell_type": "markdown",
   "metadata": {},
   "source": [
    "#### **Exercício.**\n",
    "Desenhe o gráfico da [Cocleoide](https://en.wikipedia.org/wiki/Cochleoid):"
   ]
  },
  {
   "cell_type": "markdown",
   "metadata": {},
   "source": [
    "$$x=\\frac{a\\sin t\\cos t}{t}, \\quad y=\\frac{a\\sin^2 t}{t}\\text{,}\\quad a,t\\in \\mathbb{R}\\text{.}$$"
   ]
  },
  {
   "cell_type": "markdown",
   "metadata": {},
   "source": [
    "(a) Tomando $a = 1$."
   ]
  },
  {
   "cell_type": "code",
   "execution_count": 232,
   "metadata": {},
   "outputs": [],
   "source": [
    "# Digite sua solução aqui."
   ]
  },
  {
   "cell_type": "markdown",
   "metadata": {},
   "source": [
    "(b) Tomando $a = 4$."
   ]
  },
  {
   "cell_type": "code",
   "execution_count": 232,
   "metadata": {},
   "outputs": [],
   "source": [
    "# Digite sua solução aqui."
   ]
  },
  {
   "cell_type": "markdown",
   "metadata": {},
   "source": [
    "## Funções definidas por partes"
   ]
  },
  {
   "cell_type": "markdown",
   "metadata": {},
   "source": [
    "Considere a função $f\\!: \\mathbb{R} \\rightarrow \\mathbb{R}$ definida por:"
   ]
  },
  {
   "cell_type": "markdown",
   "metadata": {},
   "source": [
    "$$\n",
    "f(x) = \\begin{cases}\n",
    "x^2 & \\text{se } x < 0\\\\\n",
    "x & \\text{caso contrário}\\\\\n",
    "\\end{cases}\n",
    "$$"
   ]
  },
  {
   "cell_type": "markdown",
   "metadata": {},
   "source": [
    "Para definir esta função na SymPy, escrevemos"
   ]
  },
  {
   "cell_type": "code",
   "execution_count": 240,
   "metadata": {},
   "outputs": [
    {
     "data": {
      "image/png": "[encoded data removed]",
      "text/latex": [
       "$\\displaystyle \\begin{cases} x^{2} & \\text{for}\\: x < 0 \\\\x & \\text{otherwise} \\end{cases}$"
      ],
      "text/plain": [
       "⎧ 2           \n",
       "⎪x   for x < 0\n",
       "⎨             \n",
       "⎪x   otherwise\n",
       "⎩             "
      ]
     },
     "execution_count": 240,
     "metadata": {},
     "output_type": "execute_result"
    }
   ],
   "source": [
    "expr = sp.Piecewise(\n",
    "    (x**2, x < 0),\n",
    "    (x, x >= 0)\n",
    ")\n",
    "f = sp.Lambda(x, expr)\n",
    "f(x)"
   ]
  },
  {
   "cell_type": "markdown",
   "metadata": {},
   "source": [
    "cujo gráfico é:"
   ]
  },
  {
   "cell_type": "code",
   "execution_count": 241,
   "metadata": {},
   "outputs": [
    {
     "data": {
      "image/png": "[encoded data removed]",
      "text/plain": [
       "<Figure size 432x288 with 1 Axes>"
      ]
     },
     "metadata": {
      "needs_background": "light"
     },
     "output_type": "display_data"
    },
    {
     "data": {
      "text/plain": [
       "<sympy.plotting.plot.Plot at 0x7f290ea70f98>"
      ]
     },
     "execution_count": 241,
     "metadata": {},
     "output_type": "execute_result"
    }
   ],
   "source": [
    "sp.plot(f(x), (x, -2, 2))"
   ]
  },
  {
   "cell_type": "markdown",
   "metadata": {},
   "source": [
    "#### **Exercício.**\n",
    "Considere a função $f\\!: \\mathbb{R} \\rightarrow \\mathbb{R}$ definida por:"
   ]
  },
  {
   "cell_type": "markdown",
   "metadata": {},
   "source": [
    "$$\n",
    "f(x) = \\begin{cases}\n",
    "1 - x^2 & \\text{se } x < 0\\\\\n",
    "x + 2 & \\text{caso contrário}\\\\\n",
    "\\end{cases}\n",
    "$$"
   ]
  },
  {
   "cell_type": "markdown",
   "metadata": {},
   "source": [
    "(a) Defina a função $f$ na SymPy."
   ]
  },
  {
   "cell_type": "code",
   "execution_count": 247,
   "metadata": {},
   "outputs": [
    {
     "data": {
      "image/png": "[encoded data removed]",
      "text/latex": [
       "$\\displaystyle \\begin{cases} 1 - x^{2} & \\text{for}\\: x < 0 \\\\x + 2 & \\text{otherwise} \\end{cases}$"
      ],
      "text/plain": [
       "⎧     2           \n",
       "⎪1 - x   for x < 0\n",
       "⎨                 \n",
       "⎪x + 2   otherwise\n",
       "⎩                 "
      ]
     },
     "execution_count": 247,
     "metadata": {},
     "output_type": "execute_result"
    }
   ],
   "source": [
    "expr = sp.Piecewise(\n",
    "    (1 - x**2, x < 0),\n",
    "    (x + 2, x >= 0)\n",
    ")\n",
    "f = sp.Lambda(x, expr)\n",
    "f(x)"
   ]
  },
  {
   "cell_type": "markdown",
   "metadata": {},
   "source": [
    "(b) Agora, trace o gráfico de $f$ com o comando `sympy.plot`:"
   ]
  },
  {
   "cell_type": "code",
   "execution_count": 248,
   "metadata": {},
   "outputs": [
    {
     "data": {
      "image/png": "[encoded data removed]",
      "text/plain": [
       "<Figure size 432x288 with 1 Axes>"
      ]
     },
     "metadata": {
      "needs_background": "light"
     },
     "output_type": "display_data"
    },
    {
     "data": {
      "text/plain": [
       "<sympy.plotting.plot.Plot at 0x7f290e82a4a8>"
      ]
     },
     "execution_count": 248,
     "metadata": {},
     "output_type": "execute_result"
    }
   ],
   "source": [
    "sp.plot(f(x), (x, -2, 2))"
   ]
  },
  {
   "cell_type": "markdown",
   "metadata": {},
   "source": [
    "(c) O que você observa no gráfico da função acima? Ele foi traçado corretamente? Como você interpreta esse resultado?"
   ]
  },
  {
   "cell_type": "markdown",
   "metadata": {},
   "source": [
    "_Digite sua resposta aqui_"
   ]
  },
  {
   "cell_type": "markdown",
   "metadata": {},
   "source": [
    "## Zeros de funções"
   ]
  },
  {
   "cell_type": "markdown",
   "metadata": {},
   "source": [
    "Na SymPy, as equações não são representadas utilizando os operadores `=` ou `==`. Um único sinal de igual `=` significa atribuição e dois iguais `==` representa o teste lógico de igualdade. Podemos definir equações usando a função `sympy.Eq` ou expressões ordinárias."
   ]
  },
  {
   "cell_type": "markdown",
   "metadata": {},
   "source": [
    "Dadas duas expressões ordinárias representando os lados esquerdo e direito de uma equação"
   ]
  },
  {
   "cell_type": "code",
   "execution_count": 260,
   "metadata": {},
   "outputs": [],
   "source": [
    "lesq = sp.exp(x) # lado esquerdo da equação\n",
    "ldir = 1 # lado direito da equação"
   ]
  },
  {
   "cell_type": "markdown",
   "metadata": {},
   "source": [
    "definimos a equação associada a estes lados fazendo:"
   ]
  },
  {
   "cell_type": "code",
   "execution_count": 261,
   "metadata": {},
   "outputs": [],
   "source": [
    "eq1 = sp.Eq(lesq, ldir)"
   ]
  },
  {
   "cell_type": "markdown",
   "metadata": {},
   "source": [
    "ou simplesmente"
   ]
  },
  {
   "cell_type": "code",
   "execution_count": 262,
   "metadata": {},
   "outputs": [],
   "source": [
    "eq2 = lesq - ldir"
   ]
  },
  {
   "cell_type": "markdown",
   "metadata": {},
   "source": [
    "Vejamos o resultado disso:"
   ]
  },
  {
   "cell_type": "code",
   "execution_count": 263,
   "metadata": {},
   "outputs": [
    {
     "data": {
      "image/png": "[encoded data removed]",
      "text/latex": [
       "$\\displaystyle \\left( e^{x} = 1, \\  e^{x} - 1\\right)$"
      ],
      "text/plain": [
       "⎛ x       x    ⎞\n",
       "⎝ℯ  = 1, ℯ  - 1⎠"
      ]
     },
     "execution_count": 263,
     "metadata": {},
     "output_type": "execute_result"
    }
   ],
   "source": [
    "eq1, eq2"
   ]
  },
  {
   "cell_type": "markdown",
   "metadata": {},
   "source": [
    "A `eq1` é a forma tradicional de se construir uma equação. Já a `eq2` será equivalente à `eq1` em algumas situações onde a SymPy fará implicitamente `eq2 = 0`."
   ]
  },
  {
   "cell_type": "markdown",
   "metadata": {},
   "source": [
    "A função SymPy [`sympy.solve`](https://docs.sympy.org/latest/tutorial/solvers.html) é a mais versátil para equações não lineares ou sistemas não lineares. Contudo, para equações de uma única variável, recomenda-se utilizar a [`sympy.solvset`](https://docs.sympy.org/latest/modules/solvers/solveset.html). Vejamos a diferença:"
   ]
  },
  {
   "cell_type": "code",
   "execution_count": 269,
   "metadata": {},
   "outputs": [
    {
     "data": {
      "image/png": "[encoded data removed]",
      "text/latex": [
       "$\\displaystyle \\left\\{2 n i \\pi\\; |\\; n \\in \\mathbb{Z}\\right\\}$"
      ],
      "text/plain": [
       "{2⋅n⋅ⅈ⋅π | n ∊ ℤ}"
      ]
     },
     "execution_count": 269,
     "metadata": {},
     "output_type": "execute_result"
    }
   ],
   "source": [
    "sp.solveset(eq1, x)"
   ]
  },
  {
   "cell_type": "code",
   "execution_count": 268,
   "metadata": {},
   "outputs": [
    {
     "data": {
      "image/png": "[encoded data removed]",
      "text/latex": [
       "$\\displaystyle \\left[ 0\\right]$"
      ],
      "text/plain": [
       "[0]"
      ]
     },
     "execution_count": 268,
     "metadata": {},
     "output_type": "execute_result"
    }
   ],
   "source": [
    "sp.solve(eq2, x)"
   ]
  },
  {
   "cell_type": "markdown",
   "metadata": {},
   "source": [
    "Observe que a `solve` calculou apenas uma raiz, aquele com $n = 0$."
   ]
  },
  {
   "cell_type": "markdown",
   "metadata": {},
   "source": [
    "#### **Exercício.**\n",
    "Analise o resultado abaixo:"
   ]
  },
  {
   "cell_type": "code",
   "execution_count": 10,
   "metadata": {},
   "outputs": [
    {
     "data": {
      "image/png": "[encoded data removed]",
      "text/latex": [
       "$\\displaystyle \\left\\{-1, 1\\right\\}$"
      ],
      "text/plain": [
       "{-1, 1}"
      ]
     },
     "execution_count": 10,
     "metadata": {},
     "output_type": "execute_result"
    }
   ],
   "source": [
    "x,a = sp.symbols(\"x,a\", real=True)\n",
    "sp.solveset(a*x**2 - a, x)"
   ]
  },
  {
   "cell_type": "markdown",
   "metadata": {},
   "source": [
    "(a) O que há de errado?"
   ]
  },
  {
   "cell_type": "markdown",
   "metadata": {},
   "source": [
    "Observe que a `sympy.solve` assumiu $a \\ne 0$, pois sabemos que qualquer $x\\in \\mathbb{R}$ seria solução da equação quando tivermos $a$ igual zero."
   ]
  },
  {
   "cell_type": "markdown",
   "metadata": {},
   "source": [
    "#### **Exercício.**\n",
    "(a) Use a `solve` para resolver a equação $\\cos(x) = 0$, para $x \\in \\mathbb{R}$."
   ]
  },
  {
   "cell_type": "code",
   "execution_count": 271,
   "metadata": {},
   "outputs": [],
   "source": [
    "# Digite sua solução aqui"
   ]
  },
  {
   "cell_type": "markdown",
   "metadata": {},
   "source": [
    "(b) Como você interpreta a resposta do software? Foram exibidas todas as soluções da equação?"
   ]
  },
  {
   "cell_type": "markdown",
   "metadata": {},
   "source": [
    "_Digite sua resposta aqui_"
   ]
  },
  {
   "cell_type": "markdown",
   "metadata": {},
   "source": [
    "(c) Mostre que esta limitação pode ser contornada com a função `solveset`."
   ]
  },
  {
   "cell_type": "code",
   "execution_count": null,
   "metadata": {},
   "outputs": [],
   "source": []
  },
  {
   "cell_type": "markdown",
   "metadata": {},
   "source": [
    "(d) Você conseguiria simplificar ainda mais a solução obtida em (c)?"
   ]
  },
  {
   "cell_type": "markdown",
   "metadata": {},
   "source": [
    "_Digite aqui sua resposta_"
   ]
  },
  {
   "cell_type": "markdown",
   "metadata": {},
   "source": [
    "#### **Exercício.**\n",
    "Considere a equação:"
   ]
  },
  {
   "cell_type": "markdown",
   "metadata": {},
   "source": [
    "$$\n",
    "\\frac{x}{\\sqrt{x + 1}} = 1\\text{,}\\quad\\text{ para } x \\in \\mathbb{R}\\text{.}\n",
    "$$"
   ]
  },
  {
   "cell_type": "markdown",
   "metadata": {},
   "source": [
    "(a) Resolva a equação usando o comando `solve`."
   ]
  },
  {
   "cell_type": "code",
   "execution_count": 273,
   "metadata": {},
   "outputs": [
    {
     "data": {
      "image/png": "[encoded data removed]",
      "text/latex": [
       "$\\displaystyle \\frac{x}{\\sqrt{x + 1}} - 1$"
      ],
      "text/plain": [
       "    x        \n",
       "───────── - 1\n",
       "  _______    \n",
       "╲╱ x + 1     "
      ]
     },
     "execution_count": 273,
     "metadata": {},
     "output_type": "execute_result"
    }
   ],
   "source": [
    "expr = x/sp.sqrt(x + 1) - 1\n",
    "expr"
   ]
  },
  {
   "cell_type": "markdown",
   "metadata": {},
   "source": [
    "(b) A resposta da SymPy soluciona o problema?"
   ]
  },
  {
   "cell_type": "markdown",
   "metadata": {},
   "source": [
    "_Digite aqui sua resposta_"
   ]
  },
  {
   "cell_type": "markdown",
   "metadata": {},
   "source": [
    "**Observação.** Com o Maxima, conforme citado na página 228 do nosso livro-texto, são obtidas duas raízes, uma positiva e outra negativa. No entanto, a negativa não é válida no sentido da equação, pois $x$ nunca será negativo."
   ]
  },
  {
   "cell_type": "markdown",
   "metadata": {},
   "source": [
    "#### **Exercício.**\n",
    "(a) Tente resolver abaixo por meio do comando `solve`."
   ]
  },
  {
   "cell_type": "markdown",
   "metadata": {},
   "source": [
    "$$\n",
    "\\cos(x) = x^2\\text{,}\\quad\\text{ para } x \\in \\mathbb{R}\\text{.}\n",
    "$$"
   ]
  },
  {
   "cell_type": "code",
   "execution_count": null,
   "metadata": {},
   "outputs": [],
   "source": []
  },
  {
   "cell_type": "markdown",
   "metadata": {},
   "source": [
    "(b) A equação dada têm soluções reais?\n",
    "Sugestão: para responder a esta pergunta, analise os gráficos das curvas $y = \\cos(x)$ e $y = x^2$."
   ]
  },
  {
   "cell_type": "code",
   "execution_count": null,
   "metadata": {},
   "outputs": [],
   "source": []
  },
  {
   "cell_type": "markdown",
   "metadata": {},
   "source": [
    "(c) Agora, tente resolver esta equação por meio da função `sympy.nsolve`."
   ]
  },
  {
   "cell_type": "code",
   "execution_count": null,
   "metadata": {},
   "outputs": [],
   "source": []
  },
  {
   "cell_type": "markdown",
   "metadata": {},
   "source": [
    "#### **Exercício.**\n",
    "Considere o resultado abaixo para a equação: $\\displaystyle 2^x = x^2$."
   ]
  },
  {
   "cell_type": "code",
   "execution_count": 316,
   "metadata": {},
   "outputs": [
    {
     "data": {
      "image/png": "[encoded data removed]",
      "text/latex": [
       "$\\displaystyle \\left[ 2, \\  4\\right]$"
      ],
      "text/plain": [
       "[2, 4]"
      ]
     },
     "execution_count": 316,
     "metadata": {},
     "output_type": "execute_result"
    }
   ],
   "source": [
    "x = sp.Symbol('x')\n",
    "expr = x**2 - 2**x\n",
    "sp.solve(expr, x)"
   ]
  },
  {
   "cell_type": "markdown",
   "metadata": {},
   "source": [
    "(a) Há algo de errado? Trace o gráfico de `expr` e tente responder a esta pergunta."
   ]
  },
  {
   "cell_type": "code",
   "execution_count": 39,
   "metadata": {},
   "outputs": [
    {
     "data": {
      "image/png": "[encoded data removed]",
      "text/plain": [
       "<Figure size 432x288 with 1 Axes>"
      ]
     },
     "metadata": {
      "needs_background": "light"
     },
     "output_type": "display_data"
    },
    {
     "data": {
      "text/plain": [
       "<sympy.plotting.plot.Plot at 0x7f2d261fad68>"
      ]
     },
     "execution_count": 39,
     "metadata": {},
     "output_type": "execute_result"
    }
   ],
   "source": [
    "sp.plot(expr, (x, -3,5))"
   ]
  },
  {
   "cell_type": "markdown",
   "metadata": {},
   "source": [
    "_Digite aqui sua resposta_"
   ]
  },
  {
   "cell_type": "markdown",
   "metadata": {},
   "source": [
    "#### **Exercício.**\n",
    "Analise o resultado abaixo:"
   ]
  },
  {
   "cell_type": "code",
   "execution_count": 318,
   "metadata": {},
   "outputs": [
    {
     "data": {
      "image/png": "[encoded data removed]",
      "text/latex": [
       "$\\displaystyle x^{3} - 4 x + 1$"
      ],
      "text/plain": [
       " 3          \n",
       "x  - 4⋅x + 1"
      ]
     },
     "execution_count": 318,
     "metadata": {},
     "output_type": "execute_result"
    }
   ],
   "source": [
    "x = sp.Symbol('x')\n",
    "expr = x**3 - 4*x + 1\n",
    "expr"
   ]
  },
  {
   "cell_type": "code",
   "execution_count": 319,
   "metadata": {},
   "outputs": [
    {
     "data": {
      "image/png": "[encoded data removed]",
      "text/latex": [
       "$\\displaystyle \\left( - \\frac{4}{\\left(- \\frac{1}{2} - \\frac{\\sqrt{3} i}{2}\\right) \\sqrt[3]{\\frac{27}{2} + \\frac{3 \\sqrt{687} i}{2}}} - \\frac{\\left(- \\frac{1}{2} - \\frac{\\sqrt{3} i}{2}\\right) \\sqrt[3]{\\frac{27}{2} + \\frac{3 \\sqrt{687} i}{2}}}{3}, \\  - \\frac{\\left(- \\frac{1}{2} + \\frac{\\sqrt{3} i}{2}\\right) \\sqrt[3]{\\frac{27}{2} + \\frac{3 \\sqrt{687} i}{2}}}{3} - \\frac{4}{\\left(- \\frac{1}{2} + \\frac{\\sqrt{3} i}{2}\\right) \\sqrt[3]{\\frac{27}{2} + \\frac{3 \\sqrt{687} i}{2}}}, \\  - \\frac{\\sqrt[3]{\\frac{27}{2} + \\frac{3 \\sqrt{687} i}{2}}}{3} - \\frac{4}{\\sqrt[3]{\\frac{27}{2} + \\frac{3 \\sqrt{687} i}{2}}}\\right)$"
      ],
      "text/plain": [
       "⎛                                                      _______________        \n",
       "⎜                                     ⎛  1   √3⋅ⅈ⎞    ╱ 27   3⋅√687⋅ⅈ     ⎛  1\n",
       "⎜                                     ⎜- ─ - ────⎟⋅3 ╱  ── + ────────     ⎜- ─\n",
       "⎜                 4                   ⎝  2    2  ⎠ ╲╱   2       2         ⎝  2\n",
       "⎜- ──────────────────────────────── - ────────────────────────────────, - ────\n",
       "⎜                   _______________                  3                        \n",
       "⎜  ⎛  1   √3⋅ⅈ⎞    ╱ 27   3⋅√687⋅ⅈ                                            \n",
       "⎜  ⎜- ─ - ────⎟⋅3 ╱  ── + ────────                                            \n",
       "⎝  ⎝  2    2  ⎠ ╲╱   2       2                                                \n",
       "\n",
       "             _______________                                           _______\n",
       "   √3⋅ⅈ⎞    ╱ 27   3⋅√687⋅ⅈ                                           ╱ 27   3\n",
       " + ────⎟⋅3 ╱  ── + ────────                                        3 ╱  ── + ─\n",
       "    2  ⎠ ╲╱   2       2                       4                    ╲╱   2     \n",
       "──────────────────────────── - ────────────────────────────────, - ───────────\n",
       "           3                                    _______________             3 \n",
       "                               ⎛  1   √3⋅ⅈ⎞    ╱ 27   3⋅√687⋅ⅈ                \n",
       "                               ⎜- ─ + ────⎟⋅3 ╱  ── + ────────                \n",
       "                               ⎝  2    2  ⎠ ╲╱   2       2                    \n",
       "\n",
       "________                      ⎞\n",
       "⋅√687⋅ⅈ                       ⎟\n",
       "───────                       ⎟\n",
       "  2                 4         ⎟\n",
       "──────── - ───────────────────⎟\n",
       "               _______________⎟\n",
       "              ╱ 27   3⋅√687⋅ⅈ ⎟\n",
       "           3 ╱  ── + ──────── ⎟\n",
       "           ╲╱   2       2     ⎠"
      ]
     },
     "execution_count": 319,
     "metadata": {},
     "output_type": "execute_result"
    }
   ],
   "source": [
    "[x1, x2, x3] = sp.solve(expr, x)\n",
    "x1,x2,x3"
   ]
  },
  {
   "cell_type": "markdown",
   "metadata": {},
   "source": [
    "(a) Com base no resultado acima, você diria que $f$ possui quantas raı́zes reais e quantas raízes complexas?"
   ]
  },
  {
   "cell_type": "markdown",
   "metadata": {},
   "source": [
    "_Digite aqui sua resposta_"
   ]
  },
  {
   "cell_type": "markdown",
   "metadata": {},
   "source": [
    "(b) Você pode extrair a parte imaginária de um símbolo usando a função `sympy.im`. Faça isso com as três raízes obtidas acima."
   ]
  },
  {
   "cell_type": "code",
   "execution_count": 66,
   "metadata": {},
   "outputs": [
    {
     "data": {
      "image/png": "[encoded data removed]",
      "text/latex": [
       "$\\displaystyle 0$"
      ],
      "text/plain": [
       "0"
      ]
     },
     "execution_count": 66,
     "metadata": {},
     "output_type": "execute_result"
    }
   ],
   "source": [
    "sp.radsimp(sp.im(x1))"
   ]
  },
  {
   "cell_type": "code",
   "execution_count": 67,
   "metadata": {},
   "outputs": [
    {
     "data": {
      "image/png": "[encoded data removed]",
      "text/latex": [
       "$\\displaystyle 0$"
      ],
      "text/plain": [
       "0"
      ]
     },
     "execution_count": 67,
     "metadata": {},
     "output_type": "execute_result"
    }
   ],
   "source": [
    "sp.radsimp(sp.im(x2))"
   ]
  },
  {
   "cell_type": "code",
   "execution_count": 68,
   "metadata": {},
   "outputs": [
    {
     "data": {
      "image/png": "[encoded data removed]",
      "text/latex": [
       "$\\displaystyle 0$"
      ],
      "text/plain": [
       "0"
      ]
     },
     "execution_count": 68,
     "metadata": {},
     "output_type": "execute_result"
    }
   ],
   "source": [
    "sp.radsimp(sp.im(x3))"
   ]
  },
  {
   "cell_type": "markdown",
   "metadata": {},
   "source": [
    "(c) Use o comando `sympy.radsimp` para simplificar as partes imaginárias obtidas no item anterior.\n",
    "O que você pode concluir sobre as raı́zes de $f$?"
   ]
  },
  {
   "cell_type": "code",
   "execution_count": 324,
   "metadata": {},
   "outputs": [],
   "source": [
    "# Digite seu código aqui"
   ]
  },
  {
   "cell_type": "code",
   "execution_count": 325,
   "metadata": {},
   "outputs": [],
   "source": [
    "# Digite seu código aqui"
   ]
  },
  {
   "cell_type": "code",
   "execution_count": 326,
   "metadata": {},
   "outputs": [],
   "source": [
    "# Digite seu código aqui"
   ]
  },
  {
   "cell_type": "markdown",
   "metadata": {},
   "source": [
    "(d) Esboce o gráfico de $f$ no intervalo $[-3,3]$. Relacione o gráfico obtido com o resultado do item (c)."
   ]
  },
  {
   "cell_type": "code",
   "execution_count": 323,
   "metadata": {},
   "outputs": [],
   "source": [
    "# Digite seu código aqui"
   ]
  },
  {
   "cell_type": "markdown",
   "metadata": {},
   "source": [
    "_Digite sua resposta aqui_"
   ]
  },
  {
   "cell_type": "markdown",
   "metadata": {},
   "source": [
    "#### **Exercício.**\n",
    "Considere a função polinomial do terceiro grau $f\\!: \\mathbb{R} \\rightarrow \\mathbb{R}$, $f(x) = x^3 - 4x + k$, em que $k$ é uma constante real."
   ]
  },
  {
   "cell_type": "markdown",
   "metadata": {},
   "source": [
    "(a) Trace o gráfico de $f$ com $k = 1$ para determinar quantas raı́zes reais distintas $f$ possui."
   ]
  },
  {
   "cell_type": "code",
   "execution_count": 331,
   "metadata": {},
   "outputs": [
    {
     "ename": "NameError",
     "evalue": "name 'k' is not defined",
     "output_type": "error",
     "traceback": [
      "\u001b[0;31m---------------------------------------------------------------------------\u001b[0m",
      "\u001b[0;31mNameError\u001b[0m                                 Traceback (most recent call last)",
      "\u001b[0;32m<ipython-input-331-bfca825db154>\u001b[0m in \u001b[0;36m<module>\u001b[0;34m\u001b[0m\n\u001b[0;32m----> 1\u001b[0;31m \u001b[0msp\u001b[0m\u001b[0;34m.\u001b[0m\u001b[0mplot\u001b[0m\u001b[0;34m(\u001b[0m\u001b[0mf\u001b[0m\u001b[0;34m(\u001b[0m\u001b[0mx\u001b[0m\u001b[0;34m)\u001b[0m\u001b[0;34m.\u001b[0m\u001b[0msubs\u001b[0m\u001b[0;34m(\u001b[0m\u001b[0;34m{\u001b[0m\u001b[0mk\u001b[0m\u001b[0;34m:\u001b[0m \u001b[0;36m1\u001b[0m\u001b[0;34m}\u001b[0m\u001b[0;34m)\u001b[0m\u001b[0;34m,\u001b[0m \u001b[0;34m(\u001b[0m\u001b[0mx\u001b[0m\u001b[0;34m,\u001b[0m \u001b[0;34m-\u001b[0m\u001b[0;36m3\u001b[0m\u001b[0;34m,\u001b[0m \u001b[0;36m2.5\u001b[0m\u001b[0;34m)\u001b[0m\u001b[0;34m)\u001b[0m\u001b[0;34m\u001b[0m\u001b[0;34m\u001b[0m\u001b[0m\n\u001b[0m",
      "\u001b[0;31mNameError\u001b[0m: name 'k' is not defined"
     ]
    }
   ],
   "source": [
    "sp.plot(f(x).subs({k: 1}), (x, -3, 2.5))"
   ]
  },
  {
   "cell_type": "markdown",
   "metadata": {},
   "source": [
    "(b) Agora, trace o gráfico de $f$ para $k = 4$.\n",
    "Quantas raı́zes reais distintas $f$ possui neste caso?"
   ]
  },
  {
   "cell_type": "code",
   "execution_count": 332,
   "metadata": {},
   "outputs": [
    {
     "ename": "NameError",
     "evalue": "name 'k' is not defined",
     "output_type": "error",
     "traceback": [
      "\u001b[0;31m---------------------------------------------------------------------------\u001b[0m",
      "\u001b[0;31mNameError\u001b[0m                                 Traceback (most recent call last)",
      "\u001b[0;32m<ipython-input-332-ec10728a220c>\u001b[0m in \u001b[0;36m<module>\u001b[0;34m\u001b[0m\n\u001b[0;32m----> 1\u001b[0;31m \u001b[0msp\u001b[0m\u001b[0;34m.\u001b[0m\u001b[0mplot\u001b[0m\u001b[0;34m(\u001b[0m\u001b[0mf\u001b[0m\u001b[0;34m(\u001b[0m\u001b[0mx\u001b[0m\u001b[0;34m)\u001b[0m\u001b[0;34m.\u001b[0m\u001b[0msubs\u001b[0m\u001b[0;34m(\u001b[0m\u001b[0;34m{\u001b[0m\u001b[0mk\u001b[0m\u001b[0;34m:\u001b[0m \u001b[0;36m4\u001b[0m\u001b[0;34m}\u001b[0m\u001b[0;34m)\u001b[0m\u001b[0;34m,\u001b[0m \u001b[0;34m(\u001b[0m\u001b[0mx\u001b[0m\u001b[0;34m,\u001b[0m \u001b[0;34m-\u001b[0m\u001b[0;36m3\u001b[0m\u001b[0;34m,\u001b[0m \u001b[0;36m2.5\u001b[0m\u001b[0;34m)\u001b[0m\u001b[0;34m)\u001b[0m\u001b[0;34m\u001b[0m\u001b[0;34m\u001b[0m\u001b[0m\n\u001b[0m",
      "\u001b[0;31mNameError\u001b[0m: name 'k' is not defined"
     ]
    }
   ],
   "source": [
    "sp.plot(f(x).subs({k: 4}), (x, -3, 2.5))"
   ]
  },
  {
   "cell_type": "markdown",
   "metadata": {},
   "source": [
    "(c) Utilize a `sympy.solve` para determinar um valor de $k > 0$ para o qual $f$ possui uma raiz real de multiplicidade 2."
   ]
  },
  {
   "cell_type": "code",
   "execution_count": 134,
   "metadata": {},
   "outputs": [],
   "source": [
    "# Primeiro, determinamos os pontos críticos de f\n",
    "[x1, x2] = sp.solve(3*x**2 - 4)"
   ]
  },
  {
   "cell_type": "code",
   "execution_count": 333,
   "metadata": {},
   "outputs": [
    {
     "ename": "NameError",
     "evalue": "name 'k' is not defined",
     "output_type": "error",
     "traceback": [
      "\u001b[0;31m---------------------------------------------------------------------------\u001b[0m",
      "\u001b[0;31mNameError\u001b[0m                                 Traceback (most recent call last)",
      "\u001b[0;32m<ipython-input-333-b1440c1f0131>\u001b[0m in \u001b[0;36m<module>\u001b[0;34m\u001b[0m\n\u001b[1;32m      1\u001b[0m \u001b[0;31m# Depois, resolvemos para k\u001b[0m\u001b[0;34m\u001b[0m\u001b[0;34m\u001b[0m\u001b[0;34m\u001b[0m\u001b[0m\n\u001b[0;32m----> 2\u001b[0;31m \u001b[0;34m[\u001b[0m\u001b[0mk1\u001b[0m\u001b[0;34m]\u001b[0m \u001b[0;34m=\u001b[0m \u001b[0msp\u001b[0m\u001b[0;34m.\u001b[0m\u001b[0msolve\u001b[0m\u001b[0;34m(\u001b[0m\u001b[0mf\u001b[0m\u001b[0;34m(\u001b[0m\u001b[0mx\u001b[0m\u001b[0;34m)\u001b[0m\u001b[0;34m.\u001b[0m\u001b[0msubs\u001b[0m\u001b[0;34m(\u001b[0m\u001b[0;34m{\u001b[0m\u001b[0mx\u001b[0m\u001b[0;34m:\u001b[0m \u001b[0mx1\u001b[0m\u001b[0;34m}\u001b[0m\u001b[0;34m)\u001b[0m\u001b[0;34m,\u001b[0m \u001b[0mk\u001b[0m\u001b[0;34m)\u001b[0m\u001b[0;34m\u001b[0m\u001b[0;34m\u001b[0m\u001b[0m\n\u001b[0m\u001b[1;32m      3\u001b[0m \u001b[0mk1\u001b[0m\u001b[0;34m\u001b[0m\u001b[0;34m\u001b[0m\u001b[0m\n",
      "\u001b[0;31mNameError\u001b[0m: name 'k' is not defined"
     ]
    }
   ],
   "source": [
    "# Depois, resolvemos para k\n",
    "[k1] = sp.solve(f(x).subs({x: x1}), k)\n",
    "k1"
   ]
  },
  {
   "cell_type": "markdown",
   "metadata": {},
   "source": [
    "(d) Trace o gráfico de $f$ com o valor de $k$ obtido em (c)."
   ]
  },
  {
   "cell_type": "code",
   "execution_count": 151,
   "metadata": {},
   "outputs": [
    {
     "data": {
      "image/png": "[encoded data removed]",
      "text/plain": [
       "<Figure size 432x288 with 1 Axes>"
      ]
     },
     "metadata": {
      "needs_background": "light"
     },
     "output_type": "display_data"
    },
    {
     "data": {
      "text/plain": [
       "<sympy.plotting.plot.Plot at 0x7f2d22b7a128>"
      ]
     },
     "execution_count": 151,
     "metadata": {},
     "output_type": "execute_result"
    }
   ],
   "source": [
    "sp.plot(f(x).subs({k: k1}), (x, -3, 2.5))"
   ]
  },
  {
   "cell_type": "markdown",
   "metadata": {},
   "source": [
    "(d) O valor de $k$ que soluciona a questão proposta no item anterior é único? Justifique usa resposta."
   ]
  },
  {
   "cell_type": "markdown",
   "metadata": {},
   "source": [
    "## Atividade Prática 6"
   ]
  },
  {
   "cell_type": "markdown",
   "metadata": {},
   "source": [
    "Formule uma sequência didática para aplicação\n",
    "de uma atividade semelhante à Atividade 5.1 do livro-texto para _funções trigonométricas_.\n",
    "\n",
    "Especifique os objetivos, os conceitos matemáticos explorados e de que\n",
    "maneiras esses conceitos podem ser explorados."
   ]
  },
  {
   "cell_type": "markdown",
   "metadata": {},
   "source": [
    "## Saiba mais"
   ]
  },
  {
   "cell_type": "markdown",
   "metadata": {},
   "source": [
    "Este bloco de notas é baseado nas referências a seguir:"
   ]
  },
  {
   "cell_type": "markdown",
   "metadata": {},
   "source": [
    "* GIRALDO, V.; CARVALHO, L.M.. Funções e Novas Tecnologias. TEMA - Tendências em Matemática Aplicada e Computacional, [S.l.], v. 3, n. 1, p. 111-119, june 2002. ISSN 2179-8451. Available at: <https://tema.sbmac.org.br/tema/article/view/429>. Date accessed: 30 sep. 2019. doi:https://doi.org/10.5540/tema.2002.03.01.0111."
   ]
  },
  {
   "cell_type": "markdown",
   "metadata": {},
   "source": [
    "* STEWART, John M. Python for scientists. Cambridge University Press, 2017.\n",
    "  https://doi.org/10.1017/CBO9781107447875"
   ]
  },
  {
   "cell_type": "markdown",
   "metadata": {},
   "source": [
    "* JOHANSSON, Robert; JOHANSSON, Robert; JOHN, Suresh. Numerical Python. Apress, 2019.\n",
    "   https://doi.org/10.1007/978-1-4842-4246-9"
   ]
  },
  {
   "cell_type": "markdown",
   "metadata": {
    "slideshow": {
     "slide_type": "slide"
    }
   },
   "source": [
    "&copy; 2019 Vicente Helano<br>\n",
    "UFCA | Universidade Federal do Cariri<br>\n",
    "Mestrado Profissional em Ensino de Matemática"
   ]
  }
 ],
 "metadata": {
  "kernelspec": {
   "display_name": "Python 3",
   "language": "python",
   "name": "python3"
  },
  "language_info": {
   "codemirror_mode": {
    "name": "ipython",
    "version": 3
   },
   "file_extension": ".py",
   "mimetype": "text/x-python",
   "name": "python",
   "nbconvert_exporter": "python",
   "pygments_lexer": "ipython3",
   "version": "3.7.3"
  },
  "toc-autonumbering": false,
  "toc-showcode": false,
  "toc-showmarkdowntxt": false,
  "toc-showtags": false
 },
 "nbformat": 4,
 "nbformat_minor": 4
}
