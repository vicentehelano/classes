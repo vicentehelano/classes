{
 "cells": [
  {
   "cell_type": "markdown",
   "metadata": {},
   "source": [
    "# Reconhecendo o erro"
   ]
  },
  {
   "cell_type": "markdown",
   "metadata": {},
   "source": [
    "<br>"
   ]
  },
  {
   "cell_type": "markdown",
   "metadata": {},
   "source": [
    "Esta aula não tem como objetivo defender ou atacar o uso de calculadoras em sala de aula. Essa é uma questão bastante complexa e é bem improvável que cheguemos a um concenso sobre ela. Na verdade, iremos enfatizar a importância do uso conciente das calculadoras. Neste sentido, seremos incentivados a analisar de modo crítico os resultados obtidos com estas máquinas, por intermédio de estimativas e cálculo mental."
   ]
  },
  {
   "cell_type": "markdown",
   "metadata": {},
   "source": [
    "## Representação de vírgula flutuante"
   ]
  },
  {
   "cell_type": "markdown",
   "metadata": {},
   "source": [
    "O modo mais natural de representarmos números reais é utilizando o sistema decimal. Um número $x \\in \\mathbb{R}$ qualquer fica escrito como:\n",
    "\n",
    "$$\n",
    "x = \\pm \\left(\\sum_{i=0}^\\infty d_i 10^i +\n",
    "\\sum_{i=1}^{\\infty} d_{-i} 10^{-i}\\right)\n",
    "$$\n",
    "\n",
    "onde $d_i \\in \\{0,1,2, \\dotsc, 9\\}$."
   ]
  },
  {
   "cell_type": "markdown",
   "metadata": {},
   "source": [
    "Observe que a quantidade de dígitos na representação acima pode ser infinita. Na prática, no entanto, dificilmente conseguimos representar números irracionais ou racionais com dízimas periódicas de modo exato, por questões de tempo ou espaço limitados."
   ]
  },
  {
   "cell_type": "markdown",
   "metadata": {},
   "source": [
    "Quando usamos calculadoras, por exemplo, trabalhamos com *sistemas numéricos finitos*. Isto quer dizer que a quantidade de dígitos disponíveis é finita. Neste caso, uma representação com $t$ dígitos resulta em:"
   ]
  },
  {
   "cell_type": "markdown",
   "metadata": {},
   "source": [
    "$$\n",
    "x = \\pm \\left(\\sum_{i=0}^{m-1} d_i 10^i +\n",
    "\\sum_{i=1}^{n} d_{-i} 10^{-i}\\right)\n",
    "$$\n",
    "\n",
    "onde $d_i \\in \\{0,1,2, \\dotsc, 9\\}$ e $t = m + n$."
   ]
  },
  {
   "cell_type": "markdown",
   "metadata": {},
   "source": [
    "A representação decimal de um número real pode ser apresentada de em dois formatos distintos: **vírgula fixa** ou **vírgula flutuante**. No esquema de vírgula fixa, o número $x$ é representado como:\n",
    "\n",
    "$$\n",
    "x = \\pm(d_{m-1}\\cdots d_2 d_1 d_0{,}d_{-1} d_{-2} d_{-3} \\cdots d_{-n})_{10}\n",
    "$$"
   ]
  },
  {
   "cell_type": "markdown",
   "metadata": {},
   "source": [
    "Já com a vírgula flutuante, $x$ é expresso por:\n",
    "\n",
    "$$x = \\pm m \\times 10^e$$\n",
    "\n",
    "onde:\n",
    "\n",
    "- $e \\in [e_{\\min},e_{\\max}] \\subseteq \\mathbb{Z}$ é o expoente de $x$\n",
    "- $m = \\left(d_0{,}d_1d_2d_3\\dots d_{t-1}\\right)_{10}$, com $d_i \\in \\{0, 1, \\dotsc, 9\\}$ e $0 \\le m < 10$, é a *mantissa* de $x$ escrita na base 10."
   ]
  },
  {
   "cell_type": "markdown",
   "metadata": {},
   "source": [
    "O formato de vírgula flutuate é o padrão para a representação de números reais em calculadoras e computadores."
   ]
  },
  {
   "cell_type": "markdown",
   "metadata": {},
   "source": [
    "### Normalização"
   ]
  },
  {
   "cell_type": "markdown",
   "metadata": {},
   "source": [
    "Considere um sistema decimal finito com $t = 3$ dígitos, $e_{\\min} = -2$ e $e_{\\max} = 3$.\n",
    "Suponha que desejamos representar o número $x = 3$.\n",
    "Observe que podemos escrever:\n",
    "\n",
    "\\begin{align*}\n",
    "x &= +(3{,}00)_{10} \\times 10^0\\text{,}\\\\\n",
    "  &= +(0{,}30)_{10} \\times 10^1\\text{,}\\\\\n",
    "  &= +(0{,}03)_{10} \\times 10^2\\text{.}\n",
    "\\end{align*}"
   ]
  },
  {
   "cell_type": "markdown",
   "metadata": {},
   "source": [
    "Para sanar esta ambiguidade (pelo menos para os valores não nulos), empregamos a técnica de *normalização*. Com efeito, agora teremos duas classes de números, além do *zero*:  \n",
    "\n",
    "- Números **normais**, aqueles com $1 \\le m < \\beta$;\n",
    "- Números **subnormais**, aqueles com $0 < m < 1$ e $e = e_{\\min}$."
   ]
  },
  {
   "cell_type": "markdown",
   "metadata": {},
   "source": [
    "**Exercício**. Utilizando o sistema decimal descrito acima, represente os números a seguir:"
   ]
  },
  {
   "cell_type": "markdown",
   "metadata": {},
   "source": [
    "(a) $x = 3{,}5$"
   ]
  },
  {
   "cell_type": "markdown",
   "metadata": {},
   "source": [
    "_Digite sua resposta aqui_"
   ]
  },
  {
   "cell_type": "markdown",
   "metadata": {},
   "source": [
    "(b) $x = 0{,}0075$"
   ]
  },
  {
   "cell_type": "markdown",
   "metadata": {},
   "source": [
    "_Digite sua resposta aqui_"
   ]
  },
  {
   "cell_type": "markdown",
   "metadata": {},
   "source": [
    "(c) $x = 27,82$"
   ]
  },
  {
   "cell_type": "markdown",
   "metadata": {},
   "source": [
    "_Digite sua resposta aqui_"
   ]
  },
  {
   "cell_type": "markdown",
   "metadata": {},
   "source": [
    "**Exercício**. Ainda sobre o sistema decimal descrito acima, responda:"
   ]
  },
  {
   "cell_type": "markdown",
   "metadata": {},
   "source": [
    "(a) Qual é o maior número positivo desse sistema?"
   ]
  },
  {
   "cell_type": "markdown",
   "metadata": {},
   "source": [
    "_Digite sua resposta aqui_"
   ]
  },
  {
   "cell_type": "markdown",
   "metadata": {},
   "source": [
    "(b) Qual é o menor número positivo desse sistema? Ele é normal ou sub-normal?"
   ]
  },
  {
   "cell_type": "markdown",
   "metadata": {},
   "source": [
    "_Digite sua resposta aqui_"
   ]
  },
  {
   "cell_type": "markdown",
   "metadata": {},
   "source": [
    "**Exercício**. Agora, considere a calculadora abaixo."
   ]
  },
  {
   "cell_type": "markdown",
   "metadata": {},
   "source": [
    "\n",
    "\n",
    "<img src=\"https://http2.mlstatic.com/5-calculadora-mini-8-digitos-idea-D_NQ_NP_735534-MLB31099037414_062019-F.webp\" width=200>\n"
   ]
  },
  {
   "cell_type": "markdown",
   "metadata": {},
   "source": [
    "(a) Quais as características do formato de ponto flutuante usado por esta calculadora?"
   ]
  },
  {
   "cell_type": "markdown",
   "metadata": {},
   "source": [
    "_Digite sua resposta aqui_"
   ]
  },
  {
   "cell_type": "markdown",
   "metadata": {},
   "source": [
    "(b) Como fica a representação do número $\\pi$ nesta calculadora? Você pode consultar os dígitos do $\\pi$ [aqui](http://www.geom.uiuc.edu/~huberty/math5337/groupe/digits.html)."
   ]
  },
  {
   "cell_type": "markdown",
   "metadata": {},
   "source": [
    "_Digite sua resposta aqui_"
   ]
  },
  {
   "cell_type": "markdown",
   "metadata": {},
   "source": [
    "## Medindo erros"
   ]
  },
  {
   "cell_type": "markdown",
   "metadata": {},
   "source": [
    "**Exemplo**. Suponha que você é especialista na fabricação de peças de EVA e que acabou de receber uma encomenda de um tapete redondo, com meio metro de diâmetro.\n",
    "Sabendo que você compra EVA a R\\$ $30,75$ o metro quadrado, calcule o custo do material ao usarmos as aproximações:\n",
    "\n",
    "(a) $\\pi \\approx 3{,}1$  \n",
    "\n",
    "(b) $\\pi \\approx 3{,}142$"
   ]
  },
  {
   "cell_type": "markdown",
   "metadata": {},
   "source": [
    "_Digite sua resposta aqui_"
   ]
  },
  {
   "cell_type": "markdown",
   "metadata": {},
   "source": [
    "No problema acima, utilizamos dois valores distintos para aproximar $\\pi$. A cada uma deles, corresponde um erro de aproximação. Definimos duas grandezas para mensurar a falta de exatidão."
   ]
  },
  {
   "cell_type": "markdown",
   "metadata": {},
   "source": [
    "- **Erro absoluto** = |valor aproximado - valor exato|\n",
    "- **Erro relativo** = Erro absoluto/|valor exato|, quando o valor exato é diferente de zero."
   ]
  },
  {
   "cell_type": "markdown",
   "metadata": {},
   "source": [
    "O erro relativo também pode ser expresso como um percentual, bastando para isso multiplicá-lo por 100."
   ]
  },
  {
   "cell_type": "markdown",
   "metadata": {},
   "source": [
    "**Exemplo**. Utilize sua calculadora para determinar os erros absolutos e relativos dos custos do problema do tapete de EVA.\n",
    "Novamente, consulte os dígitos do $\\pi$ [aqui](http://www.geom.uiuc.edu/~huberty/math5337/groupe/digits.html)."
   ]
  },
  {
   "cell_type": "markdown",
   "metadata": {},
   "source": [
    "_Digite sua resposta aqui_"
   ]
  },
  {
   "cell_type": "markdown",
   "metadata": {
    "slideshow": {
     "slide_type": "slide"
    }
   },
   "source": [
    "## Errar é humano"
   ]
  },
  {
   "cell_type": "markdown",
   "metadata": {},
   "source": [
    "Certamente, o erro humano é uma das principais fontes de incertezas nos dados que manipulamos. Estas incertezas ou erros podem ser intrínsecas, acidentais ou propositais, como no caso das _fake news_."
   ]
  },
  {
   "cell_type": "markdown",
   "metadata": {},
   "source": [
    "Para ilustrar este fato, considere as situações a seguir, extraídas de nosso livro-texto."
   ]
  },
  {
   "cell_type": "markdown",
   "metadata": {},
   "source": [
    "**Exemplo**.  \n",
    "Suponha que você queria saber o resultado da conta\n",
    "\n",
    "$$7 × (581 + 399)\\text{,}$$\n",
    "\n",
    "com ajuda de sua calculadora. Você digitou os dados e a máquina forneceu o resultado $4466$."
   ]
  },
  {
   "cell_type": "markdown",
   "metadata": {},
   "source": [
    "(a) Por inspeção, você diria que o resultado está correto?"
   ]
  },
  {
   "cell_type": "markdown",
   "metadata": {},
   "source": [
    "_Digite sua resposta aqui_"
   ]
  },
  {
   "cell_type": "markdown",
   "metadata": {},
   "source": [
    "(b) Agora, usando sua calculadora, tente advinhar o que aconteceu."
   ]
  },
  {
   "cell_type": "markdown",
   "metadata": {},
   "source": [
    "_Digite sua resposta aqui_"
   ]
  },
  {
   "cell_type": "markdown",
   "metadata": {},
   "source": [
    "**Exemplo**. Suponha que você queria fazer a conta\n",
    "$9823 \\times 1157$ usando sua calculadora."
   ]
  },
  {
   "cell_type": "markdown",
   "metadata": {},
   "source": [
    "(a) Quantos algarismos você espera que o resultado tenha?"
   ]
  },
  {
   "cell_type": "markdown",
   "metadata": {},
   "source": [
    "_Digite sua resposta aqui_"
   ]
  },
  {
   "cell_type": "markdown",
   "metadata": {},
   "source": [
    "(b) Qual deve ser o algarismo menos significativo do resultado?"
   ]
  },
  {
   "cell_type": "markdown",
   "metadata": {},
   "source": [
    "_Digite sua resposta aqui_"
   ]
  },
  {
   "cell_type": "markdown",
   "metadata": {},
   "source": [
    "(c) Suponha que depois de digitar os dados, tenha aparecido no visor o seguinte resultado: $1542211$. Este resultado pode estar certo?"
   ]
  },
  {
   "cell_type": "markdown",
   "metadata": {},
   "source": [
    "_Digite sua resposta aqui_"
   ]
  },
  {
   "cell_type": "markdown",
   "metadata": {},
   "source": [
    "(d) Constatando que o resultado anterior não estava correto, você apaga e digita novamente os\n",
    "dados. Desta vez o visor mostra o seguinte: $11364054$. E este resultado, pode estar\n",
    "certo?"
   ]
  },
  {
   "cell_type": "markdown",
   "metadata": {},
   "source": [
    "_Digite sua resposta aqui_"
   ]
  },
  {
   "cell_type": "markdown",
   "metadata": {},
   "source": [
    "## As calculadoras também erram"
   ]
  },
  {
   "cell_type": "markdown",
   "metadata": {},
   "source": [
    "Um formatos de vírgula flutuante na verdade é um _subconjunto finito_ dos reais.\n",
    "Portanto, é de se esperar que nem todas as propriedades dos números reais permaneçam válidas neste sistema.\n",
    "De fato, se um número real $x$ não pertence ao formato, devemos aproximá-lo ou arredondá-lo.\n",
    "Denotaremos por $\\operatorname{fl}(x)$ o valor arredondado de $x$ em um determinado formato."
   ]
  },
  {
   "cell_type": "markdown",
   "metadata": {},
   "source": [
    "Considere um formato decimal com precisão $t$.\n",
    "Dado $x = (d_0{,}d_1d_2\\dotsc d_{t-1}d_t\\dotsc)_{10} \\times 10^e$, o maior número do formato imediatamente menor do que $x$ é dado por:\n",
    "\n",
    "$$\n",
    "x_{-} = (d_0{,}d_1d_2\\dotsc d_{t-1})_{10} \\times 10^e\n",
    "$$\n",
    "\n",
    "e o menor número do formato imediatamente maior do que $x$ é:\n",
    "\n",
    "$$\n",
    "x_{+} = \\left( d_0{,}d_1d_2\\dotsc d_{t-1}\\right)_{10}\\times 10^e\n",
    "+ 10^{t-1} \\times {10}^e\n",
    "$$"
   ]
  },
  {
   "cell_type": "markdown",
   "metadata": {},
   "source": [
    "Dado $x \\in \\mathbb{R}$, há basicamente quatro modos de calcularmos $\\operatorname{fl}(x)$:\n",
    "\n",
    "- **para baixo**: $\\operatorname{fl}(x) = \\begin{cases}x_{-} & \\text{se $x > 0$}\\\\x_+ & \\text{caso contrário}\\end{cases}$  \n",
    "\n",
    "- **para cima**: $\\operatorname{fl}(x) = \\begin{cases}x_{+} & \\text{se $x > 0$}\\\\x_- & \\text{caso contrário}\\end{cases}$;  \n",
    "\n",
    "- **em direção ao zero**: $\\operatorname{fl}(x) = x_-$ (conhecido como truncamento);  \n",
    "\n",
    "- **para o mais próximo**:\n",
    "$\\operatorname{fl}(x)$ é o elemento de $\\{x_-, x_+\\}$, aquele que estiver mais próximo de $x$."
   ]
  },
  {
   "cell_type": "markdown",
   "metadata": {},
   "source": [
    "Aconselha-se sempre arredondar para o mais próximo, quebrando os empates com a [regra do dígito par mais à direita](https://en.wikipedia.org/wiki/Rounding#Round_half_to_even).\n",
    "O arredondamento para o mais próximo em sistemas decimais ocorre do seguinte modo."
   ]
  },
  {
   "cell_type": "markdown",
   "metadata": {},
   "source": [
    "1. Se $d_t < 5$, então $\\operatorname{fl}(x) = x_{-}$;\n",
    "1. Senão se $d_t > 5$, então $\\operatorname{fl}(x) = x_{+}$;\n",
    "1. Caso contrário, $d_t$ vale 5 e teremos uma das situações:  \n",
    "\n",
    "    a. Se ao menos um dos dígitos subsequentes ao $d_t$ for diferente de zero, então $\\mathrm{fl}(x) = x_{+}$;\n",
    "    \n",
    "    b. Caso contrário, existe um empate. Neste caso, analisamos os dígitos $j = (t-1)$ até $1$ de ambos, $x_{-}$ e $x_{+}$. Arredondamos $x$ para aquele cujo $j$-ésimo dígito é par."
   ]
  },
  {
   "cell_type": "markdown",
   "metadata": {},
   "source": [
    "**Exercício**.\n",
    "\n",
    "(a) Use a calculadora para fazer a conta $\\sqrt{2}$ e anote o resultado abaixo."
   ]
  },
  {
   "cell_type": "markdown",
   "metadata": {},
   "source": [
    "_Digite sua resposta aqui_"
   ]
  },
  {
   "cell_type": "markdown",
   "metadata": {},
   "source": [
    "(b) Se você elevar o resultado do item (a) ao\n",
    "quadrado, você encontrará o número 2 novamente? Anote o resultado obtido abaixo."
   ]
  },
  {
   "cell_type": "markdown",
   "metadata": {},
   "source": [
    "_Digite sua resposta aqui_"
   ]
  },
  {
   "cell_type": "markdown",
   "metadata": {},
   "source": [
    "(c) Sabendo que há uma aproximação com 1 milhão de dígitos disponível [aqui](https://apod.nasa.gov/htmltest/gifcity/sqrt2.1mil), calcule um valor arredondado para $\\sqrt{2}$ com 8 dígitos significaticos."
   ]
  },
  {
   "cell_type": "markdown",
   "metadata": {},
   "source": [
    "_Digite sua resposta aqui_"
   ]
  },
  {
   "cell_type": "markdown",
   "metadata": {},
   "source": [
    "(d) Qual das duas aproximações possui maior exatidão?"
   ]
  },
  {
   "cell_type": "markdown",
   "metadata": {},
   "source": [
    "_Digite sua resposta aqui_"
   ]
  },
  {
   "cell_type": "markdown",
   "metadata": {},
   "source": [
    "## Aritmética finita"
   ]
  },
  {
   "cell_type": "markdown",
   "metadata": {},
   "source": [
    "Se enfrentamos problemas com a representação dos números reais, quanto mais com as operações aritméticas em espaço restrito.\n",
    "Dados $x, y \\in \\mathbb{R}$, definimos:\n",
    "\n",
    "- $x \\oplus y = \\operatorname{fl}( \\operatorname{fl}(x) + \\operatorname{fl}(y))$\n",
    "- $x \\ominus y = \\operatorname{fl}( \\operatorname{fl}(x) - \\operatorname{fl}(y))$\n",
    "- $x \\otimes y = \\operatorname{fl}(  \\operatorname{fl}(x) \\times \\operatorname{fl}(y))$\n",
    "- $x \\oslash y = \\operatorname{fl}(  \\operatorname{fl}(x) \\,/ \\operatorname{fl}(y))$\n",
    "\n",
    "onde $+$, $-$, $\\times$ e $/$ são as operações aritméticas exatas, como definidas para os reais."
   ]
  },
  {
   "cell_type": "markdown",
   "metadata": {},
   "source": [
    "Para realizar a adição ou a subtração, inicialmente, é necessário igualar os expoentes de $x$ e $y$, ajustando a vírgula daquele com o menor dos expoentes. Já no caso da divisão ou da multiplicação, dividimos ou multiplicamos as mantissas, depois subtraimos ou adicionamos os expoentes dos operandos, respectivamente."
   ]
  },
  {
   "cell_type": "markdown",
   "metadata": {},
   "source": [
    "### Perda da associatividade"
   ]
  },
  {
   "cell_type": "markdown",
   "metadata": {},
   "source": [
    "Sabemos desde a escola que as operações aritmética nos reais possuem as seguintes propriedades:\n",
    "\n",
    "- $(x+y)+z=x+(y+z)$ (associatividade)\n",
    "- $x+y=y+x$ (comutatividade)\n",
    "- $x+0=x$ (elemento neutro da adição)\n",
    "- $\\exists y\\in\\mathbb R: x+y=0$ (elemento oposto)\n",
    "- $(x\\times y)\\times z=x\\times (y\\times z)$ (associatividade)\n",
    "- $x\\times y=y\\times x$ (comutatividade)\n",
    "- $x\\times 1=x$ (elemento neutro da multiplicação)\n",
    "- $\\exists y\\in\\mathbb R\\setminus \\{0\\}: x\\times y=1$ (inverso multiplicativo)\n",
    "- $x\\times(y+z)=(x\\times y)+(x\\times z)$ (distributividade)"
   ]
  },
  {
   "cell_type": "markdown",
   "metadata": {},
   "source": [
    "Quando se trata de sistemas numéricos finitos, a coisa muda de figura!"
   ]
  },
  {
   "cell_type": "markdown",
   "metadata": {},
   "source": [
    "**Exemplo**. Para vermos isto, consideremos a conta\n",
    "\n",
    "$$0{,}0000111 \\times 9999456 / 9999123\\text{.}$$\n",
    "\n",
    "Como sabemos, podemos fazer efetuá-la de diversas maneiras:\n",
    "\n",
    "$$(0{,}0000111 \\times 9999456) / 9999123\\text{,}$$\n",
    "\n",
    "ou\n",
    "\n",
    "$$0{,}0000111 \\times (9999456 / 9999123)\\text{,}$$\n",
    "\n",
    "ou ainda\n",
    "\n",
    "$$(0{,}0000111 / 9999123) \\times 9999456\\text{.}$$"
   ]
  },
  {
   "cell_type": "markdown",
   "metadata": {},
   "source": [
    "(a) Use sua calculadora para fazer a conta dessas três maneiras. Compare os resultados. Você pode explicar\n",
    "o que aconteceu?"
   ]
  },
  {
   "cell_type": "markdown",
   "metadata": {},
   "source": [
    "_Digite sua resposta aqui_"
   ]
  },
  {
   "cell_type": "markdown",
   "metadata": {},
   "source": [
    "### Cancelamento catastrófico"
   ]
  },
  {
   "cell_type": "markdown",
   "metadata": {},
   "source": [
    "Aprendemos na escola que a equação quadrática:"
   ]
  },
  {
   "cell_type": "markdown",
   "metadata": {},
   "source": [
    "$$\n",
    "ax^2 + bx + c = 0\n",
    "$$"
   ]
  },
  {
   "cell_type": "markdown",
   "metadata": {},
   "source": [
    "possui duas soluções:"
   ]
  },
  {
   "cell_type": "markdown",
   "metadata": {},
   "source": [
    "$$\n",
    "x_1 = \\frac{-b + \\sqrt{b^2 - 4ac}}{2a}\n",
    "\\quad\n",
    "\\text{e}\n",
    "\\quad\n",
    "x_2 = \\frac{-b - \\sqrt{b^2 - 4ac}}{2a}\\text{.}\n",
    "$$"
   ]
  },
  {
   "cell_type": "markdown",
   "metadata": {},
   "source": [
    "O uso indiscriminado de aritmética finita, para alguns valores dos coeficientes, pode levar a [resultados catastróficos](http://www-users.math.umn.edu/~arnold//disasters/disasters.html). Um dos casos mais conhecidos é o do foguete Ariane 5:"
   ]
  },
  {
   "cell_type": "code",
   "execution_count": 29,
   "metadata": {},
   "outputs": [
    {
     "data": {
      "image/jpeg": "[encoded data removed]",
      "text/html": [
       "\n",
       "        <iframe\n",
       "            width=\"600\"\n",
       "            height=\"300\"\n",
       "            src=\"https://www.youtube.com/embed/gp_D8r-2hwk\"\n",
       "            frameborder=\"0\"\n",
       "            allowfullscreen\n",
       "        ></iframe>\n",
       "        "
      ],
      "text/plain": [
       "<IPython.lib.display.YouTubeVideo at 0x7f50900f3710>"
      ]
     },
     "execution_count": 29,
     "metadata": {},
     "output_type": "execute_result"
    }
   ],
   "source": [
    "from IPython.display import YouTubeVideo\n",
    "YouTubeVideo(id='gp_D8r-2hwk',width=600)"
   ]
  },
  {
   "cell_type": "markdown",
   "metadata": {},
   "source": [
    "**Exemplo**.\n",
    "\n",
    "(a) Utilize sua calculadora para calcular as raízes da equação quadrática com coeficientes $a = 0{,}05010$, $b = -98{,}78$, and $c = 5{,}015\\text{.}$"
   ]
  },
  {
   "cell_type": "markdown",
   "metadata": {},
   "source": [
    "_Digite sua resposta aqui_"
   ]
  },
  {
   "cell_type": "markdown",
   "metadata": {},
   "source": [
    "(b) Sabendo que as raízes exatas arredondadas para 8 dígitos são:"
   ]
  },
  {
   "cell_type": "markdown",
   "metadata": {},
   "source": [
    "$$x_1 = 1971{,}6059 \\quad\\text{e}\\quad x_2 = 0{,}0507707\\text{,}$$"
   ]
  },
  {
   "cell_type": "markdown",
   "metadata": {},
   "source": [
    "calcule os erros relativos cometidos. Qual raiz está melhor aproximada?"
   ]
  },
  {
   "cell_type": "markdown",
   "metadata": {},
   "source": [
    "_Digite sua resposta aqui_"
   ]
  },
  {
   "cell_type": "markdown",
   "metadata": {},
   "source": [
    "(b) Sabendo que:\n",
    "\n",
    "$$x_1 x_2 = \\frac{c}{a}\\text{,}$$\n",
    "\n",
    "aproxime melhor as raízes. Calcule os erros relativos e compare-os com os do item (a). O que você pôde observar?"
   ]
  },
  {
   "cell_type": "markdown",
   "metadata": {},
   "source": [
    "_Digite sua resposta aqui_"
   ]
  },
  {
   "cell_type": "markdown",
   "metadata": {},
   "source": [
    "## Computador x Calculadora"
   ]
  },
  {
   "cell_type": "markdown",
   "metadata": {},
   "source": [
    "Hoje, vamos aproveitar também para introduzir conceitos fundamentais de Python, uma linguagem de programação simples, que nos permite obter resultados em poucos passos.\n",
    "No momento, a ideia é utilizá-la apenas como uma espécie de calculadora."
   ]
  },
  {
   "cell_type": "markdown",
   "metadata": {},
   "source": [
    "### Números da Python"
   ]
  },
  {
   "cell_type": "markdown",
   "metadata": {},
   "source": [
    "Em Python, toda e qualquer informação que é manipulada em está associada a um *rótulo* e um *objeto*.\n",
    "Um objeto por ser visto como uma região da memória do computador que contém dados (o conteúdo) e informações adicionais sobre estes dados.\n",
    "Estas informações podem incluir, por exemplo, o tipo do conteúdo armazenado e o endereço na memória aonde o objeto está localizado.\n",
    "Os objetos podem ser desde números inteiros até funções."
   ]
  },
  {
   "cell_type": "markdown",
   "metadata": {},
   "source": [
    "Os tipos numéricos mais utilizados em Python são: `int`, `float`, `bool` e `complex`. Para estes números, estão definidas operações aritméticas e lógicas. Por exemplo,"
   ]
  },
  {
   "cell_type": "code",
   "execution_count": 35,
   "metadata": {},
   "outputs": [
    {
     "data": {
      "text/plain": [
       "10.725000000000001"
      ]
     },
     "execution_count": 35,
     "metadata": {},
     "output_type": "execute_result"
    }
   ],
   "source": [
    "65 - 32 + 2*2.3 - 86.0/3.2"
   ]
  },
  {
   "cell_type": "code",
   "execution_count": 36,
   "metadata": {},
   "outputs": [
    {
     "data": {
      "text/plain": [
       "False"
      ]
     },
     "execution_count": 36,
     "metadata": {},
     "output_type": "execute_result"
    }
   ],
   "source": [
    "1.7 > 16"
   ]
  },
  {
   "cell_type": "code",
   "execution_count": 38,
   "metadata": {},
   "outputs": [
    {
     "data": {
      "text/plain": [
       "True"
      ]
     },
     "execution_count": 38,
     "metadata": {},
     "output_type": "execute_result"
    }
   ],
   "source": [
    "2.00005 >= 2"
   ]
  },
  {
   "cell_type": "code",
   "execution_count": 39,
   "metadata": {},
   "outputs": [
    {
     "data": {
      "text/plain": [
       "False"
      ]
     },
     "execution_count": 39,
     "metadata": {},
     "output_type": "execute_result"
    }
   ],
   "source": [
    "3**2 != 9"
   ]
  },
  {
   "cell_type": "markdown",
   "metadata": {},
   "source": [
    "Sempre que digitamos um número utilizando o ponto como separador das partes inteira e fracionária, ele é compreendido como um número real. O tipo Python para números reais é o `float`. Vejamos:"
   ]
  },
  {
   "cell_type": "code",
   "execution_count": 31,
   "metadata": {},
   "outputs": [
    {
     "data": {
      "text/plain": [
       "3.14159"
      ]
     },
     "execution_count": 31,
     "metadata": {},
     "output_type": "execute_result"
    }
   ],
   "source": [
    "3.14159"
   ]
  },
  {
   "cell_type": "markdown",
   "metadata": {},
   "source": [
    "### Orientando pontos"
   ]
  },
  {
   "cell_type": "markdown",
   "metadata": {},
   "source": [
    "Um dos desafios que enfrentamos em Matemática é darmos significados aos números.\n",
    "Um exemplo disso está em um problema de orientação bastante conhecido."
   ]
  },
  {
   "cell_type": "markdown",
   "metadata": {},
   "source": [
    "> Dados três pontos $p=(p_x,p_y)$, $q=(q_x,q_y)$, e $r=(r_x,r_y)$ no plano, verificar se a sequência $(p,q,r)$ obedece à regra da mão direita, esquerda ou se os pontos são colineares."
   ]
  },
  {
   "cell_type": "markdown",
   "metadata": {},
   "source": [
    "Podemos responder a esta pergunta analisando o sinal do determinante:"
   ]
  },
  {
   "cell_type": "markdown",
   "metadata": {},
   "source": [
    "$$\n",
    "\\left|\\begin{array}{ccc}\n",
    "p_x & p_y & 1\\\\\n",
    "q_x & q_y & 1\\\\\n",
    "r_x & r_y & 1\n",
    "\\end{array}\\right|\n",
    "=\n",
    "\\left|\\begin{array}{cc}\n",
    "p_x - r_x & p_y - r_y\\\\\n",
    "q_x - r_x & q_y - r_y\n",
    "\\end{array}\\right|\n",
    "$$"
   ]
  },
  {
   "cell_type": "markdown",
   "metadata": {},
   "source": [
    "Se o sinal for positivo, os pontos obedecerão à regra da mão direita. Se o resultado for negativo, eles estarão segundo a regra da mão esquerda. Caso contrário, os pontos pertencerão à mesma reta."
   ]
  },
  {
   "cell_type": "markdown",
   "metadata": {},
   "source": [
    "As deficiências dos sistemas numéricos finitos que conhecemos até aqui irão dificultar nossas vidas.\n",
    "Nesse contexto, poderemos errar de três modos distintos. Classificamos:\n",
    "\n",
    "- $+$ ou $-$ como um $0$;\n",
    "- $0$ como $+$ ou $-$;\n",
    "- $+$ como $-$ ou vice-versa."
   ]
  },
  {
   "cell_type": "markdown",
   "metadata": {},
   "source": [
    "**Exemplo**. Considere os pontos:\n",
    "\n",
    "\\begin{align*}\n",
    "p &= (24.000005, 24.000053)\\\\\n",
    "q &= (7.3000194, 7.3000167)\\\\\n",
    "r &= (0.5001621, 0.5001243)\n",
    "\\end{align*}"
   ]
  },
  {
   "cell_type": "markdown",
   "metadata": {},
   "source": [
    "(a) Utilize sua calculadora para avaliar o determinante de orientação apresentado acima."
   ]
  },
  {
   "cell_type": "markdown",
   "metadata": {},
   "source": [
    "_Digite sua resposta aqui_"
   ]
  },
  {
   "cell_type": "markdown",
   "metadata": {},
   "source": [
    "(b) Utilize uma célula de código em Python do Jupyter para calcular o mesmo valor do item (a). A operação de multiplicação é realizada pelo asterisco `*`."
   ]
  },
  {
   "cell_type": "markdown",
   "metadata": {},
   "source": [
    "_Digite sua resposta aqui_"
   ]
  },
  {
   "cell_type": "markdown",
   "metadata": {},
   "source": [
    "(c) Os resultados de orientação coincidiram? O que você acha que aconteceu?"
   ]
  },
  {
   "cell_type": "markdown",
   "metadata": {},
   "source": [
    "_Digite sua resposta aqui_"
   ]
  },
  {
   "cell_type": "markdown",
   "metadata": {},
   "source": [
    "## Atividade Prática 3"
   ]
  },
  {
   "cell_type": "markdown",
   "metadata": {},
   "source": [
    "Elabore um bloco de notas explorando o texto [Lies My Calculator and Computer Told Me](https://www.stewartcalculus.com/data/default/upfiles/Calc_8E_liesmycomp_stu.pdf), do professor Stewart.\n",
    "Você deve expandir uma das duas primeiras subseções deste material."
   ]
  },
  {
   "cell_type": "markdown",
   "metadata": {},
   "source": [
    "## Saiba mais"
   ]
  },
  {
   "cell_type": "markdown",
   "metadata": {},
   "source": [
    "- Esta aula é baseada no Capítulo 1 do livro de Victor et al., *Recursos Computacionais para o Ensino de Matemática*, SBM, 2013."
   ]
  },
  {
   "cell_type": "markdown",
   "metadata": {},
   "source": [
    "***"
   ]
  },
  {
   "cell_type": "markdown",
   "metadata": {},
   "source": [
    "&copy; 2019 Vicente Helano<br>\n",
    "UFCA | Universidade Federal do Cariri<br>\n",
    "Mestrado Profissional em Ensino de Matemática"
   ]
  }
 ],
 "metadata": {
  "kernelspec": {
   "display_name": "Python 3",
   "language": "python",
   "name": "python3"
  },
  "language_info": {
   "codemirror_mode": {
    "name": "ipython",
    "version": 3
   },
   "file_extension": ".py",
   "mimetype": "text/x-python",
   "name": "python",
   "nbconvert_exporter": "python",
   "pygments_lexer": "ipython3",
   "version": "3.7.3"
  },
  "toc-autonumbering": false,
  "toc-showcode": false,
  "toc-showmarkdowntxt": false,
  "toc-showtags": false
 },
 "nbformat": 4,
 "nbformat_minor": 4
}
