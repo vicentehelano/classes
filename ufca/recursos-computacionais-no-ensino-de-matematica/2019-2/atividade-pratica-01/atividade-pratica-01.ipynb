{
 "cells": [
  {
   "cell_type": "markdown",
   "metadata": {},
   "source": [
    "# O maravilhoso caso das distâncias ímpares"
   ]
  },
  {
   "cell_type": "markdown",
   "metadata": {},
   "source": [
    "Discutiremos a seguir um problema de geometria cuja solução pode ser obtiva empregando conceitos de álgebra linear."
   ]
  },
  {
   "cell_type": "markdown",
   "metadata": {},
   "source": [
    "## O teorema"
   ]
  },
  {
   "cell_type": "markdown",
   "metadata": {},
   "source": [
    "<b>Teorema.</b> É impossível que quatro pontos no plano tais que a distância entre cada par é um inteiro ímpar."
   ]
  },
  {
   "cell_type": "markdown",
   "metadata": {},
   "source": [
    "## Questionário"
   ]
  },
  {
   "cell_type": "code",
   "execution_count": 1,
   "metadata": {},
   "outputs": [],
   "source": [
    "from metakernel import register_ipython_magics\n",
    "register_ipython_magics()"
   ]
  },
  {
   "cell_type": "code",
   "execution_count": 2,
   "metadata": {},
   "outputs": [
    {
     "data": {
      "application/vnd.jupyter.widget-view+json": {
       "model_id": "d1013229da7f409cbf785153a0c0f69a",
       "version_major": 2,
       "version_minor": 0
      },
      "text/plain": [
       "VBox(children=(HBox(children=(VBox(children=(HTML(value='<p><b>Question ID</b>: 1</p>'), HTML(value='<h1>Which…"
      ]
     },
     "metadata": {},
     "output_type": "display_data"
    }
   ],
   "source": [
    "%%activity ./questionario1\n",
    "\n",
    "{\"activity\": \"poll\",\n",
    " \"instructors\": [\"dblank\"],\n",
    " \"items\": [\n",
    "      {\"id\": \"1\", \n",
    "       \"question\":  \"\"\"Which of the following will print \"Hello\" 5 times without errors?\"\"\", \n",
    "       \"type\": \"multiple choice\",\n",
    "       \"options\": [\n",
    "\"\"\"<pre style=\"width: 600px\">\n",
    "for (int i=0; i < 5; i++) {\n",
    "    println(\"Hello\");\n",
    "}\n",
    "</pre>\"\"\",\n",
    "\"\"\"<pre style=\"width: 600px\">\n",
    "println(\"Hello\");\n",
    "println(\"Hello\");\n",
    "println(\"Hello\");\n",
    "println(\"Hello\");\n",
    "println(\"Hello\");\n",
    "</pre>\"\"\",\n",
    "\"\"\"<pre style=\"width: 600px\">\n",
    "int i = 0;\n",
    "while (i < 5) {\n",
    "    println(\"Hello\");\n",
    "    i++;\n",
    "}\n",
    "</pre>\"\"\",\n",
    "        \"All of the above\",\n",
    "        \"None of the above\",\n",
    "    ]},\n",
    "        \n",
    "    {\"id\": \"2\", \n",
    "     \"question\":    \"\"\"Which of the following is a function definition?\"\"\", \n",
    "     \"type\": \"multiple choice\",\n",
    "     \"options\":    [\n",
    "\"\"\"<pre style=\"width: 600px\">\n",
    "void draw() {\n",
    "}\n",
    "</pre>\"\"\",\n",
    "\"\"\"<pre style=\"width: 600px\">\n",
    "rect(10, 10, 50, 50);\n",
    "</pre>\"\"\",\n",
    "\"\"\"<pre style=\"width: 600px\">\n",
    "drawBunny(mouseX, mouseY, 50, 100);\n",
    "</pre>\"\"\",\n",
    "        \"All of the above\",\n",
    "        \"None of the above\",\n",
    "        ]},\n",
    "      {\"id\": \"3\", \n",
    "       \"question\":     \"\"\"Which of the following has parameters?\"\"\", \n",
    "       \"type\": \"multiple choice\",\n",
    "       \"options\":     [\n",
    "\"\"\"<pre style=\"width: 600px\">\n",
    "void draw() {\n",
    "}\n",
    "</pre>\"\"\",\n",
    "\"\"\"<pre style=\"width: 600px\">\n",
    "void drawRect(float x, float y, float w, float h) {\n",
    "    rect(x, y, w, h);\n",
    "}\n",
    "</pre>\"\"\",\n",
    "\"\"\"<pre style=\"width: 600px\">\n",
    "void drawBunny() {\n",
    "    rect(10, 20, 100, 150);\n",
    "}\n",
    "</pre>\"\"\",\n",
    "        \"All of the above\",\n",
    "        \"None of the above\",\n",
    "        ]},\n",
    "     {\"id\": \"4\", \n",
    "      \"question\":  \"\"\"Which of the following is a function call?\"\"\", \n",
    "      \"type\": \"multiple choice\",\n",
    "      \"options\": [\n",
    "\"\"\"<pre style=\"width: 600px\">\n",
    "void draw() {\n",
    "}\n",
    "</pre>\"\"\",\n",
    "\"\"\"<pre style=\"width: 600px\">\n",
    "rect(10, 10, 50, 50);\n",
    "</pre>\"\"\",\n",
    "\"\"\"<pre style=\"width: 600px\">\n",
    "drawBunny(mouseX, mouseY, 50, 100);\n",
    "</pre>\"\"\",\n",
    "        \"2 and 3\",\n",
    "        \"None of the above\",\n",
    "        ]},\n",
    "    ]\n",
    "}"
   ]
  },
  {
   "cell_type": "markdown",
   "metadata": {},
   "source": [
    "## Saiba mais"
   ]
  },
  {
   "cell_type": "markdown",
   "metadata": {},
   "source": [
    "O problema de distâncias ímpares vai muito além do que abordamos em sala. Navegando na internet, é possível encontrar diversas referências a este problema. Por exemplo,"
   ]
  },
  {
   "cell_type": "markdown",
   "metadata": {},
   "source": [
    "- Mathematics Stack Exchange: __[Linear Algebra (Odd Distance)](https://math.stackexchange.com/questions/108182/linear-algebra-odd-distance)__\n",
    "\n"
   ]
  },
  {
   "cell_type": "markdown",
   "metadata": {},
   "source": [
    "- Artigos:\n",
    "  - https://www.cs.ubc.ca/~jmanuch/journal/papers/DCG2009.pdf\n",
    "  - http://www.ma.huji.ac.il/~kalai/Odd-distance.pdf"
   ]
  },
  {
   "cell_type": "markdown",
   "metadata": {},
   "source": [
    "- L. Piepmeyer, __[The Maximum Number of Odd Integral Distances Between Points in the Plane](https://link.springer.com/article/10.1007/BF02711135)__"
   ]
  },
  {
   "cell_type": "markdown",
   "metadata": {},
   "source": [
    "- Moshe Rosenfeld, __[In Praise of the Gram Matrix](https://link.springer.com/chapter/10.1007/978-3-642-60406-5_29)__, The Mathematics of Paul Erdős II, Editors: Graham, Ronald L, Nešetřil, Jaroslav, Butler, Steve (Eds.), 2013\n"
   ]
  },
  {
   "cell_type": "markdown",
   "metadata": {},
   "source": []
  },
  {
   "cell_type": "markdown",
   "metadata": {},
   "source": [
    "- Vídeo no YouTube"
   ]
  },
  {
   "cell_type": "code",
   "execution_count": 3,
   "metadata": {},
   "outputs": [
    {
     "data": {
      "image/jpeg": "[encoded data removed]",
      "text/html": [
       "\n",
       "        <iframe\n",
       "            width=\"600\"\n",
       "            height=\"300\"\n",
       "            src=\"https://www.youtube.com/embed/IejCHh3R7bQ\"\n",
       "            frameborder=\"0\"\n",
       "            allowfullscreen\n",
       "        ></iframe>\n",
       "        "
      ],
      "text/plain": [
       "<IPython.lib.display.YouTubeVideo at 0x7f8e1ffa18d0>"
      ]
     },
     "execution_count": 3,
     "metadata": {},
     "output_type": "execute_result"
    }
   ],
   "source": [
    "from IPython.display import YouTubeVideo\n",
    "YouTubeVideo(id='IejCHh3R7bQ',width=600,height=300)"
   ]
  }
 ],
 "metadata": {
  "kernelspec": {
   "display_name": "Python 3",
   "language": "python",
   "name": "python3"
  },
  "language_info": {
   "codemirror_mode": {
    "name": "ipython",
    "version": 3
   },
   "file_extension": ".py",
   "mimetype": "text/x-python",
   "name": "python",
   "nbconvert_exporter": "python",
   "pygments_lexer": "ipython3",
   "version": "3.5.3"
  }
 },
 "nbformat": 4,
 "nbformat_minor": 4
}
