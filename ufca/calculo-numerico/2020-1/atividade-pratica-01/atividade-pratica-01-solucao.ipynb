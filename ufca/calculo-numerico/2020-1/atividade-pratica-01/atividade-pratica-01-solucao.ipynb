{
 "cells": [
  {
   "cell_type": "markdown",
   "metadata": {},
   "source": [
    "# Python via Jupyter"
   ]
  },
  {
   "cell_type": "markdown",
   "metadata": {},
   "source": [
    "<br>"
   ]
  },
  {
   "cell_type": "markdown",
   "metadata": {},
   "source": [
    "Esta aula tem como objetivo revisar conceitos básicos da programação em Python utilizando blocos de nota Jupyter. Irei assumir uma familiaridade mínima com a linguagem, geralmente adquirida já na primeira disciplina de programação que cursamos ao ingressar na universidade. Ao final, você deverá ser capaz de editar este bloco de notas para resolver o problema de gerar os números da sequência de Fibonacci."
   ]
  },
  {
   "cell_type": "markdown",
   "metadata": {},
   "source": [
    "## JupyterLab"
   ]
  },
  {
   "cell_type": "markdown",
   "metadata": {},
   "source": [
    "O JupyterLab é uma aplicação web rica que possibilita manipular documentos e atividades (e.g., blocos de nota Jupyter e terminais de execução) de um modo flexível, integrado e expansível.\n",
    "Ele suporta diversos tipos de arquivo (imagens, CSV, JSON, Markdown, PDF, LaTeX, etc.), para os quais pode exibir o resultado interpretado usando o núcleo específico de cada tipo."
   ]
  },
  {
   "cell_type": "markdown",
   "metadata": {},
   "source": [
    "A arquitetura de *núcleos* dos blocos de nota possibilita a execução de códigos em diversas linguagens de programação diferentes. Para cada bloco de notas aberto, o servidor Jupyter cria uma aplicação web com um núcleo que executará os códigos daquele bloco.\n",
    "Cada núcleo é capaz executar códigos em uma única linguagem de programação. Os núcleos disponíveis são:\n",
    "\n",
    "- Python(https://github.com/ipython/ipython)\n",
    "- Julia (https://github.com/JuliaLang/IJulia.jl)\n",
    "- R (https://github.com/IRkernel/IRkernel)\n",
    "- Ruby (https://github.com/minrk/iruby)\n",
    "- Haskell (https://github.com/gibiansky/IHaskell)\n",
    "- Scala (https://github.com/Bridgewater/scala-notebook)\n",
    "- node.js (https://gist.github.com/Carreau/4279371)\n",
    "- Go (https://github.com/takluyver/igo)"
   ]
  },
  {
   "cell_type": "markdown",
   "metadata": {},
   "source": [
    "O núcleo padrão do JupyterLab é o Python. Neste caso, os blocos de nota são salvos em arquivos com extensão `.ipynb`."
   ]
  },
  {
   "cell_type": "markdown",
   "metadata": {},
   "source": [
    "Podemos navegar e aplicar operações em documentos abertos no JupyterLab usando o mouse, através de sua interface com o usuário, ou por intermédio de atalhos de teclado customizáveis. A interface do JupyterLab consiste de uma área principal de trabalho contendo abas com documentos e atividades abertos, uma barra lateral e um menu principal.\n",
    "\n"
   ]
  },
  {
   "cell_type": "markdown",
   "metadata": {},
   "source": [
    "### Menu principal"
   ]
  },
  {
   "cell_type": "markdown",
   "metadata": {},
   "source": [
    "O menu principal padrão localizado no topo do JupyterLab é formado pelos seguintes sub-menus:\n",
    "\n",
    "- `File`: agrupa ações relacionadas a arquivos e pastas\n",
    "- `Edit`: agrupa principalmente ações relacionadas à edição de documentos\n",
    "- `View`: usado para controlar a aparência do JupyterLab\n",
    "- `Run`: usado para executar códigos em células e terminais\n",
    "- `Kernel`: para o gerenciamento de núcleos\n",
    "- `Tabs`: lista de documentos e atividades abertos na área principal\n",
    "- `Settings`: usado para alterar o comportamento do JupyterLab (configurações)\n",
    "- `Help`: ajuda do JupyterLab"
   ]
  },
  {
   "cell_type": "markdown",
   "metadata": {},
   "source": [
    "### Barra lateral"
   ]
  },
  {
   "cell_type": "markdown",
   "metadata": {},
   "source": [
    "A barra lateral contém:\n",
    "\n",
    "- o navegador de arquivos;\n",
    "- a lista de núcleos e terminais em execução;\n",
    "- a paleta de comandos;\n",
    "- o inspetor de células; e\n",
    "- a lista de abas."
   ]
  },
  {
   "cell_type": "markdown",
   "metadata": {},
   "source": [
    "## Blocos de nota Jupyter"
   ]
  },
  {
   "cell_type": "markdown",
   "metadata": {},
   "source": [
    "Os blocos de nota Jupyter são ambientes interativos que permitem a elaboração de documentos ricos contendo:\n",
    "\n",
    "- Códigos em uma linguagem de programação\n",
    "- Janelas interativas\n",
    "- Gráficos\n",
    "- Texto\n",
    "- Equações\n",
    "- Imagens\n",
    "- Vídeos"
   ]
  },
  {
   "cell_type": "markdown",
   "metadata": {},
   "source": [
    "Eles consistem de uma sequência linear de *células*. Há três tipos básicos de célula:\n",
    "- **Células de código:** código escrito na linguagem do núcleo utilizado;\n",
    "- **Células de marcação:** texto usando linguagem de marcação, enriquecido com fórmulas em $\\LaTeX$ e comandos em HTML;\n",
    "- **Células brutas:** texto não formatado, incluíndo sem modificação."
   ]
  },
  {
   "cell_type": "markdown",
   "metadata": {},
   "source": [
    "### Comportamento modal"
   ]
  },
  {
   "cell_type": "markdown",
   "metadata": {},
   "source": [
    "A interface do JupyterLab é *modal*, assim como no `vim`, por exemplo. Isto quer dizer que o teclado possui comportamento distinto dependendo do modo que estiver ativado no bloco de notas. Há dois modos padrão: **modo de edição** e **modo de comando**."
   ]
  },
  {
   "cell_type": "markdown",
   "metadata": {},
   "source": [
    "Se tivermos clicado na margem à esquerda de uma célula, ativamos o modo de edição ao pressionarmos o `Enter` ou clicando com o botão esquerdo do mouse no interior da célula de interesse. Retornamos ao modo de comando apertando o `Esc`."
   ]
  },
  {
   "cell_type": "markdown",
   "metadata": {},
   "source": [
    "#### Modo de edição"
   ]
  },
  {
   "cell_type": "markdown",
   "metadata": {},
   "source": [
    "No modo de edição, o cursor pisca no interior da área de edição. Neste modo, podemos escrever no interior da célula livremente."
   ]
  },
  {
   "cell_type": "markdown",
   "metadata": {},
   "source": [
    "#### Modo de comando"
   ]
  },
  {
   "cell_type": "markdown",
   "metadata": {},
   "source": [
    "Ativamos o modo de comando ao pressionarmos `Esc` ou clicarmos com o mouse fora da região de edição das células. Neste modo, podemos selecionar várias células do bloco e removê-las, por exemplo."
   ]
  },
  {
   "cell_type": "markdown",
   "metadata": {},
   "source": [
    "### Atalhos do teclado"
   ]
  },
  {
   "cell_type": "markdown",
   "metadata": {},
   "source": [
    "O JupyterLab possibilita a navegação e a edição de blocos de nota usando atalhos de teclado.\n",
    "Alguns atalhos bastante usados no modo de comando são:\n",
    "\n",
    "- Ativa o modo de edição: `Enter`\n",
    "- Executa uma célula: `Shift`+`Enter` ou `Ctrl`+`Enter`\n",
    "- Navega entre as células: `up`/`k`, `down`/`j`\n",
    "- Salvar o bloco de notas: `s`\n",
    "- Altera o tipo de célula: `y` (para código), `m` (para marcação)\n",
    "- Criação de célula: `a` (acima da atual), `b` (abaixo da atual)\n",
    "- Edição de célula: `x` (recorta), `c` (copia), `v` (cola), `z` (desfaz), `d` (duas vezes, remove célula)\n",
    "- Operações com núcleos: `i` (duas vezes, interrompe núcleo), `0` (duas vezes, reinicia núcleo)"
   ]
  },
  {
   "cell_type": "markdown",
   "metadata": {},
   "source": [
    "### Abrindo e criando blocos de nota"
   ]
  },
  {
   "cell_type": "markdown",
   "metadata": {},
   "source": [
    "Para editar um bloco de notas existente, basta localizá-lo no navegador de arquivos e clicar duas vezes sobre seu nome ou arrastá-lo com o mouse para a área principal de trabalho.\n",
    "\n"
   ]
  },
  {
   "cell_type": "markdown",
   "metadata": {},
   "source": [
    "Já para criar um novo arquivo dentro da pasta corrente no navegador de arquivos, clique no botão `+` no topo do navegador e, em seguida, escolha o tipo de arquivo que deseja criar.\n",
    "Podemos também usar o menu `File` com a mesma finalidade.\n",
    "\n",
    "\n"
   ]
  },
  {
   "cell_type": "markdown",
   "metadata": {},
   "source": [
    "Um arquivo novo é criado com um nome padrão. Você pode renomeá-lo, clicando com o botão direito e em seguida em `Rename`."
   ]
  },
  {
   "cell_type": "markdown",
   "metadata": {},
   "source": [
    "## Revisão de Python"
   ]
  },
  {
   "cell_type": "markdown",
   "metadata": {},
   "source": [
    "Em Python, toda e qualquer informação que é manipulada em um programa está associada a um *rótulo* e um *objeto*.\n",
    "Um **objeto** por ser visto como uma região da memória que contém dados (o conteúdo) e informações adicionais sobre estes dados.\n",
    "Estas informações podem ser, por exemplo, o tipo do conteúdo armazenado e o endereço na memória aonde o objeto está localizado.\n",
    "Os objetos podem ser desde números inteiros até funções."
   ]
  },
  {
   "cell_type": "markdown",
   "metadata": {},
   "source": [
    "Os **rótulos** são identificadores compostos por um ou mais caracteres concatenados, sempre iniciando com uma letra ou sublinhado (`_`).\n",
    "Os demais caracteres podem ser números, letras ou mais sublinhados.\n",
    "É importante saber também que o Python faz a diferenciação entre letras minúsculas e minúsculas.\n",
    "Alguns exemplos válidos de rótulos são:"
   ]
  },
  {
   "cell_type": "markdown",
   "metadata": {},
   "source": [
    "`fib0`,\n",
    "`Fib0`,\n",
    "`num_fib`,\n",
    "`__FIBONACCI__`."
   ]
  },
  {
   "cell_type": "markdown",
   "metadata": {},
   "source": [
    "Nos exemplos acima, os rótulos `fib0` e `Fib0` serão considerados diferentes e, portanto, associados a objetos diferentes."
   ]
  },
  {
   "cell_type": "markdown",
   "metadata": {},
   "source": [
    "Recomenda-se sempre escolher rótulos que possam dar uma pista para quem lê o programa de qual a utilidade do objeto correspondente. Usar o rótulo `cp` para denotar \"casos positivos\" pode dificultar a leitura de seu programa por outra pessoa. Que tal simplesmente usar: `casos_positivos`?\n",
    "Seu programa ficará ainda mais inteligível se você utilizar uma regra para construção desses rótulos.\n",
    "As regras básicas para códigos em Python estão [aqui](https://en.wikipedia.org/wiki/Naming_convention_(programming)#Python_and_Ruby)."
   ]
  },
  {
   "cell_type": "markdown",
   "metadata": {},
   "source": [
    "Como a Python possui diversos identificadores pré-definidos (e.g., `class`, `continue`, `list`, `dict`, `True` e `False`), devemos tomar cuidado na criação de novos rótulos."
   ]
  },
  {
   "cell_type": "markdown",
   "metadata": {},
   "source": [
    "Na prática, é comum nos referirmos a um dado representado por um rótulo e seu objeto usando simplesmente o termo **variável**, como acontecerá de agora em diante.\n",
    "Isto facilita muito o diálogo."
   ]
  },
  {
   "cell_type": "markdown",
   "metadata": {},
   "source": [
    "### Tipos de dados"
   ]
  },
  {
   "cell_type": "markdown",
   "metadata": {},
   "source": [
    "Toda variável está associada a um determinado *tipo de dado*. Costumamos classificar os tipos de dados em: *primitivos* e *compostos*. Alguns dos tipos mais usados em Python são:"
   ]
  },
  {
   "cell_type": "markdown",
   "metadata": {},
   "source": [
    "- Primitivos: `int`, `float`, `long`, `complex`\n",
    "- Compostos: `str`, `list`, `tuple`, `set`, `dict`"
   ]
  },
  {
   "cell_type": "markdown",
   "metadata": {},
   "source": [
    "As variáveis são criadas no momento em que atribuímos valores a elas usando o operador `=`."
   ]
  },
  {
   "cell_type": "code",
   "execution_count": null,
   "metadata": {},
   "outputs": [],
   "source": [
    "fib = 0\n",
    "temp = 28.7\n",
    "msg = \"Determinante nulo.\""
   ]
  },
  {
   "cell_type": "markdown",
   "metadata": {},
   "source": [
    "Tanto o tipo quanto o tamanho da variável são definidos de modo dinâmico.\n",
    "Portanto, as atribuições acima produziram:\n",
    "  * uma variável de nome `a`, valor igual a $1$ e tipo `int`."
   ]
  },
  {
   "cell_type": "markdown",
   "metadata": {},
   "source": [
    "Será? Para acabar com a dúvida, usaremos a função `type` (- Ué!? Mas nem falamos de função ainda?!)."
   ]
  },
  {
   "cell_type": "code",
   "execution_count": null,
   "metadata": {},
   "outputs": [],
   "source": [
    "type(fib),type(temp),type(msg)"
   ]
  },
  {
   "cell_type": "markdown",
   "metadata": {},
   "source": [
    "Já o tamanho das variáveis é retornado em _bytes_ pela função `size`."
   ]
  },
  {
   "cell_type": "code",
   "execution_count": null,
   "metadata": {},
   "outputs": [],
   "source": [
    "from sys import getsizeof\n",
    "getsizeof(fib),getsizeof(temp),getsizeof(msg)"
   ]
  },
  {
   "cell_type": "markdown",
   "metadata": {},
   "source": [
    "Pularei os detalhes sobre a caixa de comando acima, para focarmos no mais importante neste momento, o conceito de variável."
   ]
  },
  {
   "cell_type": "markdown",
   "metadata": {},
   "source": [
    "A saída acima indica que a `fib` ocupa 24 bytes na memória.\n",
    "Olha o que acontece quando atribuímos um número muito grande à `fib`:"
   ]
  },
  {
   "cell_type": "code",
   "execution_count": null,
   "metadata": {},
   "outputs": [],
   "source": [
    "fib = 100000000000000000000000000000000\n",
    "getsizeof(fib)"
   ]
  },
  {
   "cell_type": "markdown",
   "metadata": {},
   "source": [
    "Quer entender mais sobre bits e bytes? Assista ao vídeo do [Alexandre Meslin](http://www.videoaula.rnp.br/portal/videoaula.action?idItem=656)."
   ]
  },
  {
   "cell_type": "markdown",
   "metadata": {},
   "source": [
    "### Números"
   ]
  },
  {
   "cell_type": "markdown",
   "metadata": {},
   "source": [
    "Os tipos [intrínsecos (ou internos)](https://docs.python.org/pt-br/3/library/stdtypes.html) de números mais utilizados em Python são: `int`, `float`, `bool` e `complex`."
   ]
  },
  {
   "cell_type": "code",
   "execution_count": null,
   "metadata": {},
   "outputs": [],
   "source": [
    "a = 33\n",
    "b = 1.78\n",
    "c = True\n",
    "d = 3 + 2j\n",
    "\n",
    "a,b,c,d\n",
    "type(a),type(b),type(c),type(d)"
   ]
  },
  {
   "cell_type": "markdown",
   "metadata": {},
   "source": [
    "Para estes números, estão definidas operações aritméticas e lógicas. Por exemplo,"
   ]
  },
  {
   "cell_type": "code",
   "execution_count": null,
   "metadata": {},
   "outputs": [],
   "source": [
    "65 - a"
   ]
  },
  {
   "cell_type": "code",
   "execution_count": null,
   "metadata": {},
   "outputs": [],
   "source": [
    "b > 1.7 and a > 16"
   ]
  },
  {
   "cell_type": "code",
   "execution_count": null,
   "metadata": {},
   "outputs": [],
   "source": [
    "not c"
   ]
  },
  {
   "cell_type": "code",
   "execution_count": null,
   "metadata": {},
   "outputs": [],
   "source": [
    "d + a"
   ]
  },
  {
   "cell_type": "markdown",
   "metadata": {},
   "source": [
    "O tipo do objeto resultante da operação será o menor dos tipos envolvidos na expressão, aquele suficiente para representá-lo.\n",
    "Se lembrarmos da teoria de conjuntos, onde:"
   ]
  },
  {
   "cell_type": "markdown",
   "metadata": {},
   "source": [
    "$$\n",
    "\\{0,1\\} \\subset \\mathbb{N} \\subset \\mathbb{Z} \\subset \\mathbb{Q} \\subset \\mathbb{R} \\subset \\mathbb{C}\n",
    "$$"
   ]
  },
  {
   "cell_type": "markdown",
   "metadata": {},
   "source": [
    "conseguiremos prever o tipo resultante."
   ]
  },
  {
   "cell_type": "markdown",
   "metadata": {},
   "source": [
    "### Cadeias de caracteres"
   ]
  },
  {
   "cell_type": "markdown",
   "metadata": {},
   "source": [
    "Uma cadeia de caracteres pode ser vista como um container imutável de caracteres alfanuméricos, delimitada por aspas simples ou dupla."
   ]
  },
  {
   "cell_type": "code",
   "execution_count": null,
   "metadata": {},
   "outputs": [],
   "source": [
    "narrador = \"Então ele disse:\"\n",
    "narrador"
   ]
  },
  {
   "cell_type": "code",
   "execution_count": null,
   "metadata": {},
   "outputs": [],
   "source": [
    "fala = '- Parabéns, Cícero!'\n",
    "fala"
   ]
  },
  {
   "cell_type": "markdown",
   "metadata": {},
   "source": [
    "Podemos usar o operador `+` para concatenar cadeias de caracteres:"
   ]
  },
  {
   "cell_type": "code",
   "execution_count": null,
   "metadata": {},
   "outputs": [],
   "source": [
    "texto = narrador + ' ' + fala\n",
    "texto"
   ]
  },
  {
   "cell_type": "markdown",
   "metadata": {},
   "source": [
    "### Listas"
   ]
  },
  {
   "cell_type": "markdown",
   "metadata": {},
   "source": [
    "As listas em Python são objetos bastante versáteis.\n",
    "Elas são usadas para armazenar coleções de outros objetos (inclusive de outras listas!).\n",
    "Uma lista é delimitada por colchetes, com seus elementos separados por vírgula.\n",
    "Seus elementos podem ser de tipos iguais (homogênea) ou diferentes (heterogênea)."
   ]
  },
  {
   "cell_type": "code",
   "execution_count": null,
   "metadata": {},
   "outputs": [],
   "source": [
    "['K', 3.14, 1j]\n",
    "lista_B = ['K', 3.14, 1j]\n",
    "lista_A = [1, 1.41, lista_B, 33]\n",
    "lista_A,len(lista_A)"
   ]
  },
  {
   "cell_type": "markdown",
   "metadata": {},
   "source": [
    "Dizemos que o primeiro elemento de uma lista fica localizado na posição `0`, o segundo na posição `1`, e assim sucessivamente.\n",
    "Vejamos algumas operações básicas."
   ]
  },
  {
   "cell_type": "code",
   "execution_count": null,
   "metadata": {},
   "outputs": [],
   "source": [
    "# inserção de um elemento no início\n",
    "lista_A.append('fim')\n",
    "lista_A"
   ]
  },
  {
   "cell_type": "code",
   "execution_count": null,
   "metadata": {},
   "outputs": [],
   "source": [
    "# remoção de um elemento (da primeira ocorrência)\n",
    "lista_A.remove(33)\n",
    "lista_A"
   ]
  },
  {
   "cell_type": "code",
   "execution_count": null,
   "metadata": {},
   "outputs": [],
   "source": [
    "# concatenação\n",
    "lista_A + lista_B"
   ]
  },
  {
   "cell_type": "markdown",
   "metadata": {},
   "source": [
    "#### Indexação e fatiamento"
   ]
  },
  {
   "cell_type": "markdown",
   "metadata": {},
   "source": [
    "As listas permitem ainda o uso de indexação, o que possibilita utilizá-las para representar arranjos lineares (vetores). Os índices iniciam em zero e vão até o número de elementos menos um."
   ]
  },
  {
   "cell_type": "code",
   "execution_count": null,
   "metadata": {},
   "outputs": [],
   "source": [
    "lista_A = ['p','y','t','h','o','n']\n",
    "lista_A[0],lista_A[5]"
   ]
  },
  {
   "cell_type": "markdown",
   "metadata": {},
   "source": [
    "Uma funcionalidade bastante útil das listas é a possibilidade de acessarmos blocos de elementos."
   ]
  },
  {
   "cell_type": "code",
   "execution_count": null,
   "metadata": {},
   "outputs": [],
   "source": [
    "lista_B = lista_A[2:4] # fatiamento: do terceiro ao quarto\n",
    "lista_B"
   ]
  },
  {
   "cell_type": "markdown",
   "metadata": {},
   "source": [
    "### O segredo das atribuições em Python"
   ]
  },
  {
   "cell_type": "markdown",
   "metadata": {},
   "source": [
    "Neste momento, é importante ressaltar o real significado de uma simples atribuição em Python. Quando escrevemos:"
   ]
  },
  {
   "cell_type": "markdown",
   "metadata": {},
   "source": [
    "`a` = `b`"
   ]
  },
  {
   "cell_type": "markdown",
   "metadata": {},
   "source": [
    "isto significa: atribua o objeto associado ao identificador `b` para o identificador `a`."
   ]
  },
  {
   "cell_type": "markdown",
   "metadata": {},
   "source": [
    "Analisemos o trecho abaixo:"
   ]
  },
  {
   "cell_type": "code",
   "execution_count": null,
   "metadata": {},
   "outputs": [],
   "source": [
    "b = [5,7,11]\n",
    "a = b\n",
    "a[2] = 'foo'\n",
    "a,b"
   ]
  },
  {
   "cell_type": "markdown",
   "metadata": {},
   "source": [
    "Como tanto `a` quanto `b` estão associados ao mesmo objeto, a alteração no valor de `a[2]` tem efeito em `b`. Portanto, aqui temos uma única lista, associada a dois identificadores.\n",
    "\n",
    "Agora, consideremos algo um pouco diferente."
   ]
  },
  {
   "cell_type": "code",
   "execution_count": null,
   "metadata": {},
   "outputs": [],
   "source": [
    "b = [5,7,11]\n",
    "a = b[:]\n",
    "a[2] = 'foo'\n",
    "a,b"
   ]
  },
  {
   "cell_type": "markdown",
   "metadata": {},
   "source": [
    "Porque isto acontece? O segredo está na operação de fatiamento `a = b[:]`. Esta operação cria uma cópia do objeto associado a `b`. Portanto, o objeto ao qual `a` corresponde é diferente daquele de `b`. Aqui, de fato, temos duas listas distintas."
   ]
  },
  {
   "cell_type": "markdown",
   "metadata": {},
   "source": [
    "## Sentenças e comentários"
   ]
  },
  {
   "cell_type": "markdown",
   "metadata": {},
   "source": [
    "Uma *sentença* é um conjunto de uma ou mais instruções que o interpretador de Python pode executar. Por exemplo, cada linha a seguir é uma sentença:"
   ]
  },
  {
   "cell_type": "code",
   "execution_count": null,
   "metadata": {},
   "outputs": [],
   "source": [
    "a = 2.5\n",
    "b = 3.14159\n",
    "c = a*b**2\n",
    "c"
   ]
  },
  {
   "cell_type": "markdown",
   "metadata": {},
   "source": [
    "Um *comentário* pode ser definido como uma sentença que não possui instrução associada, é uma instrução \"vazia\"."
   ]
  },
  {
   "cell_type": "markdown",
   "metadata": {},
   "source": [
    "### Quebra e continuação de sentenças"
   ]
  },
  {
   "cell_type": "markdown",
   "metadata": {},
   "source": [
    "Podemos colocar várias sentenças em uma única linha, desde que estejam separadas por ponto-e-vírgula."
   ]
  },
  {
   "cell_type": "code",
   "execution_count": null,
   "metadata": {},
   "outputs": [],
   "source": [
    "a = 4; b = 2.5; c = -1; d = 7.2\n",
    "a, b, c, d"
   ]
  },
  {
   "cell_type": "markdown",
   "metadata": {},
   "source": [
    "Embora possível, a concatenação de sentenças em uma única linha geralmente prejudica a intelegibilidade."
   ]
  },
  {
   "cell_type": "markdown",
   "metadata": {},
   "source": [
    "No caso de sentenças longas, muitas vezes é melhor quebrá-las em diversas linhas utilizando o caractere de continuação `\\`:"
   ]
  },
  {
   "cell_type": "code",
   "execution_count": null,
   "metadata": {},
   "outputs": [],
   "source": [
    "d = a*(a - b)*(a - c) - \\\n",
    "    b*(b - a)*(b - c) + \\\n",
    "    c**a"
   ]
  },
  {
   "cell_type": "markdown",
   "metadata": {},
   "source": [
    "Se a sentença possuir um par de parenteses, `()`, podemos quebrá-la em qualquer ponto no interior dos parenteses sem a necessidade de usarmos o caracter `\\`."
   ]
  },
  {
   "cell_type": "code",
   "execution_count": null,
   "metadata": {},
   "outputs": [],
   "source": [
    "e = (1/3)*(a + 2*b +\n",
    "           2*c + 2*d)"
   ]
  },
  {
   "cell_type": "markdown",
   "metadata": {},
   "source": [
    "### Comentários"
   ]
  },
  {
   "cell_type": "markdown",
   "metadata": {},
   "source": [
    "Tudo o que produzimos na vida, se não for possível de ser compreendido, deixa de ter utilidade. Quando programamos, normalmente, desejamos resolver um problema que possa levar a melhorias em um domínio específico. Por isso, é essencial nos esforçarmos para tornar nosso programa intelegível.\n",
    "Também não é para a gente sair explicando o significado de cada linha de código. Basta fazermos comentários explicativos em blocos chave. A inclusão desses comentários em códigos em Python pode ser feita de dois modos:"
   ]
  },
  {
   "cell_type": "markdown",
   "metadata": {},
   "source": [
    "1. Digitando `#` (hashtag ou jogo da velha), todo o resto da linha à direita deste caractere será visto como um comentário e não será executado pelo interpretador."
   ]
  },
  {
   "cell_type": "code",
   "execution_count": null,
   "metadata": {},
   "outputs": [],
   "source": [
    "# Este é um exemplo de comentário.\n",
    "# Abaixo, segue o código:\n",
    "pi = 3.14159"
   ]
  },
  {
   "cell_type": "markdown",
   "metadata": {},
   "source": [
    "2. Digitando um par de aspas triplas, todo o texto contido no interior do par será um comentário. Este modo é mais indicado para comentários longos. Por exemplo:"
   ]
  },
  {
   "cell_type": "code",
   "execution_count": null,
   "metadata": {},
   "outputs": [],
   "source": [
    "\"\"\"\n",
    "Este é um exemplo de comentário longo.\n",
    "Observe que aqui há duas sentenças, cada uma em uma linha distinta.\n",
    "\"\"\""
   ]
  },
  {
   "cell_type": "markdown",
   "metadata": {},
   "source": [
    "## Condicionais"
   ]
  },
  {
   "cell_type": "markdown",
   "metadata": {},
   "source": [
    "Por padrão, o interpretador Python executa um conjunto de sentenças na ordem em que elas estão escritas, iniciando no topo do texto. Usamos o condicional `if` para alterar o fluxo natural do interpretador. A sintaxe completa do `if` é:"
   ]
  },
  {
   "cell_type": "markdown",
   "metadata": {},
   "source": [
    "`if` < expressão booleana 1 >:\n",
    "  > < bloco 1 >\n",
    "\n",
    "`elif` < expressão booleana 2 >:\n",
    "  > < bloco 2 >\n",
    "\n",
    "`elif` < expressão booleana 3 >:\n",
    "  > < bloco 3 >\n",
    "\n",
    "$\\vdots$\n",
    "\n",
    "`elif` < expressão booleana n - 1 >:\n",
    "  > < bloco n - 1 >\n",
    "\n",
    "`else`:\n",
    "> < bloco n >"
   ]
  },
  {
   "cell_type": "markdown",
   "metadata": {},
   "source": [
    "Ilustramos o uso do `if` com um teste de sinal para números reais."
   ]
  },
  {
   "cell_type": "code",
   "execution_count": null,
   "metadata": {},
   "outputs": [],
   "source": [
    "a = -1.35\n",
    "if a > 0:\n",
    "    resposta = \"Positivo\"\n",
    "elif a < 0:\n",
    "    resposta = \"Negativo\"\n",
    "else:\n",
    "    resposta = \"Nulo\"\n",
    "\n",
    "print(resposta)"
   ]
  },
  {
   "cell_type": "markdown",
   "metadata": {},
   "source": [
    "**Observação.** Lembre-se que em Python a indentação é essencial! O que é indentação?"
   ]
  },
  {
   "cell_type": "markdown",
   "metadata": {},
   "source": [
    "## Repetições"
   ]
  },
  {
   "cell_type": "markdown",
   "metadata": {},
   "source": [
    "A utilidade dos computadores está principalmente no fato deles possuirem a capacidade de realizar tarefas repetitivas rapidamente e, o que é melhor, sem reclamar! :)"
   ]
  },
  {
   "cell_type": "markdown",
   "metadata": {},
   "source": [
    "Python possui duas instruções que permitem a repetição de blocos de sentenças: o `for` e o `while`. Essas repetições  são conhecidas como *laços*. Neste momento, nos restringiremos a explicar o uso do `for`."
   ]
  },
  {
   "cell_type": "markdown",
   "metadata": {},
   "source": [
    "A estrutura básica de um laço usando `for` é a seguinte."
   ]
  },
  {
   "cell_type": "markdown",
   "metadata": {},
   "source": [
    "`for` < iterador > in < container de objetos >:\n",
    "  > < bloco de sentenças >"
   ]
  },
  {
   "cell_type": "markdown",
   "metadata": {},
   "source": [
    "onde `< iterator >` será um objeto usado para acessar cada elemento do `< container de objetos >`. Por exemplo,"
   ]
  },
  {
   "cell_type": "code",
   "execution_count": null,
   "metadata": {},
   "outputs": [],
   "source": [
    "a = [1.2, 3.5, -2.9, 0.32, 1.87]\n",
    "c = 0\n",
    "for b in a:\n",
    "    c = c + b\n",
    "c"
   ]
  },
  {
   "cell_type": "markdown",
   "metadata": {},
   "source": [
    "No código acima, o que representa a variável `c`?"
   ]
  },
  {
   "cell_type": "markdown",
   "metadata": {},
   "source": [
    "Como as listas permitem indexação iniciando do zero, podemos escrever o algoritmo anterior de outro modo."
   ]
  },
  {
   "cell_type": "code",
   "execution_count": null,
   "metadata": {},
   "outputs": [],
   "source": [
    "a = [1.2, 3.5, -2.9, 0.32, 1.87]\n",
    "c = 0\n",
    "for i in range(len(a)): # len(a) é igual ao número de elementos de 'a'\n",
    "    c = c + a[i]\n",
    "c"
   ]
  },
  {
   "cell_type": "markdown",
   "metadata": {},
   "source": [
    "Na versão acima, utilizamos as funções `range` e `len` para gerar uma lista de números inteiros. A função `len` retorna a quantidade de elementos em uma lista. A forma geral da função `range` é:"
   ]
  },
  {
   "cell_type": "markdown",
   "metadata": {},
   "source": [
    "`range`(inicio, fim, passo)"
   ]
  },
  {
   "cell_type": "markdown",
   "metadata": {},
   "source": [
    "Ela retorna uma classe do tipo `range` contendo números inteiros regularmente espaçados iniciando `inicio`, todos menores do que `fim`. O `passo` define a distância entre elementos consecutivos da lista. Seguem alguns exemplos:"
   ]
  },
  {
   "cell_type": "code",
   "execution_count": null,
   "metadata": {},
   "outputs": [],
   "source": [
    "a = list(range(4))\n",
    "b = list(range(3,7))\n",
    "c = list(range(10,1,-2))\n",
    "a,b,c"
   ]
  },
  {
   "cell_type": "markdown",
   "metadata": {},
   "source": [
    "### Saídas prematuras"
   ]
  },
  {
   "cell_type": "markdown",
   "metadata": {},
   "source": [
    "Nem sempre precisamos executar um laço do início ao fim. Quando estamos buscando um objeto dentro de uma lista, por exemplo, percorremos a lista até encontrarmos o objeto desejado. No momento em que ele é encontrado, podemos interromper o laço. Esta interrupção é feita com o `break`."
   ]
  },
  {
   "cell_type": "code",
   "execution_count": null,
   "metadata": {},
   "outputs": [],
   "source": [
    "a = 4\n",
    "for x in c:\n",
    "    if x == a:\n",
    "        break"
   ]
  },
  {
   "cell_type": "markdown",
   "metadata": {},
   "source": [
    "Outra sentença que é muito útil é o `continue`, utilizado para \"pularmos\" algumas iterações de um laço."
   ]
  },
  {
   "cell_type": "code",
   "execution_count": null,
   "metadata": {},
   "outputs": [],
   "source": [
    "a = 4\n",
    "for x in c:\n",
    "    if x == a:\n",
    "        continue"
   ]
  },
  {
   "cell_type": "markdown",
   "metadata": {},
   "source": [
    "## Funções"
   ]
  },
  {
   "cell_type": "markdown",
   "metadata": {},
   "source": [
    "Uma função é um objeto que encapsula uma sequência de sentenças que podem ser executadas inúmeras vezes dentro de um programa. Ela deve ser definida em qualquer região do código fonte, mas sempre antes do ponto onde será utilizada."
   ]
  },
  {
   "cell_type": "markdown",
   "metadata": {},
   "source": [
    "A forma geral de uma função é:"
   ]
  },
  {
   "cell_type": "markdown",
   "metadata": {},
   "source": [
    "`def` < nome da funcao >(< lista de argumentos >):\n",
    "  > < corpo da funcao >"
   ]
  },
  {
   "cell_type": "markdown",
   "metadata": {},
   "source": [
    "Por exemplo,"
   ]
  },
  {
   "cell_type": "code",
   "execution_count": null,
   "metadata": {},
   "outputs": [],
   "source": [
    "def maior(a,b):\n",
    "    if a > b:\n",
    "        return a\n",
    "    else:\n",
    "        return b"
   ]
  },
  {
   "cell_type": "code",
   "execution_count": null,
   "metadata": {},
   "outputs": [],
   "source": [
    "maior(3,2)"
   ]
  },
  {
   "cell_type": "code",
   "execution_count": null,
   "metadata": {},
   "outputs": [],
   "source": [
    "maior(-1,-3)"
   ]
  },
  {
   "cell_type": "markdown",
   "metadata": {},
   "source": [
    "As funções podem ter uma valor de retorno.Considere uma função $f\\!:\\mathbb{R}\\rightarrow\\mathbb{R}^2$, definida por $f(x) = (x, x^2)$. Podemos implementá-la assim:"
   ]
  },
  {
   "cell_type": "code",
   "execution_count": null,
   "metadata": {},
   "outputs": [],
   "source": [
    "def f(x):\n",
    "    return (x, x**2)"
   ]
  },
  {
   "cell_type": "markdown",
   "metadata": {},
   "source": [
    "Vejamos o resultado de $f(3)$:"
   ]
  },
  {
   "cell_type": "code",
   "execution_count": null,
   "metadata": {},
   "outputs": [],
   "source": [
    "f(3)"
   ]
  },
  {
   "cell_type": "markdown",
   "metadata": {},
   "source": [
    "Observe que é necessário empregar a palavra-chave `return` para que $f$ de fato retorne o valor calculado."
   ]
  },
  {
   "cell_type": "markdown",
   "metadata": {},
   "source": [
    "### Passagem de parâmetros"
   ]
  },
  {
   "cell_type": "markdown",
   "metadata": {},
   "source": [
    "Quando passamos argumentos para uma função, o que acontece é uma simples **atribuição**. Lembre-se que uma atribuição em Python cria apenas um rótulo (do lado esquerdo) para um objeto (do lado direito)."
   ]
  },
  {
   "cell_type": "markdown",
   "metadata": {},
   "source": [
    "Se o que passamos é um rótulo para um objeto _imutável_ (e.g., `int`, `float`, `bool`, `str`, `tuple`), a função não tem como alterar o valor armazenado no objeto original, fora da função."
   ]
  },
  {
   "cell_type": "code",
   "execution_count": null,
   "metadata": {},
   "outputs": [],
   "source": [
    "def atualiza(a):\n",
    "    a = 'atualizada!'\n"
   ]
  },
  {
   "cell_type": "code",
   "execution_count": null,
   "metadata": {},
   "outputs": [],
   "source": [
    "a = 100\n",
    "atualiza(a)\n",
    "a"
   ]
  },
  {
   "cell_type": "markdown",
   "metadata": {},
   "source": [
    "Agora, se o objeto for _mutável_ (e.g., `list`, `dict`, `set`), qualquer alteração usando o rótulo dentro da função modificará o objeto original, criado fora da função."
   ]
  },
  {
   "cell_type": "code",
   "execution_count": null,
   "metadata": {},
   "outputs": [],
   "source": [
    "def atualiza_lista(a):\n",
    "    a[0] = 'atualizada!'"
   ]
  },
  {
   "cell_type": "code",
   "execution_count": null,
   "metadata": {},
   "outputs": [],
   "source": [
    "a = [1, 2, 3, 4]\n",
    "atualiza_lista(a)\n",
    "a"
   ]
  },
  {
   "cell_type": "markdown",
   "metadata": {},
   "source": [
    "### Recursividade"
   ]
  },
  {
   "cell_type": "markdown",
   "metadata": {},
   "source": [
    "A função a seguir é uma implementação recursiva para o cálculo de $n!$, para $n = 0, 1, 2, \\ldots$"
   ]
  },
  {
   "cell_type": "code",
   "execution_count": null,
   "metadata": {},
   "outputs": [],
   "source": [
    "def fatrec(n):\n",
    "    if n == 0:\n",
    "        return 1\n",
    "    return n*fatrec(n-1)"
   ]
  },
  {
   "cell_type": "code",
   "execution_count": null,
   "metadata": {},
   "outputs": [],
   "source": [
    "%%time\n",
    "fatrec(4)"
   ]
  },
  {
   "cell_type": "markdown",
   "metadata": {},
   "source": [
    "**Observação.** Você notou algo diferente no teste acima? Usamos a função mágica `time` do Jupyter (IPython) para medir o tempo de execução gasto na célula de código. Esta informação nos será muito útil em breve."
   ]
  },
  {
   "cell_type": "markdown",
   "metadata": {},
   "source": [
    "## Números de Fibonacci"
   ]
  },
  {
   "cell_type": "markdown",
   "metadata": {},
   "source": [
    "Agora, iremos aplicar o que aprendemos de Jupyter e Python para implementar dois métodos que geram uma sequência de números inteiros bastante famosa na Matemática, a **sequência de Fibonacci**. Alguns números desta sequência são:"
   ]
  },
  {
   "cell_type": "markdown",
   "metadata": {},
   "source": [
    "$0, 1, 1, 2, 3, 5, 8, 13, 21, 34, 55, 89, 144, 233, 377, 610, 987, 1597, 2584, 4181, 6765, 10946, 17711, 28657, 46368, 75025, 121393, 196418, 317811, 514229, 832040, 1346269, 2178309, 3524578, 5702887, 9227465, 14930352, 24157817, 39088169, 63245986, 102334155$"
   ]
  },
  {
   "cell_type": "markdown",
   "metadata": {},
   "source": [
    "### Algoritmo recursivo"
   ]
  },
  {
   "cell_type": "markdown",
   "metadata": {},
   "source": [
    "Podemos definir a sequência de Fibonacci $\\left(F_n\\right)_{n=0}^\\infty$ usando recursividade. Com efeito, primeiramente fazemos $F_0 = 0$ e $F_1 = 1$, os quais chamamos de **casos base**. Agora, estabelecemos a seguinte relação recursiva:"
   ]
  },
  {
   "cell_type": "markdown",
   "metadata": {},
   "source": [
    "$$F_{n} = F_{n-2} + F_{n-1}\\text{, para } n = 2, 3, 4, \\ldots$$"
   ]
  },
  {
   "cell_type": "markdown",
   "metadata": {},
   "source": [
    "#### **Exercício.**\n",
    "(a) Complete a função `fibrec` abaixo de modo que ela retorne $F_n$ utilizando a definição acima."
   ]
  },
  {
   "cell_type": "code",
   "execution_count": null,
   "metadata": {},
   "outputs": [],
   "source": [
    "def fibrec(n):\n",
    "    if n == 0:\n",
    "        return 0\n",
    "    elif n == 1:\n",
    "        return 1\n",
    "    else:\n",
    "        return fibrec(n-1) + fibrec(n-2)"
   ]
  },
  {
   "cell_type": "markdown",
   "metadata": {},
   "source": [
    "Sabendo que $F_{32} = 2178309$, o resultado do teste abaixo para a sua função deverá ser `True`. Verifique!"
   ]
  },
  {
   "cell_type": "code",
   "execution_count": null,
   "metadata": {},
   "outputs": [],
   "source": [
    "%%time\n",
    "fibrec(32) == 2178309"
   ]
  },
  {
   "cell_type": "markdown",
   "metadata": {},
   "source": [
    "### Algoritmo matricial"
   ]
  },
  {
   "cell_type": "markdown",
   "metadata": {},
   "source": [
    "Agora, tenho uma notícia não muito boa. O algoritmo anterior está longe de ser o mais rápido para calcular o $n$-ésimo número de Fibonacci. Como já era de se esperar (não é?), tamanha a sua simplicidade. De fato, há diversas alternativas mais rápidas. Uma dessas utiliza álgebra matricial. Por simplicidade, discutiremos aqui uma implementação simples deste algoritmo."
   ]
  },
  {
   "cell_type": "markdown",
   "metadata": {},
   "source": [
    "A ideia chave do novo algoritmo está em expressar $F_n$ do seguinte modo:"
   ]
  },
  {
   "cell_type": "markdown",
   "metadata": {},
   "source": [
    "$$\n",
    "\\begin{bmatrix}F_{n}\\\\ F_{n-1}\\end{bmatrix} = \n",
    "\\begin{bmatrix}F_{n-1} + F_{n-2}\\\\ F_{n-1} \\end{bmatrix} =\n",
    "\\begin{bmatrix}1 & 1\\\\ 1 & 0\\end{bmatrix}\n",
    "\\begin{bmatrix}F_{n-1}\\\\ F_{n-2}\\end{bmatrix}\\text{.}\n",
    "$$"
   ]
  },
  {
   "cell_type": "markdown",
   "metadata": {},
   "source": [
    "Definindo"
   ]
  },
  {
   "cell_type": "markdown",
   "metadata": {},
   "source": [
    "$$\n",
    "\\mathbf{M} = \\begin{bmatrix}1 & 1\\\\ 1 & 0\\end{bmatrix}\\text{,}\n",
    "$$"
   ]
  },
  {
   "cell_type": "markdown",
   "metadata": {},
   "source": [
    "teremos:"
   ]
  },
  {
   "cell_type": "markdown",
   "metadata": {},
   "source": [
    "\\begin{align}\n",
    "\\begin{bmatrix}F_{n}\\\\ F_{n-1}\\end{bmatrix} &= \\mathbf{M} \\begin{bmatrix}F_{n-1}\\\\ F_{n-2}\\end{bmatrix}\\text{,}\\\\\n",
    " &= \\mathbf{M}^2 \\begin{bmatrix}F_{n-2}\\\\ F_{n-3}\\end{bmatrix}\\text{,}\\\\\n",
    " &= \\mathbf{M}^3 \\begin{bmatrix}F_{n-3}\\\\ F_{n-4}\\end{bmatrix}\\text{,}\\\\\n",
    " &\\vdots \\\\\n",
    " &= \\mathbf{M}^{n-1} \\begin{bmatrix}F_{1}\\\\ F_{0}\\end{bmatrix} = \\mathbf{M}^{n-1} \\begin{bmatrix}1\\\\ 0\\end{bmatrix}\\text{.}\n",
    "\\end{align}"
   ]
  },
  {
   "cell_type": "markdown",
   "metadata": {},
   "source": [
    "Com isso, reduzimos o problema de calcular $F_n$ no problema de calcular a $(n-1)$-ésima potência da matriz $\\mathbf{M}$. O coeficiente de $\\mathbf{M}^{n-1}$ localizado na primeira linha e primeira coluna será exatamente o número de Fibonacci que procuramos. (Porque?)"
   ]
  },
  {
   "cell_type": "markdown",
   "metadata": {},
   "source": [
    "Como o Python não possui nenhum tipo interno para armazenar matrizes, precisamos criar uma representação alternativa. Podemos pensar em uma matriz como uma coleção de linhas (ou colunas, se assim desejar). Isto pode ser implementado usando uma lista de listas. Com isso, a matriz $\\mathbf{M}$ será representada por:"
   ]
  },
  {
   "cell_type": "code",
   "execution_count": null,
   "metadata": {},
   "outputs": [],
   "source": [
    "M = [[1, 1],\\\n",
    "     [1, 0]]\n",
    "print(M)"
   ]
  },
  {
   "cell_type": "markdown",
   "metadata": {},
   "source": [
    "#### **Exercício.**\n",
    "(a) Complete a função `matmat` abaixo para que esta retorne o resultado do produto de duas matrizes $\\mathbf{A}$ e $\\mathbf{B}$, ambas $2\\times 2$."
   ]
  },
  {
   "cell_type": "code",
   "execution_count": null,
   "metadata": {},
   "outputs": [],
   "source": [
    "def matmat(A,B):\n",
    "    c00 = A[0][0]*B[0][0] + A[0][1]*B[1][0]\n",
    "    c01 = A[0][0]*B[0][1] + A[0][1]*B[1][1]\n",
    "    c10 = A[1][0]*B[0][0] + A[1][1]*B[1][0]\n",
    "    c11 = A[1][0]*B[0][1] + A[1][1]*B[1][1]\n",
    "    return [[c00, c01],[c10, c11]]"
   ]
  },
  {
   "cell_type": "markdown",
   "metadata": {},
   "source": [
    "Verifique a corretude de sua implementação executando a célula abaixo."
   ]
  },
  {
   "cell_type": "code",
   "execution_count": null,
   "metadata": {},
   "outputs": [],
   "source": [
    "A = [[2, 1],[-1, 2]]\n",
    "B = [[-1, 0],[1, 3]]\n",
    "matmat(A,B) == [[-1, 3], [3, 6]]"
   ]
  },
  {
   "cell_type": "markdown",
   "metadata": {},
   "source": [
    "(b) Complete a função `matpot` a seguir de modo que esta retorne a $n$-ésima potência de uma matriz $\\mathbf{M}$."
   ]
  },
  {
   "cell_type": "code",
   "execution_count": null,
   "metadata": {},
   "outputs": [],
   "source": [
    "def matpot(M,n):\n",
    "    P = [[1,0],[0,1]] # matriz identidade\n",
    "    for i in range(n):\n",
    "        P = matmat(M,P)\n",
    "    return P"
   ]
  },
  {
   "cell_type": "markdown",
   "metadata": {},
   "source": [
    "(c) Implemente o algoritmo matricial de Fibonacci (Método 2). Sua função deve retornar o valor de $F_n$."
   ]
  },
  {
   "cell_type": "code",
   "execution_count": null,
   "metadata": {},
   "outputs": [],
   "source": [
    "def fibmat(n):\n",
    "    if n == 0:\n",
    "        return 0\n",
    "    else:\n",
    "        P = matpot(M,n-1)\n",
    "        return P[0][0]"
   ]
  },
  {
   "cell_type": "code",
   "execution_count": null,
   "metadata": {},
   "outputs": [],
   "source": [
    "%%time\n",
    "fibmat(32) == 2178309"
   ]
  },
  {
   "cell_type": "markdown",
   "metadata": {},
   "source": [
    "(d) Você percebeu alguma diferença no tempo de execução dos dois métodos? Caso positivo, qual deles foi mais rápido? Você teria uma justificativa para isto?"
   ]
  },
  {
   "cell_type": "markdown",
   "metadata": {},
   "source": [
    "_Resposta_. Sim, o Método 2 é bem mais rápido. Executando em meu computador (Intel Core 2 Q9550, clock de 2.83GHz e 4 GB de RAM), a `fibrec` levou 9.57 segundos para o cálculo de $F_{36}$, enquanto que a `fibmat` levou apenas 72 microssegundos.\n",
    "\n",
    "O ponto principal que leva a esta diferença de desempenho é o fato de que a implementação recursiva não utiliza resultados intermediários para acelerar os cálculos."
   ]
  },
  {
   "cell_type": "markdown",
   "metadata": {},
   "source": [
    "#### **Desafio.**\n",
    "Implemente uma função para o cálculo de $F_n$ que seja mais rápida do que a implementação matricial apresentada anteriormente.\n",
    "Fique à vontade para pesquisar na internet!"
   ]
  },
  {
   "cell_type": "code",
   "execution_count": null,
   "metadata": {},
   "outputs": [],
   "source": [
    "def fibfast(n):\n",
    "    return None # altere esta linha, caso necessário"
   ]
  },
  {
   "cell_type": "code",
   "execution_count": null,
   "metadata": {},
   "outputs": [],
   "source": [
    "%%time\n",
    "fibfast(32) == 2178309"
   ]
  },
  {
   "cell_type": "markdown",
   "metadata": {},
   "source": [
    "## Saiba mais"
   ]
  },
  {
   "cell_type": "markdown",
   "metadata": {},
   "source": [
    "- Como prometido, apresentamos aqui apenas uma pitada de Python. Vimos conceitos básicos e, ainda assim, de modo rasteiro. Para realmente aprender a programar em Python é necessário muito mais do que isso. É preciso praticar todos os dias!"
   ]
  },
  {
   "cell_type": "markdown",
   "metadata": {},
   "source": [
    "- Um excelente material que encontrei em português sobre os blocos de nota do Jupyter foi a apostila do professor Salviano A. Leão, __[Python e o Jupyter/IPython Notebook](http://2017.fgsl.net/up/2/o/00023_12_Seminario-_Introducao_ao_Jupyter.pdf)__, 2017.\n",
    "Tem ainda o site do curso de Python do Departamento de Ciência da Computação na UFRJ: __[https://dcc.ufrj.br/~pythonufrj/](https://dcc.ufrj.br/~pythonufrj/)__.\n",
    "Confesso que não procurei por vídeos no YouTube. Que tal tentar?"
   ]
  },
  {
   "cell_type": "markdown",
   "metadata": {},
   "source": [
    "- O problema de Fibonacci abordado no final da aula foi inspirado nas Miniaturas 1 e 2 do livro do professor Jiří Matoušek,  __[Thirty-three Miniatures: Mathematical and Algorithmic Appplications of Linear Algebra](https://kam.mff.cuni.cz/~matousek/stml-53-matousek-1.pdf)__, *Student Mathematical Library*, v. 53, AMS, 2010.\n"
   ]
  },
  {
   "cell_type": "markdown",
   "metadata": {},
   "source": [
    "- Diversos resultados em torno da sequência de Fibonacci estão catalogados na *The On-Line Encyclopedia of Integer Sequences*, no endereço: __[https://oeis.org/A000045](https://oeis.org/A000045)__."
   ]
  },
  {
   "cell_type": "markdown",
   "metadata": {},
   "source": [
    "- No relatório de Ali Dasdan, __[Twelve Simple Algorithms to Compute Fibonacci Numbers](https://arxiv.org/abs/1803.07199)__, há doze algoritmos diferentes para o cálculo de $F_n$."
   ]
  },
  {
   "cell_type": "markdown",
   "metadata": {},
   "source": [
    "- Para finalizar, assista ao vídeo de Arthur Benjamin, **A magia dos números de Fibonacci**, TED Talks"
   ]
  },
  {
   "cell_type": "code",
   "execution_count": null,
   "metadata": {},
   "outputs": [],
   "source": [
    "from IPython.display import YouTubeVideo\n",
    "YouTubeVideo(id='SjSHVDfXHQ4',width=600,height=300)"
   ]
  },
  {
   "cell_type": "markdown",
   "metadata": {},
   "source": [
    "<br>"
   ]
  },
  {
   "cell_type": "markdown",
   "metadata": {},
   "source": [
    "&copy; 2020 Vicente Helano<br>\n",
    "UFCA | Centro de Ciências e Tecnologia<br>"
   ]
  }
 ],
 "metadata": {
  "kernelspec": {
   "display_name": "Python 3",
   "language": "python",
   "name": "python3"
  },
  "language_info": {
   "codemirror_mode": {
    "name": "ipython",
    "version": 3
   },
   "file_extension": ".py",
   "mimetype": "text/x-python",
   "name": "python",
   "nbconvert_exporter": "python",
   "pygments_lexer": "ipython3",
   "version": "3.7.3"
  }
 },
 "nbformat": 4,
 "nbformat_minor": 4
}
