{
 "cells": [
  {
   "cell_type": "markdown",
   "metadata": {
    "slideshow": {
     "slide_type": "slide"
    }
   },
   "source": [
    "# Uma breve introdução à NumPy"
   ]
  },
  {
   "cell_type": "markdown",
   "metadata": {
    "slideshow": {
     "slide_type": "skip"
    }
   },
   "source": [
    "<br>"
   ]
  },
  {
   "cell_type": "markdown",
   "metadata": {
    "slideshow": {
     "slide_type": "subslide"
    }
   },
   "source": [
    "Na aula de hoje, iremos estudar um pouco a NumPy, o principal módulo para cálculos numéricos da Python. Ela será nossa companheira ao longo de todo o curso. Por isso, é importante que nos debrucemos cuidadosamente sobre ela."
   ]
  },
  {
   "cell_type": "markdown",
   "metadata": {
    "slideshow": {
     "slide_type": "slide"
    }
   },
   "source": [
    "## Módulos, bibliotecas e a NumPy"
   ]
  },
  {
   "cell_type": "markdown",
   "metadata": {
    "slideshow": {
     "slide_type": "fragment"
    }
   },
   "source": [
    "Um **módulo** é um arquivo contendo definições e comandos em Python, o qual pode ser importado por outros módulos.\n",
    "O nome de um módulo é o mesmo nome do arquivo `.py` contendo seu código.\n",
    "Ele é compilado no momento de sua importação, gerando arquivos `.pyc`, que são carregados pelo interpretador.\n",
    "Uma coleção de módulos dá origem ao que chamamos de **pacote** ou **biblioteca**."
   ]
  },
  {
   "cell_type": "markdown",
   "metadata": {
    "slideshow": {
     "slide_type": "fragment"
    }
   },
   "source": [
    "O projeto __[SciPy](https://www.scipy.org/)__ visa desenvolver uma plataforma para a implementação de softwares científicos e de engenharia.\n",
    "A biblioteca __[NumPy](https://www.numpy.org/)__, parte deste projeto, inclue tipos numéricos primitivos, arranjos numéricos semelhantes às listas e diversos algoritmos que manipulam estes dados."
   ]
  },
  {
   "cell_type": "markdown",
   "metadata": {
    "slideshow": {
     "slide_type": "slide"
    }
   },
   "source": [
    "## Importando a NumPy"
   ]
  },
  {
   "cell_type": "markdown",
   "metadata": {
    "slideshow": {
     "slide_type": "subslide"
    }
   },
   "source": [
    "Para que possamos utilizar a NumPy precisamos, primeiro, nos assegurar de que ela está instalada. Podemos verificar isso ao tentarmos importá-la:"
   ]
  },
  {
   "cell_type": "code",
   "execution_count": null,
   "metadata": {
    "slideshow": {
     "slide_type": "fragment"
    }
   },
   "outputs": [],
   "source": [
    "import numpy as np"
   ]
  },
  {
   "cell_type": "markdown",
   "metadata": {
    "slideshow": {
     "slide_type": "subslide"
    }
   },
   "source": [
    "Se a execução da célula anterior não retornar qualquer erro, podemos  acessar um objeto `func` definido na NumPy escrevendo `np.func`.\n",
    "Caso contrário, é sinal de que ela precisa ser instalada. A instalação de pacotes Python depende do sistema operacional."
   ]
  },
  {
   "cell_type": "markdown",
   "metadata": {
    "slideshow": {
     "slide_type": "subslide"
    }
   },
   "source": [
    "- Windows:\n",
    "    1. Digite `Janela` + `R` e pressione `Enter`;\n",
    "    1. Digite `cmd` e pressione `Enter`;\n",
    "    1. No terminal (\"tela preta\"), digite `pip install numpy` e pressione `Enter`"
   ]
  },
  {
   "cell_type": "markdown",
   "metadata": {
    "slideshow": {
     "slide_type": "subslide"
    }
   },
   "source": [
    "- Linux (distro com `apt`):\n",
    "    1. Abra o terminal;\n",
    "    1. `pip3 install numpy` e pressione `Enter`"
   ]
  },
  {
   "cell_type": "markdown",
   "metadata": {
    "slideshow": {
     "slide_type": "fragment"
    }
   },
   "source": [
    "Agora, retorne ao início desta seção e refaça o teste de importação."
   ]
  },
  {
   "cell_type": "markdown",
   "metadata": {
    "slideshow": {
     "slide_type": "slide"
    }
   },
   "source": [
    "## Tipos de dados da Numpy"
   ]
  },
  {
   "cell_type": "markdown",
   "metadata": {
    "slideshow": {
     "slide_type": "subslide"
    }
   },
   "source": [
    "### Tipos primitivos"
   ]
  },
  {
   "cell_type": "markdown",
   "metadata": {
    "slideshow": {
     "slide_type": "fragment"
    }
   },
   "source": [
    "`bool`\n",
    "`int32`\n",
    "`int64`\n",
    "`uint32`\n",
    "`uint64`\n",
    "`float32`\n",
    "`float64`\n",
    "`complex64`\n",
    "`complex128`"
   ]
  },
  {
   "cell_type": "markdown",
   "metadata": {
    "slideshow": {
     "slide_type": "subslide"
    }
   },
   "source": [
    "Podemos exibir as características de um tipo real específico usando a `numpy.finfo`:"
   ]
  },
  {
   "cell_type": "code",
   "execution_count": null,
   "metadata": {
    "slideshow": {
     "slide_type": "fragment"
    }
   },
   "outputs": [],
   "source": [
    "print(np.finfo(np.float))"
   ]
  },
  {
   "cell_type": "markdown",
   "metadata": {
    "slideshow": {
     "slide_type": "subslide"
    }
   },
   "source": [
    "As informações de tipos inteiros são dadas por `numpy.iinfo`:"
   ]
  },
  {
   "cell_type": "code",
   "execution_count": null,
   "metadata": {
    "slideshow": {
     "slide_type": "fragment"
    }
   },
   "outputs": [],
   "source": [
    "print(np.iinfo(np.int))"
   ]
  },
  {
   "cell_type": "markdown",
   "metadata": {
    "slideshow": {
     "slide_type": "subslide"
    }
   },
   "source": [
    "### Constantes"
   ]
  },
  {
   "cell_type": "markdown",
   "metadata": {
    "slideshow": {
     "slide_type": "fragment"
    }
   },
   "source": [
    "A NumPy possui diversas constantes matemáticas pré-definidas. Algumas delas são:"
   ]
  },
  {
   "cell_type": "code",
   "execution_count": null,
   "metadata": {
    "slideshow": {
     "slide_type": "fragment"
    }
   },
   "outputs": [],
   "source": [
    "np.e, np.pi, np.inf, np.nan"
   ]
  },
  {
   "cell_type": "markdown",
   "metadata": {
    "slideshow": {
     "slide_type": "fragment"
    }
   },
   "source": [
    "A lista completa dessas constantes está disponível __[aqui](https://docs.scipy.org/doc/numpy/reference/constants.html)__."
   ]
  },
  {
   "cell_type": "markdown",
   "metadata": {
    "slideshow": {
     "slide_type": "slide"
    }
   },
   "source": [
    "### Arranjos"
   ]
  },
  {
   "cell_type": "markdown",
   "metadata": {
    "slideshow": {
     "slide_type": "fragment"
    }
   },
   "source": [
    "A `numpy.array` é o principal objeto da NumPy, um tipo de arranjo numérico **homogêneo**.\n",
    "Apesar de ser um tipo *mutável*, o tamanho de um arranjo NumPy é **imutável** e, por isso, não pode ser vazio."
   ]
  },
  {
   "cell_type": "markdown",
   "metadata": {
    "slideshow": {
     "slide_type": "subslide"
    }
   },
   "source": [
    "#### Construção de arranjos"
   ]
  },
  {
   "cell_type": "markdown",
   "metadata": {
    "slideshow": {
     "slide_type": "fragment"
    }
   },
   "source": [
    "Construimos arranjos usando listas de listas, como fizemos na aula passada. Por exemplo,"
   ]
  },
  {
   "cell_type": "code",
   "execution_count": null,
   "metadata": {
    "slideshow": {
     "slide_type": "fragment"
    }
   },
   "outputs": [],
   "source": [
    "A = np.array([[1,3.5],[-1,0],[1+1j,3.]])\n",
    "A"
   ]
  },
  {
   "cell_type": "markdown",
   "metadata": {
    "slideshow": {
     "slide_type": "subslide"
    }
   },
   "source": [
    "Eles são muito mais do que simples arranjos."
   ]
  },
  {
   "cell_type": "code",
   "execution_count": null,
   "metadata": {
    "slideshow": {
     "slide_type": "fragment"
    }
   },
   "outputs": [],
   "source": [
    "A = np.arange(15).reshape(3, 5)\n",
    "A,A.shape,A.ndim,A.dtype.name,A.itemsize,A.size,type(A)"
   ]
  },
  {
   "cell_type": "markdown",
   "metadata": {
    "slideshow": {
     "slide_type": "subslide"
    }
   },
   "source": [
    "Há também funções de construção especiais. Tem função para criar um arranjo definindo por um \"range\":"
   ]
  },
  {
   "cell_type": "code",
   "execution_count": null,
   "metadata": {
    "slideshow": {
     "slide_type": "fragment"
    }
   },
   "outputs": [],
   "source": [
    "np.arange(10)"
   ]
  },
  {
   "cell_type": "markdown",
   "metadata": {
    "slideshow": {
     "slide_type": "subslide"
    }
   },
   "source": [
    "Função para criar arranjos nulos:"
   ]
  },
  {
   "cell_type": "code",
   "execution_count": null,
   "metadata": {
    "slideshow": {
     "slide_type": "fragment"
    }
   },
   "outputs": [],
   "source": [
    "np.zeros((2, 3))"
   ]
  },
  {
   "cell_type": "markdown",
   "metadata": {
    "slideshow": {
     "slide_type": "subslide"
    }
   },
   "source": [
    "Função que permite criar subdivisões regulares de um intervalo. Por exemplo, abaixo criamos 6 pontos regularmente espaçados no intervalo $[1,4]$:"
   ]
  },
  {
   "cell_type": "code",
   "execution_count": null,
   "metadata": {
    "slideshow": {
     "slide_type": "fragment"
    }
   },
   "outputs": [],
   "source": [
    "np.linspace(1., 4., 6)"
   ]
  },
  {
   "cell_type": "markdown",
   "metadata": {
    "slideshow": {
     "slide_type": "subslide"
    }
   },
   "source": [
    "Há ainda geradores aleatórios, usando diversas distribuições de probabilidade, para arranjos de números reais:"
   ]
  },
  {
   "cell_type": "code",
   "execution_count": null,
   "metadata": {
    "slideshow": {
     "slide_type": "fragment"
    }
   },
   "outputs": [],
   "source": [
    "np.random.uniform(-1,1,5)"
   ]
  },
  {
   "cell_type": "markdown",
   "metadata": {
    "slideshow": {
     "slide_type": "fragment"
    }
   },
   "source": [
    "e números inteiros:"
   ]
  },
  {
   "cell_type": "code",
   "execution_count": null,
   "metadata": {
    "slideshow": {
     "slide_type": "fragment"
    }
   },
   "outputs": [],
   "source": [
    "np.random.randint(10,size=5)"
   ]
  },
  {
   "cell_type": "markdown",
   "metadata": {
    "slideshow": {
     "slide_type": "subslide"
    }
   },
   "source": [
    "#### Acessando elementos de um arranjo"
   ]
  },
  {
   "cell_type": "markdown",
   "metadata": {
    "slideshow": {
     "slide_type": "fragment"
    }
   },
   "source": [
    "Os elementos de um `np.array` podem ser acessados usando índices. Pomos fazer"
   ]
  },
  {
   "cell_type": "code",
   "execution_count": null,
   "metadata": {
    "slideshow": {
     "slide_type": "fragment"
    }
   },
   "outputs": [],
   "source": [
    "A = np.array([[3, 8, 2, 3],[8, 9, 7, 2],[6, 5, 5, 7],[6, 4, 5, 9]])\n",
    "A[0,0],A[1,1]"
   ]
  },
  {
   "cell_type": "markdown",
   "metadata": {
    "slideshow": {
     "slide_type": "fragment"
    }
   },
   "source": [
    "ou"
   ]
  },
  {
   "cell_type": "code",
   "execution_count": null,
   "metadata": {
    "slideshow": {
     "slide_type": "fragment"
    }
   },
   "outputs": [],
   "source": [
    "A[0][0],A[1][1]"
   ]
  },
  {
   "cell_type": "markdown",
   "metadata": {
    "slideshow": {
     "slide_type": "notes"
    }
   },
   "source": [
    "no entanto, a primeira forma é mais rápida, pois no segundo caso, a expressão `A[i][j]` primeiro extrai uma cópia da linha `i` de `A` para depois retornar o $j$-ésimo elemento desta linha."
   ]
  },
  {
   "cell_type": "markdown",
   "metadata": {
    "slideshow": {
     "slide_type": "subslide"
    }
   },
   "source": [
    "#### Operações com arranjos"
   ]
  },
  {
   "cell_type": "markdown",
   "metadata": {
    "slideshow": {
     "slide_type": "fragment"
    }
   },
   "source": [
    "As operações +, -, * aplicadas a arranjos da NumPy acontecem **elemento a elemento**. Vejamos:"
   ]
  },
  {
   "cell_type": "code",
   "execution_count": null,
   "metadata": {
    "slideshow": {
     "slide_type": "fragment"
    }
   },
   "outputs": [],
   "source": [
    "A = np.array([[3, 8, 2, 3],[8, 9, 7, 2],[6, 5, 5, 7],[6, 4, 5, 9]])\n",
    "B = np.array([[7, 1, 3, 0],[6, 0, 2, 6],[2, 2, 1, 9],[8, 6, 7, 1]])\n",
    "A*B"
   ]
  },
  {
   "cell_type": "markdown",
   "metadata": {
    "slideshow": {
     "slide_type": "subslide"
    }
   },
   "source": [
    "Atualmente, é recomendado efetuar o produto de matrizes utilizando a função `numpy.dot` (produto escalar)."
   ]
  },
  {
   "cell_type": "code",
   "execution_count": null,
   "metadata": {
    "slideshow": {
     "slide_type": "fragment"
    }
   },
   "outputs": [],
   "source": [
    "np.dot(A,B)"
   ]
  },
  {
   "cell_type": "markdown",
   "metadata": {
    "slideshow": {
     "slide_type": "slide"
    }
   },
   "source": [
    "## Funções universais"
   ]
  },
  {
   "cell_type": "markdown",
   "metadata": {
    "slideshow": {
     "slide_type": "fragment"
    }
   },
   "source": [
    "A NumPy possui diversas funções que operam sobre valores escalares e vetoriais. Uma _função universal_ (`ufunc`) é uma função que \n",
    "tem como entrada e saída arranjos e realiza operações elemento a elemento. Cada `ufunc` possui regras de espalhamento (__[broadcasting](https://docs.scipy.org/doc/numpy/reference/ufuncs.html#ufuncs-broadcasting)__) quando da operação em arranjos com dimensões distintas."
   ]
  },
  {
   "cell_type": "markdown",
   "metadata": {
    "slideshow": {
     "slide_type": "subslide"
    }
   },
   "source": [
    "Por exemplo, considere um arranjo $\\mathbf{a} = \\begin{bmatrix}0 & 1 & 1 & 2 & 3 & 5 & 8\\end{bmatrix}$ e suponha que precisamos adicionar duas unidades a cada elemento de $\\mathbf{a}$. Podemos fazer isto sem _broadcasting_:"
   ]
  },
  {
   "cell_type": "code",
   "execution_count": null,
   "metadata": {
    "slideshow": {
     "slide_type": "fragment"
    }
   },
   "outputs": [],
   "source": [
    "A = np.array([0,1,1,2,3,5,8])\n",
    "B = np.array([2,2,2,2,2,2,2])\n",
    "A = A + B\n",
    "A"
   ]
  },
  {
   "cell_type": "markdown",
   "metadata": {
    "slideshow": {
     "slide_type": "subslide"
    }
   },
   "source": [
    "ou aproveitando esta funcionalidade:"
   ]
  },
  {
   "cell_type": "code",
   "execution_count": null,
   "metadata": {
    "slideshow": {
     "slide_type": "fragment"
    }
   },
   "outputs": [],
   "source": [
    "A = np.array([0,1,1,2,3,5,8])\n",
    "A = A + 2\n",
    "A"
   ]
  },
  {
   "cell_type": "markdown",
   "metadata": {
    "slideshow": {
     "slide_type": "subslide"
    }
   },
   "source": [
    "Todas as operações aritméticas (+, -, *, ...) com arranjos da NumPy utilizam a técnica de espalhamento. Outras funções universais bastante usadas por cientistas e engenheiros são:"
   ]
  },
  {
   "cell_type": "markdown",
   "metadata": {
    "slideshow": {
     "slide_type": "fragment"
    }
   },
   "source": [
    "|    |  |  |  | |\n",
    "| ---  | --- | --- | --- | --- |\n",
    "| sign | abs | angle | real | imag |\n",
    "| conj | fix | cos | sin | tan |\n",
    "| arccos | arcsin | arctan | arctan2 | cosh |\n",
    "| sinh | tanh | arccosh | arcsinh | arctanh |\n",
    "| exp  | log | log10 | sqrt | power |\n",
    "| dot | vdot |       |      |       |"
   ]
  },
  {
   "cell_type": "markdown",
   "metadata": {
    "slideshow": {
     "slide_type": "subslide"
    }
   },
   "source": [
    "Você já deve estar familiarizado com algumas delas. Mas se tiver alguma dúvida, consulte a __[docstring](https://en.wikipedia.org/wiki/Docstring)__ da função utilizando o operador `?`. Por exemplo,"
   ]
  },
  {
   "cell_type": "code",
   "execution_count": null,
   "metadata": {
    "slideshow": {
     "slide_type": "fragment"
    }
   },
   "outputs": [],
   "source": [
    "np.power?"
   ]
  },
  {
   "cell_type": "markdown",
   "metadata": {
    "slideshow": {
     "slide_type": "slide"
    }
   },
   "source": [
    "## O auditor matricial"
   ]
  },
  {
   "cell_type": "markdown",
   "metadata": {},
   "source": [
    "A Prefeitura de Frevolândia lançou edital para a contratação de novos *auditores matriciais*.\n",
    "O requisito mínimo é ter cursado as disciplinas de Álgebra Linear e Programação Computacional em nível de graduação.\n",
    "Compete ao auditor matricial verificar se o produto de duas matrizes quadradas de ordem $n$ está correto.\n",
    "Ele atuará na fiscalização da mais nova empresa fornecedora de produtos matriciais, a Linear Consultoria, contratada para calcular o produto de matrizes fornecidas pela Secretaria da Previdência do município.\n",
    "Dadas duas matrizes $\\mathbf{A}$ e $\\mathbf{B}$, fornecidas pela secretaria, e uma matriz $\\mathbf{C}$ calculada pela Linear Consultoria, o auditor deverá verificar se vale a identidade: $\\mathbf{C} = \\mathbf{A}\\mathbf{B}$."
   ]
  },
  {
   "cell_type": "markdown",
   "metadata": {},
   "source": [
    "Entusiasmado com o concurso, Cícero decidiu se antecipar e já ir pensando como poderia realizar esses testes da forma mais rápida possível."
   ]
  },
  {
   "cell_type": "markdown",
   "metadata": {},
   "source": [
    "### Método determinístico"
   ]
  },
  {
   "cell_type": "markdown",
   "metadata": {},
   "source": [
    "A primeira ideia que veio à mente de Cícero foi um método força bruta: calcular o produto $\\mathbf{A}\\mathbf{B}$ separadamente e verificar, elemento por elemento, se vale a igualdade $\\mathbf{C} = \\mathbf{A}\\mathbf{B}$. Por conveniência, ele decidiu fazer seus testes usando Python e a biblioteca NumPy e acabou implementando a função abaixo."
   ]
  },
  {
   "cell_type": "code",
   "execution_count": null,
   "metadata": {},
   "outputs": [],
   "source": [
    "# Complete esta função.\n",
    "def forca_bruta(A,B,C):\n",
    "    \"\"\"Esta função verifica se vale a igualdade C = AB, usando força bruta.\n",
    "    \n",
    "    Argumentos:\n",
    "        A,B,C (numpy.array): Matrizes quadradas com mesmas dimensões.\n",
    "\n",
    "    Retorno:\n",
    "        res (bool): True se verdadeiro, False caso contrário.\n",
    "    \"\"\"\n",
    "    \n",
    "    # Digite seu código a partir daqui."
   ]
  },
  {
   "cell_type": "markdown",
   "metadata": {},
   "source": [
    "*Verificação fictícia 1.*"
   ]
  },
  {
   "cell_type": "code",
   "execution_count": null,
   "metadata": {},
   "outputs": [],
   "source": [
    "%%time\n",
    "# Digite seu código a partir daqui."
   ]
  },
  {
   "cell_type": "markdown",
   "metadata": {},
   "source": [
    "*Verificação fictícia 2.*"
   ]
  },
  {
   "cell_type": "code",
   "execution_count": null,
   "metadata": {},
   "outputs": [],
   "source": [
    "%%time\n",
    "# Digite seu código a partir daqui."
   ]
  },
  {
   "cell_type": "markdown",
   "metadata": {},
   "source": [
    "### Método probabilístico"
   ]
  },
  {
   "cell_type": "markdown",
   "metadata": {},
   "source": [
    "Refletindo sobre o problema, Cícero se fez a seguinte pergunta:"
   ]
  },
  {
   "cell_type": "markdown",
   "metadata": {},
   "source": [
    "<blockquote>Dado um vetor $\\mathbf{x}$ arbitrário, será que se tivermos $\\mathbf{C} = \\mathbf{A}\\mathbf{B}$, também teremos $\\mathbf{C}\\mathbf{x} = \\mathbf{A}\\mathbf{B}\\mathbf{x}$?\n",
    "</blockquote>"
   ]
  },
  {
   "cell_type": "markdown",
   "metadata": {},
   "source": [
    "#### **Exercício.**\n",
    "Responda à pergunta de Cícero."
   ]
  },
  {
   "cell_type": "markdown",
   "metadata": {},
   "source": [
    "_Escreva sua resposta aqui._"
   ]
  },
  {
   "cell_type": "markdown",
   "metadata": {},
   "source": [
    "Usando esta linha de raciocínio, ele chegou no seguinte algoritmo:\n",
    "\n",
    "1. Gere aleatoriamente um vetor $\\mathbf{x}$ composto apenas por $0$'s e $1$'s\n",
    "2. Calcule os produtos $\\mathbf{C}\\mathbf{x}$ e $\\mathbf{A}(\\mathbf{B}\\mathbf{x})$\n",
    "3. Se os resultados do item (2) forem os mesmos, a resposta será *sim*. Caso contrário, será *não*."
   ]
  },
  {
   "cell_type": "markdown",
   "metadata": {},
   "source": [
    "#### **Exercício.**\n",
    "Você vê algum problema com o algoritmo de Cícero?"
   ]
  },
  {
   "cell_type": "markdown",
   "metadata": {},
   "source": [
    "*Digite sua resposta nesta célula*"
   ]
  },
  {
   "cell_type": "markdown",
   "metadata": {},
   "source": [
    "De repente, Cícero se enche de felicidade, por um *insight* que acaba de ter. Ele decide então alterar seu algoritmo para:\n",
    "\n",
    "1. Repita $50$ vezes o seguinte:  \n",
    "  1.1 Gere aleatoriamente um vetor $\\mathbf{x}$ composto apenas por $0$'s e $1$'s.  \n",
    "  1.2 Calcule os produtos $\\mathbf{C}\\mathbf{x}$ e $\\mathbf{A}(\\mathbf{B}\\mathbf{x})$.  \n",
    "  1.3 Se os resultados do item (1.2) forem diferentes, a resposta será *não*. Caso contrário, continue o laço.\n",
    "2. Se você chegou aqui, a resposta será *sim*."
   ]
  },
  {
   "cell_type": "markdown",
   "metadata": {},
   "source": [
    "#### **Exercício.**\n",
    "Sua tarefa agora é implementar a última versão do algoritmo de Cícero."
   ]
  },
  {
   "cell_type": "code",
   "execution_count": null,
   "metadata": {},
   "outputs": [],
   "source": [
    "# Complete esta função.\n",
    "def probabilistico(A,B,C):\n",
    "    \"\"\"Esta função verifica se vale a igualdade C = AB, usando um algoritmo probabilístico.\n",
    "    \n",
    "    Argumentos:\n",
    "        A,B,C (numpy.array): Matrizes quadradas com mesmas dimensões.\n",
    "\n",
    "    Retorno:\n",
    "        res (bool): True se verdadeiro, False caso contrário.\n",
    "    \"\"\"\n",
    "\n",
    "    # Digite seu código a partir daqui."
   ]
  },
  {
   "cell_type": "markdown",
   "metadata": {},
   "source": [
    "*Verificação fictícia 1.*"
   ]
  },
  {
   "cell_type": "code",
   "execution_count": null,
   "metadata": {},
   "outputs": [],
   "source": [
    "%%time\n",
    "# Digite seu código a partir daqui."
   ]
  },
  {
   "cell_type": "markdown",
   "metadata": {},
   "source": [
    "*Verificação fictícia 2.*"
   ]
  },
  {
   "cell_type": "code",
   "execution_count": null,
   "metadata": {},
   "outputs": [],
   "source": [
    "%%time\n",
    "# Digite seu código a partir daqui."
   ]
  },
  {
   "cell_type": "markdown",
   "metadata": {},
   "source": [
    "Boa sorte, Cícero!"
   ]
  },
  {
   "cell_type": "markdown",
   "metadata": {},
   "source": [
    "#### **Desafio.**\n",
    "O algoritmo mais natural para a realização do produto de duas matrizes reais $n\\times n$ requer da ordem de $n^3$ operações aritméticas.\n",
    "No entanto, utilizando a abordagem de dividir para conquistar, Strassen (1969) conseguiu mostrar que é possível reduzir isto para $O(n^{2{,}8074})$.\n",
    "O desafio de hoje é implementar o algoritmo probabilístico acima utilizando como ferramenta o algoritmo de Strassen."
   ]
  },
  {
   "cell_type": "code",
   "execution_count": null,
   "metadata": {},
   "outputs": [],
   "source": [
    "def matmat_strassen(A,B):\n",
    "    return None # altere esta linha, caso necessário"
   ]
  },
  {
   "cell_type": "markdown",
   "metadata": {},
   "source": [
    "*Verificação da função `matmat_strassen`.*"
   ]
  },
  {
   "cell_type": "code",
   "execution_count": null,
   "metadata": {},
   "outputs": [],
   "source": [
    "%%time\n",
    "# Digite seu código a partir daqui."
   ]
  },
  {
   "cell_type": "code",
   "execution_count": null,
   "metadata": {},
   "outputs": [],
   "source": [
    "def prob_strassen(A,B):\n",
    "    return None # altere esta linha, caso necessário"
   ]
  },
  {
   "cell_type": "markdown",
   "metadata": {},
   "source": [
    "*Verificação da função `prob_strassen` 1.*"
   ]
  },
  {
   "cell_type": "code",
   "execution_count": null,
   "metadata": {},
   "outputs": [],
   "source": [
    "%%time\n",
    "# Digite seu código a partir daqui."
   ]
  },
  {
   "cell_type": "markdown",
   "metadata": {},
   "source": [
    "*Verificação da função `prob_strassen` 2.*"
   ]
  },
  {
   "cell_type": "code",
   "execution_count": null,
   "metadata": {},
   "outputs": [],
   "source": [
    "%%time\n",
    "# Digite seu código a partir daqui."
   ]
  },
  {
   "cell_type": "markdown",
   "metadata": {},
   "source": [
    "## Saiba mais"
   ]
  },
  {
   "cell_type": "markdown",
   "metadata": {},
   "source": [
    "- Ao longo do curso, aprenderemos muito mais sobre a NumPy. Se você ficou curioso e quer saber mais sobre ela, sugiro que acesse: __[https://www.numpy.org/](https://www.numpy.org/)__"
   ]
  },
  {
   "cell_type": "markdown",
   "metadata": {},
   "source": [
    "- O problema do \"auditor matricial\" foi inspirado na Miniatura 11 do livro do professor Jiří Matoušek,  __[Thirty-three Miniatures: Mathematical and Algorithmic Appplications of Linear Algebra](https://kam.mff.cuni.cz/~matousek/stml-53-matousek-1.pdf)__, *Student Mathematical Library*, v. 53, AMS, 2010.\n"
   ]
  },
  {
   "cell_type": "markdown",
   "metadata": {},
   "source": [
    "- Para saber um pouco mais sobre o algoritmo de Strassen, sugiro dar uma lida no livro **Algoritmos: teoria e prática**, de Thomas H. Cormen, Charles E Leiserson, Ronald L. Rivest e Clifford Stein, Rio de Janeiro, Elsevier, 2012."
   ]
  },
  {
   "cell_type": "markdown",
   "metadata": {},
   "source": [
    "<br>\n",
    "<p>&copy; 2020 Vicente Helano<br>\n",
    "UFCA | Centro de Ciências e Tecnologia</p>"
   ]
  }
 ],
 "metadata": {
  "celltoolbar": "Slideshow",
  "kernelspec": {
   "display_name": "Python 3",
   "language": "python",
   "name": "python3"
  },
  "language_info": {
   "codemirror_mode": {
    "name": "ipython",
    "version": 3
   },
   "file_extension": ".py",
   "mimetype": "text/x-python",
   "name": "python",
   "nbconvert_exporter": "python",
   "pygments_lexer": "ipython3",
   "version": "3.7.3"
  }
 },
 "nbformat": 4,
 "nbformat_minor": 4
}
