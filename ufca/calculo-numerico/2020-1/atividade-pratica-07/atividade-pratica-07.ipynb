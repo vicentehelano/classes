{
 "cells": [
  {
   "cell_type": "markdown",
   "metadata": {},
   "source": [
    "# Inspeção submarina"
   ]
  },
  {
   "cell_type": "markdown",
   "metadata": {},
   "source": [
    "<be>"
   ]
  },
  {
   "cell_type": "markdown",
   "metadata": {},
   "source": [
    "<br CLEAR=\"left\" />\n",
    "\n",
    "<img src=\"https://upload.wikimedia.org/wikipedia/commons/thumb/e/ee/BPAUV-MP_from_HSV-.jpg/318px-BPAUV-MP_from_HSV-.jpg\" align=\"right\" alt=\"Lago Cratera, localizado no Oregon, EUA\" style=\"padding-right: 5pt;\">\n",
    "\n",
    "<p>Os veículos autônomos subaquáticos (AUV, do inglês, *autonomous underwater vehicle*) são muito empregados para realizar operações submarinas em áreas de difícil acesso. Eles são robôs movidos por um sistema de propulsão e necessitam de mínima intervenção humana.\n",
    "    Eles são utilizados em operações militares, comerciais ou de pesquisa e desenvolvimento.\n",
    "    No setor de óleo e gás, por exemplo, eles são empregados na inspeção de linhas de produção sub-aquáticas.</p>\n",
    "\n",
    "<p>Embora os AUVs possam navegar guiado por sensores com elevado grau de precisão, mantendo-se a pequenas distâncias do leito submarino, quando o terreno é bastante irregular, muitas vezes é necessário planejar previamente sua trajetória.</p>\n",
    "    \n",
    "    "
   ]
  },
  {
   "cell_type": "markdown",
   "metadata": {},
   "source": [
    "## Objetivo"
   ]
  },
  {
   "cell_type": "markdown",
   "metadata": {},
   "source": [
    "Dada a batimetria de um trecho em linha reta do leito do mar de Harel Brum, construir uma trajetória para um AUV  localizada a uma distância mínima de 10 metros do terreno."
   ]
  },
  {
   "cell_type": "markdown",
   "metadata": {},
   "source": [
    "## Leito marinho"
   ]
  },
  {
   "cell_type": "markdown",
   "metadata": {},
   "source": [
    "Os dados brutos da batimetria nos fornecem o perfil abaixo:"
   ]
  },
  {
   "cell_type": "code",
   "execution_count": 2,
   "metadata": {},
   "outputs": [
    {
     "data": {
      "text/plain": [
       "[<matplotlib.lines.Line2D at 0x7f19745066a0>]"
      ]
     },
     "execution_count": 2,
     "metadata": {},
     "output_type": "execute_result"
    },
    {
     "data": {
      "image/png": "[encoded data removed]",
      "text/plain": [
       "<Figure size 1440x1440 with 1 Axes>"
      ]
     },
     "metadata": {
      "needs_background": "light"
     },
     "output_type": "display_data"
    }
   ],
   "source": [
    "import numpy as np\n",
    "import matplotlib.pyplot as plt\n",
    "\n",
    "x = np.linspace(10,1200,25)\n",
    "y = np.array([113.6, 38.4, 91.5, 77.9, 86.0, 108.7, 110.2, 86.1, 29.2, 110.0, 180.4, 83.3,\n",
    "              71.2, 68.4, 56.3, 72.2, 120.0, 77.2, 100.0, 65.8, 68.9, 62.2, 18.6, 55.1, 134.3])\n",
    "\n",
    "fig1, ax1 = plt.subplots(figsize=(20,20))\n",
    "ax1.set_aspect('equal')\n",
    "ax1.plot(x,y,'ro--')"
   ]
  },
  {
   "cell_type": "markdown",
   "metadata": {},
   "source": [
    "### Polinômio de Lagrange"
   ]
  },
  {
   "cell_type": "markdown",
   "metadata": {},
   "source": [
    "Agora, iremos visualizar o leito marinho usando um polinômio de Lagrange."
   ]
  },
  {
   "cell_type": "code",
   "execution_count": null,
   "metadata": {},
   "outputs": [],
   "source": [
    "def lagrange(x, y, a):\n",
    "    return None\n",
    "\n",
    "# 1. Interpole 100 pontos regularmente espaçados no intervalo de x_min a x_max\n",
    "\n",
    "# 2. Plote o gráfico dos pontos interpolados"
   ]
  },
  {
   "cell_type": "markdown",
   "metadata": {},
   "source": [
    "### Spline cúbica"
   ]
  },
  {
   "cell_type": "markdown",
   "metadata": {},
   "source": [
    "Como pôde ser visto na seção anterior, é impossível usarmos um único polinômio para representar o leito submarino.\n",
    "Esta dificuldade pode ser compreendida ao estudarmos o [fenômeno de Runge](https://pt.wikipedia.org/wiki/Fen%C3%B3meno_de_Runge).\n",
    "Conseguiremos contornar este problema com as *splines cúbicas*."
   ]
  },
  {
   "cell_type": "markdown",
   "metadata": {},
   "source": [
    "Embora seja fácil construirmos uma spline cúbica a partir da definição, a matriz dos coeficientes do sistema de equações resultante não é muito interessante na prática. Veremos o porquê disso quando observamos o resultado do método de construção que apresentaremos a seguir, conforme a Seção 3.5 do nosso livro-texto.)"
   ]
  },
  {
   "cell_type": "code",
   "execution_count": null,
   "metadata": {},
   "outputs": [],
   "source": [
    "# TODO\n",
    "# Implemente o algoritmo do livro-texto para construção de uma spline cúbica natural\n",
    "n = x.size\n",
    "a = np.zeros(x.shape)\n",
    "b = np.zeros(x.shape)\n",
    "c = np.zeros(x.shape)\n",
    "d = np.zeros(x.shape)\n",
    "\n",
    "# 1. a_j = f(x_j)\n",
    "np.copyto(a,y)\n",
    "\n",
    "# 2. Cálculo dos c's\n",
    "\n",
    "# 3. Cálculo dos b's\n",
    "\n",
    "# 4. Cálculo dos d's\n",
    "\n",
    "# 5. Plote o gráfico de S"
   ]
  },
  {
   "cell_type": "markdown",
   "metadata": {},
   "source": [
    "## Trajetória do AUV"
   ]
  },
  {
   "cell_type": "markdown",
   "metadata": {},
   "source": [
    "Podemos construir a trajetória do AUV usando uma outra spline cúbica $T$.\n",
    "Para tanto, precisamos definir pontos amostrais sobre os quais $T$ estará definida, afastados 10 metros do leito marinho."
   ]
  },
  {
   "cell_type": "markdown",
   "metadata": {},
   "source": [
    "### Geração dos pontos acima da curva"
   ]
  },
  {
   "cell_type": "markdown",
   "metadata": {},
   "source": [
    "*Descreva aqui a lógica utilizada para gerar os pontos*"
   ]
  },
  {
   "cell_type": "code",
   "execution_count": null,
   "metadata": {},
   "outputs": [],
   "source": [
    "# TODO\n",
    "# Sugestão: gere 100 pontos afastados ao menos 10 metros do leito marinho.\n",
    "xt = ...\n",
    "yt = ...\n",
    "\n",
    "# Plote o gráfico do leito mais os pontos calculados"
   ]
  },
  {
   "cell_type": "markdown",
   "metadata": {},
   "source": [
    "### Construção da trajetória"
   ]
  },
  {
   "cell_type": "code",
   "execution_count": null,
   "metadata": {},
   "outputs": [],
   "source": [
    "# TODO\n",
    "# Implemente o algoritmo do livro-texto para construção de uma spline cúbica natural\n",
    "at = np.zeros(xt.shape)\n",
    "bt = np.zeros(xt.shape)\n",
    "ct = np.zeros(xt.shape)\n",
    "dt = np.zeros(xt.shape)\n",
    "\n",
    "# 1. Cálculo dos a's\n",
    "np.copyto(at,yt)\n",
    "\n",
    "# 2. Cálculo dos c's\n",
    "\n",
    "# 3. Cálculo dos b's\n",
    "\n",
    "# 4. Cálculo dos d's\n",
    "\n",
    "# 5. Plote o gráfico de S"
   ]
  },
  {
   "cell_type": "markdown",
   "metadata": {},
   "source": [
    "## Saiba mais"
   ]
  },
  {
   "cell_type": "markdown",
   "metadata": {},
   "source": [
    "* Esta atividade foi inspirada no artigo: MURTHY, Kiran; ROCK, Stephen. Spline-based trajectory planning techniques for benthic AUV operations. In: 2010 IEEE/OES Autonomous Underwater Vehicles. IEEE, 2010. p. 1-9."
   ]
  },
  {
   "cell_type": "markdown",
   "metadata": {},
   "source": [
    "* O algoritmo de construção de splines cúbicas naturais foi extraído da Seção 3.5 do livro: BURDEN, Richard L.; FAIRES, J. Douglas; BURDEN, Annette M., Análise numérica. São Paulo: Cengage Learning, 2015."
   ]
  },
  {
   "cell_type": "markdown",
   "metadata": {},
   "source": [
    "<br>\n",
    "<p>&copy; 2019 Vicente Helano<br>\n",
    "UFCA | Centro de Ciências e Tecnologia</p>"
   ]
  }
 ],
 "metadata": {
  "kernelspec": {
   "display_name": "Python 3",
   "language": "python",
   "name": "python3"
  },
  "language_info": {
   "codemirror_mode": {
    "name": "ipython",
    "version": 3
   },
   "file_extension": ".py",
   "mimetype": "text/x-python",
   "name": "python",
   "nbconvert_exporter": "python",
   "pygments_lexer": "ipython3",
   "version": "3.7.3"
  }
 },
 "nbformat": 4,
 "nbformat_minor": 4
}
