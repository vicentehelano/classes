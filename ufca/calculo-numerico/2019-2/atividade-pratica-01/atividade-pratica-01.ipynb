{
 "cells": [
  {
   "cell_type": "markdown",
   "metadata": {},
   "source": [
    "# Python: básico e rasteiro"
   ]
  },
  {
   "cell_type": "markdown",
   "metadata": {},
   "source": [
    "<em> (c) 2019 Vicente Helano"
   ]
  },
  {
   "cell_type": "markdown",
   "metadata": {},
   "source": [
    "Esta aula tem como objetivo revisar conceitos básicos da programação em Python. É assumida uma familiaridade mínima com a linguagem que certamente foi adquirida na primeira disciplina de programação que você cursou."
   ]
  },
  {
   "cell_type": "markdown",
   "metadata": {},
   "source": [
    "## Variáveis"
   ]
  },
  {
   "cell_type": "markdown",
   "metadata": {},
   "source": [
    "Em Python, assim como na maioria das linguagens de programação, os dados que são manipulados por um algoritmo são associados a <b>variáveis</b>.\n",
    "A uma variável correspondem um espaço na memória (objeto) e um rótulo (identificador).\n",
    "\n",
    "An object may be thought of as a\n",
    "region of computer memory containing both some data and information associated with\n",
    "those data.\n",
    "\n",
    "For a simple object, this information consists of its type and its identity, 2 i.e.,\n",
    "the location in memory, which is of course machine dependent. The identity is therefore\n",
    "of no interest for most users. They need a machine-independent method for accessing\n",
    "objects. This is provided by an identifier, a label which can be attached to objects. It is\n",
    "made up of one or more characters. The first must be a letter or underscore, and any sub-\n",
    "sequent characters must be digits, letters or underscores. Identifiers are case-sensitive:\n",
    "x and X are different identifiers. (Identifiers which have leading and/or trailing under-\n",
    "scores have specialized uses, and should be avoided by the beginner.) We must avoid\n",
    "using predefined words, e.g., list, and should always try to use meaningful identifiers.\n",
    "However, the choice among, say xnew, x_new and xNew is a matter of taste. Consider"
   ]
  },
  {
   "cell_type": "markdown",
   "metadata": {},
   "source": [
    "## Comentários"
   ]
  },
  {
   "cell_type": "markdown",
   "metadata": {},
   "source": [
    "Tudo o que produzimos na vida, se não for possível de ser compreendido, deixa de ter utilidade, ao menos imediata.\n",
    "Quando programamos, normalmente, desejamos resolver um problema que pode levar a melhorias \n",
    "Por isso, é extremamente recomendado (para não dizer logo, \"obrigatório\"), descrever os passos realizados em um programa.\n",
    "A gente não precisa também explicar o significado de cada sentença, mas de blocos chave para o entendimento da implementação.\n",
    "No Python, há dois modos de se fazer comentários:"
   ]
  },
  {
   "cell_type": "markdown",
   "metadata": {},
   "source": [
    "A hash symbol, # , indicates that the rest of\n",
    "the current line is a comment, or more precisely a “tweet”"
   ]
  },
  {
   "cell_type": "markdown",
   "metadata": {},
   "source": [
    "Já os comentários longos são colocados entre pares de aspas triplas, por exemplo:"
   ]
  },
  {
   "cell_type": "code",
   "execution_count": 19,
   "metadata": {},
   "outputs": [
    {
     "data": {
      "text/plain": [
       "'\\nEste é um exemplo de comentário longo.\\nObserve que aqui há duas sentenças, cada uma em uma linha distinta.\\n'"
      ]
     },
     "execution_count": 19,
     "metadata": {},
     "output_type": "execute_result"
    }
   ],
   "source": [
    "\"\"\"\n",
    "Este é um exemplo de comentário longo.\n",
    "Observe que aqui há duas sentenças, cada uma em uma linha distinta.\n",
    "\"\"\""
   ]
  },
  {
   "cell_type": "markdown",
   "metadata": {},
   "source": [
    "## Quebra e continuação de sentenças"
   ]
  },
  {
   "cell_type": "markdown",
   "metadata": {},
   "source": [
    "we note that we may place several statements on the same line, pro-\n",
    "vided we separate them with semicolons, but we should think about readability. Long\n",
    "statements can be broken up with the continuation symbol ‘\\’. More usefully, if a state-\n",
    "ment includes a pair of brackets, (), we can split the line at any point between them\n",
    "without the need for the continuation symbol. Here are simple examples."
   ]
  },
  {
   "cell_type": "code",
   "execution_count": 21,
   "metadata": {},
   "outputs": [
    {
     "data": {
      "text/plain": [
       "(4,\n",
       " 5.5,\n",
       " (1.5+2j),\n",
       " 'a',\n",
       " (3206.7483159900835-1897.868489590986j),\n",
       " (3206.7483159900835-1897.868489590986j))"
      ]
     },
     "execution_count": 21,
     "metadata": {},
     "output_type": "execute_result"
    }
   ],
   "source": [
    "a=4; b=5.5; c=1.5+2j; d='a'\n",
    "e=6.0*a-b*b+\\\n",
    "c**(a+b+c)\n",
    "f=6.0*a-b*b+c**(\n",
    "a+b+c)\n",
    "a, b, c, d, e, f"
   ]
  },
  {
   "cell_type": "markdown",
   "metadata": {},
   "source": [
    "## Tipos de dados"
   ]
  },
  {
   "cell_type": "markdown",
   "metadata": {},
   "source": [
    "O tipo de um dado é definido de modo dinâmico"
   ]
  },
  {
   "cell_type": "markdown",
   "metadata": {},
   "source": [
    "- Tipos primitivos: \\lstinline{int, float, long, complex}\n",
    "- Tipos compostos:\n",
    "\\verb|str, unicode, list, tuple, bytearray, buffer, xrange|\n",
    "\\lstinline{set, frozenset, dict}"
   ]
  },
  {
   "cell_type": "markdown",
   "metadata": {},
   "source": [
    "Outros tipos: \\lstinline{file}, \\textbf{array}, etc\n",
    "\n",
    "Tipos definidos pelo usuário: \\lstinline{class}"
   ]
  },
  {
   "cell_type": "markdown",
   "metadata": {},
   "source": [
    "É possível que em algum momento você precise fazer o trabalho inverso, isto é, determinar o tipo de uma variável. A função type() permite fazer exatamente isto. Por exemplo,"
   ]
  },
  {
   "cell_type": "code",
   "execution_count": 8,
   "metadata": {},
   "outputs": [
    {
     "data": {
      "text/plain": [
       "str"
      ]
     },
     "execution_count": 8,
     "metadata": {},
     "output_type": "execute_result"
    }
   ],
   "source": [
    "cep = '63040-660'\n",
    "type(cep)"
   ]
  },
  {
   "cell_type": "code",
   "execution_count": 9,
   "metadata": {},
   "outputs": [
    {
     "data": {
      "text/plain": [
       "int"
      ]
     },
     "execution_count": 9,
     "metadata": {},
     "output_type": "execute_result"
    }
   ],
   "source": [
    "numero = 126\n",
    "type(cep)"
   ]
  },
  {
   "cell_type": "markdown",
   "metadata": {},
   "source": [
    "## Condicionais"
   ]
  },
  {
   "cell_type": "markdown",
   "metadata": {},
   "source": []
  },
  {
   "cell_type": "markdown",
   "metadata": {},
   "source": [
    "## Repetições"
   ]
  },
  {
   "cell_type": "markdown",
   "metadata": {},
   "source": [
    "O tipo de um dado é definido de modo dinâmico"
   ]
  },
  {
   "cell_type": "markdown",
   "metadata": {},
   "source": [
    "- Tipos primitivos: \\lstinline{int, float, long, complex}\n",
    "- Tipos compostos:\n",
    "\\verb|str, unicode, list, tuple, bytearray, buffer, xrange|\n",
    "\\lstinline{set, frozenset, dict}"
   ]
  },
  {
   "cell_type": "markdown",
   "metadata": {},
   "source": [
    "Outros tipos: \\lstinline{file}, \\textbf{array}, etc\n",
    "\n",
    "Tipos definidos pelo usuário: \\lstinline{class}"
   ]
  },
  {
   "cell_type": "markdown",
   "metadata": {},
   "source": [
    "É possível que em algum momento você precise fazer o trabalho inverso, isto é, determinar o tipo de uma variável. A função type() permite fazer exatamente isto. Por exemplo,"
   ]
  },
  {
   "cell_type": "code",
   "execution_count": 8,
   "metadata": {},
   "outputs": [
    {
     "data": {
      "text/plain": [
       "str"
      ]
     },
     "execution_count": 8,
     "metadata": {},
     "output_type": "execute_result"
    }
   ],
   "source": [
    "cep = '63040-660'\n",
    "type(cep)"
   ]
  },
  {
   "cell_type": "code",
   "execution_count": 9,
   "metadata": {},
   "outputs": [
    {
     "data": {
      "text/plain": [
       "int"
      ]
     },
     "execution_count": 9,
     "metadata": {},
     "output_type": "execute_result"
    }
   ],
   "source": [
    "numero = 126\n",
    "type(cep)"
   ]
  },
  {
   "cell_type": "markdown",
   "metadata": {},
   "source": [
    "## Funções"
   ]
  },
  {
   "cell_type": "markdown",
   "metadata": {},
   "source": [
    "O tipo de um dado é definido de modo dinâmico"
   ]
  },
  {
   "cell_type": "markdown",
   "metadata": {},
   "source": [
    "- Tipos primitivos: \\lstinline{int, float, long, complex}\n",
    "- Tipos compostos:\n",
    "\\verb|str, unicode, list, tuple, bytearray, buffer, xrange|\n",
    "\\lstinline{set, frozenset, dict}"
   ]
  },
  {
   "cell_type": "markdown",
   "metadata": {},
   "source": [
    "Outros tipos: \\lstinline{file}, \\textbf{array}, etc\n",
    "\n",
    "Tipos definidos pelo usuário: \\lstinline{class}"
   ]
  },
  {
   "cell_type": "markdown",
   "metadata": {},
   "source": [
    "É possível que em algum momento você precise fazer o trabalho inverso, isto é, determinar o tipo de uma variável. A função type() permite fazer exatamente isto. Por exemplo,"
   ]
  },
  {
   "cell_type": "code",
   "execution_count": 22,
   "metadata": {},
   "outputs": [],
   "source": [
    "def maior(a,b):\n",
    "    if a > b:\n",
    "        return a\n",
    "    else:\n",
    "        return b"
   ]
  },
  {
   "cell_type": "code",
   "execution_count": 23,
   "metadata": {},
   "outputs": [
    {
     "data": {
      "text/plain": [
       "3"
      ]
     },
     "execution_count": 23,
     "metadata": {},
     "output_type": "execute_result"
    }
   ],
   "source": [
    ">>> maior(3,2)"
   ]
  },
  {
   "cell_type": "code",
   "execution_count": 24,
   "metadata": {},
   "outputs": [
    {
     "data": {
      "text/plain": [
       "-1"
      ]
     },
     "execution_count": 24,
     "metadata": {},
     "output_type": "execute_result"
    }
   ],
   "source": [
    ">>> maior(-1,-3)"
   ]
  },
  {
   "cell_type": "markdown",
   "metadata": {},
   "source": [
    "## Entrada e saída"
   ]
  },
  {
   "cell_type": "markdown",
   "metadata": {},
   "source": [
    "O tipo de um dado é definido de modo dinâmico"
   ]
  },
  {
   "cell_type": "markdown",
   "metadata": {},
   "source": [
    "- Tipos primitivos: \\lstinline{int, float, long, complex}\n",
    "- Tipos compostos:\n",
    "\\verb|str, unicode, list, tuple, bytearray, buffer, xrange|\n",
    "\\lstinline{set, frozenset, dict}"
   ]
  },
  {
   "cell_type": "markdown",
   "metadata": {},
   "source": [
    "Outros tipos: \\lstinline{file}, \\textbf{array}, etc\n",
    "\n",
    "Tipos definidos pelo usuário: \\lstinline{class}"
   ]
  },
  {
   "cell_type": "markdown",
   "metadata": {},
   "source": [
    "É possível que em algum momento você precise fazer o trabalho inverso, isto é, determinar o tipo de uma variável. A função type() permite fazer exatamente isto. Por exemplo,"
   ]
  },
  {
   "cell_type": "code",
   "execution_count": 8,
   "metadata": {},
   "outputs": [
    {
     "data": {
      "text/plain": [
       "str"
      ]
     },
     "execution_count": 8,
     "metadata": {},
     "output_type": "execute_result"
    }
   ],
   "source": [
    "cep = '63040-660'\n",
    "type(cep)"
   ]
  },
  {
   "cell_type": "code",
   "execution_count": 9,
   "metadata": {},
   "outputs": [
    {
     "data": {
      "text/plain": [
       "int"
      ]
     },
     "execution_count": 9,
     "metadata": {},
     "output_type": "execute_result"
    }
   ],
   "source": [
    "numero = 126\n",
    "type(cep)"
   ]
  },
  {
   "cell_type": "markdown",
   "metadata": {},
   "source": [
    "## Módulos e pacotes"
   ]
  },
  {
   "cell_type": "markdown",
   "metadata": {},
   "source": [
    "Um **módulo** é um arquivo contendo definições e comandos em Python, o qual pode ser importado para outros módulos"
   ]
  },
  {
   "cell_type": "markdown",
   "metadata": {},
   "source": [
    "O nome de um módulo é o mesmo nome do arquivo .py contendo seu código"
   ]
  },
  {
   "cell_type": "markdown",
   "metadata": {},
   "source": [
    "É possível que em algum momento você precise fazer o trabalho inverso, isto é, determinar o tipo de uma variável. A função type() permite fazer exatamente isto. Por exemplo,"
   ]
  },
  {
   "cell_type": "code",
   "execution_count": 1,
   "metadata": {},
   "outputs": [],
   "source": [
    "# %load aritmetica.py\n",
    "# aritmetica.py\n",
    "\n",
    "def soma(a,b):\n",
    "    return a+b\n",
    "\n",
    "def subtrai(a,b):\n",
    "    return a-b\n"
   ]
  },
  {
   "cell_type": "code",
   "execution_count": 2,
   "metadata": {},
   "outputs": [],
   "source": [
    "import aritmetica"
   ]
  },
  {
   "cell_type": "code",
   "execution_count": 3,
   "metadata": {},
   "outputs": [
    {
     "data": {
      "text/plain": [
       "7"
      ]
     },
     "execution_count": 3,
     "metadata": {},
     "output_type": "execute_result"
    }
   ],
   "source": [
    "aritmetica.soma(3,4)"
   ]
  },
  {
   "cell_type": "code",
   "execution_count": 4,
   "metadata": {},
   "outputs": [
    {
     "data": {
      "text/plain": [
       "-1"
      ]
     },
     "execution_count": 4,
     "metadata": {},
     "output_type": "execute_result"
    }
   ],
   "source": [
    "aritmetica.subtrai(3,4)"
   ]
  },
  {
   "cell_type": "markdown",
   "metadata": {},
   "source": [
    "Um módulo é compilado no momento de sua importação, gerando arquivos .pyc"
   ]
  },
  {
   "cell_type": "markdown",
   "metadata": {},
   "source": [
    "Uma coleção de módulos dá origem a um **pacote**"
   ]
  }
 ],
 "metadata": {
  "kernelspec": {
   "display_name": "Python 3",
   "language": "python",
   "name": "python3"
  },
  "language_info": {
   "codemirror_mode": {
    "name": "ipython",
    "version": 3
   },
   "file_extension": ".py",
   "mimetype": "text/x-python",
   "name": "python",
   "nbconvert_exporter": "python",
   "pygments_lexer": "ipython3",
   "version": "3.5.3"
  }
 },
 "nbformat": 4,
 "nbformat_minor": 4
}
