{
 "cells": [
  {
   "cell_type": "markdown",
   "metadata": {},
   "source": [
    "# Revisão de Python"
   ]
  },
  {
   "cell_type": "markdown",
   "metadata": {},
   "source": [
    "<br>"
   ]
  },
  {
   "cell_type": "markdown",
   "metadata": {},
   "source": [
    "Esta aula tem como objetivo revisar conceitos básicos da programação em Python. É assumida uma familiaridade mínima com a linguagem, geralmente adquirida já na primeira disciplina de programação que cursamos ao ingressar na universidade. Ao final, analisaremos o problema de gerar os números da sequência de Fibonacci, considerando dois métodos distintos."
   ]
  },
  {
   "cell_type": "markdown",
   "metadata": {},
   "source": [
    "## Variáveis"
   ]
  },
  {
   "cell_type": "markdown",
   "metadata": {},
   "source": [
    "Em Python, toda e qualquer informação que é manipulada em um programa está associada a um *rótulo* e um *objeto*.\n",
    "Um objeto por ser visto como uma região da memória que contém dados (o conteúdo) e informações adicionais sobre estes dados.\n",
    "Estas informações podem incluir, por exemplo, o tipo do conteúdo armazenado e o endereço na memória aonde o objeto está localizado.\n",
    "Os objetos podem ser desde números inteiros até funções."
   ]
  },
  {
   "cell_type": "markdown",
   "metadata": {},
   "source": [
    "Em Python, os rótulos são compostos por um ou mais caracteres concatenados, sempre iniciando com uma letra ou sublinhado.\n",
    "Os demais caracteres podem ser números, letras ou mais sublinhados. Lembrando que os rótulos em Python são sensíveis ao caso, assim como em C."
   ]
  },
  {
   "cell_type": "markdown",
   "metadata": {},
   "source": [
    "Como a Python possui diversos identificadores pré-definidos (por exemplo, `class`, `continue`, `list`, `dict`, `True` e `False`), devemos tomar cuidado na escolha dos nomes de variáveis e funções."
   ]
  },
  {
   "cell_type": "markdown",
   "metadata": {},
   "source": [
    "Devemos sempre escolher identificadores que possam deixar claro para quem lê o real significado do objeto correspondente."
   ]
  },
  {
   "cell_type": "markdown",
   "metadata": {},
   "source": [
    "### Tipos de dados"
   ]
  },
  {
   "cell_type": "markdown",
   "metadata": {},
   "source": [
    "Uma das informações que acompanham um objeto é o seu *tipo*. Costumamos agrupar os tipos em: *primitivos* e *compostos*. Alguns dos tipos mais conhecidos em Python são:"
   ]
  },
  {
   "cell_type": "markdown",
   "metadata": {},
   "source": [
    "- Primitivos: `int`, `float`, `long`, `complex`\n",
    "- Compostos: `str`, `list`, `tuple`, `set`, `dict`"
   ]
  },
  {
   "cell_type": "markdown",
   "metadata": {},
   "source": [
    "Em Python, tanto o tipo quanto o tamanho de um objeto são definidos de modo dinâmico, no momento de sua criação. Vejamos:"
   ]
  },
  {
   "cell_type": "code",
   "execution_count": 1,
   "metadata": {},
   "outputs": [],
   "source": [
    "a = 1"
   ]
  },
  {
   "cell_type": "markdown",
   "metadata": {},
   "source": [
    "produz uma variável de nome `a`, valor igual a $1$ e tipo `int`. Será? Para acabar com a dúvida, usamos a função `type`."
   ]
  },
  {
   "cell_type": "code",
   "execution_count": 2,
   "metadata": {},
   "outputs": [
    {
     "data": {
      "text/plain": [
       "int"
      ]
     },
     "execution_count": 2,
     "metadata": {},
     "output_type": "execute_result"
    }
   ],
   "source": [
    "type(a)"
   ]
  },
  {
   "cell_type": "markdown",
   "metadata": {},
   "source": [
    "Voilà!"
   ]
  },
  {
   "cell_type": "markdown",
   "metadata": {},
   "source": [
    "Vejamos outros exemplos:"
   ]
  },
  {
   "cell_type": "code",
   "execution_count": 3,
   "metadata": {},
   "outputs": [
    {
     "data": {
      "text/plain": [
       "str"
      ]
     },
     "execution_count": 3,
     "metadata": {},
     "output_type": "execute_result"
    }
   ],
   "source": [
    "a = \"Fulano de Tal\"\n",
    "type(a)"
   ]
  },
  {
   "cell_type": "code",
   "execution_count": 4,
   "metadata": {},
   "outputs": [
    {
     "data": {
      "text/plain": [
       "float"
      ]
     },
     "execution_count": 4,
     "metadata": {},
     "output_type": "execute_result"
    }
   ],
   "source": [
    "a = 3.14159\n",
    "type(a)"
   ]
  },
  {
   "cell_type": "markdown",
   "metadata": {},
   "source": [
    "#### Números"
   ]
  },
  {
   "cell_type": "markdown",
   "metadata": {},
   "source": [
    "Os tipos intrínsecos de números mais utilizados em Python são: `int`, `float`, `bool` e `complex`"
   ]
  },
  {
   "cell_type": "code",
   "execution_count": 5,
   "metadata": {},
   "outputs": [
    {
     "data": {
      "text/plain": [
       "(int, float, bool, complex)"
      ]
     },
     "execution_count": 5,
     "metadata": {},
     "output_type": "execute_result"
    }
   ],
   "source": [
    "a = 33\n",
    "b = 1.78\n",
    "c = True\n",
    "d = 3 + 2j\n",
    "\n",
    "a,b,c,d\n",
    "type(a),type(b),type(c),type(d)"
   ]
  },
  {
   "cell_type": "markdown",
   "metadata": {},
   "source": [
    "Para estes números, estão definidas operações aritméticas e lógicas. Por exemplo,"
   ]
  },
  {
   "cell_type": "code",
   "execution_count": 6,
   "metadata": {},
   "outputs": [
    {
     "data": {
      "text/plain": [
       "32"
      ]
     },
     "execution_count": 6,
     "metadata": {},
     "output_type": "execute_result"
    }
   ],
   "source": [
    "65 - a"
   ]
  },
  {
   "cell_type": "code",
   "execution_count": 7,
   "metadata": {},
   "outputs": [
    {
     "data": {
      "text/plain": [
       "True"
      ]
     },
     "execution_count": 7,
     "metadata": {},
     "output_type": "execute_result"
    }
   ],
   "source": [
    "b > 1.7 and a > 16"
   ]
  },
  {
   "cell_type": "code",
   "execution_count": 8,
   "metadata": {},
   "outputs": [
    {
     "data": {
      "text/plain": [
       "False"
      ]
     },
     "execution_count": 8,
     "metadata": {},
     "output_type": "execute_result"
    }
   ],
   "source": [
    "not c"
   ]
  },
  {
   "cell_type": "markdown",
   "metadata": {},
   "source": [
    "#### Cadeias de caracteres"
   ]
  },
  {
   "cell_type": "markdown",
   "metadata": {},
   "source": [
    "Uma cadeia de caracteres pode ser vista como um container imutável de caracteres alfanuméricos, delimitada por aspas simples ou dupla."
   ]
  },
  {
   "cell_type": "code",
   "execution_count": 9,
   "metadata": {},
   "outputs": [
    {
     "data": {
      "text/plain": [
       "('Então ele disse:', '- Parabéns, Maria!')"
      ]
     },
     "execution_count": 9,
     "metadata": {},
     "output_type": "execute_result"
    }
   ],
   "source": [
    "a = \"Então ele disse:\"\n",
    "b = '- Parabéns, Maria!'\n",
    "a,b"
   ]
  },
  {
   "cell_type": "markdown",
   "metadata": {},
   "source": [
    "Podemos usar o operador `+` para concatenar cadeias de caracteres:"
   ]
  },
  {
   "cell_type": "code",
   "execution_count": 10,
   "metadata": {},
   "outputs": [
    {
     "data": {
      "text/plain": [
       "'Então ele disse: - Parabéns, Maria!'"
      ]
     },
     "execution_count": 10,
     "metadata": {},
     "output_type": "execute_result"
    }
   ],
   "source": [
    "c = a + ' ' + b\n",
    "c"
   ]
  },
  {
   "cell_type": "markdown",
   "metadata": {},
   "source": [
    "#### Listas"
   ]
  },
  {
   "cell_type": "markdown",
   "metadata": {},
   "source": [
    "As listas em Python são objetos bastante versáteis.\n",
    "Uma lista é delimitada por colchetes, com seus elementos separados por vírgula.\n",
    "Seus elementos podem ser de tipos iguais (homogênea) ou diferentes (heterogênea)."
   ]
  },
  {
   "cell_type": "code",
   "execution_count": 11,
   "metadata": {},
   "outputs": [
    {
     "data": {
      "text/plain": [
       "([1, 1.41, ['K', 3.14, 1j], 33], 4)"
      ]
     },
     "execution_count": 11,
     "metadata": {},
     "output_type": "execute_result"
    }
   ],
   "source": [
    "['K', 3.14, 1j]\n",
    "b = ['K', 3.14, 1j]\n",
    "a=[1, 1.41, b, 33]\n",
    "a,len(a)"
   ]
  },
  {
   "cell_type": "markdown",
   "metadata": {},
   "source": [
    "Vejamos algumas operações básicas."
   ]
  },
  {
   "cell_type": "code",
   "execution_count": 12,
   "metadata": {},
   "outputs": [
    {
     "data": {
      "text/plain": [
       "[1, 1.41, ['K', 3.14, 1j], 33, 'foo']"
      ]
     },
     "execution_count": 12,
     "metadata": {},
     "output_type": "execute_result"
    }
   ],
   "source": [
    "# inserção\n",
    "a.append('foo')\n",
    "a"
   ]
  },
  {
   "cell_type": "code",
   "execution_count": 13,
   "metadata": {},
   "outputs": [
    {
     "data": {
      "text/plain": [
       "[1, 1.41, ['K', 3.14, 1j], 'foo']"
      ]
     },
     "execution_count": 13,
     "metadata": {},
     "output_type": "execute_result"
    }
   ],
   "source": [
    "# remoção\n",
    "a.remove(33)\n",
    "a"
   ]
  },
  {
   "cell_type": "code",
   "execution_count": 14,
   "metadata": {},
   "outputs": [
    {
     "data": {
      "text/plain": [
       "[1, 1.41, ['K', 3.14, 1j], 'foo', 'K', 3.14, 1j]"
      ]
     },
     "execution_count": 14,
     "metadata": {},
     "output_type": "execute_result"
    }
   ],
   "source": [
    "# concatenação\n",
    "a + b"
   ]
  },
  {
   "cell_type": "markdown",
   "metadata": {},
   "source": [
    "##### Indexação e fatiamento"
   ]
  },
  {
   "cell_type": "markdown",
   "metadata": {},
   "source": [
    "As listas em Python permitem ainda o uso de indexação, o que possibilita utilizá-las para representar arranjos lineares (vetores). Os índices iniciam em zero e vão até o número de elementos menos um."
   ]
  },
  {
   "cell_type": "code",
   "execution_count": 15,
   "metadata": {},
   "outputs": [
    {
     "data": {
      "text/plain": [
       "('p', 'n')"
      ]
     },
     "execution_count": 15,
     "metadata": {},
     "output_type": "execute_result"
    }
   ],
   "source": [
    "a = ['p','y','t','h','o','n']\n",
    "a[0],a[5]"
   ]
  },
  {
   "cell_type": "code",
   "execution_count": 16,
   "metadata": {},
   "outputs": [
    {
     "data": {
      "text/plain": [
       "['t', 'h']"
      ]
     },
     "execution_count": 16,
     "metadata": {},
     "output_type": "execute_result"
    }
   ],
   "source": [
    "b = a[2:4] # fatiamento: do terceiro ao quarto\n",
    "b"
   ]
  },
  {
   "cell_type": "markdown",
   "metadata": {},
   "source": [
    "#### O segredo das atribuições em Python"
   ]
  },
  {
   "cell_type": "markdown",
   "metadata": {},
   "source": [
    "Neste momento, é importante ressaltar o real significado de uma simples atribuição em Python. Quando escrevemos:"
   ]
  },
  {
   "cell_type": "markdown",
   "metadata": {},
   "source": [
    "`a` = `b`"
   ]
  },
  {
   "cell_type": "markdown",
   "metadata": {},
   "source": [
    "isto significa: atribua o objeto associado ao identificador `b` para o identificador `a`."
   ]
  },
  {
   "cell_type": "markdown",
   "metadata": {},
   "source": [
    "Analisemos o trecho abaixo:"
   ]
  },
  {
   "cell_type": "code",
   "execution_count": 17,
   "metadata": {},
   "outputs": [
    {
     "data": {
      "text/plain": [
       "([0, 1, 'foo'], [0, 1, 'foo'])"
      ]
     },
     "execution_count": 17,
     "metadata": {},
     "output_type": "execute_result"
    }
   ],
   "source": [
    "b=[0,1,2]\n",
    "a=b\n",
    "a[2]='foo'\n",
    "a,b"
   ]
  },
  {
   "cell_type": "markdown",
   "metadata": {},
   "source": [
    "Como tanto `a` quanto `b` estão associados ao mesmo objeto, a alteração no valor de `a[2]` tem efeito em `b`. Portanto, aqui temos uma única lista, associada a dois identificadores.\n",
    "\n",
    "Agora, consideremos algo um pouco diferente."
   ]
  },
  {
   "cell_type": "code",
   "execution_count": 18,
   "metadata": {},
   "outputs": [
    {
     "data": {
      "text/plain": [
       "([0, 1, 'foo'], [0, 1, 2])"
      ]
     },
     "execution_count": 18,
     "metadata": {},
     "output_type": "execute_result"
    }
   ],
   "source": [
    "b=[0,1,2]\n",
    "a=b[:]\n",
    "a[2]='foo'\n",
    "a,b"
   ]
  },
  {
   "cell_type": "markdown",
   "metadata": {},
   "source": [
    "Porque isto acontece? O segredo está na operação de fatiamento `a = b[:]`. Esta operação cria uma cópia do objeto associado a `b`. Portanto, o objeto ao qual `a` corresponde é diferente daquele de `b`. Aqui, de fato, temos duas listas distintas."
   ]
  },
  {
   "cell_type": "markdown",
   "metadata": {},
   "source": [
    "## Sentenças e comentários"
   ]
  },
  {
   "cell_type": "markdown",
   "metadata": {},
   "source": [
    "Uma *sentença* é um conjunto de uma ou mais instruções que o interpretador de Python pode executar. Por exemplo, cada linha a seguir é uma sentença:"
   ]
  },
  {
   "cell_type": "code",
   "execution_count": 19,
   "metadata": {},
   "outputs": [
    {
     "data": {
      "text/plain": [
       "24.67396932025"
      ]
     },
     "execution_count": 19,
     "metadata": {},
     "output_type": "execute_result"
    }
   ],
   "source": [
    "a = 2.5\n",
    "b = 3.14159\n",
    "c = a*b**2\n",
    "c"
   ]
  },
  {
   "cell_type": "markdown",
   "metadata": {},
   "source": [
    "Um *comentário* pode ser definido como uma sentença que não possui instrução associada, é uma instrução \"vazia\"."
   ]
  },
  {
   "cell_type": "markdown",
   "metadata": {},
   "source": [
    "### Quebra e continuação de sentenças"
   ]
  },
  {
   "cell_type": "markdown",
   "metadata": {},
   "source": [
    "Podemos colocar várias sentenças em uma única linha, desde que estejam separadas por ponto-e-vírgula."
   ]
  },
  {
   "cell_type": "code",
   "execution_count": 20,
   "metadata": {},
   "outputs": [
    {
     "data": {
      "text/plain": [
       "(4, 2.5, -1, 7.2)"
      ]
     },
     "execution_count": 20,
     "metadata": {},
     "output_type": "execute_result"
    }
   ],
   "source": [
    "a = 4; b = 2.5; c = -1; d = 7.2\n",
    "a, b, c, d"
   ]
  },
  {
   "cell_type": "markdown",
   "metadata": {},
   "source": [
    "Embora possível, a concatenação de sentenças em uma única linha geralmente prejudica a intelegibilidade."
   ]
  },
  {
   "cell_type": "markdown",
   "metadata": {},
   "source": [
    "No caso de sentenças longas, muitas vezes é melhor quebrá-las em diversas linhas utilizando o caractere de continuação `\\`:"
   ]
  },
  {
   "cell_type": "code",
   "execution_count": 21,
   "metadata": {},
   "outputs": [],
   "source": [
    "d = a*(a - b)*(a - c) - \\\n",
    "    b*(b - a)*(b - c) + \\\n",
    "    c**a"
   ]
  },
  {
   "cell_type": "markdown",
   "metadata": {},
   "source": [
    "Se a sentença possuir um par de parenteses, `()`, podemos quebrá-la em qualquer ponto no interior dos parenteses sem a necessidade de usarmos o caracter `\\`."
   ]
  },
  {
   "cell_type": "code",
   "execution_count": 22,
   "metadata": {},
   "outputs": [],
   "source": [
    "e = (1/3)*(a + 2*b +\n",
    "           2*c + 2*d)"
   ]
  },
  {
   "cell_type": "markdown",
   "metadata": {},
   "source": [
    "### Comentários"
   ]
  },
  {
   "cell_type": "markdown",
   "metadata": {},
   "source": [
    "Tudo o que produzimos na vida, se não for possível de ser compreendido, deixa de ter utilidade. Quando programamos, normalmente, desejamos resolver um problema que possa levar a melhorias em um domínio específico. Por isso, é essencial nos esforçarmos para tornar nosso programa intelegível.\n",
    "Também não é para a gente sair explicando o significado de cada linha de código. Basta fazermos comentários explicativos em blocos chave. A inclusão desses comentários em códigos em Python pode ser feita de dois modos:"
   ]
  },
  {
   "cell_type": "markdown",
   "metadata": {},
   "source": [
    "1. Digitando `#` (hashtag ou jogo da velha), todo o resto da linha à direita deste caractere será visto como um comentário e não será executado pelo interpretador.\n",
    "2. Digitando um par de aspas triplas, todo o texto contido no interior do par será um comentário. Este modo é mais indicado para comentários longos. Por exemplo:"
   ]
  },
  {
   "cell_type": "code",
   "execution_count": 23,
   "metadata": {},
   "outputs": [
    {
     "data": {
      "text/plain": [
       "'\\nEste é um exemplo de comentário longo.\\nObserve que aqui há duas sentenças, cada uma em uma linha distinta.\\n'"
      ]
     },
     "execution_count": 23,
     "metadata": {},
     "output_type": "execute_result"
    }
   ],
   "source": [
    "\"\"\"\n",
    "Este é um exemplo de comentário longo.\n",
    "Observe que aqui há duas sentenças, cada uma em uma linha distinta.\n",
    "\"\"\""
   ]
  },
  {
   "cell_type": "markdown",
   "metadata": {},
   "source": [
    "## Condicionais"
   ]
  },
  {
   "cell_type": "markdown",
   "metadata": {},
   "source": [
    "Por padrão, o interpretador Python executa um conjunto de sentenças na ordem em que elas estão escritas, iniciando no topo do texto. Usamos o condicional `if` para alterar o fluxo natural do interpretador. A sintaxe completa do `if` é:"
   ]
  },
  {
   "cell_type": "markdown",
   "metadata": {},
   "source": [
    "`if` < expressão booleana 1 >:\n",
    "  > < bloco 1 >\n",
    "\n",
    "`elif` < expressão booleana 2 >:\n",
    "  > < bloco 2 >\n",
    "\n",
    "`elif` < expressão booleana 3 >:\n",
    "  > < bloco 3 >\n",
    "\n",
    "$\\vdots$\n",
    "\n",
    "`elif` < expressão booleana n - 1 >:\n",
    "  > < bloco n - 1 >\n",
    "\n",
    "`else`:\n",
    "> < bloco n >"
   ]
  },
  {
   "cell_type": "markdown",
   "metadata": {},
   "source": [
    "Ilustramos o uso do `if` com um teste de sinal para números reais."
   ]
  },
  {
   "cell_type": "code",
   "execution_count": 24,
   "metadata": {},
   "outputs": [
    {
     "data": {
      "text/plain": [
       "'Negativo'"
      ]
     },
     "execution_count": 24,
     "metadata": {},
     "output_type": "execute_result"
    }
   ],
   "source": [
    "a = -1.35\n",
    "if a > 0:\n",
    "    resposta = \"Positivo\"\n",
    "elif a < 0:\n",
    "    resposta = \"Negativo\"\n",
    "else:\n",
    "    resposta = \"Nulo\"\n",
    "resposta"
   ]
  },
  {
   "cell_type": "markdown",
   "metadata": {},
   "source": [
    "*Observação.* Lembre-se que em Python a indentação é essencial! O que é indentação?"
   ]
  },
  {
   "cell_type": "markdown",
   "metadata": {},
   "source": [
    "## Repetições"
   ]
  },
  {
   "cell_type": "markdown",
   "metadata": {},
   "source": [
    "A utilidade dos computadores está principalmente no fato deles possuirem a capacidade de realizar tarefas repetitivas rapidamente e, o que é melhor, sem reclamar! :)"
   ]
  },
  {
   "cell_type": "markdown",
   "metadata": {},
   "source": [
    "Python possui duas instruções que permitem a repetição de blocos de sentenças: o `for` e o `while`. Essas repetições  são conhecidas como *laços*. Neste momento, nos restringiremos a explicar o uso do `for`."
   ]
  },
  {
   "cell_type": "markdown",
   "metadata": {},
   "source": [
    "A estrutura básica de um laço usando `for` é a seguinte."
   ]
  },
  {
   "cell_type": "markdown",
   "metadata": {},
   "source": [
    "`for` < iterador > in < container de objetos >:\n",
    "  > < bloco de sentenças >"
   ]
  },
  {
   "cell_type": "markdown",
   "metadata": {},
   "source": [
    "onde `< iterator >` será um objeto usado para acessar cada elemento do `< container de objetos >`. Por exemplo,"
   ]
  },
  {
   "cell_type": "code",
   "execution_count": 25,
   "metadata": {},
   "outputs": [
    {
     "data": {
      "text/plain": [
       "3.99"
      ]
     },
     "execution_count": 25,
     "metadata": {},
     "output_type": "execute_result"
    }
   ],
   "source": [
    "a = [1.2, 3.5, -2.9, 0.32, 1.87]\n",
    "c = 0\n",
    "for b in a:\n",
    "    c = c + b\n",
    "c"
   ]
  },
  {
   "cell_type": "markdown",
   "metadata": {},
   "source": [
    "No código acima, o que representa a variável `c`?"
   ]
  },
  {
   "cell_type": "markdown",
   "metadata": {},
   "source": [
    "Como as listas permitem indexação iniciando do zero, podemos escrever o algoritmo anterior de outro modo."
   ]
  },
  {
   "cell_type": "code",
   "execution_count": 26,
   "metadata": {},
   "outputs": [
    {
     "data": {
      "text/plain": [
       "3.99"
      ]
     },
     "execution_count": 26,
     "metadata": {},
     "output_type": "execute_result"
    }
   ],
   "source": [
    "a = [1.2, 3.5, -2.9, 0.32, 1.87]\n",
    "c = 0\n",
    "for i in range(len(a)):\n",
    "    c = c + a[i]\n",
    "c"
   ]
  },
  {
   "cell_type": "markdown",
   "metadata": {},
   "source": [
    "Na versão acima, utilizamos as funções `range` e `len` para gerar uma lista de números inteiros. A função `len` retorna a quantidade de elementos em uma lista. A forma geral da função `range` é:"
   ]
  },
  {
   "cell_type": "markdown",
   "metadata": {},
   "source": [
    "`range`(inicio, fim, passo)"
   ]
  },
  {
   "cell_type": "markdown",
   "metadata": {},
   "source": [
    "Ela retorna uma classe do tipo `range` contendo números inteiros regularmente espaçados iniciando `inicio`, todos menores do que `fim`. O `passo` define a distância entre elementos consecutivos da lista. Seguem alguns exemplos:"
   ]
  },
  {
   "cell_type": "code",
   "execution_count": 27,
   "metadata": {},
   "outputs": [
    {
     "data": {
      "text/plain": [
       "([0, 1, 2, 3], [3, 4, 5, 6], [10, 8, 6, 4, 2])"
      ]
     },
     "execution_count": 27,
     "metadata": {},
     "output_type": "execute_result"
    }
   ],
   "source": [
    "a = list(range(4))\n",
    "b = list(range(3,7))\n",
    "c = list(range(10,1,-2))\n",
    "a,b,c"
   ]
  },
  {
   "cell_type": "markdown",
   "metadata": {},
   "source": [
    "### Saídas prematuras"
   ]
  },
  {
   "cell_type": "markdown",
   "metadata": {},
   "source": [
    "Nem sempre precisamos executar um laço do início ao fim. Quando estamos buscando um objeto dentro de uma lista, por exemplo, percorremos a lista até encontrarmos o objeto desejado. No momento em que ele é encontrado, podemos interromper o laço. Esta interrupção é feita com o `break`."
   ]
  },
  {
   "cell_type": "code",
   "execution_count": 28,
   "metadata": {},
   "outputs": [],
   "source": [
    "a = 4\n",
    "for x in c:\n",
    "    if x == a:\n",
    "        break"
   ]
  },
  {
   "cell_type": "markdown",
   "metadata": {},
   "source": [
    "Outra sentença que é muito útil é o `continue`, utilizado para \"pularmos\" algumas iterações de um laço."
   ]
  },
  {
   "cell_type": "code",
   "execution_count": 29,
   "metadata": {},
   "outputs": [],
   "source": [
    "a = 4\n",
    "for x in c:\n",
    "    if x == a:\n",
    "        continue"
   ]
  },
  {
   "cell_type": "markdown",
   "metadata": {},
   "source": [
    "## Funções"
   ]
  },
  {
   "cell_type": "markdown",
   "metadata": {},
   "source": [
    "Uma função é um objeto que encapsula uma sequência de sentenças que podem ser executadas inúmeras vezes dentro de um programa. Ela deve ser definida em qualquer região do código fonte, mas sempre antes do ponto onde será utilizada."
   ]
  },
  {
   "cell_type": "markdown",
   "metadata": {},
   "source": [
    "A forma geral de uma função é:"
   ]
  },
  {
   "cell_type": "markdown",
   "metadata": {},
   "source": [
    "`def` < nome da funcao >(< lista de argumentos >):\n",
    "  > < corpo da funcao >"
   ]
  },
  {
   "cell_type": "markdown",
   "metadata": {},
   "source": [
    "Por exemplo,"
   ]
  },
  {
   "cell_type": "code",
   "execution_count": 30,
   "metadata": {},
   "outputs": [],
   "source": [
    "def maior(a,b):\n",
    "    if a > b:\n",
    "        return a\n",
    "    else:\n",
    "        return b"
   ]
  },
  {
   "cell_type": "code",
   "execution_count": 31,
   "metadata": {},
   "outputs": [
    {
     "data": {
      "text/plain": [
       "3"
      ]
     },
     "execution_count": 31,
     "metadata": {},
     "output_type": "execute_result"
    }
   ],
   "source": [
    ">>> maior(3,2)"
   ]
  },
  {
   "cell_type": "code",
   "execution_count": 32,
   "metadata": {},
   "outputs": [
    {
     "data": {
      "text/plain": [
       "-1"
      ]
     },
     "execution_count": 32,
     "metadata": {},
     "output_type": "execute_result"
    }
   ],
   "source": [
    ">>> maior(-1,-3)"
   ]
  },
  {
   "cell_type": "markdown",
   "metadata": {},
   "source": [
    "As funções podem ter uma valor de retorno.Considere uma função $f\\!:\\mathbb{R}\\rightarrow\\mathbb{R}^2$, definida por $f(x) = (x, x^2)$. Podemos implementá-la assim:"
   ]
  },
  {
   "cell_type": "code",
   "execution_count": 33,
   "metadata": {},
   "outputs": [],
   "source": [
    "def f(x):\n",
    "    return (x, x**2)"
   ]
  },
  {
   "cell_type": "markdown",
   "metadata": {},
   "source": [
    "Vejamos o resultado de $f(3)$:"
   ]
  },
  {
   "cell_type": "code",
   "execution_count": 34,
   "metadata": {},
   "outputs": [
    {
     "data": {
      "text/plain": [
       "(3, 9)"
      ]
     },
     "execution_count": 34,
     "metadata": {},
     "output_type": "execute_result"
    }
   ],
   "source": [
    "f(3)"
   ]
  },
  {
   "cell_type": "markdown",
   "metadata": {},
   "source": [
    "Observe que é necessário empregar a palavra-chave `return` para que $f$ de fato retorne o valor calculado."
   ]
  },
  {
   "cell_type": "markdown",
   "metadata": {},
   "source": [
    "### Passagem de parâmetros"
   ]
  },
  {
   "cell_type": "markdown",
   "metadata": {},
   "source": [
    "Quando passamos argumentos para uma função, o que acontece é uma simples **atribuição**. Lembre-se que uma atribuição em Python cria apenas um rótulo (do lado esquerdo) para um objeto (do lado direito)."
   ]
  },
  {
   "cell_type": "markdown",
   "metadata": {},
   "source": [
    "Se o que passamos é um rótulo para um objeto _imutável_ (e.g., `int`, `float`, `bool`, `str`, `tuple`), a função não tem como alterar o valor armazenado no objeto original, fora da função."
   ]
  },
  {
   "cell_type": "code",
   "execution_count": 35,
   "metadata": {},
   "outputs": [],
   "source": [
    "def atualiza(a):\n",
    "    a = 'atualizada!'\n"
   ]
  },
  {
   "cell_type": "code",
   "execution_count": 36,
   "metadata": {},
   "outputs": [
    {
     "data": {
      "text/plain": [
       "100"
      ]
     },
     "execution_count": 36,
     "metadata": {},
     "output_type": "execute_result"
    }
   ],
   "source": [
    "a = 100\n",
    "atualiza(a)\n",
    "a"
   ]
  },
  {
   "cell_type": "markdown",
   "metadata": {},
   "source": [
    "Agora, se o objeto for _mutável_ (e.g., `list`, `dict`, `set`), qualquer alteração usando o rótulo dentro da função modificará o objeto original, criado fora da função."
   ]
  },
  {
   "cell_type": "code",
   "execution_count": 37,
   "metadata": {},
   "outputs": [
    {
     "data": {
      "text/plain": [
       "[1, 2, 3, 4]"
      ]
     },
     "execution_count": 37,
     "metadata": {},
     "output_type": "execute_result"
    }
   ],
   "source": [
    "a = [1, 2, 3, 4]\n",
    "atualiza(a)\n",
    "a"
   ]
  },
  {
   "cell_type": "code",
   "execution_count": 38,
   "metadata": {},
   "outputs": [],
   "source": [
    "def atualiza_lista(a):\n",
    "    a[0] = 'atualizada!'"
   ]
  },
  {
   "cell_type": "code",
   "execution_count": 39,
   "metadata": {},
   "outputs": [
    {
     "data": {
      "text/plain": [
       "['atualizada!', 2, 3, 4]"
      ]
     },
     "execution_count": 39,
     "metadata": {},
     "output_type": "execute_result"
    }
   ],
   "source": [
    "a = [1, 2, 3, 4]\n",
    "atualiza_lista(a)\n",
    "a"
   ]
  },
  {
   "cell_type": "markdown",
   "metadata": {},
   "source": [
    "#### **Exercício.**"
   ]
  },
  {
   "cell_type": "markdown",
   "metadata": {},
   "source": [
    "A função a seguir é uma implementação recursiva para o cálculo de $n!$, para $n = 0, 1, 2, \\ldots$"
   ]
  },
  {
   "cell_type": "code",
   "execution_count": 40,
   "metadata": {},
   "outputs": [],
   "source": [
    "def fatrec(n):\n",
    "    if n == 0:\n",
    "        return 1\n",
    "    return n*fatrec(n-1)"
   ]
  },
  {
   "cell_type": "code",
   "execution_count": 41,
   "metadata": {},
   "outputs": [
    {
     "name": "stdout",
     "output_type": "stream",
     "text": [
      "CPU times: user 5 µs, sys: 1 µs, total: 6 µs\n",
      "Wall time: 10.5 µs\n"
     ]
    },
    {
     "data": {
      "text/plain": [
       "24"
      ]
     },
     "execution_count": 41,
     "metadata": {},
     "output_type": "execute_result"
    }
   ],
   "source": [
    "%%time\n",
    "fatrec(4)"
   ]
  },
  {
   "cell_type": "markdown",
   "metadata": {},
   "source": [
    "*Observação.* Você notou algo diferente no teste acima? Usamos a função mágica `time` do Jupyter (IPython) para medir o tempo de execução gasto na célula de código. Esta informação nos será muito útil em breve."
   ]
  },
  {
   "cell_type": "markdown",
   "metadata": {},
   "source": [
    "Agora, sua tarefa é implementar a função fatorial sem a utilização de recursividade. Complete o código a seguir."
   ]
  },
  {
   "cell_type": "code",
   "execution_count": 42,
   "metadata": {},
   "outputs": [],
   "source": [
    "def fatfor(n):\n",
    "    # seu código vem aqui embaixo:\n",
    "    \n",
    "    return None # altere esta linha caso necessário"
   ]
  },
  {
   "cell_type": "code",
   "execution_count": 43,
   "metadata": {},
   "outputs": [
    {
     "name": "stdout",
     "output_type": "stream",
     "text": [
      "CPU times: user 4 µs, sys: 0 ns, total: 4 µs\n",
      "Wall time: 8.11 µs\n"
     ]
    }
   ],
   "source": [
    "%%time\n",
    "fatfor(8)"
   ]
  },
  {
   "cell_type": "markdown",
   "metadata": {},
   "source": [
    "## Números de Fibonacci"
   ]
  },
  {
   "cell_type": "markdown",
   "metadata": {},
   "source": [
    "Agora, iremos aplicar o que aprendemos de Python para implementar dois métodos que geram uma sequência de números inteiros bastante famosa na Matemática, a **sequência de Fibonacci**. Alguns números desta sequência são:"
   ]
  },
  {
   "cell_type": "markdown",
   "metadata": {},
   "source": [
    "$0, 1, 1, 2, 3, 5, 8, 13, 21, 34, 55, 89, 144, 233, 377, 610, 987, 1597, 2584, 4181, 6765, 10946, 17711, 28657, 46368, 75025, 121393, 196418, 317811, 514229, 832040, 1346269, 2178309, 3524578, 5702887, 9227465, 14930352, 24157817, 39088169, 63245986, 102334155$"
   ]
  },
  {
   "cell_type": "markdown",
   "metadata": {},
   "source": [
    "### Método 1"
   ]
  },
  {
   "cell_type": "markdown",
   "metadata": {},
   "source": [
    "Podemos definir a sequência de Fibonacci $\\left(F_n\\right)_{n=0}^\\infty$ usando recursividade. Com efeito, primeiramente fazemos $F_0 = 0$ e $F_1 = 1$, os quais chamamos de **casos base**. Agora, estabelecemos a seguinte relação recursiva:"
   ]
  },
  {
   "cell_type": "markdown",
   "metadata": {},
   "source": [
    "$$F_{n} = F_{n-2} + F_{n-1}\\text{, para } n = 2, 3, 4, \\ldots$$"
   ]
  },
  {
   "cell_type": "markdown",
   "metadata": {},
   "source": [
    "#### **Exercício.**\n",
    "(a) Implemente uma função denominada `fibrec` que retorna $F_n$ utilizando recursividade em Python."
   ]
  },
  {
   "cell_type": "code",
   "execution_count": 53,
   "metadata": {},
   "outputs": [],
   "source": [
    "def fibrec(n):\n",
    "    # Seu código vem aqui embaixo.\n",
    "    \n",
    "    return None # altere/remova, caso necessário"
   ]
  },
  {
   "cell_type": "markdown",
   "metadata": {},
   "source": [
    "Sabendo que $F_{32} = 2178309$, o resultado do teste abaixo para a sua função deverá ser `True`. Verifique!"
   ]
  },
  {
   "cell_type": "code",
   "execution_count": 45,
   "metadata": {},
   "outputs": [
    {
     "name": "stdout",
     "output_type": "stream",
     "text": [
      "CPU times: user 4 µs, sys: 0 ns, total: 4 µs\n",
      "Wall time: 8.58 µs\n"
     ]
    },
    {
     "data": {
      "text/plain": [
       "False"
      ]
     },
     "execution_count": 45,
     "metadata": {},
     "output_type": "execute_result"
    }
   ],
   "source": [
    "%%time\n",
    "fibrec(32) == 2178309"
   ]
  },
  {
   "cell_type": "markdown",
   "metadata": {},
   "source": [
    "### Método 2"
   ]
  },
  {
   "cell_type": "markdown",
   "metadata": {},
   "source": [
    "Agora, tenho uma notícia não muito boa. O Método 1 está longe de ser o mais rápido para calcular o $n$-ésimo número de Fibonacci. Como já era de se esperar (não é?), tamanha a sua simplicidade. De fato, há diversas alternativas mais rápidas para o calculo de $F_n$. Uma dessas utiliza álgebra matricial. Por simplicidade, discutiremos aqui uma versão ingênua deste algoritmo."
   ]
  },
  {
   "cell_type": "markdown",
   "metadata": {},
   "source": [
    "A ideia chave do novo algoritmo está na seguinte forma matricial:"
   ]
  },
  {
   "cell_type": "markdown",
   "metadata": {},
   "source": [
    "$$\n",
    "\\begin{bmatrix}F_{n}\\\\ F_{n-1}\\end{bmatrix} = \n",
    "\\begin{bmatrix}F_{n-1} + F_{n-2}\\\\ F_{n-1} \\end{bmatrix} =\n",
    "\\begin{bmatrix}1 & 1\\\\ 1 & 0\\end{bmatrix}\n",
    "\\begin{bmatrix}F_{n-1}\\\\ F_{n-2}\\end{bmatrix}\\text{.}\n",
    "$$"
   ]
  },
  {
   "cell_type": "markdown",
   "metadata": {},
   "source": [
    "Definindo"
   ]
  },
  {
   "cell_type": "markdown",
   "metadata": {},
   "source": [
    "$$\n",
    "\\mathbf{M} = \\begin{bmatrix}1 & 1\\\\ 1 & 0\\end{bmatrix}\\text{,}\n",
    "$$"
   ]
  },
  {
   "cell_type": "markdown",
   "metadata": {},
   "source": [
    "teremos:"
   ]
  },
  {
   "cell_type": "markdown",
   "metadata": {},
   "source": [
    "\\begin{align}\n",
    "\\begin{bmatrix}F_{n}\\\\ F_{n-1}\\end{bmatrix} &= \\mathbf{M} \\begin{bmatrix}F_{n-1}\\\\ F_{n-2}\\end{bmatrix}\\text{,}\\\\\n",
    " &= \\mathbf{M}^2 \\begin{bmatrix}F_{n-2}\\\\ F_{n-3}\\end{bmatrix}\\text{,}\\\\\n",
    " &= \\mathbf{M}^3 \\begin{bmatrix}F_{n-3}\\\\ F_{n-4}\\end{bmatrix}\\text{,}\\\\\n",
    " &\\vdots \\\\\n",
    " &= \\mathbf{M}^{n-1} \\begin{bmatrix}F_{1}\\\\ F_{0}\\end{bmatrix} = \\mathbf{M}^{n-1} \\begin{bmatrix}1\\\\ 0\\end{bmatrix}\\text{.}\n",
    "\\end{align}"
   ]
  },
  {
   "cell_type": "markdown",
   "metadata": {},
   "source": [
    "Com isso, reduzimos o problema de calcular $F_n$ no problema de calcular a $(n-1)$-ésima potência da matriz $\\mathbf{M}$. O coeficiente de $\\mathbf{M}^{n-1}$ localizado na primeira linha e primeira coluna será exatamente o número de Fibonacci que procuramos. (Porque?)"
   ]
  },
  {
   "cell_type": "markdown",
   "metadata": {},
   "source": [
    "Como o Python não possui nenhum tipo intrínseco para armazenar matrizes, precisamos criar uma representação alternativa. Podemos representar uma matriz como um container de linhas, usando uma lista de listas. Desse modo, a matriz $\\mathbf{M}$ será representada por:"
   ]
  },
  {
   "cell_type": "code",
   "execution_count": 46,
   "metadata": {},
   "outputs": [
    {
     "name": "stdout",
     "output_type": "stream",
     "text": [
      "[[1, 1], [1, 0]]\n"
     ]
    }
   ],
   "source": [
    "M = [[1, 1],\\\n",
    "     [1, 0]]\n",
    "print(M)"
   ]
  },
  {
   "cell_type": "markdown",
   "metadata": {},
   "source": [
    "#### **Exercício.**\n",
    "(a) Implemente uma função que retorna o resultado do produto de duas matrizes $\\mathbf{A}$ e $\\mathbf{B}$, ambas $2\\times 2$."
   ]
  },
  {
   "cell_type": "code",
   "execution_count": 54,
   "metadata": {},
   "outputs": [],
   "source": [
    "def matmat(A,B):\n",
    "    # Seu código vem aqui embaixo.\n",
    "    \n",
    "    return None # altere/remova, caso necessário"
   ]
  },
  {
   "cell_type": "markdown",
   "metadata": {},
   "source": [
    "Verifique a corretude de sua implementação abaixo."
   ]
  },
  {
   "cell_type": "code",
   "execution_count": 56,
   "metadata": {},
   "outputs": [
    {
     "data": {
      "text/plain": [
       "False"
      ]
     },
     "execution_count": 56,
     "metadata": {},
     "output_type": "execute_result"
    }
   ],
   "source": [
    "A = [[2, 1],[-1, 2]]\n",
    "B = [[-1, 0],[1, 3]]\n",
    "matmat(A,B) == [[-1, 3], [3, 6]]"
   ]
  },
  {
   "cell_type": "markdown",
   "metadata": {},
   "source": [
    "(b) Implemente uma função que retorna a $n$-ésima potência de uma matriz $\\mathbf{M}$."
   ]
  },
  {
   "cell_type": "code",
   "execution_count": 49,
   "metadata": {},
   "outputs": [],
   "source": [
    "def matpot(M,n):\n",
    "    # Seu código vem aqui embaixo.\n",
    "    \n",
    "    return None # altere, caso necessário"
   ]
  },
  {
   "cell_type": "markdown",
   "metadata": {},
   "source": [
    "(c) Implemente o algoritmo matricial de Fibonacci (Método 2). Sua função deve retornar o valor de $F_n$."
   ]
  },
  {
   "cell_type": "code",
   "execution_count": 57,
   "metadata": {},
   "outputs": [],
   "source": [
    "def fibmat(n):\n",
    "    # Seu código vem aqui embaixo.\n",
    "    \n",
    "    return None # altere/remova, caso necessário"
   ]
  },
  {
   "cell_type": "code",
   "execution_count": 51,
   "metadata": {},
   "outputs": [
    {
     "name": "stdout",
     "output_type": "stream",
     "text": [
      "CPU times: user 4 µs, sys: 1 µs, total: 5 µs\n",
      "Wall time: 8.34 µs\n"
     ]
    },
    {
     "data": {
      "text/plain": [
       "False"
      ]
     },
     "execution_count": 51,
     "metadata": {},
     "output_type": "execute_result"
    }
   ],
   "source": [
    "%%time\n",
    "fibmat(32) == 2178309"
   ]
  },
  {
   "cell_type": "markdown",
   "metadata": {},
   "source": [
    "(d) Você percebeu alguma diferença no tempo de execução dos dois métodos? Caso positivo, qual deles foi mais rápido? Você teria uma justificativa para isto?"
   ]
  },
  {
   "cell_type": "markdown",
   "metadata": {},
   "source": [
    "Escreva aqui."
   ]
  },
  {
   "cell_type": "markdown",
   "metadata": {},
   "source": [
    "## Saiba mais"
   ]
  },
  {
   "cell_type": "markdown",
   "metadata": {},
   "source": [
    "- Como prometido, apresentamos aqui apenas uma pitada de Python. Vimos conceitos básicos e, ainda assim, de modo rasteiro. Para realmente aprender a programar em Python é necessário muito mais do que isso. É preciso praticar todos os dias!"
   ]
  },
  {
   "cell_type": "markdown",
   "metadata": {},
   "source": [
    "- Um excelente material que encontrei em português sobre os blocos de nota do Jupyter foi a apostila do professor Salviano A. Leão, __[Python e o Jupyter/IPython Notebook](http://2017.fgsl.net/up/2/o/00023_12_Seminario-_Introducao_ao_Jupyter.pdf)__, 2017.\n",
    "Tem ainda o site do curso de Python do Departamento de Ciência da Computação na UFRJ: __[https://dcc.ufrj.br/~pythonufrj/](https://dcc.ufrj.br/~pythonufrj/)__.\n",
    "Confesso que não procurei por vídeos no YouTube. Que tal tentar?"
   ]
  },
  {
   "cell_type": "markdown",
   "metadata": {},
   "source": [
    "- O problema de Fibonacci abordado no final da aula foi inspirado nas Miniaturas 1 e 2 do livro do professor Jiří Matoušek,  __[Thirty-three Miniatures: Mathematical and Algorithmic Appplications of Linear Algebra](https://kam.mff.cuni.cz/~matousek/stml-53-matousek-1.pdf)__, *Student Mathematical Library*, v. 53, AMS, 2010.\n"
   ]
  },
  {
   "cell_type": "markdown",
   "metadata": {},
   "source": [
    "- Diversos resultados em torno da sequência de Fibonacci estão catalogados na *The On-Line Encyclopedia of Integer Sequences*, no endereço: __[https://oeis.org/A000045](https://oeis.org/A000045)__."
   ]
  },
  {
   "cell_type": "markdown",
   "metadata": {},
   "source": [
    "- No relatório de Ali Dasdan, __[Twelve Simple Algorithms to Compute Fibonacci Numbers](https://arxiv.org/abs/1803.07199)__, há doze algoritmos diferentes para o cálculo de $F_n$."
   ]
  },
  {
   "cell_type": "markdown",
   "metadata": {},
   "source": [
    "- Para finalizar, assista ao vídeo de Arthur Benjamin, **A magia dos números de Fibonacci**, TED Talks"
   ]
  },
  {
   "cell_type": "code",
   "execution_count": 52,
   "metadata": {},
   "outputs": [
    {
     "data": {
      "image/jpeg": "[encoded data removed]",
      "text/html": [
       "\n",
       "        <iframe\n",
       "            width=\"600\"\n",
       "            height=\"300\"\n",
       "            src=\"https://www.youtube.com/embed/SjSHVDfXHQ4\"\n",
       "            frameborder=\"0\"\n",
       "            allowfullscreen\n",
       "        ></iframe>\n",
       "        "
      ],
      "text/plain": [
       "<IPython.lib.display.YouTubeVideo at 0x7f67143bfc18>"
      ]
     },
     "execution_count": 52,
     "metadata": {},
     "output_type": "execute_result"
    }
   ],
   "source": [
    "from IPython.display import YouTubeVideo\n",
    "YouTubeVideo(id='SjSHVDfXHQ4',width=600,height=300)"
   ]
  },
  {
   "cell_type": "markdown",
   "metadata": {},
   "source": [
    "&copy; 2019 Vicente Helano<br>\n",
    "UFCA | Universidade Federal do Cariri<br>"
   ]
  }
 ],
 "metadata": {
  "kernelspec": {
   "display_name": "Python 3",
   "language": "python",
   "name": "python3"
  },
  "language_info": {
   "codemirror_mode": {
    "name": "ipython",
    "version": 3
   },
   "file_extension": ".py",
   "mimetype": "text/x-python",
   "name": "python",
   "nbconvert_exporter": "python",
   "pygments_lexer": "ipython3",
   "version": "3.5.3"
  }
 },
 "nbformat": 4,
 "nbformat_minor": 4
}
