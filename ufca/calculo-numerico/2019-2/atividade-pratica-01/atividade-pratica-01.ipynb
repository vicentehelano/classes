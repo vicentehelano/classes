{
 "cells": [
  {
   "cell_type": "markdown",
   "metadata": {},
   "source": [
    "# Revisão de Python"
   ]
  },
  {
   "cell_type": "markdown",
   "metadata": {},
   "source": [
    "<br>"
   ]
  },
  {
   "cell_type": "markdown",
   "metadata": {},
   "source": [
    "Esta aula tem como objetivo revisar conceitos básicos da programação em Python. É assumida uma familiaridade mínima com a linguagem que pode ser adquirida na primeira disciplina de programação que cursamos ao ingressar na universidade. Ao final, analisaremos o problema de gerar os números da sequência de Fibonacci."
   ]
  },
  {
   "cell_type": "markdown",
   "metadata": {},
   "source": [
    "## Variáveis"
   ]
  },
  {
   "cell_type": "markdown",
   "metadata": {},
   "source": [
    "Em Python, assim como na maioria das linguagens de programação, os dados que são manipulados por um algoritmo são armazenados em **variáveis**.\n",
    "Uma variável é uma abstração matemática que associa um *rótulo* a um *objeto* na memória do computador.\n",
    "Um objeto por ser visto como uma região da memória que contém os dados (conteúdo) e informações sobre estes dados.\n",
    "Estas informações podem incluir, por exemplo, o tipo de número armazenado e o endereço na memória aonde o objeto começa a ser armazenado.\n",
    "\n",
    "Em Python, os rótulos são compostos por um ou mais caracteres concatenados, sempre iniciando com uma letra ou sublinhado.\n",
    "Os demais caracteres podem ser números, letras ou mais sublinhados.\n",
    "\n",
    "É importante lembrar que os rótulos em Python são sensíveis ao caso, assim como em C++.\n",
    "\n",
    "\n",
    "A linguagem Python possui diversos identificadores pré-definidos (por exemplo, class, continue, list, dict, True, False, etc), os devemos evitar usar para não termos problemas.\n",
    "\n",
    "Devemos escolher sempre identificadores que possam deixar claro para quem lê o código qual o seu significado."
   ]
  },
  {
   "cell_type": "markdown",
   "metadata": {},
   "source": [
    "### Tipos de dados"
   ]
  },
  {
   "cell_type": "markdown",
   "metadata": {},
   "source": [
    "Como citado anteriormente, uma das informações que acompanham um objeto é o seu *tipo*. Costumamos classificar os tipos em: *primitivos* e *compostos*. Em Python, temos:"
   ]
  },
  {
   "cell_type": "markdown",
   "metadata": {},
   "source": [
    "- Primitivos: int, float, long, complex\n",
    "- Compostos: str, unicode, list, tuple, bytearray, buffer, xrange, set, frozenset, dict"
   ]
  },
  {
   "cell_type": "markdown",
   "metadata": {},
   "source": [
    "Em Python, o tipo de um objeto é definido de modo dinâmico, no momento de sua criação."
   ]
  },
  {
   "cell_type": "markdown",
   "metadata": {},
   "source": [
    "Outros tipos: \\lstinline{file}, \\textbf{array}, etc\n",
    "\n",
    "Tipos definidos pelo usuário: \\lstinline{class}"
   ]
  },
  {
   "cell_type": "markdown",
   "metadata": {},
   "source": [
    "É possível que em algum momento você precise fazer o trabalho inverso, isto é, determinar o tipo de uma variável. A função type() permite fazer exatamente isto. Por exemplo,"
   ]
  },
  {
   "cell_type": "code",
   "execution_count": 9,
   "metadata": {},
   "outputs": [
    {
     "data": {
      "text/plain": [
       "str"
      ]
     },
     "execution_count": 9,
     "metadata": {},
     "output_type": "execute_result"
    }
   ],
   "source": [
    "cep = '63040-660'\n",
    "type(cep)"
   ]
  },
  {
   "cell_type": "code",
   "execution_count": 10,
   "metadata": {},
   "outputs": [
    {
     "data": {
      "text/plain": [
       "str"
      ]
     },
     "execution_count": 10,
     "metadata": {},
     "output_type": "execute_result"
    }
   ],
   "source": [
    "numero = 126\n",
    "type(cep)"
   ]
  },
  {
   "cell_type": "markdown",
   "metadata": {},
   "source": [
    "## Comentários"
   ]
  },
  {
   "cell_type": "markdown",
   "metadata": {},
   "source": [
    "Tudo o que produzimos na vida, se não for possível de ser compreendido, deixa de ter utilidade, ao menos imediata.\n",
    "Quando programamos, normalmente, desejamos resolver um problema que pode levar a melhorias \n",
    "Por isso, é extremamente recomendado (para não dizer logo, \"obrigatório\"), descrever os passos realizados em um programa.\n",
    "A gente não precisa também explicar o significado de cada sentença, mas de blocos chave para o entendimento da implementação.\n",
    "No Python, há dois modos de se fazer comentários:"
   ]
  },
  {
   "cell_type": "markdown",
   "metadata": {},
   "source": [
    "A hash symbol, # , indicates that the rest of\n",
    "the current line is a comment, or more precisely a “tweet”"
   ]
  },
  {
   "cell_type": "markdown",
   "metadata": {},
   "source": [
    "Já os comentários longos são colocados entre pares de aspas triplas, por exemplo:"
   ]
  },
  {
   "cell_type": "code",
   "execution_count": 11,
   "metadata": {},
   "outputs": [
    {
     "data": {
      "text/plain": [
       "'\\nEste é um exemplo de comentário longo.\\nObserve que aqui há duas sentenças, cada uma em uma linha distinta.\\n'"
      ]
     },
     "execution_count": 11,
     "metadata": {},
     "output_type": "execute_result"
    }
   ],
   "source": [
    "\"\"\"\n",
    "Este é um exemplo de comentário longo.\n",
    "Observe que aqui há duas sentenças, cada uma em uma linha distinta.\n",
    "\"\"\""
   ]
  },
  {
   "cell_type": "markdown",
   "metadata": {},
   "source": [
    "## Quebra e continuação de sentenças"
   ]
  },
  {
   "cell_type": "markdown",
   "metadata": {},
   "source": [
    "we note that we may place several statements on the same line, pro-\n",
    "vided we separate them with semicolons, but we should think about readability. Long\n",
    "statements can be broken up with the continuation symbol ‘\\’. More usefully, if a state-\n",
    "ment includes a pair of brackets, (), we can split the line at any point between them\n",
    "without the need for the continuation symbol. Here are simple examples."
   ]
  },
  {
   "cell_type": "code",
   "execution_count": 12,
   "metadata": {},
   "outputs": [
    {
     "data": {
      "text/plain": [
       "(4,\n",
       " 5.5,\n",
       " (1.5+2j),\n",
       " 'a',\n",
       " (3206.7483159900835-1897.868489590986j),\n",
       " (3206.7483159900835-1897.868489590986j))"
      ]
     },
     "execution_count": 12,
     "metadata": {},
     "output_type": "execute_result"
    }
   ],
   "source": [
    "a=4; b=5.5; c=1.5+2j; d='a'\n",
    "e=6.0*a-b*b+\\\n",
    "c**(a+b+c)\n",
    "f=6.0*a-b*b+c**(\n",
    "a+b+c)\n",
    "a, b, c, d, e, f"
   ]
  },
  {
   "cell_type": "markdown",
   "metadata": {},
   "source": [
    "## Condicionais"
   ]
  },
  {
   "cell_type": "markdown",
   "metadata": {},
   "source": []
  },
  {
   "cell_type": "markdown",
   "metadata": {},
   "source": [
    "#### **Exercício.**"
   ]
  },
  {
   "cell_type": "code",
   "execution_count": null,
   "metadata": {},
   "outputs": [],
   "source": []
  },
  {
   "cell_type": "markdown",
   "metadata": {},
   "source": [
    "## Repetições"
   ]
  },
  {
   "cell_type": "markdown",
   "metadata": {},
   "source": [
    "O tipo de um dado é definido de modo dinâmico"
   ]
  },
  {
   "cell_type": "markdown",
   "metadata": {},
   "source": [
    "- Tipos primitivos: \\lstinline{int, float, long, complex}\n",
    "- Tipos compostos:\n",
    "\\verb|str, unicode, list, tuple, bytearray, buffer, xrange|\n",
    "\\lstinline{set, frozenset, dict}"
   ]
  },
  {
   "cell_type": "markdown",
   "metadata": {},
   "source": [
    "Outros tipos: \\lstinline{file}, \\textbf{array}, etc\n",
    "\n",
    "Tipos definidos pelo usuário: \\lstinline{class}"
   ]
  },
  {
   "cell_type": "markdown",
   "metadata": {},
   "source": [
    "É possível que em algum momento você precise fazer o trabalho inverso, isto é, determinar o tipo de uma variável. A função type() permite fazer exatamente isto. Por exemplo,"
   ]
  },
  {
   "cell_type": "code",
   "execution_count": 13,
   "metadata": {},
   "outputs": [
    {
     "data": {
      "text/plain": [
       "str"
      ]
     },
     "execution_count": 13,
     "metadata": {},
     "output_type": "execute_result"
    }
   ],
   "source": [
    "cep = '63040-660'\n",
    "type(cep)"
   ]
  },
  {
   "cell_type": "code",
   "execution_count": 14,
   "metadata": {},
   "outputs": [
    {
     "data": {
      "text/plain": [
       "str"
      ]
     },
     "execution_count": 14,
     "metadata": {},
     "output_type": "execute_result"
    }
   ],
   "source": [
    "numero = 126\n",
    "type(cep)"
   ]
  },
  {
   "cell_type": "markdown",
   "metadata": {},
   "source": [
    "#### **Exercício.**"
   ]
  },
  {
   "cell_type": "code",
   "execution_count": null,
   "metadata": {},
   "outputs": [],
   "source": []
  },
  {
   "cell_type": "markdown",
   "metadata": {},
   "source": [
    "## Funções"
   ]
  },
  {
   "cell_type": "markdown",
   "metadata": {},
   "source": [
    "O tipo de um dado é definido de modo dinâmico"
   ]
  },
  {
   "cell_type": "markdown",
   "metadata": {},
   "source": [
    "- Tipos primitivos: \\lstinline{int, float, long, complex}\n",
    "- Tipos compostos:\n",
    "\\verb|str, unicode, list, tuple, bytearray, buffer, xrange|\n",
    "\\lstinline{set, frozenset, dict}"
   ]
  },
  {
   "cell_type": "markdown",
   "metadata": {},
   "source": [
    "Outros tipos: \\lstinline{file}, \\textbf{array}, etc\n",
    "\n",
    "Tipos definidos pelo usuário: \\lstinline{class}"
   ]
  },
  {
   "cell_type": "markdown",
   "metadata": {},
   "source": [
    "É possível que em algum momento você precise fazer o trabalho inverso, isto é, determinar o tipo de uma variável. A função type() permite fazer exatamente isto. Por exemplo,"
   ]
  },
  {
   "cell_type": "code",
   "execution_count": 15,
   "metadata": {},
   "outputs": [],
   "source": [
    "def maior(a,b):\n",
    "    if a > b:\n",
    "        return a\n",
    "    else:\n",
    "        return b"
   ]
  },
  {
   "cell_type": "code",
   "execution_count": 16,
   "metadata": {},
   "outputs": [
    {
     "data": {
      "text/plain": [
       "3"
      ]
     },
     "execution_count": 16,
     "metadata": {},
     "output_type": "execute_result"
    }
   ],
   "source": [
    ">>> maior(3,2)"
   ]
  },
  {
   "cell_type": "code",
   "execution_count": 17,
   "metadata": {},
   "outputs": [
    {
     "data": {
      "text/plain": [
       "-1"
      ]
     },
     "execution_count": 17,
     "metadata": {},
     "output_type": "execute_result"
    }
   ],
   "source": [
    ">>> maior(-1,-3)"
   ]
  },
  {
   "cell_type": "markdown",
   "metadata": {},
   "source": [
    "#### **Exercício.**"
   ]
  },
  {
   "cell_type": "code",
   "execution_count": null,
   "metadata": {},
   "outputs": [],
   "source": []
  },
  {
   "cell_type": "markdown",
   "metadata": {},
   "source": [
    "### Recursividade"
   ]
  },
  {
   "cell_type": "code",
   "execution_count": null,
   "metadata": {},
   "outputs": [],
   "source": []
  },
  {
   "cell_type": "markdown",
   "metadata": {},
   "source": [
    "#### **Exercício.**"
   ]
  },
  {
   "cell_type": "code",
   "execution_count": null,
   "metadata": {},
   "outputs": [],
   "source": []
  },
  {
   "cell_type": "markdown",
   "metadata": {},
   "source": [
    "## Números de Fibonacci"
   ]
  },
  {
   "cell_type": "markdown",
   "metadata": {},
   "source": [
    "Agora, iremos aplicar o que aprendemos de Python para estudar diferentes métodos para gerar uma sequência de números bastante famosa na Matemática, a **sequência de Fibonacci**. Alguns números desta sequência são:"
   ]
  },
  {
   "cell_type": "markdown",
   "metadata": {},
   "source": [
    "0, 1, 1, 2, 3, 5, 8, 13, 21, 34, 55, 89, 144, 233, 377, 610, 987, 1597, 2584, 4181, 6765, 10946, 17711, 28657, 46368, 75025, 121393, 196418, 317811, 514229, 832040, 1346269, 2178309, 3524578, 5702887, 9227465, 14930352, 24157817, 39088169, 63245986, 102334155"
   ]
  },
  {
   "cell_type": "markdown",
   "metadata": {},
   "source": [
    "### Método 1"
   ]
  },
  {
   "cell_type": "markdown",
   "metadata": {},
   "source": [
    "Podemos definir a sequência de Fibonacci usando recursividade. Com efeito, primeiramente definimos $F_0 = 0$ e $F_1 = 1$, os quais chamamos de **casos base**. Agora, estabelecemos a seguinte relação recursiva:\n",
    "$$F_{n+2} = F_{n+1} + F_{n}\\text{, para } n = 0, 1, 2, \\ldots$$"
   ]
  },
  {
   "cell_type": "markdown",
   "metadata": {},
   "source": [
    "#### **Exercício.**\n",
    "(a) Implemente a recorrência de Fibonacci acim utilizando uma função recursiva em Python, completando o trecho de código abaixo."
   ]
  },
  {
   "cell_type": "code",
   "execution_count": 18,
   "metadata": {},
   "outputs": [],
   "source": [
    "# Esta função calcula o número de Fibonacci F_n usando recursividade.\n",
    "def fibrec(n):\n",
    "    if n == 0:\n",
    "        return 0\n",
    "    elif n == 1:\n",
    "        return 1\n",
    "    else:\n",
    "        return fibrec(n-1) + fibrec(n-2)"
   ]
  },
  {
   "cell_type": "markdown",
   "metadata": {},
   "source": [
    "(b) Sabendo que $F_{32} = 2178309$, verifique se sua função está correta."
   ]
  },
  {
   "cell_type": "code",
   "execution_count": 43,
   "metadata": {},
   "outputs": [
    {
     "name": "stdout",
     "output_type": "stream",
     "text": [
      "CPU times: user 1.41 s, sys: 0 ns, total: 1.41 s\n",
      "Wall time: 1.41 s\n"
     ]
    },
    {
     "data": {
      "text/plain": [
       "2178309"
      ]
     },
     "execution_count": 43,
     "metadata": {},
     "output_type": "execute_result"
    }
   ],
   "source": [
    "%time fibrec(32)"
   ]
  },
  {
   "cell_type": "markdown",
   "metadata": {},
   "source": [
    "### Método 2"
   ]
  },
  {
   "cell_type": "markdown",
   "metadata": {},
   "source": [
    "Agora, tenho uma notícia não muito boa. O Método 1 está longe de ser o mais rápido para calcular o $n$-ésimo número de Fibonacci. Como já era de se esperar, (não é?) tamanha é a sua simplicidade. De fato, há diversas formas mais rápidas para se calcular $F_n$. Uma dessas alternativas utiliza álgebra matricial."
   ]
  },
  {
   "cell_type": "markdown",
   "metadata": {},
   "source": [
    "Primeiramente, definimos a matriz:\n",
    "$$\n",
    "\\mathbf{M} = \\begin{bmatrix}1 & 1\\\\ 1 & 0\\end{bmatrix}\\text{.}\n",
    "$$"
   ]
  },
  {
   "cell_type": "markdown",
   "metadata": {},
   "source": [
    "Em seguida, escrevemos:\n",
    "$$\n",
    "\\begin{bmatrix}F_{n+2}\\\\ F_{n+1}\\end{bmatrix} = \\mathbf{M} \\begin{bmatrix}F_{n+1}\\\\ F_n\\end{bmatrix}\\text{.}\n",
    "$$"
   ]
  },
  {
   "cell_type": "markdown",
   "metadata": {},
   "source": [
    "Mas observe que:\n",
    "\n",
    "\\begin{align}\n",
    "\\begin{bmatrix}F_{n+2}\\\\ F_{n+1}\\end{bmatrix} &= \\mathbf{M} \\begin{bmatrix}F_{n+1}\\\\ F_n\\end{bmatrix}\\text{,}\\\\\n",
    " &= \\mathbf{M}^2 \\begin{bmatrix}F_{n}\\\\ F_{n-1}\\end{bmatrix}\\text{,}\\\\\n",
    " &= \\mathbf{M}^3 \\begin{bmatrix}F_{n-1}\\\\ F_{n-2}\\end{bmatrix}\\text{,}\\\\\n",
    " &\\vdots \\\\\n",
    " &= \\mathbf{M}^{n} \\begin{bmatrix}F_{1}\\\\ F_{0}\\end{bmatrix} = \\mathbf{M}^n \\begin{bmatrix}1\\\\ 0\\end{bmatrix}\\text{,}\n",
    "\\end{align}"
   ]
  },
  {
   "cell_type": "markdown",
   "metadata": {},
   "source": [
    "#### **Exercício.**\n",
    "Implemente "
   ]
  },
  {
   "cell_type": "code",
   "execution_count": 44,
   "metadata": {},
   "outputs": [],
   "source": [
    "def fibmat(n):\n",
    "    return None # remova essa linha"
   ]
  },
  {
   "cell_type": "code",
   "execution_count": 45,
   "metadata": {},
   "outputs": [
    {
     "name": "stdout",
     "output_type": "stream",
     "text": [
      "CPU times: user 5 µs, sys: 0 ns, total: 5 µs\n",
      "Wall time: 9.3 µs\n"
     ]
    }
   ],
   "source": [
    "%time fibmat(32)"
   ]
  },
  {
   "cell_type": "markdown",
   "metadata": {},
   "source": [
    "#### **<font color=\"red\">Desafio.</font>**\n",
    "Usando indução, podemos mostrar que o Método 1 requer aproximadamente $n$ operações aritméticas para calcular $F_n$.\n",
    "Para $n = 2^k$, quantas operações aritméticas são realizadas pelo Método 2?"
   ]
  },
  {
   "cell_type": "markdown",
   "metadata": {},
   "source": []
  },
  {
   "cell_type": "markdown",
   "metadata": {},
   "source": [
    "## Saiba mais"
   ]
  },
  {
   "cell_type": "markdown",
   "metadata": {},
   "source": [
    "O problema de distâncias ímpares vai muito além do que abordamos em sala. Navegando na internet, é possível encontrar diversas referências a este problema. Por exemplo,"
   ]
  },
  {
   "cell_type": "markdown",
   "metadata": {},
   "source": [
    "- Exercícios 16 a 18 do Capítulo 1 de Cheney, W; Kincaid, D., **Numerical Mathematics and Computing**, 6ª edição, Thomson Brooks/Cole, 2008."
   ]
  },
  {
   "cell_type": "markdown",
   "metadata": {},
   "source": [
    "- Miniaturas 1 e 2 de Matoušek, J.,  **Thirty-three Miniatures: Mathematical and Algorithmic Appplications of Linear Algebra**, *Student Mathematical Library*, v. 53, AMS, 2010."
   ]
  },
  {
   "cell_type": "markdown",
   "metadata": {},
   "source": [
    "Diversos resultados obtidos em torno da sequência de Fibonacci são catalogados por Sloane, na The On-Line Encyclopedia of Integer Sequences, published electronically at https://oeis.org, [date]"
   ]
  },
  {
   "cell_type": "markdown",
   "metadata": {},
   "source": [
    "- Improved algorithms for the calculation of Fibonacci numbers"
   ]
  },
  {
   "cell_type": "markdown",
   "metadata": {},
   "source": [
    "https://en.wikipedia.org/wiki/Fibonacci_number"
   ]
  },
  {
   "cell_type": "markdown",
   "metadata": {},
   "source": [
    "- Vídeo no Youtube"
   ]
  },
  {
   "cell_type": "code",
   "execution_count": null,
   "metadata": {},
   "outputs": [],
   "source": [
    "from IPython.display import YouTubeVideo\n",
    "YouTubeVideo(id='IejCHh3R7bQ',width=600,height=300)"
   ]
  },
  {
   "cell_type": "markdown",
   "metadata": {},
   "source": [
    "<br>\n",
    "<p>&copy; 2019 Vicente Helano<br>\n",
    "UFCA | Centro de Ciências e Tecnologia</p>"
   ]
  }
 ],
 "metadata": {
  "kernelspec": {
   "display_name": "Python 3",
   "language": "python",
   "name": "python3"
  },
  "language_info": {
   "codemirror_mode": {
    "name": "ipython",
    "version": 3
   },
   "file_extension": ".py",
   "mimetype": "text/x-python",
   "name": "python",
   "nbconvert_exporter": "python",
   "pygments_lexer": "ipython3",
   "version": "3.5.3"
  }
 },
 "nbformat": 4,
 "nbformat_minor": 4
}
