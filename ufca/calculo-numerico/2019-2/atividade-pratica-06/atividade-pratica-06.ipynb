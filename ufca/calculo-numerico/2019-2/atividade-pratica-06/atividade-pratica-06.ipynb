{
 "cells": [
  {
   "cell_type": "markdown",
   "metadata": {},
   "source": [
    "# Simplificação de superfícies"
   ]
  },
  {
   "cell_type": "markdown",
   "metadata": {},
   "source": [
    "<BR CLEAR=\"left\" />\n",
    "<img src=\"https://upload.wikimedia.org/wikipedia/commons/thumb/b/be/Pont_depuis_l%27_Oyapock.jpg/179px-Pont_depuis_l%27_Oyapock.jpg\" align=\"right\" alt=\"Ponte Binacional Franco-Brasileira\" style=\"padding-right: 5pt;\">\n",
    "\n",
    "<p>O último período chuvoso trouxe muitos prejuízos, principalmente, para a população urbana das cidades brasileiras.\n",
    "A maior perda para os cofres públicos foi causada pela queda da <i>Ponte Transcontinental</i>, que liga os municípios de Oiapoque e Chuí.\n",
    "Além do prejuízo estrutural, este incidente também interferirá negativamente na economia das cidades localizadas no entorno da ponte.\n",
    "Por este motivo, é necessário que as obras de reconstrução da Transcontinental sejam iniciadas rapidamente.</p>\n",
    "\n",
    "<p>No começo desta semana, foi lançado um edital para seleção de um consultor técnico que será responsável por determinar o tipo de ponte a ser construída.\n",
    "O Exército Brasileiro ficará encarregado pela execução da obra.\n",
    "Os detalhes do edital são apresentados a seguir.</p>"
   ]
  },
  {
   "cell_type": "markdown",
   "metadata": {},
   "source": [
    "## Saiba mais"
   ]
  },
  {
   "cell_type": "markdown",
   "metadata": {},
   "source": [
    "Esta atividade foi inspirada no artigo:\n",
    "\n",
    "* SANTANA, P. F. M. et al. [Uma heurística para o dimensionamento ótimo de treliças espaciais regulares](http://www.civil.uminho.pt/revista/artigos/n56/Pag.14-27.pdf). **Revista de Engenharia**, n. 56, p. 14-27, 2019."
   ]
  },
  {
   "cell_type": "markdown",
   "metadata": {},
   "source": [
    "A implementação do método da rigidez direta apresentada aqui foi adaptada de:\n",
    "\n",
    "* Felippa, Carlos A. [Introduction to finite element methods](http://bit.do/fewTx). Department of Aerospace Engineering Sciences and Center for Aerospace Structures, University of Colorado, 2001."
   ]
  },
  {
   "cell_type": "markdown",
   "metadata": {},
   "source": [
    "<br>\n",
    "<p>&copy; 2019 Vicente Helano<br>\n",
    "UFCA | Centro de Ciências e Tecnologia</p>"
   ]
  }
 ],
 "metadata": {
  "kernelspec": {
   "display_name": "Python 3",
   "language": "python",
   "name": "python3"
  },
  "language_info": {
   "codemirror_mode": {
    "name": "ipython",
    "version": 3
   },
   "file_extension": ".py",
   "mimetype": "text/x-python",
   "name": "python",
   "nbconvert_exporter": "python",
   "pygments_lexer": "ipython3",
   "version": "3.7.3"
  }
 },
 "nbformat": 4,
 "nbformat_minor": 4
}
