{
 "cells": [
  {
   "cell_type": "markdown",
   "metadata": {},
   "source": [
    "# Uma breve introdução à Numpy"
   ]
  },
  {
   "cell_type": "markdown",
   "metadata": {},
   "source": [
    "<br>"
   ]
  },
  {
   "cell_type": "markdown",
   "metadata": {},
   "source": [
    "Um **módulo** é um arquivo contendo definições e comandos em Python, o qual pode ser importado por outros módulos.\n",
    "O nome de um módulo é o mesmo nome do arquivo `.py` contendo seu código.\n",
    "Ele é compilado no momento de sua importação, gerando arquivos `.pyc`.\n",
    "Uma coleção de módulos dá origem ao que chamamos de **pacote** ou **biblioteca**."
   ]
  },
  {
   "cell_type": "markdown",
   "metadata": {},
   "source": [
    "O projeto SciPy visa desenvolver uma plataforma para a implementação de softwares científicos e de engenharia.\n",
    "A biblioteca **NumPy**, parte deste projeto, inclue tipos numéricos primitivos, arranjos numéricos semelhantes às listas e diversos algoritmos que manipulam estes dados. Ela será a biblioteca mais usada em nosso curso!"
   ]
  },
  {
   "cell_type": "markdown",
   "metadata": {},
   "source": [
    "Antes de iniciarmos, iremos carregar nossa nova biblioteca:"
   ]
  },
  {
   "cell_type": "code",
   "execution_count": 55,
   "metadata": {},
   "outputs": [],
   "source": [
    "import numpy as np"
   ]
  },
  {
   "cell_type": "markdown",
   "metadata": {},
   "source": [
    "## Tipos de dados"
   ]
  },
  {
   "cell_type": "markdown",
   "metadata": {},
   "source": [
    "### Tipos primitivos"
   ]
  },
  {
   "cell_type": "markdown",
   "metadata": {},
   "source": [
    "`bool`\n",
    "`int32`\n",
    "`int64`\n",
    "`uint32`\n",
    "`uint64`\n",
    "`float32`\n",
    "`float64`\n",
    "`complex64`\n",
    "`complex128`"
   ]
  },
  {
   "cell_type": "markdown",
   "metadata": {},
   "source": [
    "Podemos exibir as características de um tipo real específico usando a `numpy.finfo`:"
   ]
  },
  {
   "cell_type": "code",
   "execution_count": 42,
   "metadata": {},
   "outputs": [
    {
     "name": "stdout",
     "output_type": "stream",
     "text": [
      "Machine parameters for float64\n",
      "---------------------------------------------------------------\n",
      "precision =  15   resolution = 1.0000000000000001e-15\n",
      "machep =    -52   eps =        2.2204460492503131e-16\n",
      "negep =     -53   epsneg =     1.1102230246251565e-16\n",
      "minexp =  -1022   tiny =       2.2250738585072014e-308\n",
      "maxexp =   1024   max =        1.7976931348623157e+308\n",
      "nexp =       11   min =        -max\n",
      "---------------------------------------------------------------\n",
      "\n"
     ]
    }
   ],
   "source": [
    "print(np.finfo(np.float))"
   ]
  },
  {
   "cell_type": "markdown",
   "metadata": {},
   "source": [
    "## Constantes"
   ]
  },
  {
   "cell_type": "code",
   "execution_count": 56,
   "metadata": {},
   "outputs": [
    {
     "data": {
      "text/plain": [
       "(2.718281828459045, 3.141592653589793, inf, nan)"
      ]
     },
     "execution_count": 56,
     "metadata": {},
     "output_type": "execute_result"
    }
   ],
   "source": [
    "np.e, np.pi, np.inf, np.nan"
   ]
  },
  {
   "cell_type": "markdown",
   "metadata": {},
   "source": [
    "## Arranjos"
   ]
  },
  {
   "cell_type": "markdown",
   "metadata": {},
   "source": [
    "A `numpy.array` é o principal objeto da NumPy, um tipo de arranjo numérico homogêneo.\n",
    "O tamanho de um arranjo é imutável e não pode ser criado com elementos vazios."
   ]
  },
  {
   "cell_type": "markdown",
   "metadata": {},
   "source": [
    "#### Construção de arranjos"
   ]
  },
  {
   "cell_type": "code",
   "execution_count": 57,
   "metadata": {},
   "outputs": [
    {
     "data": {
      "text/plain": [
       "array([[ 1. +0.j,  3.5+0.j],\n",
       "       [-1. +0.j,  0. +0.j],\n",
       "       [ 1. +1.j,  3. +0.j]])"
      ]
     },
     "execution_count": 57,
     "metadata": {},
     "output_type": "execute_result"
    }
   ],
   "source": [
    "a = np.array([[1,3.5],[-1,0],(1+1j,3.)])\n",
    "a"
   ]
  },
  {
   "cell_type": "markdown",
   "metadata": {},
   "source": [
    "Eles são muito mais do que simples arranjos."
   ]
  },
  {
   "cell_type": "code",
   "execution_count": 45,
   "metadata": {},
   "outputs": [
    {
     "data": {
      "text/plain": [
       "(array([[ 0,  1,  2,  3,  4],\n",
       "        [ 5,  6,  7,  8,  9],\n",
       "        [10, 11, 12, 13, 14]]), (3, 5), 2, 'int64', 8, 15, numpy.ndarray)"
      ]
     },
     "execution_count": 45,
     "metadata": {},
     "output_type": "execute_result"
    }
   ],
   "source": [
    "a = np.arange(15).reshape(3, 5)\n",
    "a,a.shape,a.ndim,a.dtype.name,a.itemsize,a.size,type(a)"
   ]
  },
  {
   "cell_type": "markdown",
   "metadata": {},
   "source": [
    "Há também funções de construção especiais:"
   ]
  },
  {
   "cell_type": "code",
   "execution_count": 58,
   "metadata": {},
   "outputs": [
    {
     "data": {
      "text/plain": [
       "array([0, 1, 2, 3, 4, 5, 6, 7, 8, 9])"
      ]
     },
     "execution_count": 58,
     "metadata": {},
     "output_type": "execute_result"
    }
   ],
   "source": [
    "np.arange(10)"
   ]
  },
  {
   "cell_type": "code",
   "execution_count": 59,
   "metadata": {},
   "outputs": [
    {
     "data": {
      "text/plain": [
       "array([[0., 0., 0.],\n",
       "       [0., 0., 0.]])"
      ]
     },
     "execution_count": 59,
     "metadata": {},
     "output_type": "execute_result"
    }
   ],
   "source": [
    "np.zeros((2, 3))"
   ]
  },
  {
   "cell_type": "code",
   "execution_count": 66,
   "metadata": {},
   "outputs": [
    {
     "data": {
      "text/plain": [
       "array([1. , 1.6, 2.2, 2.8, 3.4, 4. ])"
      ]
     },
     "execution_count": 66,
     "metadata": {},
     "output_type": "execute_result"
    }
   ],
   "source": [
    "np.linspace(1., 4., 6)"
   ]
  },
  {
   "cell_type": "markdown",
   "metadata": {},
   "source": [
    "#### Acessando elementos de um arranjo"
   ]
  },
  {
   "cell_type": "code",
   "execution_count": 69,
   "metadata": {},
   "outputs": [
    {
     "data": {
      "text/plain": [
       "(3, 9)"
      ]
     },
     "execution_count": 69,
     "metadata": {},
     "output_type": "execute_result"
    }
   ],
   "source": [
    "A = np.array([[3, 8, 2, 3],[8, 9, 7, 2],[6, 5, 5, 7],[6, 4, 5, 9]])\n",
    "A[0,0],A[1,1]"
   ]
  },
  {
   "cell_type": "markdown",
   "metadata": {},
   "source": [
    "#### Operações com arranjos"
   ]
  },
  {
   "cell_type": "markdown",
   "metadata": {},
   "source": [
    "As operações +, -, * são elemento a elemento. Por exemplo,"
   ]
  },
  {
   "cell_type": "code",
   "execution_count": 64,
   "metadata": {},
   "outputs": [
    {
     "data": {
      "text/plain": [
       "array([[21,  8,  6,  0],\n",
       "       [48,  0, 14, 12],\n",
       "       [12, 10,  5, 63],\n",
       "       [48, 24, 35,  9]])"
      ]
     },
     "execution_count": 64,
     "metadata": {},
     "output_type": "execute_result"
    }
   ],
   "source": [
    "A = np.array([[3, 8, 2, 3],[8, 9, 7, 2],[6, 5, 5, 7],[6, 4, 5, 9]])\n",
    "B = np.array([[7, 1, 3, 0],[6, 0, 2, 6],[2, 2, 1, 9],[8, 6, 7, 1]])\n",
    "A*B"
   ]
  },
  {
   "cell_type": "markdown",
   "metadata": {},
   "source": [
    "Para efetuarmos o produto matricial, conforme definido em álgebra, utilizamos a função `numpy.dot` (produto escalar)."
   ]
  },
  {
   "cell_type": "code",
   "execution_count": 65,
   "metadata": {},
   "outputs": [
    {
     "data": {
      "text/plain": [
       "array([[ 97,  25,  48,  69],\n",
       "       [140,  34,  63, 119],\n",
       "       [138,  58,  82,  82],\n",
       "       [148,  70,  94,  78]])"
      ]
     },
     "execution_count": 65,
     "metadata": {},
     "output_type": "execute_result"
    }
   ],
   "source": [
    "np.dot(A,B)"
   ]
  },
  {
   "cell_type": "markdown",
   "metadata": {},
   "source": [
    "## O auditor matricial"
   ]
  },
  {
   "cell_type": "markdown",
   "metadata": {},
   "source": [
    "A Prefeitura de Frevolândia lançou edital para a contratação de novos *auditores matriciais*.\n",
    "O requisito mínimo é ter cursado as disciplinas de Álgebra Linear e Programação Computacional em nível de graduação.\n",
    "Compete ao auditor matricial verificar se o produto de duas matrizes quadradas de ordem $n$ está correto.\n",
    "Ele atuará na fiscalização da mais nova empresa fornecedora de produtos matriciais, a Linear Consultoria, contratada para calcular o produto de matrizes fornecidas pela Secretaria da Previdência do município.\n",
    "Dadas duas matrizes $\\mathbf{A}$ e $\\mathbf{B}$, fornecidas pela secretaria, e uma matriz $\\mathbf{C}$ calculada pela Linear Consultoria, o auditor deverá verificar que $\\mathbf{C} = \\mathbf{A}\\mathbf{B}$."
   ]
  },
  {
   "cell_type": "markdown",
   "metadata": {},
   "source": [
    "Entusiasmado com o concurso, Cícero decidiu se antecipar e já ir pensando como poderia realizar esses testes da forma mais rápida possível."
   ]
  },
  {
   "cell_type": "markdown",
   "metadata": {},
   "source": [
    "### Método determinístico"
   ]
  },
  {
   "cell_type": "markdown",
   "metadata": {},
   "source": [
    "A primeira ideia que veio à mente de Cícero foi um método força bruta: calcular o produto $\\mathbf{A}\\mathbf{B}$ separadamente e verificar, elemento por elemento, se vale a igualdade $\\mathbf{C} = \\mathbf{A}\\mathbf{B}$. Por conveniência, ele decidiu fazer seus testes usando Python e a biblioteca NumPy e acabou implementando a função abaixo."
   ]
  },
  {
   "cell_type": "code",
   "execution_count": 48,
   "metadata": {},
   "outputs": [],
   "source": [
    "# Complete esta função.\n",
    "def forca_bruta(A,B,C):\n",
    "    \"\"\"Esta função verifica se vale a igualdade C = AB, usando força bruta.\n",
    "    \n",
    "    Argumentos:\n",
    "        A,B,C (numpy.array): Matrizes quadradas com mesmas dimensões.\n",
    "\n",
    "    Retorno:\n",
    "        res (bool): True se verdadeiro, False caso contrário.\n",
    "    \"\"\"\n",
    "    \n",
    "    # Seu código deve iniciar aqui embaixo.\n",
    "    \n",
    "    return True # altere esta linha, caso necessário"
   ]
  },
  {
   "cell_type": "markdown",
   "metadata": {},
   "source": [
    "*Verificação fictícia 1.*"
   ]
  },
  {
   "cell_type": "code",
   "execution_count": 62,
   "metadata": {},
   "outputs": [
    {
     "name": "stdout",
     "output_type": "stream",
     "text": [
      "CPU times: user 78 µs, sys: 0 ns, total: 78 µs\n",
      "Wall time: 82.7 µs\n"
     ]
    },
    {
     "data": {
      "text/plain": [
       "True"
      ]
     },
     "execution_count": 62,
     "metadata": {},
     "output_type": "execute_result"
    }
   ],
   "source": [
    "%%time\n",
    "A = np.array([[3, 8, 2, 3],[8, 9, 7, 2],[6, 5, 5, 7],[6, 4, 5, 9]])\n",
    "B = np.array([[7, 1, 3, 0],[6, 0, 2, 6],[2, 2, 1, 9],[8, 6, 7, 1]])\n",
    "C = np.array([[97, 25, 48, 69],[140, 34, 63, 119],[138, 58, 82, 82],[148, 70, 94, 78]])\n",
    "\n",
    "forca_bruta(A,B,C)"
   ]
  },
  {
   "cell_type": "markdown",
   "metadata": {},
   "source": [
    "*Verificação fictícia 2.*"
   ]
  },
  {
   "cell_type": "code",
   "execution_count": 50,
   "metadata": {},
   "outputs": [
    {
     "name": "stdout",
     "output_type": "stream",
     "text": [
      "CPU times: user 45 µs, sys: 10 µs, total: 55 µs\n",
      "Wall time: 58.7 µs\n"
     ]
    },
    {
     "data": {
      "text/plain": [
       "True"
      ]
     },
     "execution_count": 50,
     "metadata": {},
     "output_type": "execute_result"
    }
   ],
   "source": [
    "%%time\n",
    "C = np.array([[1, 1, 1, 4],[1, 0, 6, 9],[5, 5, 3, 1],[4, 0, 5, 3]])\n",
    "\n",
    "forca_bruta(A,B,C)"
   ]
  },
  {
   "cell_type": "markdown",
   "metadata": {},
   "source": [
    "### Método probabilístico"
   ]
  },
  {
   "cell_type": "markdown",
   "metadata": {},
   "source": [
    "Refletindo sobre o problema, Cícero se fez a seguinte pergunta:"
   ]
  },
  {
   "cell_type": "markdown",
   "metadata": {},
   "source": [
    "<blockquote>Dado um vetor $\\mathbf{x}$ arbitrário, será que se tivermos $\\mathbf{C} = \\mathbf{A}\\mathbf{B}$, também teremos $\\mathbf{C}\\mathbf{x} = \\mathbf{A}\\mathbf{B}\\mathbf{x}$?\n",
    "</blockquote>"
   ]
  },
  {
   "cell_type": "markdown",
   "metadata": {},
   "source": [
    "#### **Exercício.**\n",
    "Responda à pergunta de Cícero."
   ]
  },
  {
   "cell_type": "markdown",
   "metadata": {},
   "source": [
    "*Digite sua resposta nesta célula*"
   ]
  },
  {
   "cell_type": "markdown",
   "metadata": {},
   "source": [
    "Seguindo nesta direção, ele elaborou o seguinte algoritmo:"
   ]
  },
  {
   "cell_type": "markdown",
   "metadata": {},
   "source": [
    "1. Gere aleatoriamente um vetor $\\mathbf{x}$ composto apenas por $0$'s e $1$'s\n",
    "2. Calcule os produtos $\\mathbf{C}\\mathbf{x}$ e $\\mathbf{A}(\\mathbf{B}\\mathbf{x})$\n",
    "3. Se os resultados do item (2) forem os mesmos, a resposta será *sim*. Caso contrário, será *não*."
   ]
  },
  {
   "cell_type": "markdown",
   "metadata": {},
   "source": [
    "#### **Exercício.**\n",
    "Você vê algum problema com o algoritmo de Cícero?"
   ]
  },
  {
   "cell_type": "markdown",
   "metadata": {},
   "source": [
    "*Digite sua resposta nesta célula*"
   ]
  },
  {
   "cell_type": "markdown",
   "metadata": {},
   "source": [
    "De repente, Cícero se enche de felicidade, pelo *insight* que acaba de ter. Ele decide então alterar seu algoritmo para:"
   ]
  },
  {
   "cell_type": "markdown",
   "metadata": {},
   "source": [
    "1. Repita $50$ vezes o seguinte:  \n",
    "  1.1 Gere aleatoriamente um vetor $\\mathbf{x}$ composto apenas por $0$'s e $1$'s.  \n",
    "  1.2 Calcule os produtos $\\mathbf{C}\\mathbf{x}$ e $\\mathbf{A}(\\mathbf{B}\\mathbf{x})$.  \n",
    "  1.3 Se os resultados do item (2) forem diferentes, a resposta será *não*.  \n",
    "2. Se você chegou aqui, a resposta será *sim*."
   ]
  },
  {
   "cell_type": "markdown",
   "metadata": {},
   "source": [
    "#### **Exercício.**\n",
    "Sua tarefa agora é implementar a última versão do algoritmo de Cícero."
   ]
  },
  {
   "cell_type": "markdown",
   "metadata": {},
   "source": [
    "*Digite sua resposta nesta célula*"
   ]
  },
  {
   "cell_type": "code",
   "execution_count": 51,
   "metadata": {},
   "outputs": [],
   "source": [
    "# Complete esta função.\n",
    "def probabilistico(A,B,C):\n",
    "    \"\"\"Esta função verifica se vale a igualdade C = AB, usando um algoritmo probabilístico.\n",
    "    \n",
    "    Argumentos:\n",
    "        A,B,C (numpy.array): Matrizes quadradas com mesmas dimensões.\n",
    "\n",
    "    Retorno:\n",
    "        res (bool): True se verdadeiro, False caso contrário.\n",
    "    \"\"\"\n",
    "    \n",
    "    # Seu código deve iniciar aqui embaixo.\n",
    "    \n",
    "    return True # altere esta linha, caso necessário"
   ]
  },
  {
   "cell_type": "markdown",
   "metadata": {},
   "source": [
    "*Verificação fictícia 1.*"
   ]
  },
  {
   "cell_type": "code",
   "execution_count": 52,
   "metadata": {},
   "outputs": [
    {
     "name": "stdout",
     "output_type": "stream",
     "text": [
      "CPU times: user 44 µs, sys: 10 µs, total: 54 µs\n",
      "Wall time: 57.9 µs\n"
     ]
    },
    {
     "data": {
      "text/plain": [
       "True"
      ]
     },
     "execution_count": 52,
     "metadata": {},
     "output_type": "execute_result"
    }
   ],
   "source": [
    "%%time\n",
    "C = np.array([[97, 25, 48, 69],[140, 34, 63, 119],[138, 58, 82, 82],[148, 70, 94, 78]])\n",
    "\n",
    "probabilistico(A,B,C)"
   ]
  },
  {
   "cell_type": "markdown",
   "metadata": {},
   "source": [
    "*Verificação fictícia 2.*"
   ]
  },
  {
   "cell_type": "code",
   "execution_count": 53,
   "metadata": {},
   "outputs": [
    {
     "name": "stdout",
     "output_type": "stream",
     "text": [
      "CPU times: user 61 µs, sys: 0 ns, total: 61 µs\n",
      "Wall time: 65.6 µs\n"
     ]
    },
    {
     "data": {
      "text/plain": [
       "True"
      ]
     },
     "execution_count": 53,
     "metadata": {},
     "output_type": "execute_result"
    }
   ],
   "source": [
    "%%time\n",
    "C = np.array([[1, 1, 1, 4],[1, 0, 6, 9],[5, 5, 3, 1],[4, 0, 5, 3]])\n",
    "\n",
    "probabilistico(A,B,C)"
   ]
  },
  {
   "cell_type": "markdown",
   "metadata": {},
   "source": [
    "Boa sorte, Cícero!"
   ]
  },
  {
   "cell_type": "markdown",
   "metadata": {},
   "source": [
    "## Saiba mais"
   ]
  },
  {
   "cell_type": "markdown",
   "metadata": {},
   "source": [
    "- Ao longo do curso, aprenderemos muito mais sobre a NumPy. Se você ficou curioso e quer saber mais sobre ela, sugiro que acesse: "
   ]
  },
  {
   "cell_type": "markdown",
   "metadata": {},
   "source": [
    "- O problema do \"auditor matricial\" foi inspirado na Miniatura 11 do livro do professor Jiří Matoušek,  **Thirty-three Miniatures: Mathematical and Algorithmic Appplications of Linear Algebra**, *Student Mathematical Library*, v. 53, AMS, 2010.\n"
   ]
  },
  {
   "cell_type": "markdown",
   "metadata": {},
   "source": [
    "<br>\n",
    "<p>&copy; 2019 Vicente Helano<br>\n",
    "UFCA | Centro de Ciências e Tecnologia</p>"
   ]
  }
 ],
 "metadata": {
  "kernelspec": {
   "display_name": "Python 3",
   "language": "python",
   "name": "python3"
  },
  "language_info": {
   "codemirror_mode": {
    "name": "ipython",
    "version": 3
   },
   "file_extension": ".py",
   "mimetype": "text/x-python",
   "name": "python",
   "nbconvert_exporter": "python",
   "pygments_lexer": "ipython3",
   "version": "3.7.3"
  }
 },
 "nbformat": 4,
 "nbformat_minor": 4
}
