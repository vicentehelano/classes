{
 "cells": [
  {
   "cell_type": "markdown",
   "metadata": {},
   "source": [
    "# Introdução à Numpy"
   ]
  },
  {
   "cell_type": "markdown",
   "metadata": {},
   "source": [
    "<em> em construção"
   ]
  },
  {
   "cell_type": "markdown",
   "metadata": {},
   "source": [
    "Um **módulo** é um arquivo contendo definições e comandos em Python, o qual pode ser importado para outros módulos"
   ]
  },
  {
   "cell_type": "markdown",
   "metadata": {},
   "source": [
    "O nome de um módulo é o mesmo nome do arquivo .py contendo seu código"
   ]
  },
  {
   "cell_type": "markdown",
   "metadata": {},
   "source": [
    "É possível que em algum momento você precise fazer o trabalho inverso, isto é, determinar o tipo de uma variável. A função type() permite fazer exatamente isto. Por exemplo,"
   ]
  },
  {
   "cell_type": "markdown",
   "metadata": {},
   "source": [
    "Um módulo é compilado no momento de sua importação, gerando arquivos .pyc"
   ]
  },
  {
   "cell_type": "markdown",
   "metadata": {},
   "source": [
    "Uma coleção de módulos dá origem a um **pacote**"
   ]
  },
  {
   "cell_type": "markdown",
   "metadata": {},
   "source": [
    "O projeto SciPy é uma consiste de uma plataforma em Python para o desenvolvimento de softwares de matemática, ciência e engenharia."
   ]
  },
  {
   "cell_type": "markdown",
   "metadata": {},
   "source": [
    "- \\textbf{NumPy}: tipos numéricos, arranjos e matrizes\n",
    "- \\textbf{SciPy}: coleção de algoritmos numéricos e toolboxes (signal processing, optimization, statistics and much more)\n",
    "- \\textbf{Matplotlib}: pacote para traçar gráficos 2D e 3D\n",
    "- \\textbf{pandas}: estruturas de dados de alto desempenho\n",
    "- \\textbf{SymPy}: álgebra computacional e computação simbólica\n",
    "- \\textbf{IPython}: ferramentas para auxiliar no processamento de dados\n",
    "- \\textbf{nose}: uma plataforma de testes"
   ]
  },
  {
   "cell_type": "markdown",
   "metadata": {},
   "source": [
    "The numpy module2 is not a part of the standard Python release. As pointed out ear-\n",
    "lier, it must be installed separately (the installation is very easy). The module intro-\n",
    "duces array objects that are similar to lists, but can be manipulated by numerous\n",
    "functions contained in the module. The size of an array is immutable, and no empty\n",
    "elements are allowed.\n",
    "The complete set of functions in numpy is far too long to be printed in its entirety.\n",
    "The following list is limited to the most commonly used functions.\n",
    "\n",
    "\n"
   ]
  },
  {
   "cell_type": "markdown",
   "metadata": {},
   "source": [
    "## Tipos de dados"
   ]
  },
  {
   "cell_type": "markdown",
   "metadata": {},
   "source": [
    "Before we start, we must import the NumPy module. The preferred approach is to\n",
    "preface the code with"
   ]
  },
  {
   "cell_type": "code",
   "execution_count": 26,
   "metadata": {},
   "outputs": [],
   "source": [
    "import numpy as np"
   ]
  },
  {
   "cell_type": "markdown",
   "metadata": {},
   "source": [
    "Once NumPy has been imported, we need to think about on-line documentation, for\n",
    "this is a very large module. It is very straightforward to see how large NumPy is if\n",
    "you are following my recommendation to use the IPython interpreter, which utilizes\n",
    "tab completion, i.e., if we type part of a command and press the tab key, the range of\n",
    "possible completions is shown, unless there is precisely one, in which case it will be\n",
    "completed. Trying"
   ]
  },
  {
   "cell_type": "markdown",
   "metadata": {},
   "source": [
    "### Tipos primitivos"
   ]
  },
  {
   "cell_type": "markdown",
   "metadata": {},
   "source": [
    "|  tipo        |      intervalo    |\n",
    "| ------------ | ----------------- |\n",
    "| `bool`       | `True` ou `False` |\n",
    "| `int32`      | -2147483648 a 2147483647|\n",
    "| `complex128` |\n",
    "- \\textbf{int64}:\t-9223372036854775808 a 9223372036854775807\n",
    "- \\textbf{uint32}:\t0 a 4294967295\n",
    "- \\textbf{uint64}:\t0 a 18446744073709551615\n",
    "- \\textbf{float32}:\tbit p/ sinal, 8 bits p/ expoente, 23$^\\text{*}$ bits p/ mantissa\n",
    "- \\textbf{float64}:\tbit p/ sinal, 11 bits p/ expoente, 52$^\\text{*}$ bits p/ mantissa\n",
    "- \\textbf{complex64}:\tdois floats 32-bit\n",
    "- \\textbf{complex128}:\tdois floats 64-bit"
   ]
  },
  {
   "cell_type": "markdown",
   "metadata": {},
   "source": [
    "As características do sistema atual são exibidas conforme a seguir."
   ]
  },
  {
   "cell_type": "code",
   "execution_count": 14,
   "metadata": {},
   "outputs": [
    {
     "name": "stdout",
     "output_type": "stream",
     "text": [
      "Machine parameters for float64\n",
      "---------------------------------------------------------------\n",
      "precision =  15   resolution = 1.0000000000000001e-15\n",
      "machep =    -52   eps =        2.2204460492503131e-16\n",
      "negep =     -53   epsneg =     1.1102230246251565e-16\n",
      "minexp =  -1022   tiny =       2.2250738585072014e-308\n",
      "maxexp =   1024   max =        1.7976931348623157e+308\n",
      "nexp =       11   min =        -max\n",
      "---------------------------------------------------------------\n",
      "\n"
     ]
    }
   ],
   "source": [
    "print(np.finfo(np.float))"
   ]
  },
  {
   "cell_type": "markdown",
   "metadata": {},
   "source": [
    "### Constantes"
   ]
  },
  {
   "cell_type": "code",
   "execution_count": 24,
   "metadata": {},
   "outputs": [
    {
     "data": {
      "text/plain": [
       "(2.718281828459045, 3.141592653589793, inf, nan)"
      ]
     },
     "execution_count": 24,
     "metadata": {},
     "output_type": "execute_result"
    }
   ],
   "source": [
    "np.e, np.pi, np.inf, np.nan"
   ]
  },
  {
   "cell_type": "markdown",
   "metadata": {},
   "source": [
    "### Arranjos"
   ]
  },
  {
   "cell_type": "markdown",
   "metadata": {},
   "source": [
    "ndarray is the main object of numpy, which is homogeneous (containing\n",
    "only one data type for all its member elements). The elements are created\n",
    "using the array() function of numpy. This functions needs a list as input.\n",
    "Elements are indexed by a tuple of positive integers:"
   ]
  },
  {
   "cell_type": "markdown",
   "metadata": {},
   "source": [
    "#### Construção de arranjos"
   ]
  },
  {
   "cell_type": "markdown",
   "metadata": {},
   "source": [
    "Arranjos numéricos multi-dimensionais podem ser criados a partir de arranjos, listas e tuplas"
   ]
  },
  {
   "cell_type": "code",
   "execution_count": 25,
   "metadata": {},
   "outputs": [
    {
     "data": {
      "text/plain": [
       "array([[ 1. +0.j,  3.5+0.j],\n",
       "       [-1. +0.j,  0. +0.j],\n",
       "       [ 1. +1.j,  3. +0.j]])"
      ]
     },
     "execution_count": 25,
     "metadata": {},
     "output_type": "execute_result"
    }
   ],
   "source": [
    "a = np.array([[1,3.5],[-1,0],(1+1j,3.)])\n",
    "a"
   ]
  },
  {
   "cell_type": "markdown",
   "metadata": {},
   "source": [
    "Eles são muito mais do que simples arranjos."
   ]
  },
  {
   "cell_type": "code",
   "execution_count": 19,
   "metadata": {},
   "outputs": [
    {
     "data": {
      "text/plain": [
       "(array([[ 0,  1,  2,  3,  4],\n",
       "        [ 5,  6,  7,  8,  9],\n",
       "        [10, 11, 12, 13, 14]]), (3, 5), 2, 'int32', 4, 15, numpy.ndarray)"
      ]
     },
     "execution_count": 19,
     "metadata": {},
     "output_type": "execute_result"
    }
   ],
   "source": [
    "a = np.arange(15).reshape(3, 5)\n",
    "a,a.shape,a.ndim,a.dtype.name,a.itemsize,a.size,type(a)"
   ]
  },
  {
   "cell_type": "markdown",
   "metadata": {},
   "source": [
    "Há também funções de construção especiais"
   ]
  },
  {
   "cell_type": "code",
   "execution_count": 17,
   "metadata": {},
   "outputs": [
    {
     "data": {
      "text/plain": [
       "array([1. , 1.6, 2.2, 2.8, 3.4, 4. ])"
      ]
     },
     "execution_count": 17,
     "metadata": {},
     "output_type": "execute_result"
    }
   ],
   "source": [
    "np.arange(10)\n",
    "np.zeros((2, 3))\n",
    "np.linspace(1., 4., 6)"
   ]
  },
  {
   "cell_type": "markdown",
   "metadata": {},
   "source": [
    "#### Acessando elementos de um arranjo"
   ]
  },
  {
   "cell_type": "markdown",
   "metadata": {},
   "source": [
    "#### Operações com arranjos"
   ]
  },
  {
   "cell_type": "markdown",
   "metadata": {},
   "source": [
    "As operações +, -, * são elemento a elemento"
   ]
  },
  {
   "cell_type": "code",
   "execution_count": null,
   "metadata": {},
   "outputs": [],
   "source": []
  },
  {
   "cell_type": "markdown",
   "metadata": {},
   "source": [
    "## Saiba mais"
   ]
  }
 ],
 "metadata": {
  "kernelspec": {
   "display_name": "Python 3",
   "language": "python",
   "name": "python3"
  },
  "language_info": {
   "codemirror_mode": {
    "name": "ipython",
    "version": 3
   },
   "file_extension": ".py",
   "mimetype": "text/x-python",
   "name": "python",
   "nbconvert_exporter": "python",
   "pygments_lexer": "ipython3",
   "version": "3.7.3"
  }
 },
 "nbformat": 4,
 "nbformat_minor": 4
}
