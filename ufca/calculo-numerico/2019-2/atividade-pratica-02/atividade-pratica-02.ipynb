{
 "cells": [
  {
   "cell_type": "markdown",
   "metadata": {},
   "source": [
    "# Uma breve introdução à Numpy"
   ]
  },
  {
   "cell_type": "markdown",
   "metadata": {},
   "source": [
    "<br>"
   ]
  },
  {
   "cell_type": "markdown",
   "metadata": {},
   "source": [
    "Na aula de hoje, iremos estudar um pouco a NumPy, o principal módulo para cálculos numéricos da Python. Ela será nossa companheira ao longo de todo o curso. Por isso, é importante que nos debrucemos cuidadosamente sobre ela."
   ]
  },
  {
   "cell_type": "markdown",
   "metadata": {},
   "source": [
    "## Módulos, bibliotecas e a NumPy"
   ]
  },
  {
   "cell_type": "markdown",
   "metadata": {},
   "source": [
    "Um **módulo** é um arquivo contendo definições e comandos em Python, o qual pode ser importado por outros módulos.\n",
    "O nome de um módulo é o mesmo nome do arquivo `.py` contendo seu código.\n",
    "Ele é compilado no momento de sua importação, gerando arquivos `.pyc`, que são carregados pelo interpretador.\n",
    "Uma coleção de módulos dá origem ao que chamamos de **pacote** ou **biblioteca**."
   ]
  },
  {
   "cell_type": "markdown",
   "metadata": {},
   "source": [
    "O projeto __[SciPy](https://www.scipy.org/)__ visa desenvolver uma plataforma para a implementação de softwares científicos e de engenharia.\n",
    "A biblioteca __[NumPy](https://www.numpy.org/)__, parte deste projeto, inclue tipos numéricos primitivos, arranjos numéricos semelhantes às listas e diversos algoritmos que manipulam estes dados."
   ]
  },
  {
   "cell_type": "markdown",
   "metadata": {},
   "source": [
    "## Importando a NumPy"
   ]
  },
  {
   "cell_type": "markdown",
   "metadata": {},
   "source": [
    "Para que possamos utilizar a NumPy precisamos, primeiro, nos assegurar de que ela está instalada. Podemos verificar isso ao tentarmos importá-la:"
   ]
  },
  {
   "cell_type": "code",
   "execution_count": 24,
   "metadata": {},
   "outputs": [],
   "source": [
    "import numpy as np"
   ]
  },
  {
   "cell_type": "markdown",
   "metadata": {},
   "source": [
    "Se a execução da célula acima não retornar qualquer erro, podemos  acessar um objeto `func` definido na NumPy escrevendo `np.func`.\n",
    "Caso contrário, é sinal de que ela precisa ser instalada. A instalação de pacotes Python depende do sistema operacional."
   ]
  },
  {
   "cell_type": "markdown",
   "metadata": {},
   "source": [
    "- Windows:\n",
    "    1. Digite `Janela` + `R` e pressione `Enter`;\n",
    "    1. Digite `cmd` e pressione `Enter`;\n",
    "    1. No terminal (\"tela preta\"), digite `pip install numpy` e pressione `Enter`"
   ]
  },
  {
   "cell_type": "markdown",
   "metadata": {},
   "source": [
    "- Linux (distro com `apt`):\n",
    "    1. Abra o terminal;\n",
    "    1. `pip3 install numpy` e pressione `Enter`"
   ]
  },
  {
   "cell_type": "markdown",
   "metadata": {},
   "source": [
    "Agora, retorne ao início desta seção e refaça o teste de importação."
   ]
  },
  {
   "cell_type": "markdown",
   "metadata": {},
   "source": [
    "## Tipos de dados"
   ]
  },
  {
   "cell_type": "markdown",
   "metadata": {},
   "source": [
    "### Tipos primitivos"
   ]
  },
  {
   "cell_type": "markdown",
   "metadata": {},
   "source": [
    "`bool`\n",
    "`int32`\n",
    "`int64`\n",
    "`uint32`\n",
    "`uint64`\n",
    "`float32`\n",
    "`float64`\n",
    "`complex64`\n",
    "`complex128`"
   ]
  },
  {
   "cell_type": "markdown",
   "metadata": {},
   "source": [
    "Podemos exibir as características de um tipo real específico usando a `numpy.finfo`:"
   ]
  },
  {
   "cell_type": "code",
   "execution_count": 3,
   "metadata": {},
   "outputs": [
    {
     "name": "stdout",
     "output_type": "stream",
     "text": [
      "Machine parameters for float64\n",
      "---------------------------------------------------------------\n",
      "precision =  15   resolution = 1.0000000000000001e-15\n",
      "machep =    -52   eps =        2.2204460492503131e-16\n",
      "negep =     -53   epsneg =     1.1102230246251565e-16\n",
      "minexp =  -1022   tiny =       2.2250738585072014e-308\n",
      "maxexp =   1024   max =        1.7976931348623157e+308\n",
      "nexp =       11   min =        -max\n",
      "---------------------------------------------------------------\n",
      "\n"
     ]
    }
   ],
   "source": [
    "print(np.finfo(np.float))"
   ]
  },
  {
   "cell_type": "markdown",
   "metadata": {},
   "source": [
    "As informações de tipos inteiros são dadas por `numpy.iinfo`:"
   ]
  },
  {
   "cell_type": "code",
   "execution_count": 30,
   "metadata": {},
   "outputs": [
    {
     "name": "stdout",
     "output_type": "stream",
     "text": [
      "Machine parameters for int64\n",
      "---------------------------------------------------------------\n",
      "min = -9223372036854775808\n",
      "max = 9223372036854775807\n",
      "---------------------------------------------------------------\n",
      "\n"
     ]
    }
   ],
   "source": [
    "print(np.iinfo(np.int))"
   ]
  },
  {
   "cell_type": "markdown",
   "metadata": {},
   "source": [
    "## Constantes"
   ]
  },
  {
   "cell_type": "markdown",
   "metadata": {},
   "source": [
    "A NumPy possui diversas constantes matemáticas pré-definidas. Algumas delas são:"
   ]
  },
  {
   "cell_type": "code",
   "execution_count": 4,
   "metadata": {},
   "outputs": [
    {
     "data": {
      "text/plain": [
       "(2.718281828459045, 3.141592653589793, inf, nan)"
      ]
     },
     "execution_count": 4,
     "metadata": {},
     "output_type": "execute_result"
    }
   ],
   "source": [
    "np.e, np.pi, np.inf, np.nan"
   ]
  },
  {
   "cell_type": "markdown",
   "metadata": {},
   "source": [
    "A lista completa dessas constantes está disponível __[aqui](https://docs.scipy.org/doc/numpy/reference/constants.html)__."
   ]
  },
  {
   "cell_type": "markdown",
   "metadata": {},
   "source": [
    "## Arranjos"
   ]
  },
  {
   "cell_type": "markdown",
   "metadata": {},
   "source": [
    "A `numpy.array` é o principal objeto da NumPy, um tipo de arranjo numérico homogêneo.\n",
    "O tamanho de um arranjo é imutável e não pode ser criado com elementos vazios."
   ]
  },
  {
   "cell_type": "markdown",
   "metadata": {},
   "source": [
    "#### Construção de arranjos"
   ]
  },
  {
   "cell_type": "code",
   "execution_count": 5,
   "metadata": {},
   "outputs": [
    {
     "data": {
      "text/plain": [
       "array([[ 1. +0.j,  3.5+0.j],\n",
       "       [-1. +0.j,  0. +0.j],\n",
       "       [ 1. +1.j,  3. +0.j]])"
      ]
     },
     "execution_count": 5,
     "metadata": {},
     "output_type": "execute_result"
    }
   ],
   "source": [
    "a = np.array([[1,3.5],[-1,0],(1+1j,3.)])\n",
    "a"
   ]
  },
  {
   "cell_type": "markdown",
   "metadata": {},
   "source": [
    "Eles são muito mais do que simples arranjos."
   ]
  },
  {
   "cell_type": "code",
   "execution_count": 6,
   "metadata": {},
   "outputs": [
    {
     "data": {
      "text/plain": [
       "(array([[ 0,  1,  2,  3,  4],\n",
       "        [ 5,  6,  7,  8,  9],\n",
       "        [10, 11, 12, 13, 14]]), (3, 5), 2, 'int64', 8, 15, numpy.ndarray)"
      ]
     },
     "execution_count": 6,
     "metadata": {},
     "output_type": "execute_result"
    }
   ],
   "source": [
    "a = np.arange(15).reshape(3, 5)\n",
    "a,a.shape,a.ndim,a.dtype.name,a.itemsize,a.size,type(a)"
   ]
  },
  {
   "cell_type": "markdown",
   "metadata": {},
   "source": [
    "Há também funções de construção especiais:"
   ]
  },
  {
   "cell_type": "code",
   "execution_count": 7,
   "metadata": {},
   "outputs": [
    {
     "data": {
      "text/plain": [
       "array([0, 1, 2, 3, 4, 5, 6, 7, 8, 9])"
      ]
     },
     "execution_count": 7,
     "metadata": {},
     "output_type": "execute_result"
    }
   ],
   "source": [
    "np.arange(10)"
   ]
  },
  {
   "cell_type": "code",
   "execution_count": 8,
   "metadata": {},
   "outputs": [
    {
     "data": {
      "text/plain": [
       "array([[0., 0., 0.],\n",
       "       [0., 0., 0.]])"
      ]
     },
     "execution_count": 8,
     "metadata": {},
     "output_type": "execute_result"
    }
   ],
   "source": [
    "np.zeros((2, 3))"
   ]
  },
  {
   "cell_type": "code",
   "execution_count": 9,
   "metadata": {},
   "outputs": [
    {
     "data": {
      "text/plain": [
       "array([1. , 1.6, 2.2, 2.8, 3.4, 4. ])"
      ]
     },
     "execution_count": 9,
     "metadata": {},
     "output_type": "execute_result"
    }
   ],
   "source": [
    "np.linspace(1., 4., 6)"
   ]
  },
  {
   "cell_type": "markdown",
   "metadata": {},
   "source": [
    "#### Acessando elementos de um arranjo"
   ]
  },
  {
   "cell_type": "code",
   "execution_count": 10,
   "metadata": {},
   "outputs": [
    {
     "data": {
      "text/plain": [
       "(3, 9)"
      ]
     },
     "execution_count": 10,
     "metadata": {},
     "output_type": "execute_result"
    }
   ],
   "source": [
    "A = np.array([[3, 8, 2, 3],[8, 9, 7, 2],[6, 5, 5, 7],[6, 4, 5, 9]])\n",
    "A[0,0],A[1,1]"
   ]
  },
  {
   "cell_type": "markdown",
   "metadata": {},
   "source": [
    "#### Operações com arranjos"
   ]
  },
  {
   "cell_type": "markdown",
   "metadata": {},
   "source": [
    "As operações +, -, * são elemento a elemento. Por exemplo,"
   ]
  },
  {
   "cell_type": "code",
   "execution_count": 11,
   "metadata": {},
   "outputs": [
    {
     "data": {
      "text/plain": [
       "array([[21,  8,  6,  0],\n",
       "       [48,  0, 14, 12],\n",
       "       [12, 10,  5, 63],\n",
       "       [48, 24, 35,  9]])"
      ]
     },
     "execution_count": 11,
     "metadata": {},
     "output_type": "execute_result"
    }
   ],
   "source": [
    "A = np.array([[3, 8, 2, 3],[8, 9, 7, 2],[6, 5, 5, 7],[6, 4, 5, 9]])\n",
    "B = np.array([[7, 1, 3, 0],[6, 0, 2, 6],[2, 2, 1, 9],[8, 6, 7, 1]])\n",
    "A*B"
   ]
  },
  {
   "cell_type": "markdown",
   "metadata": {},
   "source": [
    "Para efetuarmos o produto matricial, conforme definido em álgebra, utilizamos a função `numpy.dot` (produto escalar)."
   ]
  },
  {
   "cell_type": "code",
   "execution_count": 12,
   "metadata": {},
   "outputs": [
    {
     "data": {
      "text/plain": [
       "array([[ 97,  25,  48,  69],\n",
       "       [140,  34,  63, 119],\n",
       "       [138,  58,  82,  82],\n",
       "       [148,  70,  94,  78]])"
      ]
     },
     "execution_count": 12,
     "metadata": {},
     "output_type": "execute_result"
    }
   ],
   "source": [
    "np.dot(A,B)"
   ]
  },
  {
   "cell_type": "markdown",
   "metadata": {},
   "source": [
    "The class of universal functions or ufuncs adds considerably to the usefulness of NumPy.\n",
    "A ufunc is a function which when applied to a scalar generates a scalar, but when applied\n",
    "to an array produces an array of the same size, by operating component-wise. Some of\n",
    "the ufuncs which are most useful for scientists are shown in Table 4.1."
   ]
  },
  {
   "cell_type": "markdown",
   "metadata": {},
   "source": [
    "|    |  |  |  | |\n",
    "| ---  | --- | --- | --- | --- |\n",
    "| sign | abs | angle | real | imag |\n",
    "| conj | fix | cos | sin | tan |\n",
    "| arccos | arcsin | arctan | arctan2 | cosh |\n",
    "| sinh | tanh | arccosh | arcsinh | arctanh |\n",
    "| exp  | log | log10 | sqrt | power |\n",
    "| dot | vdot |       |      |       |"
   ]
  },
  {
   "cell_type": "markdown",
   "metadata": {},
   "source": [
    "Você já deve estar familiarizado com algumas delas. Mas se tiver alguma dúvida, consulte a __[docstring](https://en.wikipedia.org/wiki/Docstring)__ da função. Por exemplo,"
   ]
  },
  {
   "cell_type": "code",
   "execution_count": 31,
   "metadata": {},
   "outputs": [
    {
     "data": {
      "text/plain": [
       "\u001b[0;31mCall signature:\u001b[0m  \u001b[0mnp\u001b[0m\u001b[0;34m.\u001b[0m\u001b[0mpower\u001b[0m\u001b[0;34m(\u001b[0m\u001b[0;34m*\u001b[0m\u001b[0margs\u001b[0m\u001b[0;34m,\u001b[0m \u001b[0;34m**\u001b[0m\u001b[0mkwargs\u001b[0m\u001b[0;34m)\u001b[0m\u001b[0;34m\u001b[0m\u001b[0m\n",
       "\u001b[0;31mType:\u001b[0m            ufunc\n",
       "\u001b[0;31mString form:\u001b[0m     <ufunc 'power'>\n",
       "\u001b[0;31mFile:\u001b[0m            ~/.local/lib/python3.5/site-packages/numpy/__init__.py\n",
       "\u001b[0;31mDocstring:\u001b[0m      \n",
       "power(x1, x2, /, out=None, *, where=True, casting='same_kind', order='K', dtype=None, subok=True[, signature, extobj])\n",
       "\n",
       "First array elements raised to powers from second array, element-wise.\n",
       "\n",
       "Raise each base in `x1` to the positionally-corresponding power in\n",
       "`x2`.  `x1` and `x2` must be broadcastable to the same shape. Note that an\n",
       "integer type raised to a negative integer power will raise a ValueError.\n",
       "\n",
       "Parameters\n",
       "----------\n",
       "x1 : array_like\n",
       "    The bases.\n",
       "x2 : array_like\n",
       "    The exponents. If ``x1.shape != x2.shape``, they must be broadcastable to a common shape (which becomes the shape of the output).\n",
       "out : ndarray, None, or tuple of ndarray and None, optional\n",
       "    A location into which the result is stored. If provided, it must have\n",
       "    a shape that the inputs broadcast to. If not provided or `None`,\n",
       "    a freshly-allocated array is returned. A tuple (possible only as a\n",
       "    keyword argument) must have length equal to the number of outputs.\n",
       "where : array_like, optional\n",
       "    This condition is broadcast over the input. At locations where the\n",
       "    condition is True, the `out` array will be set to the ufunc result.\n",
       "    Elsewhere, the `out` array will retain its original value.\n",
       "    Note that if an uninitialized `out` array is created via the default\n",
       "    ``out=None``, locations within it where the condition is False will\n",
       "    remain uninitialized.\n",
       "**kwargs\n",
       "    For other keyword-only arguments, see the\n",
       "    :ref:`ufunc docs <ufuncs.kwargs>`.\n",
       "\n",
       "Returns\n",
       "-------\n",
       "y : ndarray\n",
       "    The bases in `x1` raised to the exponents in `x2`.\n",
       "    This is a scalar if both `x1` and `x2` are scalars.\n",
       "\n",
       "See Also\n",
       "--------\n",
       "float_power : power function that promotes integers to float\n",
       "\n",
       "Examples\n",
       "--------\n",
       "Cube each element in a list.\n",
       "\n",
       ">>> x1 = range(6)\n",
       ">>> x1\n",
       "[0, 1, 2, 3, 4, 5]\n",
       ">>> np.power(x1, 3)\n",
       "array([  0,   1,   8,  27,  64, 125])\n",
       "\n",
       "Raise the bases to different exponents.\n",
       "\n",
       ">>> x2 = [1.0, 2.0, 3.0, 3.0, 2.0, 1.0]\n",
       ">>> np.power(x1, x2)\n",
       "array([  0.,   1.,   8.,  27.,  16.,   5.])\n",
       "\n",
       "The effect of broadcasting.\n",
       "\n",
       ">>> x2 = np.array([[1, 2, 3, 3, 2, 1], [1, 2, 3, 3, 2, 1]])\n",
       ">>> x2\n",
       "array([[1, 2, 3, 3, 2, 1],\n",
       "       [1, 2, 3, 3, 2, 1]])\n",
       ">>> np.power(x1, x2)\n",
       "array([[ 0,  1,  8, 27, 16,  5],\n",
       "       [ 0,  1,  8, 27, 16,  5]])\n",
       "\u001b[0;31mClass docstring:\u001b[0m\n",
       "Functions that operate element by element on whole arrays.\n",
       "\n",
       "To see the documentation for a specific ufunc, use `info`.  For\n",
       "example, ``np.info(np.sin)``.  Because ufuncs are written in C\n",
       "(for speed) and linked into Python with NumPy's ufunc facility,\n",
       "Python's help() function finds this page whenever help() is called\n",
       "on a ufunc.\n",
       "\n",
       "A detailed explanation of ufuncs can be found in the docs for :ref:`ufuncs`.\n",
       "\n",
       "Calling ufuncs:\n",
       "===============\n",
       "\n",
       "op(*x[, out], where=True, **kwargs)\n",
       "Apply `op` to the arguments `*x` elementwise, broadcasting the arguments.\n",
       "\n",
       "The broadcasting rules are:\n",
       "\n",
       "* Dimensions of length 1 may be prepended to either array.\n",
       "* Arrays may be repeated along dimensions of length 1.\n",
       "\n",
       "Parameters\n",
       "----------\n",
       "*x : array_like\n",
       "    Input arrays.\n",
       "out : ndarray, None, or tuple of ndarray and None, optional\n",
       "    Alternate array object(s) in which to put the result; if provided, it\n",
       "    must have a shape that the inputs broadcast to. A tuple of arrays\n",
       "    (possible only as a keyword argument) must have length equal to the\n",
       "    number of outputs; use `None` for uninitialized outputs to be\n",
       "    allocated by the ufunc.\n",
       "where : array_like, optional\n",
       "    This condition is broadcast over the input. At locations where the\n",
       "    condition is True, the `out` array will be set to the ufunc result.\n",
       "    Elsewhere, the `out` array will retain its original value.\n",
       "    Note that if an uninitialized `out` array is created via the default\n",
       "    ``out=None``, locations within it where the condition is False will\n",
       "    remain uninitialized.\n",
       "**kwargs\n",
       "    For other keyword-only arguments, see the :ref:`ufunc docs <ufuncs.kwargs>`.\n",
       "\n",
       "Returns\n",
       "-------\n",
       "r : ndarray or tuple of ndarray\n",
       "    `r` will have the shape that the arrays in `x` broadcast to; if `out` is\n",
       "    provided, it will be returned. If not, `r` will be allocated and\n",
       "    may contain uninitialized values. If the function has more than one\n",
       "    output, then the result will be a tuple of arrays.\n"
      ]
     },
     "metadata": {},
     "output_type": "display_data"
    }
   ],
   "source": [
    "np.power?"
   ]
  },
  {
   "cell_type": "markdown",
   "metadata": {},
   "source": [
    "## O auditor matricial"
   ]
  },
  {
   "cell_type": "markdown",
   "metadata": {},
   "source": [
    "A Prefeitura de Frevolândia lançou edital para a contratação de novos *auditores matriciais*.\n",
    "O requisito mínimo é ter cursado as disciplinas de Álgebra Linear e Programação Computacional em nível de graduação.\n",
    "Compete ao auditor matricial verificar se o produto de duas matrizes quadradas de ordem $n$ está correto.\n",
    "Ele atuará na fiscalização da mais nova empresa fornecedora de produtos matriciais, a Linear Consultoria, contratada para calcular o produto de matrizes fornecidas pela Secretaria da Previdência do município.\n",
    "Dadas duas matrizes $\\mathbf{A}$ e $\\mathbf{B}$, fornecidas pela secretaria, e uma matriz $\\mathbf{C}$ calculada pela Linear Consultoria, o auditor deverá verificar que $\\mathbf{C} = \\mathbf{A}\\mathbf{B}$."
   ]
  },
  {
   "cell_type": "markdown",
   "metadata": {},
   "source": [
    "Entusiasmado com o concurso, Cícero decidiu se antecipar e já ir pensando como poderia realizar esses testes da forma mais rápida possível."
   ]
  },
  {
   "cell_type": "markdown",
   "metadata": {},
   "source": [
    "### Método determinístico"
   ]
  },
  {
   "cell_type": "markdown",
   "metadata": {},
   "source": [
    "A primeira ideia que veio à mente de Cícero foi um método força bruta: calcular o produto $\\mathbf{A}\\mathbf{B}$ separadamente e verificar, elemento por elemento, se vale a igualdade $\\mathbf{C} = \\mathbf{A}\\mathbf{B}$. Por conveniência, ele decidiu fazer seus testes usando Python e a biblioteca NumPy e acabou implementando a função abaixo."
   ]
  },
  {
   "cell_type": "code",
   "execution_count": 46,
   "metadata": {},
   "outputs": [],
   "source": [
    "# Complete esta função.\n",
    "def forca_bruta(A,B,C):\n",
    "    \"\"\"Esta função verifica se vale a igualdade C = AB, usando força bruta.\n",
    "    \n",
    "    Argumentos:\n",
    "        A,B,C (numpy.array): Matrizes quadradas com mesmas dimensões.\n",
    "\n",
    "    Retorno:\n",
    "        res (bool): True se verdadeiro, False caso contrário.\n",
    "    \"\"\"\n",
    "    \n",
    "    # Seu código deve iniciar aqui embaixo.\n",
    "    \n",
    "    return True # altere/remova esta linha, caso necessário"
   ]
  },
  {
   "cell_type": "markdown",
   "metadata": {},
   "source": [
    "*Verificação fictícia 1.*"
   ]
  },
  {
   "cell_type": "code",
   "execution_count": 43,
   "metadata": {},
   "outputs": [
    {
     "name": "stdout",
     "output_type": "stream",
     "text": [
      "CPU times: user 154 µs, sys: 0 ns, total: 154 µs\n",
      "Wall time: 155 µs\n"
     ]
    },
    {
     "data": {
      "text/plain": [
       "True"
      ]
     },
     "execution_count": 43,
     "metadata": {},
     "output_type": "execute_result"
    }
   ],
   "source": [
    "%%time\n",
    "A = np.array([[3, 8, 2, 3],[8, 9, 7, 2],[6, 5, 5, 7],[6, 4, 5, 9]])\n",
    "B = np.array([[7, 1, 3, 0],[6, 0, 2, 6],[2, 2, 1, 9],[8, 6, 7, 1]])\n",
    "C = np.array([[97, 25, 48, 69],[140, 34, 63, 119],[138, 58, 82, 82],[148, 70, 94, 78]])\n",
    "\n",
    "forca_bruta(A,B,C)"
   ]
  },
  {
   "cell_type": "markdown",
   "metadata": {},
   "source": [
    "*Verificação fictícia 2.*"
   ]
  },
  {
   "cell_type": "code",
   "execution_count": 45,
   "metadata": {},
   "outputs": [
    {
     "name": "stdout",
     "output_type": "stream",
     "text": [
      "CPU times: user 5 µs, sys: 137 µs, total: 142 µs\n",
      "Wall time: 143 µs\n"
     ]
    },
    {
     "data": {
      "text/plain": [
       "False"
      ]
     },
     "execution_count": 45,
     "metadata": {},
     "output_type": "execute_result"
    }
   ],
   "source": [
    "%%time\n",
    "C = np.array([[1, 1, 1, 4],[1, 0, 6, 9],[5, 5, 3, 1],[4, 0, 5, 3]])\n",
    "\n",
    "forca_bruta(A,B,C)"
   ]
  },
  {
   "cell_type": "markdown",
   "metadata": {},
   "source": [
    "### Método probabilístico"
   ]
  },
  {
   "cell_type": "markdown",
   "metadata": {},
   "source": [
    "Refletindo sobre o problema, Cícero se fez a seguinte pergunta:"
   ]
  },
  {
   "cell_type": "markdown",
   "metadata": {},
   "source": [
    "<blockquote>Dado um vetor $\\mathbf{x}$ arbitrário, será que se tivermos $\\mathbf{C} = \\mathbf{A}\\mathbf{B}$, também teremos $\\mathbf{C}\\mathbf{x} = \\mathbf{A}\\mathbf{B}\\mathbf{x}$?\n",
    "</blockquote>"
   ]
  },
  {
   "cell_type": "markdown",
   "metadata": {},
   "source": [
    "#### **Exercício.**\n",
    "Responda à pergunta de Cícero."
   ]
  },
  {
   "cell_type": "markdown",
   "metadata": {},
   "source": [
    "_Escreva sua resposta aqui._"
   ]
  },
  {
   "cell_type": "markdown",
   "metadata": {},
   "source": [
    "Usando esta linha de raciocínio, ele chegou no seguinte algoritmo:"
   ]
  },
  {
   "cell_type": "markdown",
   "metadata": {},
   "source": [
    "1. Gere aleatoriamente um vetor $\\mathbf{x}$ composto apenas por $0$'s e $1$'s\n",
    "2. Calcule os produtos $\\mathbf{C}\\mathbf{x}$ e $\\mathbf{A}(\\mathbf{B}\\mathbf{x})$\n",
    "3. Se os resultados do item (2) forem os mesmos, a resposta será *sim*. Caso contrário, será *não*."
   ]
  },
  {
   "cell_type": "markdown",
   "metadata": {},
   "source": [
    "#### **Exercício.**\n",
    "Você vê algum problema com o algoritmo de Cícero?"
   ]
  },
  {
   "cell_type": "markdown",
   "metadata": {},
   "source": [
    "*Digite sua resposta nesta célula*"
   ]
  },
  {
   "cell_type": "markdown",
   "metadata": {},
   "source": [
    "De repente, Cícero se enche de felicidade, pelo *insight* que acaba de ter. Ele decide então alterar seu algoritmo para:"
   ]
  },
  {
   "cell_type": "markdown",
   "metadata": {},
   "source": [
    "1. Repita $50$ vezes o seguinte:  \n",
    "  1.1 Gere aleatoriamente um vetor $\\mathbf{x}$ composto apenas por $0$'s e $1$'s.  \n",
    "  1.2 Calcule os produtos $\\mathbf{C}\\mathbf{x}$ e $\\mathbf{A}(\\mathbf{B}\\mathbf{x})$.  \n",
    "  1.3 Se os resultados do item (1.2) forem diferentes, a resposta será *não*. Caso contrário, continue o laço.\n",
    "2. Se você chegou aqui, a resposta será *sim*."
   ]
  },
  {
   "cell_type": "markdown",
   "metadata": {},
   "source": [
    "#### **Exercício.**\n",
    "Sua tarefa agora é implementar a última versão do algoritmo de Cícero."
   ]
  },
  {
   "cell_type": "code",
   "execution_count": 34,
   "metadata": {},
   "outputs": [],
   "source": [
    "# Complete esta função.\n",
    "def probabilistico(A,B,C):\n",
    "    \"\"\"Esta função verifica se vale a igualdade C = AB, usando um algoritmo probabilístico.\n",
    "    \n",
    "    Argumentos:\n",
    "        A,B,C (numpy.array): Matrizes quadradas com mesmas dimensões.\n",
    "\n",
    "    Retorno:\n",
    "        res (bool): True se verdadeiro, False caso contrário.\n",
    "    \"\"\"\n",
    "    \n",
    "    # Seu código deve iniciar aqui embaixo.\n",
    "    \n",
    "    \n",
    "    return True # altere/remova esta linha, caso necessário"
   ]
  },
  {
   "cell_type": "markdown",
   "metadata": {},
   "source": [
    "*Verificação fictícia 1.*"
   ]
  },
  {
   "cell_type": "code",
   "execution_count": 37,
   "metadata": {},
   "outputs": [
    {
     "name": "stdout",
     "output_type": "stream",
     "text": [
      "CPU times: user 50 µs, sys: 11 µs, total: 61 µs\n",
      "Wall time: 66 µs\n"
     ]
    },
    {
     "data": {
      "text/plain": [
       "True"
      ]
     },
     "execution_count": 37,
     "metadata": {},
     "output_type": "execute_result"
    }
   ],
   "source": [
    "%%time\n",
    "C = np.array([[97, 25, 48, 69],[140, 34, 63, 119],[138, 58, 82, 82],[148, 70, 94, 78]])\n",
    "\n",
    "probabilistico(A,B,C)"
   ]
  },
  {
   "cell_type": "markdown",
   "metadata": {},
   "source": [
    "*Verificação fictícia 2.*"
   ]
  },
  {
   "cell_type": "code",
   "execution_count": 36,
   "metadata": {},
   "outputs": [
    {
     "name": "stdout",
     "output_type": "stream",
     "text": [
      "CPU times: user 46 µs, sys: 10 µs, total: 56 µs\n",
      "Wall time: 61.5 µs\n"
     ]
    },
    {
     "data": {
      "text/plain": [
       "True"
      ]
     },
     "execution_count": 36,
     "metadata": {},
     "output_type": "execute_result"
    }
   ],
   "source": [
    "%%time\n",
    "C = np.array([[1, 1, 1, 4],[1, 0, 6, 9],[5, 5, 3, 1],[4, 0, 5, 3]])\n",
    "\n",
    "probabilistico(A,B,C)"
   ]
  },
  {
   "cell_type": "markdown",
   "metadata": {},
   "source": [
    "Boa sorte, Cícero!"
   ]
  },
  {
   "cell_type": "markdown",
   "metadata": {},
   "source": [
    "## Saiba mais"
   ]
  },
  {
   "cell_type": "markdown",
   "metadata": {},
   "source": [
    "- Ao longo do curso, aprenderemos muito mais sobre a NumPy. Se você ficou curioso e quer saber mais sobre ela, sugiro que acesse: __[https://www.numpy.org/](https://www.numpy.org/)__"
   ]
  },
  {
   "cell_type": "markdown",
   "metadata": {},
   "source": [
    "- O problema do \"auditor matricial\" foi inspirado na Miniatura 11 do livro do professor Jiří Matoušek,  __[Thirty-three Miniatures: Mathematical and Algorithmic Appplications of Linear Algebra](https://kam.mff.cuni.cz/~matousek/stml-53-matousek-1.pdf)__, *Student Mathematical Library*, v. 53, AMS, 2010.\n"
   ]
  },
  {
   "cell_type": "markdown",
   "metadata": {},
   "source": [
    "<br>\n",
    "<p>&copy; 2019 Vicente Helano<br>\n",
    "UFCA | Centro de Ciências e Tecnologia</p>"
   ]
  }
 ],
 "metadata": {
  "kernelspec": {
   "display_name": "Python 3",
   "language": "python",
   "name": "python3"
  },
  "language_info": {
   "codemirror_mode": {
    "name": "ipython",
    "version": 3
   },
   "file_extension": ".py",
   "mimetype": "text/x-python",
   "name": "python",
   "nbconvert_exporter": "python",
   "pygments_lexer": "ipython3",
   "version": "3.5.3"
  }
 },
 "nbformat": 4,
 "nbformat_minor": 4
}
