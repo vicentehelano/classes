{
 "cells": [
  {
   "cell_type": "markdown",
   "metadata": {},
   "source": [
    "# Quanto vale meu terreno?"
   ]
  },
  {
   "cell_type": "markdown",
   "metadata": {},
   "source": [
    "<br>"
   ]
  },
  {
   "cell_type": "markdown",
   "metadata": {},
   "source": [
    "Apesar das instabilidades no mercado financeiro internacional, o setor de energias renováveis continua crescendo de vento em poupa.\n",
    "Querendo aproveitar o momento, um empresário de Juazeiro do Norte planeja implantar uma usina de geração de energia solar na região.\n",
    "Ele está muito interessado em um terreno localizado na divisa da cidade com Barbalha.\n",
    "\n",
    "O proprietário do terreno estabeleceu o valor de R\\$ 200,00 (duzentos reais) por metro quadrado.\n",
    "Como o proprietário não sabia informar a área total de seu terreno com precisão, o empresário contratou uma empresa chamada *MedeBem*, que realiza serviços de topografia.\n",
    "No entanto, eles não estão entrando em acordo quanto ao resultado apresentado pela MedeBem.\n",
    "O proprietário alega que a área do terreno é bem maior do que aquela calculada pela empresa.\n",
    "\n",
    "Para resolver esta questão, o proprietário contratou você para analisar as medições feitas pela MedeBem e, com isso, determinar se há alguma inconsistência no cálculo do custo final de seu terreno."
   ]
  },
  {
   "cell_type": "markdown",
   "metadata": {},
   "source": [
    "## Dados brutos"
   ]
  },
  {
   "cell_type": "markdown",
   "metadata": {},
   "source": [
    "O levantamento planimétrico da MedeBem analisou os $9$ pontos listados abaixo.\n",
    "Segundo a empresa, eles utilizaram uma estação total de última geração, com altíssima precisão."
   ]
  },
  {
   "cell_type": "code",
   "execution_count": null,
   "metadata": {},
   "outputs": [],
   "source": [
    "import numpy as np\n",
    "\n",
    "# Abcissas\n",
    "x = [np.float64(7.3000000000000194),\n",
    "     np.float64(24.000000000000068),\n",
    "     np.float64(24.00000000000005),\n",
    "     np.float64(0.50000000000001621),\n",
    "     np.float64(8.0),\n",
    "     np.float64(4.0),\n",
    "     np.float64(15.0),\n",
    "     np.float64(26.0),\n",
    "     np.float64(19.0)]\n",
    "\n",
    "# Ordenadas\n",
    "y = [np.float64(7.3000000000000167),\n",
    "     np.float64(24.000000000000071),\n",
    "     np.float64(24.000000000000053),\n",
    "     np.float64(0.50000000000001243),\n",
    "     np.float64(4.0),\n",
    "     np.float64(9.0),\n",
    "     np.float64(27.0),\n",
    "     np.float64(25.0),\n",
    "     np.float64(11.0)]"
   ]
  },
  {
   "cell_type": "markdown",
   "metadata": {},
   "source": [
    "Você então decide visualizar os pontos recebidos para tentar detectar algum problema grosseiro."
   ]
  },
  {
   "cell_type": "code",
   "execution_count": null,
   "metadata": {},
   "outputs": [],
   "source": [
    "import matplotlib as mpl\n",
    "import matplotlib.pyplot as plt\n",
    "\n",
    "fig, ax = plt.subplots() # cria uma figura e com um único sistema de eixos\n",
    "ax.set_aspect('equal') # fixa a razão de aspecto do gráfico\n",
    "plt.close() # evita que o gráfico seja exibido antes de desenhado\n",
    "\n",
    "def desenha_pontos(x, y, ax):\n",
    "    \"\"\"\n",
    "    Esta função desenha pontos no plano.\n",
    "    \n",
    "    Parâmetros\n",
    "    ----------\n",
    "        x : list\n",
    "            Abcissas dos pontos\n",
    "        y : list\n",
    "            Ordenadas dos pontos\n",
    "        ax : matplotlib.axes\n",
    "            Eixos usados para plotar os pontos (x[i],y[i])\n",
    "\n",
    "    Retorno\n",
    "    -------\n",
    "        Não possui valor de retorno. Apenas plota o gráfico nos eixos fornecidos.\n",
    "    \"\"\"\n",
    "    \n",
    "    # Seu código inicia aqui.\n",
    "    # Dica: utilize a função ax.scatter (https://matplotlib.org/3.1.1/gallery/shapes_and_collections/scatter.html)"
   ]
  },
  {
   "cell_type": "code",
   "execution_count": null,
   "metadata": {},
   "outputs": [],
   "source": [
    "desenha_pontos(x,y,ax)\n",
    "fig"
   ]
  },
  {
   "cell_type": "markdown",
   "metadata": {},
   "source": [
    "**Pergunta**. Com base no gráfico acima, é possível deduzir algo sobre as medições?"
   ]
  },
  {
   "cell_type": "markdown",
   "metadata": {},
   "source": [
    "_Digite sua resposta aqui_"
   ]
  },
  {
   "cell_type": "markdown",
   "metadata": {},
   "source": [
    "## Limites do terreno"
   ]
  },
  {
   "cell_type": "markdown",
   "metadata": {},
   "source": [
    "Após a análise dos pontos, você passou para a avaliação dos limites do terreno.\n",
    "A MedeBem lhe informou que determinou os limites do terreno usando um algoritmo para o cálculo do [fecho convexo](https://pt.wikipedia.org/wiki/Envolt%C3%B3ria_convexa) de um conjunto de pontos.\n",
    "Podemos \"enxergar\" o fecho convexo do seguinte modo.\n",
    "Imagine que cada ponto está associado a um alfinete fixado em um mural.\n",
    "Ao colocarmos uma liga envolvendo todos os alfinetes, se formará uma região convexa, a qual denominamos fecho convexo."
   ]
  },
  {
   "cell_type": "markdown",
   "metadata": {},
   "source": [
    "A MedeBem lhe forneceu a implementação que eles utilizaram (abaixo)."
   ]
  },
  {
   "cell_type": "code",
   "execution_count": null,
   "metadata": {},
   "outputs": [],
   "source": [
    "def orientacao(p,q,r):\n",
    "    \"\"\"\n",
    "    Esta função verifica a orientação de três pontos: horária, anti-horária, colineares\n",
    "    \n",
    "    Parâmetros\n",
    "    ----------\n",
    "        p,q,r : tuples\n",
    "            Pontos usados no cálculo.\n",
    "\n",
    "    Retorno\n",
    "    -------\n",
    "        -1 : indica sentido horário\n",
    "         0 : indica colineares\n",
    "         1 : indica sentido anti-horário\n",
    "    \"\"\"\n",
    "    return np.sign((q[0]-p[0])*(r[1]-p[1]) - (q[1]-p[1])*(r[0]-p[0]))\n",
    "\n",
    "def ccw(i,n):\n",
    "    return 0 if i == (n-1) else i+1\n",
    "\n",
    "def cw(i,n):\n",
    "    return (n-1) if i == 0 else i-1\n",
    "\n",
    "# Seleciona três pontos não colineares de S\n",
    "def calcula_limites_inicial(x,y,S):\n",
    "    # Selecionamos os dois primeiros pontos de S\n",
    "    p = S[0]; q = S[1];\n",
    "    P = [p,q] # índices dos pontos selecionados\n",
    "    \n",
    "    # Buscamos o terceiro ponto tal que o triângulo\n",
    "    # está ordenado segundo a regra da mão direita\n",
    "    for i in S[2:]:\n",
    "        r = S[i]\n",
    "        if orientacao((x[p],y[p]),(x[q],y[q]),(x[r],y[r])) > 0:\n",
    "            P.append(r)\n",
    "            break\n",
    "\n",
    "    # Verificamos se realmente selecionamos 3 pontos\n",
    "    assert len(P) == 3\n",
    "    \n",
    "    return P\n",
    "\n",
    "def calcula_limites(x,y):\n",
    "    \"\"\"\n",
    "    Esta função determina os pontos extremos (limites) de um terreno.\n",
    "    \n",
    "    Parâmetros\n",
    "    ----------\n",
    "        x : list\n",
    "            Abcissas dos pontos\n",
    "        y : list\n",
    "            Ordenadas dos pontos\n",
    "\n",
    "    Retorno\n",
    "    -------\n",
    "        P : list\n",
    "            Lista contendo os índices dos pontos limites do terreno, ordenados em sentido anti-horário.\n",
    "            As coordenadas x e y do i-ésimo ponto limite são acessadas fazendo: x[P[i]] e y[P[i]]\n",
    "    \"\"\"\n",
    "    S = list(range(len(x)))\n",
    "    P = calcula_limites_inicial(x,y,S)\n",
    "    # Removemos os pontos selecionados de S\n",
    "    S.remove(P[0]); S.remove(P[1]); S.remove(P[2]);\n",
    "\n",
    "    for r in S:\n",
    "        # calcula uma aresta visível (P[i],P[i+1]) de P\n",
    "        a = None\n",
    "        n = len(P)\n",
    "        for i in range(n):\n",
    "            p = P[i]\n",
    "            q = P[ccw(i,n)]\n",
    "            if orientacao((x[p],y[p]),(x[q],y[q]),(x[r],y[r])) < 0:\n",
    "                a = i\n",
    "                break\n",
    "                \n",
    "        if a == None: # não há aresta visível por r\n",
    "            continue\n",
    "        \n",
    "        # Calculamos a sequência de arestas fracamente visíveis por r\n",
    "        # Primeiro, adicionamos a aresta visível encontrada anteriormente\n",
    "        V = [P[a], P[ccw(a,n)]]\n",
    "    \n",
    "        # Depois, percorremos P no sentido anti-horário, partindo do vértice (a+1)%n\n",
    "        p = ccw(a,n)\n",
    "        q = ccw(p,n)\n",
    "        while orientacao((x[P[p]],y[P[p]]),(x[P[q]],y[P[q]]),(x[r],y[r])) <= 0:\n",
    "            V.append(P[q])\n",
    "            p = q\n",
    "            q = ccw(q,n)\n",
    "            \n",
    "        # Depois, percorremos no sentido horário, partindo de a\n",
    "        p = cw(a,n)\n",
    "        q = a\n",
    "        while orientacao((x[P[p]],y[P[p]]),(x[P[q]],y[P[q]]),(x[r],y[r])) <= 0:\n",
    "            V.insert(0,P[p])\n",
    "            q = p\n",
    "            p = cw(p,n)\n",
    "\n",
    "        # Substituimos a sublista encontrada\n",
    "        i = P.index(V[1])\n",
    "        P.insert(i,r)\n",
    "        for i in V[1:-1]:\n",
    "            P.remove(i)\n",
    "    \n",
    "    return P"
   ]
  },
  {
   "cell_type": "markdown",
   "metadata": {},
   "source": [
    "Segundo os desenvolvedores, o resultado do código acima deve ser uma lista com os pontos que delimitam o terreno, ordenados no sentido anti-horário.\n",
    "Você decide desenhar os limites calculados para verificar se está tudo correto."
   ]
  },
  {
   "cell_type": "code",
   "execution_count": null,
   "metadata": {},
   "outputs": [],
   "source": [
    "def desenha_terreno(x, y, P, ax):\n",
    "    \"\"\"\n",
    "    Esta função desenha os limites de um terreno.\n",
    "    \n",
    "    Parâmetros\n",
    "    ----------\n",
    "        x : list\n",
    "            Abcissas dos pontos\n",
    "        y : list\n",
    "            Ordenadas dos pontos\n",
    "        P : list\n",
    "            Índices dos pontos extremos do terreno,\n",
    "            ordenados no sentido anti-horário\n",
    "        ax : matplotlib.axes\n",
    "            Eixos usados para plotar os pontos (x[P[i]],y[P[i]])\n",
    "\n",
    "    Retorno\n",
    "    -------\n",
    "        Não possui valor de retorno. Apenas plota o gráfico nos eixos fornecidos.\n",
    "    \"\"\"\n",
    "    \n",
    "    # Seu código inicia aqui.\n",
    "    # Dica: utilize a função ax.fill (https://matplotlib.org/3.1.1/gallery/lines_bars_and_markers/fill.html)"
   ]
  },
  {
   "cell_type": "code",
   "execution_count": null,
   "metadata": {},
   "outputs": [],
   "source": [
    "P_MedeBem = calcula_limites(x,y)\n",
    "desenha_terreno(x, y, P_MedeBem, ax)\n",
    "fig"
   ]
  },
  {
   "cell_type": "markdown",
   "metadata": {},
   "source": [
    "**Pergunta**. Há algum problema com os limites do terreno? O que você acha que aconteceu?"
   ]
  },
  {
   "cell_type": "markdown",
   "metadata": {},
   "source": [
    "_Digite sua resposta aqui_"
   ]
  },
  {
   "cell_type": "markdown",
   "metadata": {},
   "source": [
    "## O poder do networking"
   ]
  },
  {
   "cell_type": "markdown",
   "metadata": {},
   "source": [
    "Conversando com um colega experiente em levantamentos planimétricos desse tipo, ele comentou que já havia estudado o método da MedeBem antes e lhe sugere dar uma olhada no material a seguir: https://www.ime.usp.br/~cris/aulas/09_2_331/slides/rafael.pdf"
   ]
  },
  {
   "cell_type": "markdown",
   "metadata": {},
   "source": [
    "Seu colega disse que o problema todo está na função `orientacao`, que verifica se uma sequência de três pontos está ordenada segundo a regra da mão esquerda, da mão direita, ou se são colineares.\n",
    "Como a MedeBem implementou a `orientacao` usando somente aritmética de ponto flutuante, isto poderia levar a grandes erros de arredondamento."
   ]
  },
  {
   "cell_type": "markdown",
   "metadata": {},
   "source": [
    "**Pergunta**.\n",
    "Revise os pontos disponibilizados pela MedeBem, para ver se surge alguma outra pista. Você vê algum \"perigo\" em potencial neles?"
   ]
  },
  {
   "cell_type": "markdown",
   "metadata": {},
   "source": [
    "_Digite sua resposta aqui_"
   ]
  },
  {
   "cell_type": "markdown",
   "metadata": {},
   "source": [
    "Seu colega disse que uma solução bastante simples seria aplicar _pequenas perturbações_ nas coordenadas dos pontos, antes de calcular os limites do terreno.\n",
    "Ele sugere usar uma fórmula que leu em um [artigo](https://people.eecs.berkeley.edu/~jfc/papers/91/ECfocs91.pdf).\n",
    "Dado um ponto $(x_i,y_i)$, o novo ponto considerado será:"
   ]
  },
  {
   "cell_type": "markdown",
   "metadata": {},
   "source": [
    "$$\n",
    "(x_i + \\epsilon^{2^{2i}},  y_i + \\epsilon^{2^{2i - 1}})\\text{,}\n",
    "$$"
   ]
  },
  {
   "cell_type": "markdown",
   "metadata": {},
   "source": [
    "onde $\\epsilon$ pode ser tomado igual à metade da precisão de máquina do `np.float64`, isto é, $\\epsilon = 2^{-53}$."
   ]
  },
  {
   "cell_type": "markdown",
   "metadata": {},
   "source": [
    "Então, você implementa o método de perturbação sugerido"
   ]
  },
  {
   "cell_type": "code",
   "execution_count": null,
   "metadata": {},
   "outputs": [],
   "source": [
    "def perturba(x,y):\n",
    "    \"\"\"\n",
    "    Esta função aplica uma pequena perturbação nas coordenadas dos pontos fornecidos.\n",
    "    \n",
    "    Parâmetros\n",
    "    ----------\n",
    "        x : list\n",
    "            Abcissas dos pontos\n",
    "        y : list\n",
    "            Ordenadas dos pontos\n",
    "\n",
    "    Retorno\n",
    "    -------\n",
    "        Não possui valor de retorno. Ela altera os próprios pontos fornecidos.\n",
    "        Portanto, se precisar dos valores originais, é necessário fazer uma cópia deles\n",
    "        antes de passá-los para esta função.\n",
    "    \"\"\"\n",
    "    \n",
    "    # Seu código inicia aqui."
   ]
  },
  {
   "cell_type": "markdown",
   "metadata": {},
   "source": [
    "e avalia seu resultado:"
   ]
  },
  {
   "cell_type": "code",
   "execution_count": null,
   "metadata": {},
   "outputs": [],
   "source": [
    "perturba(x,y)\n",
    "P_Corrigido = calcula_limites(x,y)\n",
    "desenha_terreno(x, y, P_Corrigido, ax)\n",
    "fig"
   ]
  },
  {
   "cell_type": "markdown",
   "metadata": {},
   "source": [
    "**Pergunta**. O que você diria agora sobre o cálculo dos limites do terreno da MedeBem?"
   ]
  },
  {
   "cell_type": "markdown",
   "metadata": {},
   "source": [
    "_Digite sua resposta aqui_"
   ]
  },
  {
   "cell_type": "markdown",
   "metadata": {},
   "source": [
    "## Área do terreno"
   ]
  },
  {
   "cell_type": "markdown",
   "metadata": {},
   "source": [
    "Com os limites do terreno corrigidos, você parte para implementar um método para calcular a área do terreno usando um método bastante conhecido dos topógrafos, o método de Gauss.\n",
    "Depois de assistir ao vídeo"
   ]
  },
  {
   "cell_type": "code",
   "execution_count": null,
   "metadata": {},
   "outputs": [],
   "source": [
    "from IPython.display import YouTubeVideo\n",
    "YouTubeVideo(id='TIsullzRmBc',width=600)"
   ]
  },
  {
   "cell_type": "markdown",
   "metadata": {},
   "source": [
    "você implementa o método de Gauss na função a seguir."
   ]
  },
  {
   "cell_type": "code",
   "execution_count": null,
   "metadata": {},
   "outputs": [],
   "source": [
    "def area_terreno(x,y,P):\n",
    "    \"\"\"\n",
    "    Esta função calcula a área de um terreno usando o método de Gauss.\n",
    "    \n",
    "    Parâmetros\n",
    "    ----------\n",
    "        x : list\n",
    "            Abcissas dos pontos\n",
    "        y : list\n",
    "            Ordenadas dos pontos\n",
    "        P : list\n",
    "            Índices dos pontos extremos do terreno,\n",
    "            ordenados no sentido anti-horário\n",
    "\n",
    "    Retorno\n",
    "    -------\n",
    "        area : np.float64\n",
    "            A área do terreno representado por P.\n",
    "    \"\"\"\n",
    "    \n",
    "    # Seu código inicia aqui.\n",
    "    return None # altere/remove caso necessário"
   ]
  },
  {
   "cell_type": "markdown",
   "metadata": {},
   "source": [
    "## Custo final"
   ]
  },
  {
   "cell_type": "markdown",
   "metadata": {},
   "source": [
    "Por fim, você elaborou uma função para calcular o custo final do terreno, utilizando a função `area_terreno` escrita anteriormente."
   ]
  },
  {
   "cell_type": "code",
   "execution_count": null,
   "metadata": {},
   "outputs": [],
   "source": [
    "def custo_terreno(x,y,P,m):\n",
    "    \"\"\"\n",
    "    Esta função calcula o custo de um terreno em função de sua área e custo do metro quadrado.\n",
    "    \n",
    "    Parâmetros\n",
    "    ----------\n",
    "        x : list\n",
    "            Abcissas dos pontos\n",
    "        y : list\n",
    "            Ordenadas dos pontos\n",
    "        P : list\n",
    "            Índices dos pontos extremos do terreno,\n",
    "            ordenados no sentido anti-horário\n",
    "        m : np.float64\n",
    "            Valor do metro quadrado em reais (R$/m²).\n",
    "\n",
    "    Retorno\n",
    "    -------\n",
    "        custo : np.float64\n",
    "            Custo do terreno.\n",
    "    \"\"\"\n",
    "    # Seu código inicia aqui.\n",
    "    return 0.0 # altere/remove caso necessário"
   ]
  },
  {
   "cell_type": "markdown",
   "metadata": {},
   "source": [
    "E avaliou os possíveis custos do terreno:"
   ]
  },
  {
   "cell_type": "code",
   "execution_count": null,
   "metadata": {},
   "outputs": [],
   "source": [
    "C_MedeBem = custo_terreno(x,y,P_MedeBem,200)\n",
    "print(\"Custo segundo a MedeBem: %f\" % (C_MedeBem))"
   ]
  },
  {
   "cell_type": "code",
   "execution_count": null,
   "metadata": {},
   "outputs": [],
   "source": [
    "C_Corrigido = custo_terreno(x,y,P_Corrigido,200)\n",
    "print(\"Custo Corrigido: %f\" % (C_Corrigido))"
   ]
  },
  {
   "cell_type": "markdown",
   "metadata": {},
   "source": [
    "## Parecer final"
   ]
  },
  {
   "cell_type": "markdown",
   "metadata": {},
   "source": [
    "Escreva aqui um parecer final sobre o levantamento planimétrico da MedeBem.\n",
    "Você deverá apresentar em seu parecer uma discussão sobre (i) os limites do terreno, (ii) a área do terreno e (iii) o custo real do terreno, considerando o valor de R\\$ 200,00/m² e indicando o possível prejuízo que seu cliente teria."
   ]
  },
  {
   "cell_type": "markdown",
   "metadata": {},
   "source": [
    "## Saiba mais"
   ]
  },
  {
   "cell_type": "markdown",
   "metadata": {},
   "source": [
    "- O problema abordado nesta aula é baseado no artigo de [Kettner et al., Classroom examples of robustness problems in geometric computations, Computational Geometry, Volume 40, Issue 1, May 2008, Pages 61-78](https://doi.org/10.1016/j.comgeo.2007.06.003)"
   ]
  },
  {
   "cell_type": "markdown",
   "metadata": {},
   "source": [
    "- A sugestão da perturbação nos pontos pode ser encontrada na Seção 3 do artigo de [Emiris e Canny, A General Approach to Removing Degeneracies, SIAM Journal on Computing, Volume 24 Issue 3, June 1995, Pages 650 - 664](FOO)\n",
    "]"
   ]
  },
  {
   "cell_type": "markdown",
   "metadata": {},
   "source": [
    "- Mais informações sobre a Matplotlib, podem ser obtidas aqui: https://matplotlib.org/"
   ]
  },
  {
   "cell_type": "markdown",
   "metadata": {},
   "source": [
    "<br>\n",
    "<p>&copy; 2019 Vicente Helano<br>\n",
    "UFCA | Centro de Ciências e Tecnologia</p>"
   ]
  }
 ],
 "metadata": {
  "kernelspec": {
   "display_name": "Python 3",
   "language": "python",
   "name": "python3"
  },
  "language_info": {
   "codemirror_mode": {
    "name": "ipython",
    "version": 3
   },
   "file_extension": ".py",
   "mimetype": "text/x-python",
   "name": "python",
   "nbconvert_exporter": "python",
   "pygments_lexer": "ipython3",
   "version": "3.7.3"
  }
 },
 "nbformat": 4,
 "nbformat_minor": 4
}
