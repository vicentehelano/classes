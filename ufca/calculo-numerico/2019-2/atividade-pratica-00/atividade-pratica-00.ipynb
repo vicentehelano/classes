{
 "cells": [
  {
   "cell_type": "markdown",
   "metadata": {},
   "source": [
    "# Revisão de Python"
   ]
  },
  {
   "cell_type": "markdown",
   "metadata": {},
   "source": [
    "Durante a disciplina de Cálculo Numérico, resolveremos diversos problemas utilizando métodos numéricos implementados na linguagem Python. Por isso, esta aula é dedicada à revisão de conceitos básicos sobre Python e noções básicas sobre o Jupyter."
   ]
  },
  {
   "cell_type": "markdown",
   "metadata": {},
   "source": [
    "## Comandos básicos"
   ]
  },
  {
   "cell_type": "markdown",
   "metadata": {},
   "source": [
    "## Funções"
   ]
  },
  {
   "cell_type": "markdown",
   "metadata": {},
   "source": [
    "## Pacotes e módulos"
   ]
  },
  {
   "cell_type": "markdown",
   "metadata": {},
   "source": [
    "## Manipulação de arquivos"
   ]
  },
  {
   "cell_type": "markdown",
   "metadata": {},
   "source": [
    "## Jupyter"
   ]
  },
  {
   "cell_type": "markdown",
   "metadata": {},
   "source": [
    "## Saiba mais"
   ]
  },
  {
   "cell_type": "markdown",
   "metadata": {},
   "source": [
    "Há uma infinidade de recursos complementares na internet que podem lhe ajudar a aprender mais sobre Python e Jupyter. Alguns que achei interessante são:\n",
    "\n",
    "* [ref]\n",
    "* [ref]"
   ]
  },
  {
   "cell_type": "markdown",
   "metadata": {},
   "source": [
    "É importante frisar que aprender a programar é igual aprender um idioma novo. Todo dia precisamos praticar um pouco. Quando estamos aprendendo inglês, por exemplo, temos dificuldade até com o verbo to be. Aos poucos vamos ganhando fluência. Os primeiros programas podem até não rodar ou até travar sua máquina. Não tem problema! O importante é permanecer praticando!"
   ]
  }
 ],
 "metadata": {
  "kernelspec": {
   "display_name": "Python 3",
   "language": "python",
   "name": "python3"
  },
  "language_info": {
   "codemirror_mode": {
    "name": "ipython",
    "version": 3
   },
   "file_extension": ".py",
   "mimetype": "text/x-python",
   "name": "python",
   "nbconvert_exporter": "python",
   "pygments_lexer": "ipython3",
   "version": "3.7.3"
  }
 },
 "nbformat": 4,
 "nbformat_minor": 4
}
