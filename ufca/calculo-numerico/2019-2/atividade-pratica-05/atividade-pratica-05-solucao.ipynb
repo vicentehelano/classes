{
 "cells": [
  {
   "cell_type": "markdown",
   "metadata": {},
   "source": [
    "# A ponte transcontinental"
   ]
  },
  {
   "cell_type": "markdown",
   "metadata": {},
   "source": [
    "<br>"
   ]
  },
  {
   "cell_type": "markdown",
   "metadata": {},
   "source": [
    "<BR CLEAR=\"left\" />\n",
    "<img src=\"https://upload.wikimedia.org/wikipedia/commons/thumb/b/be/Pont_depuis_l%27_Oyapock.jpg/179px-Pont_depuis_l%27_Oyapock.jpg\" align=\"right\" alt=\"Ponte Binacional Franco-Brasileira\" style=\"padding-right: 5pt;\">\n",
    "\n",
    "<p>O último período chuvoso trouxe muitos prejuízos, principalmente, para a população urbana das cidades brasileiras.\n",
    "A maior perda para os cofres públicos foi causada pela queda da <i>Ponte Transcontinental</i>, que liga os municípios de Oiapoque e Chuí.\n",
    "Além do prejuízo estrutural, este incidente também interferirá negativamente na economia das cidades localizadas no entorno da ponte.\n",
    "Por este motivo, é necessário que as obras de reconstrução da Transcontinental sejam iniciadas rapidamente.</p>\n",
    "\n",
    "<p>No começo desta semana, foi lançado um edital para seleção de um consultor técnico que será responsável por determinar o tipo de ponte a ser construída.\n",
    "O Exército Brasileiro ficará encarregado pela execução da obra.\n",
    "Os detalhes do edital são apresentados a seguir.</p>"
   ]
  },
  {
   "cell_type": "markdown",
   "metadata": {},
   "source": [
    "## Objetivo"
   ]
  },
  {
   "cell_type": "markdown",
   "metadata": {},
   "source": [
    "Este edital foi idealizado com o objetivo de selecionar uma proposta de projeto estrutural para a nova Ponte Transcontinental."
   ]
  },
  {
   "cell_type": "markdown",
   "metadata": {},
   "source": [
    "## Condições gerais"
   ]
  },
  {
   "cell_type": "markdown",
   "metadata": {},
   "source": [
    "Todos os consultores deverão utilizar como base para suas análises o modelo de Memorial de Cálculo ([Anexo A](#Anexo-A---Memória-de-cálculo)), desenvolvido pela Agência Nacional de Obras Civis (ANOC). O código disponibilizado pela ANOC contém uma implementação do _método da rigidez direta_ para a análise estática linear de treliças planas."
   ]
  },
  {
   "cell_type": "markdown",
   "metadata": {},
   "source": [
    "## Critérios de projeto"
   ]
  },
  {
   "cell_type": "markdown",
   "metadata": {},
   "source": [
    "Os projetos apresentados devem atender a *três* critérios, conforme descritos a seguir. O atendimento a estes critérios é obrigatório.\n",
    "A ausência ou insuficiência de informações sobre quaisquer deles resultará na desclassificação da proposta."
   ]
  },
  {
   "cell_type": "markdown",
   "metadata": {},
   "source": [
    "1. Comprimento mínimo das barras é $L = 1{,}0~\\text{m}$.\n",
    "\n",
    "2. O módulo da tensão interna máxima não deve ultrapassar $250{,}0 \\times 10^{6}~\\text{Pa}$, que é a tensão admissível do aço usado para as barras.\n",
    "\n",
    "3. \n",
    "A flecha (isto é, o deslocamento ao longo do eixo y do ponto central do tabuleiro da ponte) deve ser menor ou igual a $L/1000$, onde $L = 60~\\text{m}$ é o tamanho do vão central da ponte."
   ]
  },
  {
   "cell_type": "markdown",
   "metadata": {},
   "source": [
    "## Classificação das propostas"
   ]
  },
  {
   "cell_type": "markdown",
   "metadata": {},
   "source": [
    "As propostas que atenderem a todos os [Critérios de projeto](#Critérios-de-projeto) serão classificadas segundo o peso total $W$ da estrutura."
   ]
  },
  {
   "cell_type": "markdown",
   "metadata": {},
   "source": [
    "Em caso de empate, vencerá a proposta que tiver a menor flecha."
   ]
  },
  {
   "cell_type": "markdown",
   "metadata": {},
   "source": [
    "Permanecendo o empate, vencerá a proposta que tiver o menor valor de tensão interna máxima nas barras."
   ]
  },
  {
   "cell_type": "markdown",
   "metadata": {},
   "source": [
    "## Anexo A - Memória de cálculo"
   ]
  },
  {
   "cell_type": "markdown",
   "metadata": {},
   "source": [
    "A seguir, apresentamos o resultado do processo de otimização estrutural para obtenção da nova geometria da Ponte Transcontinental, considerando uma _análise estática linear_."
   ]
  },
  {
   "cell_type": "markdown",
   "metadata": {},
   "source": [
    "### Modelo estrutural de referência"
   ]
  },
  {
   "cell_type": "markdown",
   "metadata": {},
   "source": [
    "Os sistemas estruturais são constituídos por diversos elementos estruturais.\n",
    "Estes elementos são os responsáveis por suportar e transmitir as solicitações na estrutura, geralmente, se deformando durante esse processo.\n",
    "As _treliças_ são sistemas estruturais lineares constituídos por barras retilíneas, unidas pelas extremidades em juntas (ou nós)."
   ]
  },
  {
   "cell_type": "markdown",
   "metadata": {},
   "source": [
    "A Ponte Transcontinental era a maior ponte treliçada do Brasil, com 60 metros de extensão e 10 metros de altura.\n",
    "Com o intuito de preservar o projeto arquitetônico original, a nova ponte também deve ser treliçada.\n",
    "Os consultores devem partir do modelo abaixo, **sendo permitido alterar SOMENTE a posição dos nós pertencentes às barras superiores**."
   ]
  },
  {
   "cell_type": "code",
   "execution_count": null,
   "metadata": {},
   "outputs": [],
   "source": [
    "import numpy as np\n",
    "\n",
    "# Coordenadas dos nós da ponte [xi, yi]\n",
    "coords = np.array([[0.0, 0.0], [10.0, 10.0], [10.0, 0.0], [20.0, 10.0], [20.0, 0.0], \\\n",
    "                   [30.0, 10.0], [30.0, 0.0], [40.0, 10.0], [40.0, 0.0], [50.0, 10.0], \\\n",
    "                   [50.0, 0.0], [60.0, 0.0]])\n",
    "\n",
    "# Barras da ponte, uma por linha da matriz 'barras'.\n",
    "# Uma barra é um par de nós (i,j), com i < j\n",
    "barras = np.array([[0,2], [2,4], [4,6], [6,8], [8,10], [10,11], [0,1], \\\n",
    "          [1,3], [3,5], [5,7], [7,9], [9,11], [1,2], [3,4], \\\n",
    "          [5,6], [7,8], [9,10], [1,4], [3,6], [6,7], [8,9]])\n",
    "\n",
    "# Quantidade de nós e barras\n",
    "numnos = len(coords)\n",
    "numbar = len(barras)"
   ]
  },
  {
   "cell_type": "markdown",
   "metadata": {},
   "source": [
    "Para melhor orientar esta análise, apresenta-se uma ilustração da ponte de referência a seguir."
   ]
  },
  {
   "cell_type": "code",
   "execution_count": null,
   "metadata": {},
   "outputs": [],
   "source": [
    "import matplotlib.pyplot as plt\n",
    "\n",
    "def desenha_trelica():\n",
    "    \"\"\" Esta função desenha uma trelica plana\"\"\"\n",
    "    # TODO: seu código inicia aqui\n",
    "\n",
    "    fig, ax = plt.subplots(figsize=(15,15)) # cria uma figura e com um único sistema de eixos\n",
    "    ax.set_aspect('equal')\n",
    "    style = dict(color='tab:blue', linestyle='solid', linewidth=2.54,\n",
    "                 marker='o', markersize=6, fillstyle='full')\n",
    "\n",
    "    for b in barras:\n",
    "        x0 = coords[b[0],0]\n",
    "        y0 = coords[b[0],1]\n",
    "        x1 = coords[b[1],0]\n",
    "        y1 = coords[b[1],1]\n",
    "        ax.plot([x0, x1], [y0, y1], **style)\n",
    "    plt.show()\n",
    "\n",
    "desenha_trelica()"
   ]
  },
  {
   "cell_type": "markdown",
   "metadata": {},
   "source": [
    "### Propriedades físicas e geométricas"
   ]
  },
  {
   "cell_type": "markdown",
   "metadata": {},
   "source": [
    "A ponte será composta por barras de seção transversal circular, cheia, produzidas em [aço MR250](https://www.gerdau.com/br/pt/productsservices/products/Document%20Gallery/catalogo-barras-e-perfis.pdf), com juntas perfeitamente rotuladas.\n",
    "Assuma que todas as barras possuem módulo de elasticidade $E = 200~\\text{GPa}$, peso específico $\\rho = 78{,}5~\\text{kN/m}^3$ e seção transversal de área $A = 16{,}0~\\text{cm}^2$."
   ]
  },
  {
   "cell_type": "code",
   "execution_count": null,
   "metadata": {},
   "outputs": [],
   "source": [
    "# Propriedades do material das barras\n",
    "E = 200.0e+9 # Pascal\n",
    "rho = 78.5e+3 # N/m³\n",
    "   \n",
    "# Área da seção transversal de cada barra\n",
    "A = 16.0e-4 # m²"
   ]
  },
  {
   "cell_type": "markdown",
   "metadata": {},
   "source": [
    "### Condições de apoio"
   ]
  },
  {
   "cell_type": "markdown",
   "metadata": {},
   "source": [
    "A ponte foi considerada apoiada em seus nós extremos à esquerda (nó 0) e à direita (nó 11).\n",
    "No nó 0, os deslocamentos em $x$ e em $y$ devem ser impedidos.\n",
    "Já no nó 11, apenas os deslocamentos em $y$ são impedidos.\n",
    "Com isso, haverá três reações de apoio."
   ]
  },
  {
   "cell_type": "code",
   "execution_count": null,
   "metadata": {},
   "outputs": [],
   "source": [
    "# Restrições de deslocamento em cada nó [[r1x, r1y], ..., [rnx, rny]]\n",
    "# Observação: 1 indica impedido e 0 livre\n",
    "restrs = np.array(numnos*[[0, 0]])\n",
    "restrs[0] = np.array([1, 1])\n",
    "restrs[numnos-1] = np.array([0, 1])\n",
    "print(restrs)"
   ]
  },
  {
   "cell_type": "markdown",
   "metadata": {},
   "source": [
    "### Carregamentos\n",
    "Os carregamentos são aplicados somente nos nós da treliça (cargas nodais).\n",
    "Mais especificamente, as cargas atuantes consideradas são:\n",
    "\n",
    "* $g$: peso próprio das barras\n",
    "* $p$: sobrecarga em cada nó do tabuleiro igual a $10~\\text{kN}$"
   ]
  },
  {
   "cell_type": "markdown",
   "metadata": {},
   "source": [
    "O peso próprio $g$ de uma barra deve ser distribuído (dividido) igualmente entre seus vértices."
   ]
  },
  {
   "cell_type": "markdown",
   "metadata": {},
   "source": [
    "A sobrecarga $q$ deve ser aplicada a cada nó localizado no tabuleiro da ponte, com exceção dos nós extremos sobre os quais a ponte está apoiada. "
   ]
  },
  {
   "cell_type": "code",
   "execution_count": null,
   "metadata": {},
   "outputs": [],
   "source": [
    "# Sobrecarga [[f1x, f1y], ..., [fnx, fny]]\n",
    "cargas = np.array(numnos*[[0.0, 0.0]])\n",
    "cargas[2] = np.array([0.0, -10.0e+3])\n",
    "cargas[4] = np.array([0.0, -10.0e+3])\n",
    "cargas[6] = np.array([0.0, -10.0e+3])\n",
    "cargas[8] = np.array([0.0, -10.0e+3])\n",
    "cargas[10] = np.array([0.0, -10.0e+3])\n",
    "\n",
    "# Peso próprio\n",
    "for i in range(numbar):\n",
    "    # TODO: seu código inicia aqui\n",
    "    # Calcula o comprimento da barra\n",
    "    no = barras[i]\n",
    "    p0 = coords[no[0]]\n",
    "    p1 = coords[no[1]]\n",
    "    v = p1 - p0\n",
    "    L = np.linalg.norm(v)\n",
    "    if L < np.finfo(np.float64).eps:\n",
    "        raise ValueError(\"Barra com comprimento nulo.\")\n",
    "    \n",
    "    # Calcula o peso próprio da barra, divide-o ao meio e\n",
    "    # adiciona o resultado ao vetor de cargas de suas extremidades\n",
    "    p = A*L*rho\n",
    "    cargas[no[0],1] = cargas[no[0],1] - p/2.0\n",
    "    cargas[no[1],1] = cargas[no[1],1] - p/2.0\n",
    "    \n",
    "    \n",
    "print(cargas)"
   ]
  },
  {
   "cell_type": "markdown",
   "metadata": {},
   "source": [
    "### Método da rigidez direta"
   ]
  },
  {
   "cell_type": "markdown",
   "metadata": {},
   "source": [
    "Basicamente, pode-se dizer que o [método da rigidez direta](http://webserver2.tecgraf.puc-rio.br/~lfm/compgraf-161/LFMartha-MetRigidezDireta-caps1-2-3-4-5.pdf) é constituído por três etapas: __discretização__, __montagem__ e __solução__.\n",
    "A etapa de discretização consiste em subdividir a estrutura como a união de pequenos pedaços, denominados _elementos_.\n",
    "No caso de estruturas treliçadas planas, estes elementos são as _barras_.\n",
    "Nesta análise, é assumido que as barras são conectadas por rótulas sem atrito.\n",
    "Com isso, as barras estarão submetidas apenas a carregamentos axiais de tração ou compressão, e não possuem resistência a momentos fletores."
   ]
  },
  {
   "cell_type": "markdown",
   "metadata": {},
   "source": [
    "Na fase de montagem, os dados representando a geometria e a topologia da ponte, as propriedades físicas e geométricas de suas barras e as informações sobre condições de apoio e carregamento, todos juntos, são utilizados para construir um sistema de equações algébricas lineares.\n",
    "Este sistema é normalmente escrito como $\\mathbf{K}\\mathbf{u} = \\mathbf{f}$, onde\n",
    "$\\mathbf{K}$ é a matriz de rigidez global da estrutura, $\\mathbf{u}$ é o vetor de deslocamentos nodais (incógnitas) e $\\mathbf{f}$ é o vetor de carregamentos nodais. A matriz $\\mathbf{K}$ é simétrica, positiva definida."
   ]
  },
  {
   "cell_type": "markdown",
   "metadata": {},
   "source": [
    "#### Matriz de rigidez de uma barra"
   ]
  },
  {
   "cell_type": "markdown",
   "metadata": {},
   "source": [
    "A matriz de rigidez global $\\mathbf{K}$ é construída a partir da superposição das matrizes de rigidez $\\mathbf{k}_b$ de cada barra.\n",
    "A matriz $\\mathbf{k}_b$ no sistema de coordenadas global é dada por:"
   ]
  },
  {
   "cell_type": "markdown",
   "metadata": {},
   "source": [
    "$$\n",
    "\\mathbf{k}_b = \\frac{EA}{L} \\begin{bmatrix}\n",
    "  \\cos^2 \\theta & \\cos \\theta \\sin \\theta & -\\cos^2 \\theta & -\\cos \\theta \\sin \\theta \\\\\n",
    "  \\cos \\theta \\sin \\theta & \\sin^2 \\theta & -\\cos \\theta \\sin \\theta & -\\sin^2 \\theta \\\\\n",
    "  -\\cos^2 \\theta & -\\cos \\theta \\sin \\theta & \\cos^2 \\theta & \\cos \\theta \\sin \\theta \\\\\n",
    "  -\\cos \\theta \\sin \\theta & -\\sin^2 \\theta & \\cos \\theta \\sin \\theta & \\sin^2 \\theta   \\end{bmatrix}\n",
    "  $$"
   ]
  },
  {
   "cell_type": "code",
   "execution_count": null,
   "metadata": {},
   "outputs": [],
   "source": [
    "def __montagem_rigidez_barra(b):\n",
    "    # TODO: seu código inicia aqui    \n",
    "    # Calcula o comprimento da barra\n",
    "    p0 = coords[b[0]]\n",
    "    p1 = coords[b[1]]\n",
    "    v = p1 - p0\n",
    "    L = np.linalg.norm(v)\n",
    "    if L < np.finfo(np.float64).eps:\n",
    "        raise ValueError(\"Barra com comprimento nulo.\")\n",
    "    \n",
    "    # Valores da matriz de rigidez\n",
    "    c = v[0]/L\n",
    "    s = v[1]/L\n",
    "    cc = c*c\n",
    "    ss = s*s\n",
    "    sc = s*c\n",
    "    \n",
    "    # Matriz de rigidez da barra\n",
    "    kb = np.array([[ cc, sc,-cc,-sc],\n",
    "                   [ sc, ss,-sc,-ss],\n",
    "                   [-cc,-sc, cc, sc],\n",
    "                   [-sc,-ss, sc, ss]])\n",
    "\n",
    "    return (E*A/L)*kb"
   ]
  },
  {
   "cell_type": "markdown",
   "metadata": {},
   "source": [
    "#### Matriz de rigidez global"
   ]
  },
  {
   "cell_type": "markdown",
   "metadata": {},
   "source": [
    "O processo abaixo realiza a superposição das matrizes de rigidez dos elementos de barra, resultando na matriz de rigidez global $\\mathbf{K}$."
   ]
  },
  {
   "cell_type": "code",
   "execution_count": null,
   "metadata": {},
   "outputs": [],
   "source": [
    "# Montagem da matriz de rigidez da ponte\n",
    "K = np.zeros((2*numnos,2*numnos))\n",
    "for b in range(numbar):\n",
    "    kb = __montagem_rigidez_barra(barras[b])\n",
    "    \n",
    "    # Como este código implementa apenas treliças com dois graus de liberdade por nó/ponto,\n",
    "    # assumiremos que a numeração dos graus de liberdade do nó i é fixa, dada pelas fórmulas:\n",
    "    #   (na direção x) 2i\n",
    "    #   (na direção y) 2i + 1\n",
    "    no0 = barras[b,0]\n",
    "    no1 = barras[b,1]\n",
    "    numeq = [2*no0, (2*no0 + 1), 2*no1, (2*no1 + 1)]\n",
    "    for i in range(4):\n",
    "        for j in range(4):\n",
    "            p = numeq[i]\n",
    "            q = numeq[j]\n",
    "            K[p,q] = K[p,q] + kb[i,j]"
   ]
  },
  {
   "cell_type": "markdown",
   "metadata": {},
   "source": [
    "Por conveniência, apresenta-se abaixo um desenho que ilustra a distribuição dos coeficientes nulos e não nulos de $\\mathbf{K}$."
   ]
  },
  {
   "cell_type": "code",
   "execution_count": null,
   "metadata": {},
   "outputs": [],
   "source": [
    "def desenha_matriz(A):\n",
    "    \"\"\" Esta função desenha uma matriz.\"\"\"\n",
    "    \n",
    "    # TODO: seu código inicia aqui\n",
    "    # Dica: use a função matplotlib.pyplot.spy\n",
    "    # https://matplotlib.org/3.1.1/gallery/images_contours_and_fields/spy_demos.html#sphx-glr-gallery-images-contours-and-fields-spy-demos-py\n",
    "\n",
    "    fig, ax = plt.subplots() # cria uma figura e com um único sistema de eixos\n",
    "    ax.set_aspect('equal')\n",
    "    ax.spy(A)\n",
    "\n",
    "desenha_matriz(K)"
   ]
  },
  {
   "cell_type": "markdown",
   "metadata": {},
   "source": [
    "#### Aplicação das condições de contorno"
   ]
  },
  {
   "cell_type": "markdown",
   "metadata": {},
   "source": [
    "Agora, as equações associadas a deslocamentos restritos são modificadas. Com efeito, se o deslocamento $u_p$ estiver restrito, a $p$-ésima equação do sistema $\\mathbf{K}\\mathbf{u} = \\mathbf{f}$ se tornará $u_p = 0$."
   ]
  },
  {
   "cell_type": "markdown",
   "metadata": {},
   "source": [
    "##### Matriz de rigidez modificada"
   ]
  },
  {
   "cell_type": "code",
   "execution_count": null,
   "metadata": {},
   "outputs": [],
   "source": [
    "#  Aplica as condições de contorno na matriz K\n",
    "for i in range(numnos):\n",
    "    for j in range(2):\n",
    "        p = 2*i + j\n",
    "        if restrs[i,j] == 1:\n",
    "            K[p,:] = 0.0\n",
    "            K[:,p] = 0.0\n",
    "            K[p,p] = 1.0"
   ]
  },
  {
   "cell_type": "markdown",
   "metadata": {},
   "source": [
    "O perfil da matriz $\\mathbf{K}$ agora é:"
   ]
  },
  {
   "cell_type": "code",
   "execution_count": null,
   "metadata": {},
   "outputs": [],
   "source": [
    "desenha_matriz(K)"
   ]
  },
  {
   "cell_type": "markdown",
   "metadata": {},
   "source": [
    "##### Vetor de cargas nodais modificado"
   ]
  },
  {
   "cell_type": "code",
   "execution_count": null,
   "metadata": {},
   "outputs": [],
   "source": [
    "# Aplica as condições de contorno no vetor f\n",
    "#\n",
    "# Como este código implementa apenas treliças com dois graus de liberdade por nó,\n",
    "# assumiremos que a numeração dos graus de liberdade (deslocamentos) do nó i é fixa,\n",
    "# dada pelas fórmulas:\n",
    "#    u[2i] (deslocamento na direção x do nó i)\n",
    "#    u[2i+1] (deslocamento na direção y do nó i)\n",
    "f = np.copy(cargas).flatten() # lineariza f, conforme descrito acima\n",
    "for i in range(numnos):\n",
    "    for j in range(2):\n",
    "        p = 2*i + j\n",
    "        if restrs[i,j] == 1:\n",
    "            f[p] = 0.0\n",
    "\n",
    "print(f)"
   ]
  },
  {
   "cell_type": "markdown",
   "metadata": {},
   "source": [
    "### Cálculo dos deslocamentos nodais"
   ]
  },
  {
   "cell_type": "markdown",
   "metadata": {},
   "source": [
    "Agora, passamos à solução do sistema $\\mathbf{K}\\mathbf{u} = \\mathbf{f}$, para determinação dos deslocamentos nodais."
   ]
  },
  {
   "cell_type": "markdown",
   "metadata": {},
   "source": [
    "Pela formulação do método da rigidez direta, é possível mostrar que a matriz $\\mathbf{K}$ é _simétrica, positiva definida_.\n",
    "Com isso, um passo de verificação importante é calcular a decomposição de Cholesky de $K$."
   ]
  },
  {
   "cell_type": "code",
   "execution_count": null,
   "metadata": {},
   "outputs": [],
   "source": [
    "def cholesky(A):\n",
    "    # TODO: seu código inicia aqui\n",
    "    \n",
    "    return None\n",
    "\n",
    "G = cholesky(K)\n",
    "print(G)"
   ]
  },
  {
   "cell_type": "markdown",
   "metadata": {},
   "source": [
    "Embora o método de Cholesky possa ser empregado para determinar os deslocamentos nodais, antes de adotá-lo, é necessário analisar o condicionamento de $\\mathbf{K}$.\n",
    "Por conveniência, utilizou-se a norma $\\|\\cdot\\|_\\infty$."
   ]
  },
  {
   "cell_type": "code",
   "execution_count": null,
   "metadata": {},
   "outputs": [],
   "source": [
    "kappa = np.linalg.cond(K, np.inf)\n",
    "print(\"Número de condição: %f\" % (kappa))"
   ]
  },
  {
   "cell_type": "markdown",
   "metadata": {},
   "source": [
    "#### Pré-condicionamento"
   ]
  },
  {
   "cell_type": "markdown",
   "metadata": {},
   "source": [
    "Visando melhorar o condicionamento da matriz do sistema, utilizou-se a técnica de [pré-condicionamento pela diagonal](https://en.wikipedia.org/wiki/Preconditioner#Jacobi_(or_diagonal)_preconditioner)."
   ]
  },
  {
   "cell_type": "markdown",
   "metadata": {},
   "source": [
    "Ao invés de resolver a equação original $\\mathbf{K}\\mathbf{u} = \\mathbf{f}$, resolveu-se o sistema:\n",
    "\n",
    "$$ \\mathbf{K}\\mathbf{D}^{-1}\\mathbf{D}\\mathbf{u} = \\mathbf{f}$$\n",
    "\n",
    "em duas etapas:\n",
    "\n",
    "(1) $\\mathbf{K}\\mathbf{D}^{-1}\\mathbf{y}=\\mathbf{f}$  \n",
    "(2) $\\mathbf{D}\\mathbf{u}=\\mathbf{y}$"
   ]
  },
  {
   "cell_type": "markdown",
   "metadata": {},
   "source": [
    "onde $\\mathbf{D}$ é uma matriz diagonal, cujos elementos são os coeficientes da diagonal de $\\mathbf{K}$."
   ]
  },
  {
   "cell_type": "markdown",
   "metadata": {},
   "source": [
    "Agora, na primeira etapa, o número de condição da matriz $\\mathbf{K}\\mathbf{D}^{-1}$ é:"
   ]
  },
  {
   "cell_type": "code",
   "execution_count": null,
   "metadata": {},
   "outputs": [],
   "source": [
    "D = np.diag(np.diag(K))\n",
    "Dinv = np.linalg.inv(D)\n",
    "kappa = np.linalg.cond(K.dot(Dinv), np.inf)\n",
    "print(\"Número de condição após pré-condicionamento: %f\" % (kappa))"
   ]
  },
  {
   "cell_type": "markdown",
   "metadata": {},
   "source": [
    "Como a matriz $\\mathbf{K}\\mathbf{D}^{-1}$ não é positiva definida, e em virtude do grande número de equações, a etapa (1) foi resolvida usando o método de Gauss-Seidel."
   ]
  },
  {
   "cell_type": "code",
   "execution_count": null,
   "metadata": {},
   "outputs": [],
   "source": [
    "def gauss_seidel(A, b, x0, tol, n):\n",
    "    # TODO: seu código inicia aqui\n",
    "    L = np.tril(A)\n",
    "    U = A - L\n",
    "    for i in range(n):\n",
    "        x = np.dot(np.linalg.inv(L), b - np.dot(U, x0))\n",
    "        if np.linalg.norm(x - x0, np.inf) < tol*max([np.linalg.norm(x, np.inf), 1.0]):\n",
    "            return x\n",
    "        x0 = x\n",
    "\n",
    "    print(\"NAO CONVERGIU\")\n",
    "    return x\n",
    "\n",
    "# Etapa 1: resolve KD^-1y = f usando a função gauss_seidel(...) acima\n",
    "# TODO: seu código inicia aqui\n",
    "y = gauss_seidel(K.dot(Dinv), f, np.zeros(f.shape), 1.0e-10, 10000)\n",
    "\n",
    "# Etapa 2: resolve Du = y\n",
    "# TODO: seu código inicia aqui\n",
    "u = Dinv.dot(y)\n",
    "\n",
    "print(u)"
   ]
  },
  {
   "cell_type": "markdown",
   "metadata": {},
   "source": [
    "### Cálculo das forças internas nas barras"
   ]
  },
  {
   "cell_type": "markdown",
   "metadata": {},
   "source": [
    "As forças internas $f_b$ em cada elemento de barra $b$ são determinadas pelo código a seguir."
   ]
  },
  {
   "cell_type": "code",
   "execution_count": null,
   "metadata": {},
   "outputs": [],
   "source": [
    "# Cálculo da forca interna em cada elemento.\n",
    "# Lembre-se que a força interna em um elemento de treliça bidimensional\n",
    "# é única e axial.\n",
    "def __forca_interna_barra(b):\n",
    "    no0 = b[0]\n",
    "    no1 = b[1]\n",
    "\n",
    "    # Numeração implícita das equações\n",
    "    numeq = [2*no0, (2*no0 + 1), 2*no1, (2*no1 + 1)]\n",
    "\n",
    "    # Deslocamentos no sistema de coordenadas global\n",
    "    ug = np.array([ [u[numeq[0]]], [u[numeq[1]]], [u[numeq[2]]], [u[numeq[3]]] ])\n",
    "    \n",
    "    # Calcula a matriz de transformação T do sistema global para o local\n",
    "    p0 = coords[b[0]]\n",
    "    p1 = coords[b[1]]\n",
    "    v = p1 - p0\n",
    "    L = np.linalg.norm(v)\n",
    "    if L < np.finfo(np.float64).eps:\n",
    "        raise ValueError(\"Barra com comprimento nulo.\")\n",
    "\n",
    "    c = v[0]/L\n",
    "    s = v[1]/L\n",
    "    T = np.array([[ c, s, 0, 0],\n",
    "                  [-s, c, 0, 0],\n",
    "                  [ 0, 0, c, s],\n",
    "                  [ 0, 0,-s, c]])\n",
    "\n",
    "    # Deslocamentos no sistema de coordenadas local\n",
    "    ul = T.dot(ug)\n",
    "\n",
    "    # Alongamento axial\n",
    "    dl = ul[2] - ul[0]\n",
    "\n",
    "    # Força interna axial\n",
    "    forca = (E*A/L)*dl\n",
    "    \n",
    "    return forca\n",
    "\n",
    "# Cálculo de forças internas por elemento de barra\n",
    "fb = np.zeros(numbar)\n",
    "for b in range(numbar):\n",
    "    fb[b] = __forca_interna_barra(barras[b])\n",
    "\n",
    "print(fb)"
   ]
  },
  {
   "cell_type": "markdown",
   "metadata": {},
   "source": [
    "### Cálculo das tensões internas"
   ]
  },
  {
   "cell_type": "markdown",
   "metadata": {},
   "source": [
    "Por fim, foi calculada a tensão interna $\\sigma_{b}$ de cada barra $b$ usando a relação $\\sigma_{b} = \\displaystyle\\frac{f_{b}}{A}$."
   ]
  },
  {
   "cell_type": "code",
   "execution_count": null,
   "metadata": {},
   "outputs": [],
   "source": [
    "# Cálculo das tensões internas\n",
    "# TODO: seu código inicia aqui\n",
    "sigma = np.divide(fb,A)\n",
    "print(sigma)"
   ]
  },
  {
   "cell_type": "markdown",
   "metadata": {},
   "source": [
    "### Verificação dos critérios de projeto"
   ]
  },
  {
   "cell_type": "markdown",
   "metadata": {},
   "source": [
    "A seguir, são realizadas verificações dos [Critérios de projeto](#Critérios-de-projeto) previstos no edital."
   ]
  },
  {
   "cell_type": "markdown",
   "metadata": {},
   "source": [
    "#### Comprimento mínimo"
   ]
  },
  {
   "cell_type": "code",
   "execution_count": null,
   "metadata": {},
   "outputs": [],
   "source": [
    "# TODO: seu código inicia aqui"
   ]
  },
  {
   "cell_type": "markdown",
   "metadata": {},
   "source": [
    "#### Tensão admissível"
   ]
  },
  {
   "cell_type": "code",
   "execution_count": null,
   "metadata": {},
   "outputs": [],
   "source": [
    "# TODO: seu código inicia aqui\n",
    "fy = 250e+6 # (Pa) tensão admissível do aço MR250\n",
    "for s in sigma:\n",
    "    if s > fy:\n",
    "        raise ValueError(\"Tensão admissível ultrapassada.\")"
   ]
  },
  {
   "cell_type": "markdown",
   "metadata": {},
   "source": [
    "#### Deflexão máxima"
   ]
  },
  {
   "cell_type": "code",
   "execution_count": null,
   "metadata": {},
   "outputs": [],
   "source": [
    "# TODO: seu código inicia aqui"
   ]
  },
  {
   "cell_type": "markdown",
   "metadata": {},
   "source": [
    "### Peso total da ponte"
   ]
  },
  {
   "cell_type": "markdown",
   "metadata": {},
   "source": [
    "O peso total da ponte proposta é:"
   ]
  },
  {
   "cell_type": "code",
   "execution_count": null,
   "metadata": {},
   "outputs": [],
   "source": [
    "peso = np.float64(0.0)\n",
    "\n",
    "# TODO: seu código inicia aqui\n",
    "for i in range(numbar):\n",
    "    # Calcula o comprimento da barra\n",
    "    no = barras[i]\n",
    "    p0 = coords[no[0]]\n",
    "    p1 = coords[no[1]]\n",
    "    v = p1 - p0\n",
    "    L = np.linalg.norm(v)\n",
    "    p = A*L*rho\n",
    "    peso = peso + p\n",
    "\n",
    "peso = peso/1000.0 # N -> kN\n",
    "\n",
    "print(\"Peso total da ponte: %f kN\" % (peso))"
   ]
  },
  {
   "cell_type": "markdown",
   "metadata": {},
   "source": [
    "## Saiba mais"
   ]
  },
  {
   "cell_type": "markdown",
   "metadata": {},
   "source": [
    "Esta atividade foi inspirada no artigo:\n",
    "\n",
    "* SANTANA, P. F. M. et al. [Uma heurística para o dimensionamento ótimo de treliças espaciais regulares](http://www.civil.uminho.pt/revista/artigos/n56/Pag.14-27.pdf). **Revista de Engenharia**, n. 56, p. 14-27, 2019."
   ]
  },
  {
   "cell_type": "markdown",
   "metadata": {},
   "source": [
    "A implementação do método da rigidez direta apresentada aqui foi adaptada de:\n",
    "\n",
    "* Felippa, Carlos A. [Introduction to finite element methods](http://bit.do/fewTx). Department of Aerospace Engineering Sciences and Center for Aerospace Structures, University of Colorado, 2001."
   ]
  },
  {
   "cell_type": "markdown",
   "metadata": {},
   "source": [
    "<br>\n",
    "<p>&copy; 2019 Vicente Helano<br>\n",
    "UFCA | Centro de Ciências e Tecnologia</p>"
   ]
  }
 ],
 "metadata": {
  "kernelspec": {
   "display_name": "Python 3",
   "language": "python",
   "name": "python3"
  },
  "language_info": {
   "codemirror_mode": {
    "name": "ipython",
    "version": 3
   },
   "file_extension": ".py",
   "mimetype": "text/x-python",
   "name": "python",
   "nbconvert_exporter": "python",
   "pygments_lexer": "ipython3",
   "version": "3.7.3"
  }
 },
 "nbformat": 4,
 "nbformat_minor": 4
}
