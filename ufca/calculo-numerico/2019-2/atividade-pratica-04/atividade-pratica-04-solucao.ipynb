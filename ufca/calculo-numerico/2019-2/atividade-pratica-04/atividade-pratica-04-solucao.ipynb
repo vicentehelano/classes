{
 "cells": [
  {
   "cell_type": "markdown",
   "metadata": {},
   "source": [
    "# Avaliação de painel fotovoltaico"
   ]
  },
  {
   "cell_type": "markdown",
   "metadata": {},
   "source": [
    "<br>"
   ]
  },
  {
   "cell_type": "markdown",
   "metadata": {},
   "source": [
    "A demanda crescente por combustíveis fósseis, os quais se tornam escassos a cada dia, a emissão de CO<sub>2</sub>, o aquecimento global e diversos outros fatores têm levado cientistas do mundo inteiro a estudar fontes alternativas de energia.\n",
    "Dentre as fontes de energia consideradas renováveis, a _energia solar_ é uma das mais promissoras devido, principalmente, a sua disponibilidade quase que ilimitada.\n",
    "No Brasil, o estado do Ceará se destaca como um dos maiores produtores de energia solar, sendo o [maior produtor de energia fotovoltaica do Nordeste](https://globoplay.globo.com/v/7340221/).\n",
    "No Cariri, é perceptível a explosão deste setor. Recentemente, temos acompanhado a implantação de diversas empresas que fazem projeto, instalação e a manutenção de sistemas usando placas fotovoltaicas."
   ]
  },
  {
   "cell_type": "markdown",
   "metadata": {},
   "source": [
    "Um passo importante de um projeto de sistema fotovoltaico, é a escolha das placas a serem utilizadas. O desempenho de um painel fotovoltaico depende de diversos parâmetros, dentre os quais podemos citar a intensidade solar e a temperatura de trabalho das células.\n",
    "Nesta atividade, você avaliará a qualidade do painel [BP Solar's BP 3 Series (235W)](referencias/especificacoes.pdf) por meio da análise de sua eficiência."
   ]
  },
  {
   "cell_type": "markdown",
   "metadata": {},
   "source": [
    "## Modelo matemático"
   ]
  },
  {
   "cell_type": "markdown",
   "metadata": {},
   "source": [
    "O modelo matemático utilizado para descrever uma **célula** solar é baseado em seu circuito equivalente (modelo de um diodo), mostrado na figura abaixo."
   ]
  },
  {
   "cell_type": "markdown",
   "metadata": {},
   "source": [
    "<img src=\"imagens/circuito-celula.svg\" align=\"center\"/>"
   ]
  },
  {
   "cell_type": "markdown",
   "metadata": {},
   "source": [
    "A resistência em série $R_s$ representa as perdas dos contatos metálicos entre as células e a resistência shunt $R_{sh}$ (em paralelo) representa as perdas relacionadas às correntes parasitas que circulam no painel fotovoltaico."
   ]
  },
  {
   "cell_type": "markdown",
   "metadata": {},
   "source": [
    "A equação governante do circuito equivalente é obtida usando a primeira lei de Kirchoff:"
   ]
  },
  {
   "cell_type": "markdown",
   "metadata": {},
   "source": [
    "$$I = I_{\\mathrm{ph}} - I_{\\mathrm{d}}  - I_{\\mathrm{sh}}$$"
   ]
  },
  {
   "cell_type": "markdown",
   "metadata": {},
   "source": [
    "onde $I_{\\mathrm{ph}}$ é a corrente fotogerada, $I_{\\mathrm{d}}$ é a corrente perdida no diodo, $I_{\\mathrm{sh}}$ representa a corrente perdida devido à resistência de derivação (_shunt_)."
   ]
  },
  {
   "cell_type": "markdown",
   "metadata": {},
   "source": [
    "Um **módulo** ou **painel** fotovoltaico é um conjunto de células conectadas em série.\n",
    "Supondo um painel formado por $N_{\\mathrm{s}}$ células conectadas em série, a corrente $I_{\\mathrm{d}}$ obedece à [equação de Shockley](https://en.wikipedia.org/wiki/Shockley_diode_equation):"
   ]
  },
  {
   "cell_type": "markdown",
   "metadata": {},
   "source": [
    "$$\n",
    "I_{\\mathrm{d}} = I_{\\mathrm{s}}\\left[ \\operatorname{exp}\\left(\\frac{q(V + N_{\\mathrm{s}}IR_{\\mathrm{s}})}{N_{\\mathrm{s}}nkT}\\right) - 1 \\right]\n",
    "$$"
   ]
  },
  {
   "cell_type": "markdown",
   "metadata": {},
   "source": [
    "onde:\n",
    "* $I_\\mathrm{s}$ é a corrente de saturação reversa do diodo\n",
    "* $q$ é a carga elementar do elétron ($\\approx 1{,}602 \\times 10^{-19}$ C)\n",
    "* $k$ é a constante de Boltzmann ($\\approx 1{,}381 \\times 10^{-23}$ J/K)\n",
    "* $n$ é a constante de idealidade da junção $pn$ do diodo ($\\approx 1{,}149$)\n",
    "* $T$ a temperatura de trabalho das células\n",
    "* $V$ é a tensão de saída do módulo\n",
    "* $R_{\\mathrm{s}}$ é a resistência em série"
   ]
  },
  {
   "cell_type": "markdown",
   "metadata": {},
   "source": [
    "No caso da corrente de derivação $I_{\\mathrm{sh}}$, temos a expressão:"
   ]
  },
  {
   "cell_type": "markdown",
   "metadata": {},
   "source": [
    "$$\n",
    "I_{\\mathrm{sh}} = \\frac{V+ N_{\\mathrm{s}} I R_{\\mathrm{s}}}{N_{\\mathrm{s}}R_{\\mathrm{sh}}}\n",
    "$$"
   ]
  },
  {
   "cell_type": "markdown",
   "metadata": {},
   "source": [
    "onde $R_{\\mathrm{sh}}$ corresponde à resistência de derivação."
   ]
  },
  {
   "cell_type": "markdown",
   "metadata": {},
   "source": [
    "Combinando estas expressões, a equação governante para um painel com $N_{\\mathrm{s}}$ células assume a forma:"
   ]
  },
  {
   "cell_type": "markdown",
   "metadata": {},
   "source": [
    "$$\n",
    "I = I_{\\mathrm{ph}} - I_{\\mathrm{s}}\\left[ \\operatorname{exp}\\left(\\frac{q(V + N_{\\mathrm{s}} I R_{\\mathrm{s}})}{N_{\\mathrm{s}} nkT}\\right) - 1 \\right] - \\frac{V+ N_{\\mathrm{s}} I R_{\\mathrm{s}}}{N_{\\mathrm{s}} R_{\\mathrm{sh}}}\n",
    "$$"
   ]
  },
  {
   "cell_type": "markdown",
   "metadata": {},
   "source": [
    "De modo geral, dizemos que este modelo fica definido por cinco parâmetros:\n",
    "$I_{\\mathrm{ph}}$, $I_\\mathrm{s}$, $R_{\\mathrm{s}}$, $R_{\\mathrm{sh}}$ e $n$."
   ]
  },
  {
   "cell_type": "markdown",
   "metadata": {},
   "source": [
    "### Corrente fotogerada"
   ]
  },
  {
   "cell_type": "markdown",
   "metadata": {},
   "source": [
    "A corrente fotogerada $I_{\\mathrm{ph}}$ é diretamente proporcional à irradiação solar total e à temperatura as quais as células são submetidas.\n",
    "Esta relação é expressa por:"
   ]
  },
  {
   "cell_type": "markdown",
   "metadata": {},
   "source": [
    "$$ I_{\\mathrm{ph}}  = \\left[ I_{\\mathrm{sc}} + I_0\\left( T - T_{\\mathrm{r}}\\right) \\right] \\frac{\\lambda}{1000} $$"
   ]
  },
  {
   "cell_type": "markdown",
   "metadata": {},
   "source": [
    "onde $I_{\\mathrm{sc}}$ é a corrente de curto-circuito do módulo em condições de teste,\n",
    "$I_0$ é o coeficiente de temperatura de $I_{\\mathrm{sc}}$, $T_{\\mathrm{r}}$ é a temperatura de referência do módulo (25°C) e $\\lambda$ é a irradiação solar total em W/m$^2$. Com exceção de $\\lambda$, os demais parâmetros são fornecidos pelos fabricantes de células fotovoltaicas.\n",
    "Os valores de irradiação no estado do Ceará estão \n",
    "disponíveis no [Atlas de Energia Solar](http://labren.ccst.inpe.br/atlas_2017_CE.html), elaborado pelo [Laboratório de Modelagem e Estudos de Recursos Renováveis de Energia (LABREN)](http://labren.ccst.inpe.br/) do Inpe.\n",
    "Supondo o ângulo de inclinação da surpefície da célula igual a zero, a irradiância solar total recebida pode ser considerada igual à irradiância horizontal (ABNT, 2006). Você deve utilizar o pico de irradiação em Juazeiro do Norte, que ocorre no mês de novembro, e vale aproximadamente $6601 \\text{ Wh/m².dia}$ ou $275{,}042\\text{ W/m²}$."
   ]
  },
  {
   "cell_type": "markdown",
   "metadata": {},
   "source": [
    "### Corrente de saturação"
   ]
  },
  {
   "cell_type": "markdown",
   "metadata": {},
   "source": [
    "A corrente de saturação reversa do módulo $I_{\\mathrm{s}}$  varia com a temperatura de trabalho. Segundo De Soto et al. (2006), ela pode ser escrita como:"
   ]
  },
  {
   "cell_type": "markdown",
   "metadata": {},
   "source": [
    "$$\n",
    "I_{\\mathrm{s}} = I_{\\mathrm{rs}} \\left(\\frac{T}{T_{\\mathrm{r}}}\\right)^3\n",
    "                 \\operatorname{exp}\\left[ \\frac{1}{k} \\left( \\frac{E_{\\mathrm{rg}}}{T_{\\mathrm{r}}} - \\frac{E_{\\mathrm{g}}}{T} \\right)  \\right]\n",
    "$$"
   ]
  },
  {
   "cell_type": "markdown",
   "metadata": {},
   "source": [
    "onde $I_{\\mathrm{rs}}$ é a corrente de saturação reversa de referência, $E_{\\mathrm{rg}}$ é o [_gap_ de energia](https://en.wikipedia.org/wiki/Band_gap) de referência do semi-condutor que compõe as células, cujo valor é aproximadamente $1{,}121$ eV, e $E_{\\mathrm{g}}$ é o _gap_ de energia nas condições de trabalho (em eV), dado por:"
   ]
  },
  {
   "cell_type": "markdown",
   "metadata": {},
   "source": [
    "$$\n",
    "E_{\\mathrm{g}} = E_{\\mathrm{rg}} \\left[ 1 - 0{,}0002677 \\left( T - T_{\\mathrm{r}} \\right)  \\right]\n",
    "$$"
   ]
  },
  {
   "cell_type": "markdown",
   "metadata": {},
   "source": [
    "Suponha a corrente de referência $I_{\\mathrm{rs}}$ igual a\n",
    "$6{,}330 \\times 10^{-9}$ A."
   ]
  },
  {
   "cell_type": "markdown",
   "metadata": {},
   "source": [
    "**Observação 1:** você deve converter $E_{\\mathrm{rg}}$ de eV para Joules multiplicando-o pela carga do elétron $q$."
   ]
  },
  {
   "cell_type": "markdown",
   "metadata": {},
   "source": [
    "### Resistências"
   ]
  },
  {
   "cell_type": "markdown",
   "metadata": {},
   "source": [
    "Por simplicidade, assumiremos as resistências constantes:"
   ]
  },
  {
   "cell_type": "markdown",
   "metadata": {},
   "source": [
    "$$\n",
    "R_{s} = 5{,}125 \\times 10^{-3} \\Omega\n",
    "$$"
   ]
  },
  {
   "cell_type": "markdown",
   "metadata": {},
   "source": [
    "$$\n",
    "R_{sh} = 5{,}837 \\times \\frac{\\lambda}{1000} \\, \\Omega\n",
    "$$"
   ]
  },
  {
   "cell_type": "markdown",
   "metadata": {},
   "source": [
    "## Formulação do problema"
   ]
  },
  {
   "cell_type": "markdown",
   "metadata": {},
   "source": [
    "A eficiência $\\eta$ de um módulo pode ser expressa por:"
   ]
  },
  {
   "cell_type": "markdown",
   "metadata": {},
   "source": [
    "$$\n",
    "\\eta = \\frac{P_{\\mathrm{max}}}{\\lambda A}\n",
    "$$"
   ]
  },
  {
   "cell_type": "markdown",
   "metadata": {},
   "source": [
    "onde $P_{\\mathrm{max}}$ é a potência máxima atingida pelo módulo, $\\lambda$ é a intensidade da radiação solar incidente e $A$ é o somatório das áreas das células que o compõem.\n",
    "Dizemos que um painel é _viável_ quando sua eficiência é maior ou igual a 10%."
   ]
  },
  {
   "cell_type": "markdown",
   "metadata": {},
   "source": [
    "Para calcular $P_{\\mathrm{max}}$, necessitamos variar a tensão de entrada $V$ e determinar a corrente $I$ resultante e tomar o máximo de $V\\times I$ igual a $P_{\\mathrm{max}}$.\n",
    "No entanto, observe que é impossível isolar $I$ na equação governante do painel.\n",
    "Para contornar este problema, aplicaremos o método de Newton."
   ]
  },
  {
   "cell_type": "markdown",
   "metadata": {},
   "source": [
    "## Método de Newton"
   ]
  },
  {
   "cell_type": "markdown",
   "metadata": {},
   "source": [
    "Antes de mais nada, você precisa implementar o método de Newton. Sua função deve retornar um par (`tuple`) com: a raiz aproximada e o número de iterações realizadas."
   ]
  },
  {
   "cell_type": "code",
   "execution_count": 27,
   "metadata": {},
   "outputs": [],
   "source": [
    "import numpy as np\n",
    "import warnings as wn\n",
    "\n",
    "def newton(f, df, x0, tol, maxit):\n",
    "    \"\"\"\n",
    "    Calcula o zero da função f usando o método de Newton.\n",
    "    \"\"\"\n",
    "    it = 1\n",
    "    while (it <= maxit):\n",
    "        fx0 = f(x0)\n",
    "        dfx0 = df(x0)\n",
    "        \n",
    "        # Tratamento de possível divisão por zero\n",
    "        try:\n",
    "            dx0 = -fx0/dfx0\n",
    "        except ZeroDivisionError:\n",
    "            wn.warn('newton: Raiz possui multiplicidade maior do que 1.', action='error')\n",
    "           \n",
    "        # Nova aproximação\n",
    "        x = x0 + dx0\n",
    "        \n",
    "        # Teste de convergência\n",
    "        if abs(x - x0) < tol*max(abs(x),1.0):\n",
    "            return (x, it)\n",
    "        \n",
    "        # A nova aproximação se torna antiga\n",
    "        x0 = x\n",
    "        \n",
    "    wn.warn(\"newton: Número maximo de iterações atingido.\")\n",
    "    return (x,k)"
   ]
  },
  {
   "cell_type": "markdown",
   "metadata": {},
   "source": [
    "### Benchmark"
   ]
  },
  {
   "cell_type": "markdown",
   "metadata": {},
   "source": [
    "Antes de aplicar sua implementação no problema de determinação de correntes, é preciso verificar se ele está correto. Teste sua implementação no cálculo do ponto de máximo da versão unidimensional da [função dos Alpes 2](http://benchmarkfcns.xyz/benchmarkfcns/alpinen2fcn.html):"
   ]
  },
  {
   "cell_type": "markdown",
   "metadata": {},
   "source": [
    "$$f(x) = \\sqrt{x} \\operatorname{sin}(x)\\text{.}$$"
   ]
  },
  {
   "cell_type": "markdown",
   "metadata": {},
   "source": [
    "Para $0 \\le x \\le 10$, ela possui um máximo global em $\\xi \\approx 7{,}917$, com $f(\\xi) \\approx 2{,}808$."
   ]
  },
  {
   "cell_type": "code",
   "execution_count": 28,
   "metadata": {},
   "outputs": [
    {
     "name": "stdout",
     "output_type": "stream",
     "text": [
      "CPU times: user 1 µs, sys: 0 ns, total: 1 µs\n",
      "Wall time: 3.1 µs\n",
      "Raiz: 7.917053\n",
      "Número de iterações: 1\n"
     ]
    }
   ],
   "source": [
    "%time\n",
    "\n",
    "def f(x):\n",
    "    return (np.sin(x) + 2.0*x*np.cos(x))/(2.0*np.sqrt(x))\n",
    "def df(x):\n",
    "    return -(4.0*(x**2)*np.sin(x) + np.sin(x) - 4.0*x*np.cos(x))/(4.0*(x**(3/2)))\n",
    "\n",
    "raiz,it = newton(f, df, 8.0, 1.0E-9, 100)\n",
    "print('Raiz: %f' % raiz)\n",
    "print('Número de iterações: %d' % it)"
   ]
  },
  {
   "cell_type": "markdown",
   "metadata": {},
   "source": [
    "### Cálculo da corrente"
   ]
  },
  {
   "cell_type": "markdown",
   "metadata": {},
   "source": [
    "Se tudo tiver corrido bem até agora, você pode ajustar a função `newton` para calcular a corrente de saída do painel BP 3 Series (235W) da BP Solar.\n",
    "Para isso, você deve reescrever a equação governante do módulo como um problem de zero de função.\n",
    "A função $f$ tem variável independente $I$, mas é guiada por diversos parâmetros, a saber: \n",
    " $V$, $I_{\\mathrm{sc}}$, $V_{\\mathrm{oc}}$, $\\lambda$, $I_0$, $T$, $T_{\\mathrm{r}}$, $n$, $V_{\\mathrm{mp}}$, $I_{\\mathrm{mp}}$ e $E_{\\mathrm{g}}$. A forma mais simples de implementar isso em Python é colocar os parâmetros globais, logo acima à função."
   ]
  },
  {
   "cell_type": "code",
   "execution_count": 38,
   "metadata": {},
   "outputs": [],
   "source": [
    "# Dados do BP 3 Series 235 W\n",
    "Isc = 8.48 # A\n",
    "Voc = 37.2 # V\n",
    "Imp = 7.89 # A\n",
    "Vmp = 29.8 # V\n",
    "I0 = 0.105*Isc/274.15 # A/K\n",
    "Tr = 25.0 + 273.15 # Celsius para Kelvin\n",
    "n = 1.149\n",
    "Ns = 60 # número de células em um módulo\n",
    "\n",
    "# Condições de trabalho\n",
    "T = 50.0 + 273.15 # Celsius para Kelvin\n",
    "lamb = 275.042 # W/m²\n",
    "\n",
    "# Constantes físicas\n",
    "q = 1.602e-19 # C\n",
    "k = 1.381e-23 # J/K\n",
    "\n",
    "# Parcelas constantes do modelo\n",
    "Egr = q * 1.121 # eV to Joules\n",
    "Eg = Egr * (1.0 - 0.0002677*(T - Tr))\n",
    "\n",
    "Iph = (Isc + I0*(T - Tr))*lamb/1000.0\n",
    "Irs = 6.330e-9 # Amperes\n",
    "Is = Irs*((T/Tr)**3)*np.exp( (Egr/(k*Tr) - Eg/(k*T)) )\n",
    "\n",
    "Rs = 5.125e-3 # Ohm\n",
    "Rsh = 5.837*(lamb/1000) # Ohm\n",
    "\n",
    "def f(I):\n",
    "    # Dica: escreva f(I) = -I + Iph - Id - Ish = 0, para obter\n",
    "    # a corrente de saída positiva\n",
    "    Id = Is*(np.exp( (q*(V + Ns*I*Rs))/(Ns*n*k*T) ) - 1.0)\n",
    "    Ish = (V - Ns*I*Rs)/(Ns*Rsh)\n",
    "    return (-I + Iph - Id - Ish)\n",
    "\n",
    "def df(I):\n",
    "    dI = 1.0\n",
    "    # dIph = 0.0\n",
    "    dId = Is*((q*Rs)/(n*k*T))*np.exp( (q*(V + Ns*I*Rs))/(Ns*n*k*T) )\n",
    "    dIsh = Rs/Rsh\n",
    "    return (-dI - dId - dIsh)"
   ]
  },
  {
   "cell_type": "markdown",
   "metadata": {},
   "source": [
    "Agora, teste seu método de `newton` para $V = 10$ volts.\n",
    "Experimente diversos valores para o chute inicial."
   ]
  },
  {
   "cell_type": "code",
   "execution_count": 39,
   "metadata": {},
   "outputs": [
    {
     "name": "stdout",
     "output_type": "stream",
     "text": [
      "CPU times: user 2 µs, sys: 0 ns, total: 2 µs\n",
      "Wall time: 3.34 µs\n"
     ]
    },
    {
     "data": {
      "text/plain": [
       "(2.258001415671198, 1)"
      ]
     },
     "execution_count": 39,
     "metadata": {},
     "output_type": "execute_result"
    }
   ],
   "source": [
    "%time\n",
    "\n",
    "V = 10.0\n",
    "I,it = newton(f, df, 5.0, 1.0E-6, 100)\n",
    "I,it"
   ]
  },
  {
   "cell_type": "markdown",
   "metadata": {},
   "source": [
    "## Caracterização do painel"
   ]
  },
  {
   "cell_type": "markdown",
   "metadata": {},
   "source": [
    "A caracterização de módulos fotovoltaicos pode ser feita por meio de diversos parâmetros. Neste trabalho, iremos utilizar as curvas I-V/P-V e a eficiência $\\eta$."
   ]
  },
  {
   "cell_type": "markdown",
   "metadata": {},
   "source": [
    "Para determinar estes parâmetros, é necessário calcular o valor da corrente $I$ para diferentes valores de voltagem $V$ usando `newton`. Você deve implementar estes cálculos no espaço abaixo. Utilize 100 valores de tensão regularmente espaçados no intervalo de zero a $V_{\\mathrm{oc}}$, enquanto a corrente for maior ou igual a zero, e uma temperatura de trabalho $T$ igual 50 °C. Aproveite e também calcule as potências associadas."
   ]
  },
  {
   "cell_type": "code",
   "execution_count": 40,
   "metadata": {},
   "outputs": [],
   "source": [
    "# Digite seu código aqui\n",
    "tensoes = np.linspace(0,Vmp,100)\n",
    "correntes = []\n",
    "potencias = []\n",
    "for t in tensoes:\n",
    "    V = t\n",
    "    corrente,it = newton(f, df, 5.0, 1.0E-6, 100)\n",
    "    if corrente < 0:\n",
    "        break\n",
    "    correntes.append(corrente)\n",
    "    potencias.append(corrente*V)"
   ]
  },
  {
   "cell_type": "markdown",
   "metadata": {},
   "source": [
    "### Curvas I-V e P-V"
   ]
  },
  {
   "cell_type": "markdown",
   "metadata": {},
   "source": [
    "A função `desenha_curvas` abaixo deve desenhar as curvas I-V e P-V em um único gráfico."
   ]
  },
  {
   "cell_type": "code",
   "execution_count": 41,
   "metadata": {},
   "outputs": [],
   "source": [
    "import matplotlib.pyplot as plt\n",
    "\n",
    "fig, ax1 = plt.subplots() # cria uma figura e com um único sistema de eixos\n",
    "plt.close() # evita que o gráfico seja exibido antes de desenhado\n",
    "    \n",
    "def desenha_curvas(I,V,P):\n",
    "    # seu código vem aqui\n",
    "    # dica: procure saber sobre a função 'twinx'\n",
    "    # https://matplotlib.org/3.1.1/api/_as_gen/matplotlib.axes.Axes.twinx.html\n",
    "    ax1.plot(V[:len(I)], I)\n",
    "    ax2 = ax1.twinx()\n",
    "    ax2.plot(V[:len(I)], P, color='r')\n",
    "    plt.show()"
   ]
  },
  {
   "cell_type": "markdown",
   "metadata": {},
   "source": [
    "O resultado será:"
   ]
  },
  {
   "cell_type": "code",
   "execution_count": 42,
   "metadata": {},
   "outputs": [
    {
     "data": {
      "image/png": "[encoded data removed]",
      "text/plain": [
       "<Figure size 432x288 with 2 Axes>"
      ]
     },
     "execution_count": 42,
     "metadata": {},
     "output_type": "execute_result"
    }
   ],
   "source": [
    "desenha_curvas(correntes,tensoes,potencias)\n",
    "fig"
   ]
  },
  {
   "cell_type": "markdown",
   "metadata": {},
   "source": [
    "### Eficiência do painel"
   ]
  },
  {
   "cell_type": "markdown",
   "metadata": {},
   "source": [
    "A função abaixo deve calcular a eficiência do módulo, considerando a área de toda as suas células."
   ]
  },
  {
   "cell_type": "code",
   "execution_count": 43,
   "metadata": {},
   "outputs": [],
   "source": [
    "def eficiencia(P,lamb,A):\n",
    "    # seu código vem aqui\n",
    "    \n",
    "    return max(P)/(lamb*A) # altere esta linha, caso necessário"
   ]
  },
  {
   "cell_type": "code",
   "execution_count": 45,
   "metadata": {},
   "outputs": [
    {
     "name": "stdout",
     "output_type": "stream",
     "text": [
      "Eficiência do painel: 0.119601\n"
     ]
    }
   ],
   "source": [
    "area = 60*(0.156**2)\n",
    "e = eficiencia(potencias,lamb,area)\n",
    "print(\"Eficiência do painel: %f\" % (e))"
   ]
  },
  {
   "cell_type": "markdown",
   "metadata": {},
   "source": [
    "## Parecer"
   ]
  },
  {
   "cell_type": "markdown",
   "metadata": {},
   "source": [
    "O painel pode ser considerado viável?"
   ]
  },
  {
   "cell_type": "markdown",
   "metadata": {},
   "source": [
    "_Escreva seu parecer final aqui_\n",
    "\n"
   ]
  },
  {
   "cell_type": "markdown",
   "metadata": {},
   "source": [
    "## Saiba mais"
   ]
  },
  {
   "cell_type": "markdown",
   "metadata": {},
   "source": [
    "Esta atividade foi baseada nos artigos:"
   ]
  },
  {
   "cell_type": "markdown",
   "metadata": {},
   "source": [
    "* TIAN, Hongmei et al. A cell-to-module-to-array detailed model for photovoltaic panels. **Solar energy**, v. 86, n. 9, p. 2695-2706, 2012. DOI: [10.1016/j.solener.2012.06.004](https://doi.org/10.1016/j.solener.2012.06.004)\n",
    "\n",
    "* DE SOTO, Widalys; KLEIN, S. A.; BECKMAN, W. A. Improvement and validation of a model for photovoltaic array performance. **Solar energy**, v. 80, n. 1, p. 78-88, 2006. DOI: [j.solener.2005.06.010](https://doi.org/10.1016/j.solener.2005.06.010)"
   ]
  },
  {
   "cell_type": "markdown",
   "metadata": {},
   "source": [
    "<br>\n",
    "<p>&copy; 2019 Vicente Helano<br>\n",
    "UFCA | Centro de Ciências e Tecnologia</p>"
   ]
  }
 ],
 "metadata": {
  "kernelspec": {
   "display_name": "Python 3",
   "language": "python",
   "name": "python3"
  },
  "language_info": {
   "codemirror_mode": {
    "name": "ipython",
    "version": 3
   },
   "file_extension": ".py",
   "mimetype": "text/x-python",
   "name": "python",
   "nbconvert_exporter": "python",
   "pygments_lexer": "ipython3",
   "version": "3.7.3"
  }
 },
 "nbformat": 4,
 "nbformat_minor": 4
}
