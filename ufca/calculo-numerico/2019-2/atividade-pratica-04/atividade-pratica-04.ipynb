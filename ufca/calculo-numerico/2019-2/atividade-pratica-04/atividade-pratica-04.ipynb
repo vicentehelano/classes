{
 "cells": [
  {
   "cell_type": "markdown",
   "metadata": {},
   "source": [
    "# Avaliação de célula fotovoltaica"
   ]
  },
  {
   "cell_type": "markdown",
   "metadata": {},
   "source": [
    "<br>"
   ]
  },
  {
   "cell_type": "markdown",
   "metadata": {},
   "source": [
    "A demanda crescente por combustíveis fósseis, os quais se tornam escassos a cada dia, a emissão de CO2, o aquecimento global e diversos outros fatores tem levado cientistas do mundo inteiro a estudar fontes alternativas de energia.\n",
    "Dentre as fontes de energia consideradas renováveis, a _energia solar_ é uma das mais promissoras devido, principalmente, a sua disponibilidade quase que ilimitada.\n",
    "No Brasil, o estado do Ceará se destaca como um dos maiores produtores de energia solar.\n",
    "No Cariri, é perceptível a explosão deste setor. Recentemente, temos acompanhado a implantação de diversas empresas que fazem projeto, instalação e a manutenção de sistemas usando placas fotovoltaicas."
   ]
  },
  {
   "cell_type": "markdown",
   "metadata": {},
   "source": [
    "Um passo importante de um projeto de sistema fotovoltaico, é a escolha das placas a serem utilizadas. O desempenho de um painel fotovoltaico depende de diversos parâmetros entre eles estão a intensidade solar e a temperatura de trabalho (do ambiente).\n",
    "Neste trabalho, iremos avaliar a qualidade do painel [Sunpower SPR-305-WHT-U (305W)](http://www.solardesigntool.com/components/module-panel-solar/Sunpower/514/SPR-305-WHT-U/specification-data-sheet.html) por meio da análise da eficiência de suas células fotovoltaicas."
   ]
  },
  {
   "cell_type": "markdown",
   "metadata": {},
   "source": [
    "## Modelo matemático"
   ]
  },
  {
   "cell_type": "markdown",
   "metadata": {},
   "source": [
    "O modelo matemático utilizado para descrever uma célula solar, foi baseado no seu circuito equivalente (modelo de um diodo), mostrado na figura abaixo."
   ]
  },
  {
   "cell_type": "markdown",
   "metadata": {},
   "source": [
    "<img src=\"https://pvpmc.sandia.gov/wp-content/uploads/2012/04/Single-Diode-EC2.png\" width=\"400\" align=\"center\" alt=\"Figura 1: Modelo de célula fotovoltaica com um único diodo\"/>"
   ]
  },
  {
   "cell_type": "markdown",
   "metadata": {},
   "source": [
    "A resistência em série $R_s$ representa as perdas dos contatos metálicos entre as células e uma resistência shunt $R_{sh}$ (paralelo) representa as perdas relacionadas às correntes parasitas que circulam no painel fotovoltaico (da Costa, 2010)."
   ]
  },
  {
   "cell_type": "markdown",
   "metadata": {},
   "source": [
    "A equação governante do circuito equivalente é obtida usando a primeira lei de Kirchoff:"
   ]
  },
  {
   "cell_type": "markdown",
   "metadata": {},
   "source": [
    "$$I = I_{\\mathrm{ph}} - I_{\\mathrm{d}}  - I_{\\mathrm{sh}}$$"
   ]
  },
  {
   "cell_type": "markdown",
   "metadata": {},
   "source": [
    "onde $I_{\\mathrm{ph}}$ é a corrente fotogerada, $I_{\\mathrm{d}}$ é a corrente perdida no diodo, $I_{\\mathrm{sh}}$ representa a corrente perdida devido à resistência de derivação (_shunt_)."
   ]
  },
  {
   "cell_type": "markdown",
   "metadata": {},
   "source": [
    "Neste modelo, a corrente $I_{\\mathrm{d}}$ obedece à [equação de Shockley](https://en.wikipedia.org/wiki/Shockley_diode_equation) para um diodo ideal:"
   ]
  },
  {
   "cell_type": "markdown",
   "metadata": {},
   "source": [
    "$$\n",
    "I_{\\mathrm{d}} = I_{\\mathrm{s}}\\left[ \\operatorname{exp}\\left(\\frac{q(V + IR_{\\mathrm{s}})}{nkT}\\right) - 1 \\right]\n",
    "$$"
   ]
  },
  {
   "cell_type": "markdown",
   "metadata": {},
   "source": [
    "onde:\n",
    "* $I_\\mathrm{s}$ é a corrente de saturação reversa do diodo\n",
    "* $q$ é a carga elementar do elétron ($\\approx 1{,}602 \\times 10^{-19}$ C)\n",
    "* $k$ é a constante de Boltzmann ($\\approx 1{,}381 \\times 10^{-23}$ J/K)\n",
    "* $n$ é a constante de idealidade da junção $pn$ do diodo ($\\approx 1{,}2$, para painéis monocristalinos de silício)\n",
    "* $T$ a temperatura de trabalho da célula\n",
    "* $V$ é a tensão de saída da célula\n",
    "* $R_{\\mathrm{s}}$ é a resistência em série"
   ]
  },
  {
   "cell_type": "markdown",
   "metadata": {},
   "source": [
    "No caso da corrente de derivação $I_{\\mathrm{sh}}$, temos a expressão:"
   ]
  },
  {
   "cell_type": "markdown",
   "metadata": {},
   "source": [
    "$$\n",
    "I_{\\mathrm{sh}} = \\frac{V+I R_{\\mathrm{s}}}{R_{\\mathrm{sh}}}\n",
    "$$"
   ]
  },
  {
   "cell_type": "markdown",
   "metadata": {},
   "source": [
    "onde $R_{\\mathrm{sh}}$ corresponde à resistência de derivação."
   ]
  },
  {
   "cell_type": "markdown",
   "metadata": {},
   "source": [
    "Combinando estas expressões, a equação governante para o modelo com um único diodo assume a forma:"
   ]
  },
  {
   "cell_type": "markdown",
   "metadata": {},
   "source": [
    "$$\n",
    "I = I_{\\mathrm{ph}} - I_{\\mathrm{s}}\\left[ \\operatorname{exp}\\left(\\frac{q(V + IR_{\\mathrm{s}})}{nkT}\\right) - 1 \\right] - \\frac{V+I R_{\\mathrm{s}}}{R_{\\mathrm{sh}}}\\qquad\\text{(Cuevas et al., 20???)}\n",
    "$$"
   ]
  },
  {
   "cell_type": "markdown",
   "metadata": {},
   "source": [
    "De modo geral, dizemos que este modelo fica definido por cinco parâmetros:\n",
    "$I_{\\mathrm{ph}}$, $I_\\mathrm{s}$, $R_{\\mathrm{s}}$, $R_{\\mathrm{sh}}$ e $n$."
   ]
  },
  {
   "cell_type": "markdown",
   "metadata": {},
   "source": [
    "### Corrente fotogerada"
   ]
  },
  {
   "cell_type": "markdown",
   "metadata": {},
   "source": [
    "A corrente fotogerada $I_{\\mathrm{ph}}$ é diretamente proporcional à irradiação solar total e à temperatura as quais a célula é submetida.\n",
    "Esta relação é expressa por:"
   ]
  },
  {
   "cell_type": "markdown",
   "metadata": {},
   "source": [
    "$$ I_{\\mathrm{ph}}  = \\left[ I_{\\mathrm{sc}} + I_0\\left( T - T_{\\mathrm{r}}\\right) \\right] \\lambda $$"
   ]
  },
  {
   "cell_type": "markdown",
   "metadata": {},
   "source": [
    "onde $I_{\\mathrm{sc}}$ é a corrente de curto-circuito da célula a 25 °C e 1 kW/m$^2$,\n",
    "$I_0$ é o coeficiente de temperatura de $I_{\\mathrm{sc}}$, $T_{\\mathrm{r}}$ é a temperatura de referência da célula e $\\lambda$ é a irradiação solar total em kW/m$^2$. Com exceção de $\\lambda$, os demais parâmetros são fornecidos pelos fabricantes de células fotovoltaicas.\n",
    "Os valores de irradiação no estado do Ceará estão \n",
    "disponíveis no [Atlas de Energia Solar](http://labren.ccst.inpe.br/atlas_2017_CE.html), elaborado pelo [Laboratório de Modelagem e Estudos de Recursos Renováveis de Energia (LABREN)](http://labren.ccst.inpe.br/) do Inpe.\n",
    "Supondo o ângulo de inclinação da surpefície da célula igual a zero, a irradiância solar total recebida pode ser considerada igual à irradiância horizontal (ABNT, 2006). "
   ]
  },
  {
   "cell_type": "markdown",
   "metadata": {},
   "source": [
    "### Corrente de saturação"
   ]
  },
  {
   "cell_type": "markdown",
   "metadata": {},
   "source": [
    "A corrente de saturação reversa da célula $I_{\\mathrm{s}}$  varia com a temperatura de trabalho. Geralmente, ela é escrita como:"
   ]
  },
  {
   "cell_type": "markdown",
   "metadata": {},
   "source": [
    "$$\n",
    "I_{\\mathrm{s}} = I_{\\mathrm{rs}} \\left(\\frac{T}{T_{\\mathrm{r}}}\\right)^3\n",
    "                 \\operatorname{exp}\\left[ \\frac{q}{nk} E_{\\mathrm{g}} \\left( \\frac{1}{T_{\\mathrm{r}}} - \\frac{1}{T} \\right)  \\right]\n",
    "$$"
   ]
  },
  {
   "cell_type": "markdown",
   "metadata": {},
   "source": [
    "onde $I_{\\mathrm{rs}}$ é a corrente de saturação reversa de referência e $E_{\\mathrm{g}}$ é o [_gap_ de energia](https://en.wikipedia.org/wiki/Band_gap) do semi-condutor que compõe a célula, cujo valor é aproximadamente $1{,}12$ eV para células policristalinas de silício a 25 °C."
   ]
  },
  {
   "cell_type": "markdown",
   "metadata": {},
   "source": [
    "A corrente de referência $I_{\\mathrm{rs}}$ pode ser aproximada por:"
   ]
  },
  {
   "cell_type": "markdown",
   "metadata": {},
   "source": [
    "$$ I_{\\mathrm{rs}} = \\frac{I_{\\mathrm{sc}}}{\\operatorname{exp}\\left[ \\displaystyle\\frac{q V_{\\mathrm{oc}}}{nkT} - 1 \\right]}$$"
   ]
  },
  {
   "cell_type": "markdown",
   "metadata": {},
   "source": [
    "onde $V_{\\mathrm{oc}}$ é a _tensão de circuito-aberto_, dado fornecido pelo fabricante."
   ]
  },
  {
   "cell_type": "markdown",
   "metadata": {},
   "source": [
    "### Resistências"
   ]
  },
  {
   "cell_type": "markdown",
   "metadata": {},
   "source": [
    "Por simplicidade, assumiremos as resistências constantes:"
   ]
  },
  {
   "cell_type": "markdown",
   "metadata": {},
   "source": [
    "$$\n",
    "R_{s} = \\frac{V_{oc} - V_{mppt}}{I_{mppt}}\n",
    "$$"
   ]
  },
  {
   "cell_type": "markdown",
   "metadata": {},
   "source": [
    "$$\n",
    "R_{sh} = \\frac{V_{oc}}{I_{sc} - I_{mppt}}\n",
    "$$"
   ]
  },
  {
   "cell_type": "markdown",
   "metadata": {},
   "source": [
    "## Formulação do problema"
   ]
  },
  {
   "cell_type": "markdown",
   "metadata": {},
   "source": [
    "A eficiência $\\eta$ de uma célula pode ser expressa por:"
   ]
  },
  {
   "cell_type": "markdown",
   "metadata": {},
   "source": [
    "$$\n",
    "\\eta = \\frac{P_{\\mathrm{max}}}{\\lambda A}\n",
    "$$"
   ]
  },
  {
   "cell_type": "markdown",
   "metadata": {},
   "source": [
    "onde $P_{\\mathrm{max}}$ é a potência máxima atingida pela célula, $\\lambda$ é a intensidade da radiação solar incidente e $A$ é a área projetada célula.\n",
    "Dizemos que uma célula é _viável_ quando sua eficiência é maior ou igual a 50%."
   ]
  },
  {
   "cell_type": "markdown",
   "metadata": {},
   "source": [
    "Para calcular $P_{\\mathrm{max}}$, necessitamos variar a tensão de entrada $V$ e determinar a corrente $I$ resultante e tomar o máximo de $VI$ igual a $P_{\\mathrm{max}}$."
   ]
  },
  {
   "cell_type": "markdown",
   "metadata": {},
   "source": [
    "Infelizmente, observe que é impossível isolar $I$ na equação governante de uma célula. Para contornar este problema, aplicaremos o método de Newton."
   ]
  },
  {
   "cell_type": "markdown",
   "metadata": {},
   "source": [
    "## Método de Newton"
   ]
  },
  {
   "cell_type": "markdown",
   "metadata": {},
   "source": [
    "Antes de mais nada, você precisa implementar o método de Newton. Sua função deve retornar um par (`tuple`) com: a raiz aproximada e o número de iterações realizadas."
   ]
  },
  {
   "cell_type": "code",
   "execution_count": null,
   "metadata": {},
   "outputs": [],
   "source": [
    "import numpy as np\n",
    "\n",
    "def newton(f, df, x0, tol, maxit):\n",
    "    \n",
    "    # seu código vem aqui.\n",
    "    \n",
    "    return None # altere, caso necessário"
   ]
  },
  {
   "cell_type": "markdown",
   "metadata": {},
   "source": [
    "### Benchmark"
   ]
  },
  {
   "cell_type": "markdown",
   "metadata": {},
   "source": [
    "Antes de aplicar sua implementação no problema de determinação de correntes, é preciso verificar se ele está correto. Teste sua implementação no cálculo do ponto de máximo da versão unidimensional da [função dos Alpes 2](http://benchmarkfcns.xyz/benchmarkfcns/alpinen2fcn.html):"
   ]
  },
  {
   "cell_type": "markdown",
   "metadata": {},
   "source": [
    "$$f(x) = \\sqrt{x} \\operatorname{sin}(x)\\text{.}$$"
   ]
  },
  {
   "cell_type": "markdown",
   "metadata": {},
   "source": [
    "Para $0 \\le x \\le 10$, ela possui um máximo global em $\\xi \\approx 7{,}917$, com $f(\\xi) \\approx 2{,}808$."
   ]
  },
  {
   "cell_type": "code",
   "execution_count": null,
   "metadata": {},
   "outputs": [],
   "source": [
    "%time\n",
    "\n",
    "def f(x):\n",
    "    return None # altere esta linha\n",
    "\n",
    "def df(x):\n",
    "    return # altere esta linha\n",
    "\n",
    "raiz,it = newton(f, df, 1.0, 1.0E-9, 100)\n",
    "print('Raiz: %f' % raiz)\n",
    "print('Número de iterações: %d' % it)"
   ]
  },
  {
   "cell_type": "markdown",
   "metadata": {},
   "source": [
    "### Cálculo da corrente"
   ]
  },
  {
   "cell_type": "markdown",
   "metadata": {},
   "source": [
    "Se tudo tiver corrido bem até agora, você pode ajustar a função `newton` para calcular a corrente de saída de uma célula fotovoltaica.\n",
    "Para isso, você deve reescrever a equação governante da célula como um problem de zero de função.\n",
    "A função $f$ tem variável independente $I$, mas é guiada por diversos parâmetros, a saber: \n",
    " $V$, $I_{\\mathrm{sc}}$, $V_{\\mathrm{oc}}$, $\\lambda$, $I_0$, $T$, $T_{\\mathrm{r}}$, $n$, $V_{\\mathrm{mp}}$, $I_{\\mathrm{mp}}$ e $E_{\\mathrm{g}}$. A forma mais simples de implementar isso em Python é colocar os parâmetros globais, logo acima à função."
   ]
  },
  {
   "cell_type": "code",
   "execution_count": null,
   "metadata": {},
   "outputs": [],
   "source": [
    "I = ...\n",
    "V = ...\n",
    "Isc = ...\n",
    "Voc = ...\n",
    "Imp =...\n",
    "Vmp = ...\n",
    "I0 = ...\n",
    "T = ...\n",
    "Tr = ...\n",
    "n = ...\n",
    "lamb = ...\n",
    "\n",
    "def f(I):\n",
    "    # seu código vem aqui.\n",
    "    return None # altere esta linha, caso necessário\n",
    "\n",
    "def df(I):\n",
    "    # seu código vem aqui.\n",
    "    return None # altere esta linha, caso necessário"
   ]
  },
  {
   "cell_type": "markdown",
   "metadata": {},
   "source": [
    "Agora, use `newton` para aproximar $f(I)$ quando $V = 1{,}5$ volts, considerando a célula A, isto é, altere os parâmetros acima para coincidirem com os da célula A.\n",
    "Experimente diversos valores para o chute inicial."
   ]
  },
  {
   "cell_type": "code",
   "execution_count": null,
   "metadata": {},
   "outputs": [],
   "source": [
    "%time\n",
    "\n",
    "I,it = newton(f, df, 8.0, 1.0E-9, 100)\n",
    "print('Corrente: %f' % I)\n",
    "print('Número de iterações: %d' % it)"
   ]
  },
  {
   "cell_type": "markdown",
   "metadata": {},
   "source": [
    "## Caracterização das células"
   ]
  },
  {
   "cell_type": "markdown",
   "metadata": {},
   "source": [
    "A caracterização de células fotovoltaicas pode ser feita por meio de diversos parâmetros. Neste trabalho, iremos utilizar as curvas I-V/P-V e a eficiência $\\eta$."
   ]
  },
  {
   "cell_type": "markdown",
   "metadata": {},
   "source": [
    "Para determinar estes parâmetros, é necessário calcular o valor da corrente $I$ para diferentes valores de voltagem $V$ usando `newton`. Você deve implementar estes cálculos nas funções abaixo. Utilize 100 valores de tensão regularmente espaçados no intervalo de zero a $V_{\\mathrm{oc}}$ e uma temperatura de trabalho $T$ igual 50 °C."
   ]
  },
  {
   "cell_type": "code",
   "execution_count": null,
   "metadata": {},
   "outputs": [],
   "source": [
    "def corrente(V):\n",
    "    \n",
    "    # seu código vem aqui\n",
    "    \n",
    "    return I"
   ]
  },
  {
   "cell_type": "markdown",
   "metadata": {},
   "source": [
    "Com esta função, podemos calcular a lista de correntes e potências:"
   ]
  },
  {
   "cell_type": "code",
   "execution_count": null,
   "metadata": {},
   "outputs": [],
   "source": [
    "I = []\n",
    "P = []\n",
    "T = 50\n",
    "V = np.linspace(0, Voc, 100)\n",
    "for i in V:\n",
    "    valor = corrente(V)\n",
    "    I.append(valor)\n",
    "    \n",
    "    # o cálculo das potências vem a seguir, armazenando em P\n",
    "    "
   ]
  },
  {
   "cell_type": "markdown",
   "metadata": {},
   "source": [
    "### Curvas I-V e P-V"
   ]
  },
  {
   "cell_type": "markdown",
   "metadata": {},
   "source": [
    "A função `desenha_curvas` abaixo deve desenhar as curvas I-V e P-V em um único gráfico."
   ]
  },
  {
   "cell_type": "code",
   "execution_count": null,
   "metadata": {},
   "outputs": [],
   "source": [
    "import matplotlib.pyplot as plt\n",
    "\n",
    "fig, ax = plt.subplots() # cria uma figura e com um único sistema de eixos\n",
    "ax.set_aspect('equal') # fixa a razão de aspecto do gráfico\n",
    "plt.close() # evita que o gráfico seja exibido antes de desenhado\n",
    "    \n",
    "def desenha_curvas(I,V,P):\n",
    "    # seu código vem aqui"
   ]
  },
  {
   "cell_type": "markdown",
   "metadata": {},
   "source": [
    "O resultado será:"
   ]
  },
  {
   "cell_type": "code",
   "execution_count": null,
   "metadata": {},
   "outputs": [],
   "source": [
    "desenha_curvas(I,V,P)\n",
    "fig"
   ]
  },
  {
   "cell_type": "markdown",
   "metadata": {},
   "source": [
    "### Eficiência da célula"
   ]
  },
  {
   "cell_type": "markdown",
   "metadata": {},
   "source": [
    "A função abaixo deve calcular a eficiência da célula supondo uma área aproximada de $0{,}0165$ m²."
   ]
  },
  {
   "cell_type": "code",
   "execution_count": null,
   "metadata": {},
   "outputs": [],
   "source": [
    "def eficiencia(P,lamb,A):\n",
    "    # seu código vem aqui\n",
    "    \n",
    "    return 0.0 # altere esta linha, caso necessário"
   ]
  },
  {
   "cell_type": "code",
   "execution_count": null,
   "metadata": {},
   "outputs": [],
   "source": [
    "e = eficiencia(P,lamb,0.0165)\n",
    "print(\"Eficiência da célula: %f\" % (e))"
   ]
  },
  {
   "cell_type": "markdown",
   "metadata": {},
   "source": [
    "## Parecer"
   ]
  },
  {
   "cell_type": "markdown",
   "metadata": {},
   "source": [
    "_Escreva seu parecer final aqui_\n",
    "\n",
    "A célula pode ser considerada viável?"
   ]
  },
  {
   "cell_type": "markdown",
   "metadata": {},
   "source": [
    "## Saiba mais"
   ]
  },
  {
   "cell_type": "markdown",
   "metadata": {},
   "source": [
    "Esta aula foi baseada nos artigos:"
   ]
  },
  {
   "cell_type": "markdown",
   "metadata": {},
   "source": [
    "* DA SILVA NETO, Domingos Teixeira; SANTOS, Polyane Alves; DE JESUS, Gabriela Botelho. Uma Proposta de Modelagem de um Painel Fotovoltaico Usando o Método de Newton Raphson. Proceeding Series of the Brazilian Society of Computational and Applied Mathematics, v. 6, n. 2, 2018.\n",
    "\n",
    "* TSAI, Huan-Liang et al. Development of generalized photovoltaic model using MATLAB/SIMULINK. In: Proceedings of the world congress on Engineering and computer science. 2008. p. 1-6."
   ]
  },
  {
   "cell_type": "markdown",
   "metadata": {},
   "source": [
    "<br>\n",
    "<p>&copy; 2019 Vicente Helano<br>\n",
    "UFCA | Centro de Ciências e Tecnologia</p>"
   ]
  }
 ],
 "metadata": {
  "kernelspec": {
   "display_name": "Python 3",
   "language": "python",
   "name": "python3"
  },
  "language_info": {
   "codemirror_mode": {
    "name": "ipython",
    "version": 3
   },
   "file_extension": ".py",
   "mimetype": "text/x-python",
   "name": "python",
   "nbconvert_exporter": "python",
   "pygments_lexer": "ipython3",
   "version": "3.7.3"
  }
 },
 "nbformat": 4,
 "nbformat_minor": 4
}
