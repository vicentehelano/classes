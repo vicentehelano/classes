{
 "cells": [
  {
   "cell_type": "markdown",
   "metadata": {},
   "source": [
    "# Escolhendo um painel fotovoltaico"
   ]
  },
  {
   "cell_type": "markdown",
   "metadata": {},
   "source": [
    "<em> em construção"
   ]
  },
  {
   "cell_type": "markdown",
   "metadata": {},
   "source": [
    "Continuar com os livros:"
   ]
  },
  {
   "cell_type": "markdown",
   "metadata": {},
   "source": [
    "*  __Capítulo 5__ do Peter R. Turner, Thomas Arildsen, Kathleen Kavanagh - Applied Scientific Computing with Python-Springer (2018)\n",
    "\n",
    "* __Seção 8.4__, \"Optimization, data-fitting and root-finding\" de Christian Hill - Learning Scientific Programming with Python-Cambridge University Press (2016)"
   ]
  },
  {
   "cell_type": "code",
   "execution_count": null,
   "metadata": {},
   "outputs": [],
   "source": [
    "# Kiusalaas, Jaan.\n",
    "# Numerical methods in engineering with Python 3\n",
    "# p. 158, 2013\n",
    "\n",
    "def newtonRaphson(f,df,a,b,tol=1.0e-9):\n",
    "import error\n",
    "from numpy import sign\n",
    "fa = f(a)\n",
    "if fa == 0.0: return a\n",
    "fb = f(b)\n",
    "if fb == 0.0: return b\n",
    "if sign(fa) == sign(fb): error.err(’Root is not bracketed’)\n",
    "x = 0.5*(a + b)\n",
    "for i in range(30):\n",
    "fx = f(x)\n",
    "if fx == 0.0: return x\n",
    "# Tighten the brackets on the root\n",
    "if sign(fa) != sign(fx): b = x\n",
    "else: a = x\n",
    "# Try a Newton-Raphson step\n",
    "dfx = df(x)\n",
    "# If division by zero, push x out of bounds\n",
    "try: dx = -fx/dfx\n",
    "except ZeroDivisionError: dx = b - a\n",
    "x = x + dx\n",
    "# If the result is outside the brackets, use bisection\n",
    "if (b - x)*(x - a) < 0.0:\n",
    "dx = 0.5*(b - a)\n",
    "x = a + dx\n",
    "# Check for convergence\n",
    "if abs(dx) < tol*max(abs(b),1.0): return x\n",
    "print(’Too many iterations in Newton-Raphson’)"
   ]
  },
  {
   "cell_type": "markdown",
   "metadata": {},
   "source": [
    "## Zeros de funções com a SciPy"
   ]
  },
  {
   "cell_type": "markdown",
   "metadata": {},
   "source": [
    "In this chapter we discuss using SciPy’s optimization module optimize for nonlinear\n",
    "optimization problems, and we will briefly explore using the convex optimization library\n",
    "cvxopt for linear optimization problems with linear constraints. This library also has\n",
    "powerful solvers for quadratic programming problems."
   ]
  },
  {
   "cell_type": "markdown",
   "metadata": {},
   "source": [
    "Like in the previous chapter, here we use the optimize module from the SciPy library.\n",
    "Here we assume that this module is imported in the following manner:"
   ]
  },
  {
   "cell_type": "code",
   "execution_count": 1,
   "metadata": {},
   "outputs": [
    {
     "ename": "ModuleNotFoundError",
     "evalue": "No module named 'scipy'",
     "output_type": "error",
     "traceback": [
      "\u001b[0;31m---------------------------------------------------------------------------\u001b[0m",
      "\u001b[0;31mModuleNotFoundError\u001b[0m                       Traceback (most recent call last)",
      "\u001b[0;32m<ipython-input-1-aeefb6180f4e>\u001b[0m in \u001b[0;36m<module>\u001b[0;34m\u001b[0m\n\u001b[0;32m----> 1\u001b[0;31m \u001b[0;32mfrom\u001b[0m \u001b[0mscipy\u001b[0m \u001b[0;32mimport\u001b[0m \u001b[0moptimize\u001b[0m\u001b[0;34m\u001b[0m\u001b[0;34m\u001b[0m\u001b[0m\n\u001b[0m",
      "\u001b[0;31mModuleNotFoundError\u001b[0m: No module named 'scipy'"
     ]
    }
   ],
   "source": [
    "from scipy import optimize"
   ]
  },
  {
   "cell_type": "markdown",
   "metadata": {},
   "source": [
    "For basic numerics, symbolics, and plotting, here we also use the NumPy, SymPy,\n",
    "and Matplotlib libraries, which are imported and initialized using the conventions\n",
    "introduced in earlier chapters:"
   ]
  },
  {
   "cell_type": "code",
   "execution_count": 2,
   "metadata": {},
   "outputs": [],
   "source": [
    "import matplotlib.pyplot as plt\n",
    "import numpy as np\n",
    "import sympy\n",
    "sympy.init_printing()"
   ]
  },
  {
   "cell_type": "markdown",
   "metadata": {},
   "source": [
    "### Univariate Optimization (Johansson, p. 217)"
   ]
  },
  {
   "cell_type": "markdown",
   "metadata": {},
   "source": [
    "## Saiba mais"
   ]
  },
  {
   "cell_type": "markdown",
   "metadata": {},
   "source": [
    "A principal referência sobre a determinação de painéis fotovoltaicos utilizada nesta aula foi o artigo:"
   ]
  },
  {
   "cell_type": "markdown",
   "metadata": {},
   "source": [
    "* "
   ]
  },
  {
   "cell_type": "markdown",
   "metadata": {},
   "source": [
    "- O problema abordado nesta aula é baseado no artigo de [Kettner et al., Classroom examples of robustness problems in geometric computations, Computational Geometry, Volume 40, Issue 1, May 2008, Pages 61-78](https://doi.org/10.1016/j.comgeo.2007.06.003)"
   ]
  },
  {
   "cell_type": "markdown",
   "metadata": {},
   "source": [
    "- A sugestão da perturbação nos pontos pode ser encontrada na Seção 3 do artigo de [Emiris e Canny, A General Approach to Removing Degeneracies, SIAM Journal on Computing, Volume 24 Issue 3, June 1995, Pages 650 - 664](https://doi.org/10.1137/S0097539792235918)"
   ]
  },
  {
   "cell_type": "markdown",
   "metadata": {},
   "source": [
    "- Mais informações sobre a Matplotlib, podem ser obtidas aqui: https://matplotlib.org/"
   ]
  },
  {
   "cell_type": "markdown",
   "metadata": {},
   "source": [
    "<br>\n",
    "<p>&copy; 2019 Vicente Helano<br>\n",
    "UFCA | Centro de Ciências e Tecnologia</p>"
   ]
  }
 ],
 "metadata": {
  "kernelspec": {
   "display_name": "Python 3",
   "language": "python",
   "name": "python3"
  },
  "language_info": {
   "codemirror_mode": {
    "name": "ipython",
    "version": 3
   },
   "file_extension": ".py",
   "mimetype": "text/x-python",
   "name": "python",
   "nbconvert_exporter": "python",
   "pygments_lexer": "ipython3",
   "version": "3.7.3"
  }
 },
 "nbformat": 4,
 "nbformat_minor": 4
}
